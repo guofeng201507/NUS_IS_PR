{
 "cells": [
  {
   "cell_type": "markdown",
   "metadata": {
    "toc": true
   },
   "source": [
    "<h1>Table of Contents<span class=\"tocSkip\"></span></h1>\n",
    "<div class=\"toc\"><ul class=\"toc-item\"><li><span><a href=\"#Import-Required-Packages\" data-toc-modified-id=\"Import-Required-Packages-1\"><span class=\"toc-item-num\">1&nbsp;&nbsp;</span>Import Required Packages</a></span></li><li><span><a href=\"#Import-Data-Scource\" data-toc-modified-id=\"Import-Data-Scource-2\"><span class=\"toc-item-num\">2&nbsp;&nbsp;</span>Import Data Scource</a></span></li><li><span><a href=\"#Data-Preparation\" data-toc-modified-id=\"Data-Preparation-3\"><span class=\"toc-item-num\">3&nbsp;&nbsp;</span>Data Preparation</a></span></li><li><span><a href=\"#Feature-Selection\" data-toc-modified-id=\"Feature-Selection-4\"><span class=\"toc-item-num\">4&nbsp;&nbsp;</span>Feature Selection</a></span></li><li><span><a href=\"#Model-and-Parameters-Selection\" data-toc-modified-id=\"Model-and-Parameters-Selection-5\"><span class=\"toc-item-num\">5&nbsp;&nbsp;</span>Model and Parameters Selection</a></span></li><li><span><a href=\"#Model-Evaluation\" data-toc-modified-id=\"Model-Evaluation-6\"><span class=\"toc-item-num\">6&nbsp;&nbsp;</span>Model Evaluation</a></span></li></ul></div>"
   ]
  },
  {
   "cell_type": "markdown",
   "metadata": {},
   "source": [
    "# Import Required Packages"
   ]
  },
  {
   "cell_type": "code",
   "execution_count": 1,
   "metadata": {
    "ExecuteTime": {
     "end_time": "2019-09-29T10:10:19.402190Z",
     "start_time": "2019-09-29T10:10:14.253685Z"
    }
   },
   "outputs": [
    {
     "name": "stderr",
     "output_type": "stream",
     "text": [
      "/Users/jiahao/anaconda3/envs/CA1/lib/python3.7/site-packages/lightgbm/__init__.py:46: UserWarning: Starting from version 2.2.1, the library file in distribution wheels for macOS is built by the Apple Clang (Xcode_9.4.1) compiler.\n",
      "This means that in case of installing LightGBM from PyPI via the ``pip install lightgbm`` command, you don't need to install the gcc compiler anymore.\n",
      "Instead of that, you need to install the OpenMP library, which is required for running LightGBM on the system with the Apple Clang compiler.\n",
      "You can install the OpenMP library by the following command: ``brew install libomp``.\n",
      "  \"You can install the OpenMP library by the following command: ``brew install libomp``.\", UserWarning)\n"
     ]
    }
   ],
   "source": [
    "import pandas as pd \n",
    "import numpy as np\n",
    "import matplotlib.pyplot as plt\n",
    "import warnings\n",
    "\n",
    "from sklearn.decomposition import PCA\n",
    "from sklearn.preprocessing import StandardScaler\n",
    "from sklearn.metrics import silhouette_score\n",
    "from sklearn.neighbors import KNeighborsRegressor\n",
    "from sklearn.metrics import roc_auc_score\n",
    "from sklearn.model_selection import train_test_split\n",
    "from sklearn.model_selection import StratifiedKFold\n",
    "from sklearn.neighbors import KNeighborsClassifier\n",
    "from sklearn.metrics import roc_auc_score\n",
    "from sklearn.metrics import roc_curve,recall_score\n",
    "from sklearn import metrics \n",
    "from sklearn.metrics import classification_report, confusion_matrix  \n",
    "from imblearn.over_sampling import SMOTE\n",
    "from imblearn.under_sampling import RandomUnderSampler\n",
    "from sklearn.model_selection import GridSearchCV\n",
    "from sklearn.linear_model import LogisticRegression\n",
    "from sklearn.svm import SVC\n",
    "from imblearn.pipeline import make_pipeline\n",
    "from sklearn.tree import DecisionTreeClassifier\n",
    "from sklearn.feature_selection import SelectKBest\n",
    "from sklearn.feature_selection import chi2\n",
    "from sklearn.ensemble import RandomForestClassifier\n",
    "from xgboost import XGBClassifier\n",
    "from sklearn.metrics import precision_score, recall_score, f1_score, roc_auc_score, accuracy_score, classification_report\n",
    "from sklearn.feature_selection import RFE\n",
    "from sklearn.ensemble import AdaBoostClassifier\n",
    "#import lightgbm as lgb\n",
    "from lightgbm import LGBMClassifier\n",
    "from sklearn.model_selection import RandomizedSearchCV, GridSearchCV\n",
    "from mlxtend.plotting import plot_confusion_matrix\n",
    "\n",
    "\n",
    "warnings.filterwarnings('ignore')\n",
    "%matplotlib inline"
   ]
  },
  {
   "cell_type": "markdown",
   "metadata": {},
   "source": [
    "# Import Data Scource"
   ]
  },
  {
   "cell_type": "code",
   "execution_count": 2,
   "metadata": {
    "ExecuteTime": {
     "end_time": "2019-09-29T10:10:23.449416Z",
     "start_time": "2019-09-29T10:10:19.403568Z"
    }
   },
   "outputs": [],
   "source": [
    "data = pd.read_csv('../input/application_train.csv')"
   ]
  },
  {
   "cell_type": "markdown",
   "metadata": {},
   "source": [
    "# Data Preparation"
   ]
  },
  {
   "cell_type": "markdown",
   "metadata": {},
   "source": [
    "Overall Dataset Summary"
   ]
  },
  {
   "cell_type": "code",
   "execution_count": 3,
   "metadata": {
    "ExecuteTime": {
     "end_time": "2019-09-29T10:10:24.992047Z",
     "start_time": "2019-09-29T10:10:23.451777Z"
    },
    "scrolled": false
   },
   "outputs": [
    {
     "name": "stdout",
     "output_type": "stream",
     "text": [
      "Data Dimensions:   (307511, 122)\n",
      "Summary Statistics:\n",
      "                                count           mean            std       min  \\\n",
      "SK_ID_CURR                  307511.0  278180.518577  102790.175348  100002.0   \n",
      "TARGET                      307511.0       0.080729       0.272419       0.0   \n",
      "CNT_CHILDREN                307511.0       0.417052       0.722121       0.0   \n",
      "AMT_INCOME_TOTAL            307511.0  168797.919297  237123.146279   25650.0   \n",
      "AMT_CREDIT                  307511.0  599025.999706  402490.776996   45000.0   \n",
      "...                              ...            ...            ...       ...   \n",
      "AMT_REQ_CREDIT_BUREAU_DAY   265992.0       0.007000       0.110757       0.0   \n",
      "AMT_REQ_CREDIT_BUREAU_WEEK  265992.0       0.034362       0.204685       0.0   \n",
      "AMT_REQ_CREDIT_BUREAU_MON   265992.0       0.267395       0.916002       0.0   \n",
      "AMT_REQ_CREDIT_BUREAU_QRT   265992.0       0.265474       0.794056       0.0   \n",
      "AMT_REQ_CREDIT_BUREAU_YEAR  265992.0       1.899974       1.869295       0.0   \n",
      "\n",
      "                                 25%       50%       75%          max  \n",
      "SK_ID_CURR                  189145.5  278202.0  367142.5     456255.0  \n",
      "TARGET                           0.0       0.0       0.0          1.0  \n",
      "CNT_CHILDREN                     0.0       0.0       1.0         19.0  \n",
      "AMT_INCOME_TOTAL            112500.0  147150.0  202500.0  117000000.0  \n",
      "AMT_CREDIT                  270000.0  513531.0  808650.0    4050000.0  \n",
      "...                              ...       ...       ...          ...  \n",
      "AMT_REQ_CREDIT_BUREAU_DAY        0.0       0.0       0.0          9.0  \n",
      "AMT_REQ_CREDIT_BUREAU_WEEK       0.0       0.0       0.0          8.0  \n",
      "AMT_REQ_CREDIT_BUREAU_MON        0.0       0.0       0.0         27.0  \n",
      "AMT_REQ_CREDIT_BUREAU_QRT        0.0       0.0       0.0        261.0  \n",
      "AMT_REQ_CREDIT_BUREAU_YEAR       0.0       1.0       3.0         25.0  \n",
      "\n",
      "[106 rows x 8 columns] \n",
      "\n"
     ]
    }
   ],
   "source": [
    "#check basic dataframe information\n",
    "print(\"Data Dimensions:  \", data.shape)\n",
    "\n",
    "sumry = data.describe().transpose()\n",
    "print(\"Summary Statistics:\\n\",sumry,'\\n')"
   ]
  },
  {
   "cell_type": "code",
   "execution_count": 4,
   "metadata": {
    "ExecuteTime": {
     "end_time": "2019-09-29T10:10:25.273287Z",
     "start_time": "2019-09-29T10:10:24.993834Z"
    }
   },
   "outputs": [
    {
     "name": "stdout",
     "output_type": "stream",
     "text": [
      "There are 67 columns that have missing values over 122 total columns.\n"
     ]
    }
   ],
   "source": [
    "missing_value = data.isnull().sum()\n",
    "missing_value_col_count=(missing_value!=0).value_counts().loc[True]\n",
    "print(\"There are \" + str(missing_value_col_count) + \n",
    "      \" columns that have missing values over \"+\n",
    "     str(data.shape[1]) + \" total columns.\")"
   ]
  },
  {
   "cell_type": "markdown",
   "metadata": {},
   "source": [
    "Handle Missing Value"
   ]
  },
  {
   "cell_type": "code",
   "execution_count": 5,
   "metadata": {
    "ExecuteTime": {
     "end_time": "2019-09-29T10:10:25.893031Z",
     "start_time": "2019-09-29T10:10:25.274774Z"
    }
   },
   "outputs": [
    {
     "data": {
      "text/html": [
       "<div>\n",
       "<style scoped>\n",
       "    .dataframe tbody tr th:only-of-type {\n",
       "        vertical-align: middle;\n",
       "    }\n",
       "\n",
       "    .dataframe tbody tr th {\n",
       "        vertical-align: top;\n",
       "    }\n",
       "\n",
       "    .dataframe thead th {\n",
       "        text-align: right;\n",
       "    }\n",
       "</style>\n",
       "<table border=\"1\" class=\"dataframe\">\n",
       "  <thead>\n",
       "    <tr style=\"text-align: right;\">\n",
       "      <th></th>\n",
       "      <th>Missing Values</th>\n",
       "      <th>% of Total Values</th>\n",
       "    </tr>\n",
       "  </thead>\n",
       "  <tbody>\n",
       "    <tr>\n",
       "      <td>COMMONAREA_MEDI</td>\n",
       "      <td>214865</td>\n",
       "      <td>69.9</td>\n",
       "    </tr>\n",
       "    <tr>\n",
       "      <td>COMMONAREA_AVG</td>\n",
       "      <td>214865</td>\n",
       "      <td>69.9</td>\n",
       "    </tr>\n",
       "    <tr>\n",
       "      <td>COMMONAREA_MODE</td>\n",
       "      <td>214865</td>\n",
       "      <td>69.9</td>\n",
       "    </tr>\n",
       "    <tr>\n",
       "      <td>NONLIVINGAPARTMENTS_MEDI</td>\n",
       "      <td>213514</td>\n",
       "      <td>69.4</td>\n",
       "    </tr>\n",
       "    <tr>\n",
       "      <td>NONLIVINGAPARTMENTS_MODE</td>\n",
       "      <td>213514</td>\n",
       "      <td>69.4</td>\n",
       "    </tr>\n",
       "    <tr>\n",
       "      <td>...</td>\n",
       "      <td>...</td>\n",
       "      <td>...</td>\n",
       "    </tr>\n",
       "    <tr>\n",
       "      <td>EXT_SOURCE_2</td>\n",
       "      <td>660</td>\n",
       "      <td>0.2</td>\n",
       "    </tr>\n",
       "    <tr>\n",
       "      <td>AMT_GOODS_PRICE</td>\n",
       "      <td>278</td>\n",
       "      <td>0.1</td>\n",
       "    </tr>\n",
       "    <tr>\n",
       "      <td>AMT_ANNUITY</td>\n",
       "      <td>12</td>\n",
       "      <td>0.0</td>\n",
       "    </tr>\n",
       "    <tr>\n",
       "      <td>CNT_FAM_MEMBERS</td>\n",
       "      <td>2</td>\n",
       "      <td>0.0</td>\n",
       "    </tr>\n",
       "    <tr>\n",
       "      <td>DAYS_LAST_PHONE_CHANGE</td>\n",
       "      <td>1</td>\n",
       "      <td>0.0</td>\n",
       "    </tr>\n",
       "  </tbody>\n",
       "</table>\n",
       "<p>67 rows × 2 columns</p>\n",
       "</div>"
      ],
      "text/plain": [
       "                          Missing Values  % of Total Values\n",
       "COMMONAREA_MEDI                   214865               69.9\n",
       "COMMONAREA_AVG                    214865               69.9\n",
       "COMMONAREA_MODE                   214865               69.9\n",
       "NONLIVINGAPARTMENTS_MEDI          213514               69.4\n",
       "NONLIVINGAPARTMENTS_MODE          213514               69.4\n",
       "...                                  ...                ...\n",
       "EXT_SOURCE_2                         660                0.2\n",
       "AMT_GOODS_PRICE                      278                0.1\n",
       "AMT_ANNUITY                           12                0.0\n",
       "CNT_FAM_MEMBERS                        2                0.0\n",
       "DAYS_LAST_PHONE_CHANGE                 1                0.0\n",
       "\n",
       "[67 rows x 2 columns]"
      ]
     },
     "execution_count": 5,
     "metadata": {},
     "output_type": "execute_result"
    }
   ],
   "source": [
    "#check missing values in the dataframe\n",
    "missing_value = data.isnull().sum()\n",
    "missing_value_percent = 100 * data.isnull().sum()/len(data)\n",
    "\n",
    "missing_value_table = pd.concat([missing_value, missing_value_percent], axis = 1).rename(columns = {0 : 'Missing Values', 1 : '% of Total Values'})\n",
    "\n",
    "missing_value_table = missing_value_table[missing_value_table.iloc[:,1] != 0].sort_values('% of Total Values', ascending=False).round(1)\n",
    "\n",
    "missing_value_table"
   ]
  },
  {
   "cell_type": "code",
   "execution_count": 6,
   "metadata": {
    "ExecuteTime": {
     "end_time": "2019-09-29T10:10:25.992889Z",
     "start_time": "2019-09-29T10:10:25.894547Z"
    }
   },
   "outputs": [],
   "source": [
    "# Option 1\n",
    "#drop columns that missing values are above 30% of the original dataset \n",
    "data = data.drop(['OCCUPATION_TYPE','EXT_SOURCE_1','OWN_CAR_AGE','COMMONAREA_MEDI','COMMONAREA_AVG','COMMONAREA_MODE','NONLIVINGAPARTMENTS_MEDI','NONLIVINGAPARTMENTS_MODE','NONLIVINGAPARTMENTS_AVG','FONDKAPREMONT_MODE','LIVINGAPARTMENTS_MODE','LIVINGAPARTMENTS_MEDI','LIVINGAPARTMENTS_AVG','FLOORSMIN_MODE','FLOORSMIN_MEDI','FLOORSMIN_AVG','YEARS_BUILD_MODE','YEARS_BUILD_MEDI','YEARS_BUILD_AVG','LANDAREA_AVG','LANDAREA_MEDI','LANDAREA_MODE','BASEMENTAREA_MEDI','BASEMENTAREA_AVG','BASEMENTAREA_MODE','NONLIVINGAREA_MEDI','NONLIVINGAREA_MODE','NONLIVINGAREA_AVG','ELEVATORS_MEDI','ELEVATORS_MODE','ELEVATORS_AVG','WALLSMATERIAL_MODE','APARTMENTS_MODE','APARTMENTS_MEDI','APARTMENTS_AVG','ENTRANCES_MODE','ENTRANCES_AVG','ENTRANCES_MEDI','LIVINGAREA_MEDI','LIVINGAREA_MODE','LIVINGAREA_AVG','HOUSETYPE_MODE','FLOORSMAX_MEDI','FLOORSMAX_AVG','FLOORSMAX_MODE','YEARS_BEGINEXPLUATATION_AVG','YEARS_BEGINEXPLUATATION_MEDI','YEARS_BEGINEXPLUATATION_MODE','TOTALAREA_MODE','EMERGENCYSTATE_MODE'],axis=1)"
   ]
  },
  {
   "cell_type": "code",
   "execution_count": 7,
   "metadata": {
    "ExecuteTime": {
     "end_time": "2019-09-29T10:10:25.998613Z",
     "start_time": "2019-09-29T10:10:25.995385Z"
    }
   },
   "outputs": [],
   "source": [
    "# # Option 2\n",
    "# # Set up threshold\n",
    "# threshold = 0.7\n",
    "# # Drop columns with missing values over thresh\n",
    "# data.dropna(thresh=len(data) * threshold, axis=1, inplace=True)\n",
    "# # Drop ID column\n",
    "# data.drop(['SK_ID_CURR'], axis=1, inplace=True)"
   ]
  },
  {
   "cell_type": "code",
   "execution_count": 8,
   "metadata": {
    "ExecuteTime": {
     "end_time": "2019-09-29T10:10:26.031986Z",
     "start_time": "2019-09-29T10:10:26.002028Z"
    }
   },
   "outputs": [],
   "source": [
    "# replace the missing value with the average of column\n",
    "# for those that missing value is above 10%\n",
    "data['EXT_SOURCE_3'].fillna(\n",
    "    data['EXT_SOURCE_3'].mean(), inplace=True)\n",
    "data['AMT_REQ_CREDIT_BUREAU_YEAR'].fillna(\n",
    "    data['AMT_REQ_CREDIT_BUREAU_YEAR'].mean(), inplace=True)\n",
    "data['AMT_REQ_CREDIT_BUREAU_QRT'].fillna(\n",
    "    data['AMT_REQ_CREDIT_BUREAU_QRT'].mean(), inplace=True)\n",
    "data['AMT_REQ_CREDIT_BUREAU_MON'].fillna(\n",
    "    data['AMT_REQ_CREDIT_BUREAU_MON'].mean(), inplace=True)\n",
    "data['AMT_REQ_CREDIT_BUREAU_WEEK'].fillna(\n",
    "    data['AMT_REQ_CREDIT_BUREAU_WEEK'].mean(), inplace=True)\n",
    "data['AMT_REQ_CREDIT_BUREAU_DAY'].fillna(\n",
    "    data['AMT_REQ_CREDIT_BUREAU_DAY'].mean(), inplace=True)\n",
    "data['AMT_REQ_CREDIT_BUREAU_HOUR'].fillna(\n",
    "    data['AMT_REQ_CREDIT_BUREAU_HOUR'].mean(), inplace=True)"
   ]
  },
  {
   "cell_type": "code",
   "execution_count": 9,
   "metadata": {
    "ExecuteTime": {
     "end_time": "2019-09-29T10:10:26.331029Z",
     "start_time": "2019-09-29T10:10:26.033733Z"
    }
   },
   "outputs": [
    {
     "data": {
      "text/plain": [
       "(304531, 72)"
      ]
     },
     "execution_count": 9,
     "metadata": {},
     "output_type": "execute_result"
    }
   ],
   "source": [
    "#drop rows that contain missing value for those columns have missing value less than 10%\n",
    "data = data.dropna()\n",
    "data.shape"
   ]
  },
  {
   "cell_type": "markdown",
   "metadata": {},
   "source": [
    "Convert Categorical Data"
   ]
  },
  {
   "cell_type": "code",
   "execution_count": 10,
   "metadata": {
    "ExecuteTime": {
     "end_time": "2019-09-29T10:10:26.518961Z",
     "start_time": "2019-09-29T10:10:26.333003Z"
    }
   },
   "outputs": [
    {
     "data": {
      "text/plain": [
       "NAME_CONTRACT_TYPE             2\n",
       "CODE_GENDER                    3\n",
       "FLAG_OWN_CAR                   2\n",
       "FLAG_OWN_REALTY                2\n",
       "NAME_TYPE_SUITE                7\n",
       "NAME_INCOME_TYPE               8\n",
       "NAME_EDUCATION_TYPE            5\n",
       "NAME_FAMILY_STATUS             5\n",
       "NAME_HOUSING_TYPE              6\n",
       "WEEKDAY_APPR_PROCESS_START     7\n",
       "ORGANIZATION_TYPE             58\n",
       "dtype: int64"
      ]
     },
     "execution_count": 10,
     "metadata": {},
     "output_type": "execute_result"
    }
   ],
   "source": [
    "#check columns type\n",
    "data.select_dtypes('object').apply(pd.Series.nunique, axis = 0)"
   ]
  },
  {
   "cell_type": "code",
   "execution_count": 11,
   "metadata": {
    "ExecuteTime": {
     "end_time": "2019-09-29T10:10:26.548114Z",
     "start_time": "2019-09-29T10:10:26.520714Z"
    }
   },
   "outputs": [
    {
     "data": {
      "text/plain": [
       "F      200482\n",
       "M      104045\n",
       "XNA         4\n",
       "Name: CODE_GENDER, dtype: int64"
      ]
     },
     "execution_count": 11,
     "metadata": {},
     "output_type": "execute_result"
    }
   ],
   "source": [
    "data['CODE_GENDER'].value_counts()"
   ]
  },
  {
   "cell_type": "code",
   "execution_count": 12,
   "metadata": {
    "ExecuteTime": {
     "end_time": "2019-09-29T10:10:26.642983Z",
     "start_time": "2019-09-29T10:10:26.549749Z"
    }
   },
   "outputs": [
    {
     "data": {
      "text/plain": [
       "(304527, 72)"
      ]
     },
     "execution_count": 12,
     "metadata": {},
     "output_type": "execute_result"
    }
   ],
   "source": [
    "#drop column values that do not make sense based on domain knowledge\n",
    "data = data[data.CODE_GENDER != 'XNA']\n",
    "data.shape"
   ]
  },
  {
   "cell_type": "code",
   "execution_count": 13,
   "metadata": {
    "ExecuteTime": {
     "end_time": "2019-09-29T10:10:26.837587Z",
     "start_time": "2019-09-29T10:10:26.645374Z"
    }
   },
   "outputs": [
    {
     "data": {
      "text/plain": [
       "(249675, 72)"
      ]
     },
     "execution_count": 13,
     "metadata": {},
     "output_type": "execute_result"
    }
   ],
   "source": [
    "data['ORGANIZATION_TYPE'].value_counts()\n",
    "len(data[data.ORGANIZATION_TYPE == 'XNA'])/len(data)\n",
    "\n",
    "data = data[data.ORGANIZATION_TYPE != 'XNA']\n",
    "data.shape"
   ]
  },
  {
   "cell_type": "code",
   "execution_count": 14,
   "metadata": {
    "ExecuteTime": {
     "end_time": "2019-09-29T10:10:27.206811Z",
     "start_time": "2019-09-29T10:10:26.839041Z"
    }
   },
   "outputs": [],
   "source": [
    "# Option 1\n",
    "# convert all categorical data into numercial by using one hot encode\n",
    "coln = ['NAME_CONTRACT_TYPE', 'CODE_GENDER', 'FLAG_OWN_CAR','FLAG_OWN_REALTY','NAME_TYPE_SUITE','NAME_INCOME_TYPE', 'NAME_EDUCATION_TYPE', 'NAME_FAMILY_STATUS', 'NAME_HOUSING_TYPE','WEEKDAY_APPR_PROCESS_START', 'ORGANIZATION_TYPE']\n",
    "dummy = pd.get_dummies(data, columns = coln)"
   ]
  },
  {
   "cell_type": "code",
   "execution_count": 15,
   "metadata": {
    "ExecuteTime": {
     "end_time": "2019-09-29T10:10:27.210561Z",
     "start_time": "2019-09-29T10:10:27.208432Z"
    }
   },
   "outputs": [],
   "source": [
    "# # convert binary categorical data\n",
    "# for bin_feature in ['CODE_GENDER', 'FLAG_OWN_CAR', 'FLAG_OWN_REALTY']:\n",
    "#     data[bin_feature], uniques = pd.factorize(data[bin_feature])"
   ]
  },
  {
   "cell_type": "code",
   "execution_count": 16,
   "metadata": {
    "ExecuteTime": {
     "end_time": "2019-09-29T10:10:27.216247Z",
     "start_time": "2019-09-29T10:10:27.212757Z"
    }
   },
   "outputs": [],
   "source": [
    "# # convert rest categorical data into numercial by using one hot encode\n",
    "# coln = ['NAME_CONTRACT_TYPE',\n",
    "#         'NAME_TYPE_SUITE',\n",
    "#         'NAME_INCOME_TYPE', \n",
    "#         'NAME_EDUCATION_TYPE', \n",
    "#         'NAME_FAMILY_STATUS', \n",
    "#         'NAME_HOUSING_TYPE',\n",
    "#         'WEEKDAY_APPR_PROCESS_START', \n",
    "#         'ORGANIZATION_TYPE']\n",
    "# dummy = pd.get_dummies(data, columns = coln)"
   ]
  },
  {
   "cell_type": "markdown",
   "metadata": {},
   "source": [
    "Variable Distribution with Target"
   ]
  },
  {
   "cell_type": "code",
   "execution_count": 17,
   "metadata": {
    "ExecuteTime": {
     "end_time": "2019-09-29T10:10:35.882033Z",
     "start_time": "2019-09-29T10:10:27.218302Z"
    }
   },
   "outputs": [
    {
     "data": {
      "image/png": "[encoded data removed]",
      "text/plain": [
       "<Figure size 1440x864 with 64 Axes>"
      ]
     },
     "metadata": {
      "needs_background": "light"
     },
     "output_type": "display_data"
    }
   ],
   "source": [
    "data.hist(grid=True, figsize=(20,12))\n",
    "plt.tight_layout()\n",
    "plt.savefig('variable_distribution.png')\n",
    "plt.show()"
   ]
  },
  {
   "cell_type": "code",
   "execution_count": 18,
   "metadata": {
    "ExecuteTime": {
     "end_time": "2019-09-29T10:10:35.890891Z",
     "start_time": "2019-09-29T10:10:35.883669Z"
    }
   },
   "outputs": [
    {
     "data": {
      "text/plain": [
       "0    227975\n",
       "1     21700\n",
       "Name: TARGET, dtype: int64"
      ]
     },
     "execution_count": 18,
     "metadata": {},
     "output_type": "execute_result"
    }
   ],
   "source": [
    "#check target value distribution\n",
    "data['TARGET'].value_counts()"
   ]
  },
  {
   "cell_type": "code",
   "execution_count": 19,
   "metadata": {
    "ExecuteTime": {
     "end_time": "2019-09-29T10:10:36.410723Z",
     "start_time": "2019-09-29T10:10:35.892191Z"
    }
   },
   "outputs": [],
   "source": [
    "#Compare the distribution of targe value and those variables, we can see that the distribution of feature does not look\n",
    "#the distribution shape of the targe. And options are not well distrbuited within the feature. So we can mark those\n",
    "#feature as fix value to remove from the dataset.\n",
    "\n",
    "data['FLAG_DOCUMENT_2'].value_counts()\n",
    "data['FLAG_DOCUMENT_4'].value_counts()\n",
    "data['FLAG_DOCUMENT_7'].value_counts()\n",
    "data['FLAG_DOCUMENT_9'].value_counts()\n",
    "data['FLAG_DOCUMENT_10'].value_counts()\n",
    "data['FLAG_DOCUMENT_11'].value_counts()\n",
    "data['FLAG_DOCUMENT_12'].value_counts()\n",
    "data['FLAG_DOCUMENT_13'].value_counts()\n",
    "data['FLAG_DOCUMENT_14'].value_counts()\n",
    "data['FLAG_DOCUMENT_15'].value_counts()\n",
    "data['FLAG_DOCUMENT_16'].value_counts()\n",
    "data['FLAG_DOCUMENT_17'].value_counts()\n",
    "data['FLAG_DOCUMENT_18'].value_counts()\n",
    "data['FLAG_DOCUMENT_19'].value_counts()\n",
    "data['FLAG_DOCUMENT_20'].value_counts()\n",
    "data['FLAG_DOCUMENT_21'].value_counts()\n",
    "data['FLAG_DOCUMENT_21'].value_counts()\n",
    "\n",
    "dummy = dummy.drop(['FLAG_DOCUMENT_2','FLAG_DOCUMENT_7','FLAG_DOCUMENT_4','FLAG_DOCUMENT_9','FLAG_DOCUMENT_10','FLAG_DOCUMENT_11','FLAG_DOCUMENT_12', 'FLAG_DOCUMENT_13','FLAG_DOCUMENT_14', 'FLAG_DOCUMENT_15', 'FLAG_DOCUMENT_16', 'FLAG_DOCUMENT_17', 'FLAG_DOCUMENT_18', 'FLAG_DOCUMENT_19', 'FLAG_DOCUMENT_20','FLAG_DOCUMENT_21'],axis=1)"
   ]
  },
  {
   "cell_type": "markdown",
   "metadata": {},
   "source": [
    "Log Transformation"
   ]
  },
  {
   "cell_type": "code",
   "execution_count": 20,
   "metadata": {
    "ExecuteTime": {
     "end_time": "2019-09-29T10:10:36.422885Z",
     "start_time": "2019-09-29T10:10:36.412511Z"
    }
   },
   "outputs": [],
   "source": [
    "#log skewed numercial data columns\n",
    "dummy['AMT_INCOME_TOTAL'] = np.log(dummy['AMT_INCOME_TOTAL'])\n",
    "dummy['AMT_CREDIT'] = np.log(dummy['AMT_CREDIT'])\n",
    "dummy['AMT_ANNUITY'] = np.log(dummy['AMT_ANNUITY'])\n",
    "dummy['AMT_GOODS_PRICE'] = np.log(dummy['AMT_GOODS_PRICE'])"
   ]
  },
  {
   "cell_type": "code",
   "execution_count": 21,
   "metadata": {
    "ExecuteTime": {
     "end_time": "2019-09-29T10:10:36.444599Z",
     "start_time": "2019-09-29T10:10:36.424471Z"
    }
   },
   "outputs": [],
   "source": [
    "dummy['DAYS_BIRTH'] = np.log(dummy['DAYS_BIRTH'].abs()/365)"
   ]
  },
  {
   "cell_type": "code",
   "execution_count": 22,
   "metadata": {
    "ExecuteTime": {
     "end_time": "2019-09-29T10:10:36.473855Z",
     "start_time": "2019-09-29T10:10:36.446315Z"
    }
   },
   "outputs": [],
   "source": [
    "dummy['DAYS_EMPLOYED'] = dummy['DAYS_EMPLOYED'].replace(0, 0.01)\n",
    "dummy['DAYS_EMPLOYED'] = np.log(dummy['DAYS_EMPLOYED'].abs()/365)"
   ]
  },
  {
   "cell_type": "code",
   "execution_count": 23,
   "metadata": {
    "ExecuteTime": {
     "end_time": "2019-09-29T10:10:36.485666Z",
     "start_time": "2019-09-29T10:10:36.478856Z"
    }
   },
   "outputs": [],
   "source": [
    "dummy['DAYS_REGISTRATION'] = dummy['DAYS_REGISTRATION'].replace(0, 0.01)\n",
    "dummy['DAYS_REGISTRATION'] = np.log(dummy['DAYS_REGISTRATION'].abs()/365)"
   ]
  },
  {
   "cell_type": "code",
   "execution_count": 24,
   "metadata": {
    "ExecuteTime": {
     "end_time": "2019-09-29T10:10:36.512323Z",
     "start_time": "2019-09-29T10:10:36.488888Z"
    }
   },
   "outputs": [],
   "source": [
    "dummy['DAYS_ID_PUBLISH'] = dummy['DAYS_ID_PUBLISH'].replace(0, 0.01)\n",
    "dummy['DAYS_ID_PUBLISH'] = np.log(dummy['DAYS_ID_PUBLISH'].abs()/365)"
   ]
  },
  {
   "cell_type": "code",
   "execution_count": 25,
   "metadata": {
    "ExecuteTime": {
     "end_time": "2019-09-29T10:10:36.521691Z",
     "start_time": "2019-09-29T10:10:36.513876Z"
    }
   },
   "outputs": [],
   "source": [
    "dummy['DAYS_LAST_PHONE_CHANGE'] = dummy['DAYS_LAST_PHONE_CHANGE'].replace(0, 0.01)\n",
    "dummy['DAYS_LAST_PHONE_CHANGE'] = np.log(dummy['DAYS_LAST_PHONE_CHANGE'].abs()/365)"
   ]
  },
  {
   "cell_type": "code",
   "execution_count": 26,
   "metadata": {
    "ExecuteTime": {
     "end_time": "2019-09-29T10:10:36.532165Z",
     "start_time": "2019-09-29T10:10:36.524967Z"
    }
   },
   "outputs": [],
   "source": [
    "dummy['AMT_REQ_CREDIT_BUREAU_YEAR'] = dummy['AMT_REQ_CREDIT_BUREAU_YEAR'].replace(0, 0.01)\n",
    "dummy['AMT_REQ_CREDIT_BUREAU_YEAR'] = np.log(dummy['AMT_REQ_CREDIT_BUREAU_YEAR'])"
   ]
  },
  {
   "cell_type": "code",
   "execution_count": 27,
   "metadata": {
    "ExecuteTime": {
     "end_time": "2019-09-29T10:10:36.541455Z",
     "start_time": "2019-09-29T10:10:36.533738Z"
    }
   },
   "outputs": [],
   "source": [
    "dummy['OBS_30_CNT_SOCIAL_CIRCLE'] = dummy['OBS_30_CNT_SOCIAL_CIRCLE'].replace(0, 0.01)\n",
    "dummy['OBS_30_CNT_SOCIAL_CIRCLE'] = np.log(dummy['OBS_30_CNT_SOCIAL_CIRCLE'])"
   ]
  },
  {
   "cell_type": "markdown",
   "metadata": {},
   "source": [
    "Reset Index and Prepare dataset for spliting"
   ]
  },
  {
   "cell_type": "code",
   "execution_count": 28,
   "metadata": {
    "ExecuteTime": {
     "end_time": "2019-09-29T10:10:36.630781Z",
     "start_time": "2019-09-29T10:10:36.542779Z"
    }
   },
   "outputs": [
    {
     "data": {
      "text/plain": [
       "(249675, 148)"
      ]
     },
     "execution_count": 28,
     "metadata": {},
     "output_type": "execute_result"
    }
   ],
   "source": [
    "dummy = dummy.reset_index()\n",
    "dummy.shape"
   ]
  },
  {
   "cell_type": "code",
   "execution_count": 29,
   "metadata": {
    "ExecuteTime": {
     "end_time": "2019-09-29T10:10:36.658196Z",
     "start_time": "2019-09-29T10:10:36.632318Z"
    }
   },
   "outputs": [],
   "source": [
    "del dummy['SK_ID_CURR']\n",
    "del dummy['index']\n",
    "\n",
    "target = dummy['TARGET']\n",
    "del dummy['TARGET']"
   ]
  },
  {
   "cell_type": "code",
   "execution_count": 30,
   "metadata": {
    "ExecuteTime": {
     "end_time": "2019-09-29T10:10:36.663833Z",
     "start_time": "2019-09-29T10:10:36.659667Z"
    }
   },
   "outputs": [
    {
     "data": {
      "text/plain": [
       "(249675, 145)"
      ]
     },
     "execution_count": 30,
     "metadata": {},
     "output_type": "execute_result"
    }
   ],
   "source": [
    "dummy.shape"
   ]
  },
  {
   "cell_type": "code",
   "execution_count": 31,
   "metadata": {
    "ExecuteTime": {
     "end_time": "2019-09-29T10:10:36.684325Z",
     "start_time": "2019-09-29T10:10:36.665559Z"
    }
   },
   "outputs": [
    {
     "data": {
      "text/html": [
       "<div>\n",
       "<style scoped>\n",
       "    .dataframe tbody tr th:only-of-type {\n",
       "        vertical-align: middle;\n",
       "    }\n",
       "\n",
       "    .dataframe tbody tr th {\n",
       "        vertical-align: top;\n",
       "    }\n",
       "\n",
       "    .dataframe thead th {\n",
       "        text-align: right;\n",
       "    }\n",
       "</style>\n",
       "<table border=\"1\" class=\"dataframe\">\n",
       "  <thead>\n",
       "    <tr style=\"text-align: right;\">\n",
       "      <th></th>\n",
       "      <th>CNT_CHILDREN</th>\n",
       "      <th>AMT_INCOME_TOTAL</th>\n",
       "      <th>AMT_CREDIT</th>\n",
       "      <th>AMT_ANNUITY</th>\n",
       "      <th>AMT_GOODS_PRICE</th>\n",
       "      <th>REGION_POPULATION_RELATIVE</th>\n",
       "      <th>DAYS_BIRTH</th>\n",
       "      <th>DAYS_EMPLOYED</th>\n",
       "      <th>DAYS_REGISTRATION</th>\n",
       "      <th>DAYS_ID_PUBLISH</th>\n",
       "      <th>...</th>\n",
       "      <th>ORGANIZATION_TYPE_Trade: type 3</th>\n",
       "      <th>ORGANIZATION_TYPE_Trade: type 4</th>\n",
       "      <th>ORGANIZATION_TYPE_Trade: type 5</th>\n",
       "      <th>ORGANIZATION_TYPE_Trade: type 6</th>\n",
       "      <th>ORGANIZATION_TYPE_Trade: type 7</th>\n",
       "      <th>ORGANIZATION_TYPE_Transport: type 1</th>\n",
       "      <th>ORGANIZATION_TYPE_Transport: type 2</th>\n",
       "      <th>ORGANIZATION_TYPE_Transport: type 3</th>\n",
       "      <th>ORGANIZATION_TYPE_Transport: type 4</th>\n",
       "      <th>ORGANIZATION_TYPE_University</th>\n",
       "    </tr>\n",
       "  </thead>\n",
       "  <tbody>\n",
       "    <tr>\n",
       "      <td>0</td>\n",
       "      <td>0</td>\n",
       "      <td>12.218495</td>\n",
       "      <td>12.915579</td>\n",
       "      <td>10.114579</td>\n",
       "      <td>12.768542</td>\n",
       "      <td>0.018801</td>\n",
       "      <td>3.255036</td>\n",
       "      <td>0.556872</td>\n",
       "      <td>2.302037</td>\n",
       "      <td>1.759274</td>\n",
       "      <td>...</td>\n",
       "      <td>0</td>\n",
       "      <td>0</td>\n",
       "      <td>0</td>\n",
       "      <td>0</td>\n",
       "      <td>0</td>\n",
       "      <td>0</td>\n",
       "      <td>0</td>\n",
       "      <td>0</td>\n",
       "      <td>0</td>\n",
       "      <td>0</td>\n",
       "    </tr>\n",
       "  </tbody>\n",
       "</table>\n",
       "<p>1 rows × 145 columns</p>\n",
       "</div>"
      ],
      "text/plain": [
       "   CNT_CHILDREN  AMT_INCOME_TOTAL  AMT_CREDIT  AMT_ANNUITY  AMT_GOODS_PRICE  \\\n",
       "0             0         12.218495   12.915579    10.114579        12.768542   \n",
       "\n",
       "   REGION_POPULATION_RELATIVE  DAYS_BIRTH  DAYS_EMPLOYED  DAYS_REGISTRATION  \\\n",
       "0                    0.018801    3.255036       0.556872           2.302037   \n",
       "\n",
       "   DAYS_ID_PUBLISH  ...  ORGANIZATION_TYPE_Trade: type 3  \\\n",
       "0         1.759274  ...                                0   \n",
       "\n",
       "   ORGANIZATION_TYPE_Trade: type 4  ORGANIZATION_TYPE_Trade: type 5  \\\n",
       "0                                0                                0   \n",
       "\n",
       "   ORGANIZATION_TYPE_Trade: type 6  ORGANIZATION_TYPE_Trade: type 7  \\\n",
       "0                                0                                0   \n",
       "\n",
       "   ORGANIZATION_TYPE_Transport: type 1  ORGANIZATION_TYPE_Transport: type 2  \\\n",
       "0                                    0                                    0   \n",
       "\n",
       "   ORGANIZATION_TYPE_Transport: type 3  ORGANIZATION_TYPE_Transport: type 4  \\\n",
       "0                                    0                                    0   \n",
       "\n",
       "   ORGANIZATION_TYPE_University  \n",
       "0                             0  \n",
       "\n",
       "[1 rows x 145 columns]"
      ]
     },
     "execution_count": 31,
     "metadata": {},
     "output_type": "execute_result"
    }
   ],
   "source": [
    "dummy.head(1)"
   ]
  },
  {
   "cell_type": "markdown",
   "metadata": {},
   "source": [
    "Split Prepared Dataset into Training and Testing "
   ]
  },
  {
   "cell_type": "code",
   "execution_count": 32,
   "metadata": {
    "ExecuteTime": {
     "end_time": "2019-09-29T10:10:36.961376Z",
     "start_time": "2019-09-29T10:10:36.686006Z"
    }
   },
   "outputs": [],
   "source": [
    "X_train,X_test,y_train,y_test = train_test_split(dummy, target, test_size=0.25, random_state=42, stratify=target)"
   ]
  },
  {
   "cell_type": "code",
   "execution_count": 33,
   "metadata": {
    "ExecuteTime": {
     "end_time": "2019-09-29T10:10:36.967797Z",
     "start_time": "2019-09-29T10:10:36.962916Z"
    }
   },
   "outputs": [
    {
     "name": "stdout",
     "output_type": "stream",
     "text": [
      "Number transactions X_train dataset:  (187256, 145)\n",
      "Number transactions y_train dataset:  (187256,)\n",
      "Number transactions X_test dataset:  (62419, 145)\n",
      "Number transactions y_test dataset:  (62419,)\n"
     ]
    }
   ],
   "source": [
    "print(\"Number transactions X_train dataset: \", X_train.shape)\n",
    "print(\"Number transactions y_train dataset: \", y_train.shape)\n",
    "print(\"Number transactions X_test dataset: \", X_test.shape)\n",
    "print(\"Number transactions y_test dataset: \", y_test.shape)"
   ]
  },
  {
   "cell_type": "markdown",
   "metadata": {},
   "source": [
    "Resample Training Dataset to Avoid Imbalanced Issue"
   ]
  },
  {
   "cell_type": "code",
   "execution_count": 34,
   "metadata": {
    "ExecuteTime": {
     "end_time": "2019-09-29T10:10:37.514521Z",
     "start_time": "2019-09-29T10:10:36.969277Z"
    }
   },
   "outputs": [],
   "source": [
    "rus = RandomUnderSampler()\n",
    "X_train_resample, y_train_resample = rus.fit_resample(X_train, y_train)"
   ]
  },
  {
   "cell_type": "markdown",
   "metadata": {},
   "source": [
    "# Feature Selection"
   ]
  },
  {
   "cell_type": "code",
   "execution_count": 35,
   "metadata": {
    "ExecuteTime": {
     "end_time": "2019-09-29T10:12:16.220916Z",
     "start_time": "2019-09-29T10:10:37.516579Z"
    }
   },
   "outputs": [],
   "source": [
    "#apply feature engining by using decision tree as matrics\n",
    "columns = pd.DataFrame(X_train.columns)\n",
    "\n",
    "estimator = DecisionTreeClassifier()\n",
    "selector = RFE(estimator, 15, step=1)\n",
    "selector = selector.fit(X_train_resample, y_train_resample)\n",
    "\n",
    "ranking = pd.DataFrame(selector.ranking_)"
   ]
  },
  {
   "cell_type": "code",
   "execution_count": 36,
   "metadata": {
    "ExecuteTime": {
     "end_time": "2019-09-29T10:12:16.231712Z",
     "start_time": "2019-09-29T10:12:16.222683Z"
    }
   },
   "outputs": [
    {
     "data": {
      "text/html": [
       "<div>\n",
       "<style scoped>\n",
       "    .dataframe tbody tr th:only-of-type {\n",
       "        vertical-align: middle;\n",
       "    }\n",
       "\n",
       "    .dataframe tbody tr th {\n",
       "        vertical-align: top;\n",
       "    }\n",
       "\n",
       "    .dataframe thead th {\n",
       "        text-align: right;\n",
       "    }\n",
       "</style>\n",
       "<table border=\"1\" class=\"dataframe\">\n",
       "  <thead>\n",
       "    <tr style=\"text-align: right;\">\n",
       "      <th></th>\n",
       "      <th>Features</th>\n",
       "      <th>Score</th>\n",
       "    </tr>\n",
       "  </thead>\n",
       "  <tbody>\n",
       "    <tr>\n",
       "      <td>1</td>\n",
       "      <td>AMT_INCOME_TOTAL</td>\n",
       "      <td>1</td>\n",
       "    </tr>\n",
       "    <tr>\n",
       "      <td>2</td>\n",
       "      <td>AMT_CREDIT</td>\n",
       "      <td>1</td>\n",
       "    </tr>\n",
       "    <tr>\n",
       "      <td>3</td>\n",
       "      <td>AMT_ANNUITY</td>\n",
       "      <td>1</td>\n",
       "    </tr>\n",
       "    <tr>\n",
       "      <td>4</td>\n",
       "      <td>AMT_GOODS_PRICE</td>\n",
       "      <td>1</td>\n",
       "    </tr>\n",
       "    <tr>\n",
       "      <td>5</td>\n",
       "      <td>REGION_POPULATION_RELATIVE</td>\n",
       "      <td>1</td>\n",
       "    </tr>\n",
       "    <tr>\n",
       "      <td>6</td>\n",
       "      <td>DAYS_BIRTH</td>\n",
       "      <td>1</td>\n",
       "    </tr>\n",
       "    <tr>\n",
       "      <td>7</td>\n",
       "      <td>DAYS_EMPLOYED</td>\n",
       "      <td>1</td>\n",
       "    </tr>\n",
       "    <tr>\n",
       "      <td>8</td>\n",
       "      <td>DAYS_REGISTRATION</td>\n",
       "      <td>1</td>\n",
       "    </tr>\n",
       "    <tr>\n",
       "      <td>9</td>\n",
       "      <td>DAYS_ID_PUBLISH</td>\n",
       "      <td>1</td>\n",
       "    </tr>\n",
       "    <tr>\n",
       "      <td>19</td>\n",
       "      <td>HOUR_APPR_PROCESS_START</td>\n",
       "      <td>1</td>\n",
       "    </tr>\n",
       "    <tr>\n",
       "      <td>26</td>\n",
       "      <td>EXT_SOURCE_2</td>\n",
       "      <td>1</td>\n",
       "    </tr>\n",
       "    <tr>\n",
       "      <td>27</td>\n",
       "      <td>EXT_SOURCE_3</td>\n",
       "      <td>1</td>\n",
       "    </tr>\n",
       "    <tr>\n",
       "      <td>28</td>\n",
       "      <td>OBS_30_CNT_SOCIAL_CIRCLE</td>\n",
       "      <td>1</td>\n",
       "    </tr>\n",
       "    <tr>\n",
       "      <td>32</td>\n",
       "      <td>DAYS_LAST_PHONE_CHANGE</td>\n",
       "      <td>1</td>\n",
       "    </tr>\n",
       "    <tr>\n",
       "      <td>42</td>\n",
       "      <td>AMT_REQ_CREDIT_BUREAU_YEAR</td>\n",
       "      <td>1</td>\n",
       "    </tr>\n",
       "  </tbody>\n",
       "</table>\n",
       "</div>"
      ],
      "text/plain": [
       "                      Features  Score\n",
       "1             AMT_INCOME_TOTAL      1\n",
       "2                   AMT_CREDIT      1\n",
       "3                  AMT_ANNUITY      1\n",
       "4              AMT_GOODS_PRICE      1\n",
       "5   REGION_POPULATION_RELATIVE      1\n",
       "6                   DAYS_BIRTH      1\n",
       "7                DAYS_EMPLOYED      1\n",
       "8            DAYS_REGISTRATION      1\n",
       "9              DAYS_ID_PUBLISH      1\n",
       "19     HOUR_APPR_PROCESS_START      1\n",
       "26                EXT_SOURCE_2      1\n",
       "27                EXT_SOURCE_3      1\n",
       "28    OBS_30_CNT_SOCIAL_CIRCLE      1\n",
       "32      DAYS_LAST_PHONE_CHANGE      1\n",
       "42  AMT_REQ_CREDIT_BUREAU_YEAR      1"
      ]
     },
     "execution_count": 36,
     "metadata": {},
     "output_type": "execute_result"
    }
   ],
   "source": [
    "featureScores = pd.concat([columns,ranking],axis=1)\n",
    "featureScores.columns = ['Features','Score']  #naming the dataframe columns\n",
    "featureScores[featureScores.Score == 1]"
   ]
  },
  {
   "cell_type": "code",
   "execution_count": 37,
   "metadata": {
    "ExecuteTime": {
     "end_time": "2019-09-29T10:12:16.236772Z",
     "start_time": "2019-09-29T10:12:16.233516Z"
    }
   },
   "outputs": [],
   "source": [
    "X_train_resample_fs = pd.DataFrame(X_train_resample, columns=X_train.columns)"
   ]
  },
  {
   "cell_type": "code",
   "execution_count": 38,
   "metadata": {
    "ExecuteTime": {
     "end_time": "2019-09-29T10:12:16.244134Z",
     "start_time": "2019-09-29T10:12:16.238172Z"
    }
   },
   "outputs": [],
   "source": [
    "X_train_resample_fs = X_train_resample_fs[['AMT_INCOME_TOTAL', 'AMT_CREDIT','AMT_ANNUITY','REGION_POPULATION_RELATIVE','DAYS_BIRTH',\n",
    "                                     'DAYS_EMPLOYED','DAYS_REGISTRATION','AMT_GOODS_PRICE','HOUR_APPR_PROCESS_START','OBS_30_CNT_SOCIAL_CIRCLE',\n",
    "                                     'DAYS_ID_PUBLISH','EXT_SOURCE_2','EXT_SOURCE_3','DAYS_LAST_PHONE_CHANGE','AMT_REQ_CREDIT_BUREAU_YEAR']]"
   ]
  },
  {
   "cell_type": "code",
   "execution_count": 39,
   "metadata": {
    "ExecuteTime": {
     "end_time": "2019-09-29T10:12:16.249543Z",
     "start_time": "2019-09-29T10:12:16.245890Z"
    }
   },
   "outputs": [],
   "source": [
    "X_train_resample_fs = X_train_resample_fs.values"
   ]
  },
  {
   "cell_type": "code",
   "execution_count": 40,
   "metadata": {
    "ExecuteTime": {
     "end_time": "2019-09-29T10:12:16.260391Z",
     "start_time": "2019-09-29T10:12:16.251335Z"
    }
   },
   "outputs": [],
   "source": [
    "X_test_fs = X_test[['AMT_INCOME_TOTAL', 'AMT_CREDIT','AMT_ANNUITY','REGION_POPULATION_RELATIVE','DAYS_BIRTH',\n",
    "                                     'DAYS_EMPLOYED','DAYS_REGISTRATION','AMT_GOODS_PRICE','HOUR_APPR_PROCESS_START','OBS_30_CNT_SOCIAL_CIRCLE',\n",
    "                                     'DAYS_ID_PUBLISH','EXT_SOURCE_2','EXT_SOURCE_3','DAYS_LAST_PHONE_CHANGE','AMT_REQ_CREDIT_BUREAU_YEAR']]"
   ]
  },
  {
   "cell_type": "markdown",
   "metadata": {},
   "source": [
    "# Model and Parameters Selection"
   ]
  },
  {
   "cell_type": "markdown",
   "metadata": {},
   "source": [
    "Logistic Regression with Grid Search for Feature Selected Training Data"
   ]
  },
  {
   "cell_type": "code",
   "execution_count": 41,
   "metadata": {
    "ExecuteTime": {
     "end_time": "2019-09-29T10:16:40.021030Z",
     "start_time": "2019-09-29T10:12:16.262145Z"
    }
   },
   "outputs": [],
   "source": [
    "log_reg_params = {\"penalty\": ['l1', 'l2'], 'C': [0.001, 0.01, 0.1, 1, 10, 100, 1000]}\n",
    "\n",
    "grid_log_reg = GridSearchCV(LogisticRegression(), log_reg_params)\n",
    "grid_log_reg.fit(X_train_resample_fs, y_train_resample)\n",
    "\n",
    "log_reg = grid_log_reg.best_estimator_"
   ]
  },
  {
   "cell_type": "code",
   "execution_count": 42,
   "metadata": {
    "ExecuteTime": {
     "end_time": "2019-09-29T10:16:40.037617Z",
     "start_time": "2019-09-29T10:16:40.022397Z"
    }
   },
   "outputs": [
    {
     "data": {
      "text/plain": [
       "LogisticRegression(C=0.1, class_weight=None, dual=False, fit_intercept=True,\n",
       "                   intercept_scaling=1, l1_ratio=None, max_iter=100,\n",
       "                   multi_class='warn', n_jobs=None, penalty='l2',\n",
       "                   random_state=None, solver='warn', tol=0.0001, verbose=0,\n",
       "                   warm_start=False)"
      ]
     },
     "execution_count": 42,
     "metadata": {},
     "output_type": "execute_result"
    }
   ],
   "source": [
    "log_reg"
   ]
  },
  {
   "cell_type": "code",
   "execution_count": 43,
   "metadata": {
    "ExecuteTime": {
     "end_time": "2019-09-29T10:16:40.626085Z",
     "start_time": "2019-09-29T10:16:40.039555Z"
    }
   },
   "outputs": [
    {
     "name": "stdout",
     "output_type": "stream",
     "text": [
      "Recall metric in the testing dataset:  0.640184331797235\n"
     ]
    },
    {
     "data": {
      "text/plain": [
       "<Figure size 432x288 with 0 Axes>"
      ]
     },
     "metadata": {},
     "output_type": "display_data"
    },
    {
     "data": {
      "image/png": "[encoded data removed]",
      "text/plain": [
       "<Figure size 432x288 with 2 Axes>"
      ]
     },
     "metadata": {
      "needs_background": "light"
     },
     "output_type": "display_data"
    }
   ],
   "source": [
    "#test with original testing dataset\n",
    "log_reg.fit(X_train_resample_fs, y_train_resample)\n",
    "\n",
    "y_pred = log_reg.predict(X_test_fs)\n",
    "\n",
    "cnf_matrix = confusion_matrix(y_test,y_pred)\n",
    "np.set_printoptions(precision=2)\n",
    "\n",
    "print(\"Recall metric in the testing dataset: \", cnf_matrix[1,1]/(cnf_matrix[1,0]+cnf_matrix[1,1]))\n",
    "\n",
    "class_names = [0,1]\n",
    "plt.figure()\n",
    "# plot_confusion_matrix(cnf_matrix\n",
    "#                       , classes=class_names\n",
    "#                       , title='Confusion matrix')\n",
    "# plt.savefig('test_1.png', dpi=300)\n",
    "# plt.show()\n",
    "\n",
    "fig, ax = plot_confusion_matrix(conf_mat=cnf_matrix,\n",
    "                                show_absolute=True,\n",
    "                                show_normed=True,\n",
    "                                colorbar=True)\n",
    "plt.savefig('selection_log_reg_matrix', dpi=300)\n",
    "plt.show()"
   ]
  },
  {
   "cell_type": "code",
   "execution_count": 44,
   "metadata": {
    "ExecuteTime": {
     "end_time": "2019-09-29T10:16:40.699753Z",
     "start_time": "2019-09-29T10:16:40.628463Z"
    }
   },
   "outputs": [
    {
     "name": "stdout",
     "output_type": "stream",
     "text": [
      "              precision    recall  f1-score   support\n",
      "\n",
      "           0       0.95      0.68      0.80     56994\n",
      "           1       0.16      0.64      0.26      5425\n",
      "\n",
      "    accuracy                           0.68     62419\n",
      "   macro avg       0.56      0.66      0.53     62419\n",
      "weighted avg       0.88      0.68      0.75     62419\n",
      "\n"
     ]
    }
   ],
   "source": [
    "#confusion Matrix\n",
    "print(classification_report(y_test, y_pred)) "
   ]
  },
  {
   "cell_type": "code",
   "execution_count": 45,
   "metadata": {
    "ExecuteTime": {
     "end_time": "2019-09-29T10:16:41.033156Z",
     "start_time": "2019-09-29T10:16:40.701463Z"
    }
   },
   "outputs": [
    {
     "data": {
      "image/png": "[encoded data removed]",
      "text/plain": [
       "<Figure size 432x288 with 1 Axes>"
      ]
     },
     "metadata": {
      "needs_background": "light"
     },
     "output_type": "display_data"
    }
   ],
   "source": [
    "#ROC\n",
    "y_pred_proba = log_reg.predict_proba(X_test_fs)[::,1]\n",
    "fpr, tpr, _ = metrics.roc_curve(y_test,  y_pred_proba)\n",
    "auc = metrics.roc_auc_score(y_test, y_pred_proba)\n",
    "\n",
    "plt.plot(fpr,tpr,label=\"logreg, auc=\"+str(auc))\n",
    "plt.plot([0,1],[0,1],'k--')\n",
    "plt.legend(loc=4)\n",
    "plt.savefig('selection_log_reg_roc', dpi=300)\n",
    "plt.show()"
   ]
  },
  {
   "cell_type": "markdown",
   "metadata": {},
   "source": [
    "KNN with Grid Search for Feature Selected Training Data"
   ]
  },
  {
   "cell_type": "code",
   "execution_count": 46,
   "metadata": {
    "ExecuteTime": {
     "end_time": "2019-09-29T10:18:03.288268Z",
     "start_time": "2019-09-29T10:16:41.034713Z"
    }
   },
   "outputs": [],
   "source": [
    "knears_params = {\"n_neighbors\": list(range(2,5,1)), 'algorithm': ['auto', 'ball_tree', 'kd_tree', 'brute']}\n",
    "\n",
    "grid_knears = GridSearchCV(KNeighborsClassifier(), knears_params)\n",
    "grid_knears.fit(X_train_resample_fs, y_train_resample)\n",
    "# KNears best estimator\n",
    "knears_neighbors = grid_knears.best_estimator_"
   ]
  },
  {
   "cell_type": "code",
   "execution_count": 47,
   "metadata": {
    "ExecuteTime": {
     "end_time": "2019-09-29T10:18:03.293844Z",
     "start_time": "2019-09-29T10:18:03.289668Z"
    }
   },
   "outputs": [
    {
     "data": {
      "text/plain": [
       "KNeighborsClassifier(algorithm='auto', leaf_size=30, metric='minkowski',\n",
       "                     metric_params=None, n_jobs=None, n_neighbors=4, p=2,\n",
       "                     weights='uniform')"
      ]
     },
     "execution_count": 47,
     "metadata": {},
     "output_type": "execute_result"
    }
   ],
   "source": [
    "knears_neighbors"
   ]
  },
  {
   "cell_type": "code",
   "execution_count": 48,
   "metadata": {
    "ExecuteTime": {
     "end_time": "2019-09-29T10:18:11.689957Z",
     "start_time": "2019-09-29T10:18:03.295262Z"
    }
   },
   "outputs": [
    {
     "name": "stdout",
     "output_type": "stream",
     "text": [
      "Recall metric in the testing dataset:  0.3942857142857143\n"
     ]
    },
    {
     "data": {
      "image/png": "[encoded data removed]",
      "text/plain": [
       "<Figure size 432x288 with 2 Axes>"
      ]
     },
     "metadata": {
      "needs_background": "light"
     },
     "output_type": "display_data"
    }
   ],
   "source": [
    "#test with original testing dataset\n",
    "knears_neighbors.fit(X_train_resample_fs, y_train_resample)\n",
    "\n",
    "y_pred = knears_neighbors.predict(X_test_fs)\n",
    "\n",
    "cnf_matrix = confusion_matrix(y_test,y_pred)\n",
    "np.set_printoptions(precision=2)\n",
    "\n",
    "print(\"Recall metric in the testing dataset: \", cnf_matrix[1,1]/(cnf_matrix[1,0]+cnf_matrix[1,1]))\n",
    "\n",
    "class_names = [0,1]\n",
    "# plt.figure()\n",
    "# plot_confusion_matrix(cnf_matrix\n",
    "#                       , classes=class_names\n",
    "#                       , title='Confusion matrix')\n",
    "# plt.show()\n",
    "fig, ax = plot_confusion_matrix(conf_mat=cnf_matrix,\n",
    "                                show_absolute=True,\n",
    "                                show_normed=True,\n",
    "                                colorbar=True)\n",
    "plt.savefig('selection_knn_matrix', dpi=300)\n",
    "plt.show()"
   ]
  },
  {
   "cell_type": "code",
   "execution_count": 49,
   "metadata": {
    "ExecuteTime": {
     "end_time": "2019-09-29T10:18:11.763161Z",
     "start_time": "2019-09-29T10:18:11.691962Z"
    }
   },
   "outputs": [
    {
     "name": "stdout",
     "output_type": "stream",
     "text": [
      "              precision    recall  f1-score   support\n",
      "\n",
      "           0       0.92      0.70      0.80     56994\n",
      "           1       0.11      0.39      0.17      5425\n",
      "\n",
      "    accuracy                           0.68     62419\n",
      "   macro avg       0.52      0.55      0.49     62419\n",
      "weighted avg       0.85      0.68      0.74     62419\n",
      "\n"
     ]
    }
   ],
   "source": [
    "#confusion Matrix\n",
    "print(classification_report(y_test, y_pred)) "
   ]
  },
  {
   "cell_type": "code",
   "execution_count": 50,
   "metadata": {
    "ExecuteTime": {
     "end_time": "2019-09-29T10:18:18.850301Z",
     "start_time": "2019-09-29T10:18:11.764641Z"
    }
   },
   "outputs": [
    {
     "data": {
      "image/png": "[encoded data removed]",
      "text/plain": [
       "<Figure size 432x288 with 1 Axes>"
      ]
     },
     "metadata": {
      "needs_background": "light"
     },
     "output_type": "display_data"
    }
   ],
   "source": [
    "#ROC\n",
    "y_pred_proba = knears_neighbors.predict_proba(X_test_fs)[::,1]\n",
    "fpr, tpr, _ = metrics.roc_curve(y_test,  y_pred_proba)\n",
    "auc = metrics.roc_auc_score(y_test, y_pred_proba)\n",
    "\n",
    "plt.plot(fpr,tpr,label=\"knn, auc=\"+str(auc))\n",
    "plt.plot([0,1],[0,1],'k--')\n",
    "plt.legend(loc=4)\n",
    "plt.savefig('selection_knn_roc', dpi=300)\n",
    "plt.show()"
   ]
  },
  {
   "cell_type": "markdown",
   "metadata": {},
   "source": [
    "Random Forest with Grid Search for Feature Selected Training Data"
   ]
  },
  {
   "cell_type": "code",
   "execution_count": 51,
   "metadata": {
    "ExecuteTime": {
     "end_time": "2019-09-29T10:55:43.084584Z",
     "start_time": "2019-09-29T10:18:18.851713Z"
    }
   },
   "outputs": [],
   "source": [
    "param_grid = { 'n_estimators': [200, 500], 'max_features': ['auto', 'sqrt', 'log2'], 'max_depth' : [4,5,6,7,8], 'criterion' :['gini', 'entropy']}\n",
    "\n",
    "CV_rfc = GridSearchCV(estimator=RandomForestClassifier(random_state=42), param_grid=param_grid, cv= 5)\n",
    "CV_rfc.fit(X_train_resample_fs, y_train_resample)\n",
    "\n",
    "rfc = CV_rfc.best_params_"
   ]
  },
  {
   "cell_type": "code",
   "execution_count": 52,
   "metadata": {
    "ExecuteTime": {
     "end_time": "2019-09-29T10:55:43.090124Z",
     "start_time": "2019-09-29T10:55:43.086144Z"
    }
   },
   "outputs": [
    {
     "data": {
      "text/plain": [
       "{'criterion': 'gini',\n",
       " 'max_depth': 8,\n",
       " 'max_features': 'auto',\n",
       " 'n_estimators': 500}"
      ]
     },
     "execution_count": 52,
     "metadata": {},
     "output_type": "execute_result"
    }
   ],
   "source": [
    "rfc"
   ]
  },
  {
   "cell_type": "code",
   "execution_count": 53,
   "metadata": {
    "ExecuteTime": {
     "end_time": "2019-09-29T10:55:43.096665Z",
     "start_time": "2019-09-29T10:55:43.093763Z"
    }
   },
   "outputs": [],
   "source": [
    "rfc = RandomForestClassifier(n_estimators=200, max_depth=8, max_features='auto', criterion='entropy')"
   ]
  },
  {
   "cell_type": "code",
   "execution_count": 54,
   "metadata": {
    "ExecuteTime": {
     "end_time": "2019-09-29T10:55:51.624887Z",
     "start_time": "2019-09-29T10:55:43.098355Z"
    }
   },
   "outputs": [
    {
     "name": "stdout",
     "output_type": "stream",
     "text": [
      "Recall metric in the testing dataset:  0.6610138248847927\n"
     ]
    },
    {
     "data": {
      "text/plain": [
       "<Figure size 432x288 with 0 Axes>"
      ]
     },
     "metadata": {},
     "output_type": "display_data"
    },
    {
     "data": {
      "image/png": "[encoded data removed]",
      "text/plain": [
       "<Figure size 432x288 with 2 Axes>"
      ]
     },
     "metadata": {
      "needs_background": "light"
     },
     "output_type": "display_data"
    }
   ],
   "source": [
    "#test with original testing dataset\n",
    "rfc.fit(X_train_resample_fs, y_train_resample)\n",
    "\n",
    "y_pred = rfc.predict(X_test_fs)\n",
    "\n",
    "cnf_matrix = confusion_matrix(y_test,y_pred)\n",
    "np.set_printoptions(precision=2)\n",
    "\n",
    "print(\"Recall metric in the testing dataset: \", cnf_matrix[1,1]/(cnf_matrix[1,0]+cnf_matrix[1,1]))\n",
    "\n",
    "class_names = [0,1]\n",
    "plt.figure()\n",
    "fig, ax = plot_confusion_matrix(conf_mat=cnf_matrix,\n",
    "                                show_absolute=True,\n",
    "                                show_normed=True,\n",
    "                                colorbar=True)\n",
    "plt.savefig('selection_rfc_matrix', dpi=300)\n",
    "plt.show()"
   ]
  },
  {
   "cell_type": "code",
   "execution_count": 55,
   "metadata": {
    "ExecuteTime": {
     "end_time": "2019-09-29T10:55:51.689671Z",
     "start_time": "2019-09-29T10:55:51.626668Z"
    }
   },
   "outputs": [
    {
     "name": "stdout",
     "output_type": "stream",
     "text": [
      "              precision    recall  f1-score   support\n",
      "\n",
      "           0       0.95      0.67      0.79     56994\n",
      "           1       0.16      0.66      0.26      5425\n",
      "\n",
      "    accuracy                           0.67     62419\n",
      "   macro avg       0.56      0.67      0.52     62419\n",
      "weighted avg       0.89      0.67      0.74     62419\n",
      "\n"
     ]
    }
   ],
   "source": [
    "#confusion Matrix\n",
    "print(classification_report(y_test, y_pred)) "
   ]
  },
  {
   "cell_type": "code",
   "execution_count": 56,
   "metadata": {
    "ExecuteTime": {
     "end_time": "2019-09-29T10:55:52.814665Z",
     "start_time": "2019-09-29T10:55:51.691567Z"
    }
   },
   "outputs": [
    {
     "data": {
      "image/png": "[encoded data removed]",
      "text/plain": [
       "<Figure size 432x288 with 1 Axes>"
      ]
     },
     "metadata": {
      "needs_background": "light"
     },
     "output_type": "display_data"
    }
   ],
   "source": [
    "#ROC\n",
    "y_pred_proba = rfc.predict_proba(X_test_fs)[::,1]\n",
    "fpr, tpr, _ = metrics.roc_curve(y_test,  y_pred_proba)\n",
    "auc = metrics.roc_auc_score(y_test, y_pred_proba)\n",
    "\n",
    "plt.plot(fpr,tpr,label=\"rfc, auc=\"+str(auc))\n",
    "plt.plot([0,1],[0,1],'k--')\n",
    "plt.legend(loc=4)\n",
    "plt.savefig('selection_rfc_roc', dpi=300)\n",
    "plt.show()"
   ]
  },
  {
   "cell_type": "markdown",
   "metadata": {},
   "source": [
    "ADABOOST with Grid Search for All Training Data"
   ]
  },
  {
   "cell_type": "code",
   "execution_count": 57,
   "metadata": {
    "ExecuteTime": {
     "end_time": "2019-09-29T11:04:06.577429Z",
     "start_time": "2019-09-29T10:55:52.816337Z"
    }
   },
   "outputs": [],
   "source": [
    "param_dist = {\n",
    " 'n_estimators': [50, 100],\n",
    " 'learning_rate' : [0.01,0.05,0.1,0.3,1],\n",
    " 'algorithm' : ['SAMME','SAMME.R']\n",
    "}\n",
    "\n",
    "pre_gs_inst = GridSearchCV(AdaBoostClassifier(), param_dist, cv=5)\n",
    "pre_gs_inst.fit(X_train_resample, y_train_resample)\n",
    "\n",
    "adb = pre_gs_inst.best_params_"
   ]
  },
  {
   "cell_type": "code",
   "execution_count": 58,
   "metadata": {
    "ExecuteTime": {
     "end_time": "2019-09-29T11:04:06.582843Z",
     "start_time": "2019-09-29T11:04:06.579391Z"
    }
   },
   "outputs": [
    {
     "data": {
      "text/plain": [
       "{'algorithm': 'SAMME.R', 'learning_rate': 1, 'n_estimators': 100}"
      ]
     },
     "execution_count": 58,
     "metadata": {},
     "output_type": "execute_result"
    }
   ],
   "source": [
    "adb"
   ]
  },
  {
   "cell_type": "code",
   "execution_count": 59,
   "metadata": {
    "ExecuteTime": {
     "end_time": "2019-09-29T11:04:06.587157Z",
     "start_time": "2019-09-29T11:04:06.584408Z"
    }
   },
   "outputs": [],
   "source": [
    "adb = AdaBoostClassifier(algorithm='SAMME.R', learning_rate=0.3, n_estimators=100)"
   ]
  },
  {
   "cell_type": "code",
   "execution_count": 60,
   "metadata": {
    "ExecuteTime": {
     "end_time": "2019-09-29T11:04:17.249720Z",
     "start_time": "2019-09-29T11:04:06.588905Z"
    }
   },
   "outputs": [
    {
     "name": "stdout",
     "output_type": "stream",
     "text": [
      "Recall metric in the testing dataset:  0.6670967741935484\n"
     ]
    },
    {
     "data": {
      "text/plain": [
       "<Figure size 432x288 with 0 Axes>"
      ]
     },
     "metadata": {},
     "output_type": "display_data"
    },
    {
     "data": {
      "image/png": "[encoded data removed]",
      "text/plain": [
       "<Figure size 432x288 with 2 Axes>"
      ]
     },
     "metadata": {
      "needs_background": "light"
     },
     "output_type": "display_data"
    }
   ],
   "source": [
    "#test with original testing dataset\n",
    "adb.fit(X_train_resample, y_train_resample)\n",
    "\n",
    "y_pred = adb.predict(X_test.values)\n",
    "\n",
    "cnf_matrix = confusion_matrix(y_test,y_pred)\n",
    "np.set_printoptions(precision=2)\n",
    "\n",
    "print(\"Recall metric in the testing dataset: \", cnf_matrix[1,1]/(cnf_matrix[1,0]+cnf_matrix[1,1]))\n",
    "\n",
    "class_names = [0,1]\n",
    "plt.figure()\n",
    "fig, ax = plot_confusion_matrix(conf_mat=cnf_matrix,\n",
    "                                show_absolute=True,\n",
    "                                show_normed=True,\n",
    "                                colorbar=True)\n",
    "plt.savefig('selection_adb_matrix', dpi=300)\n",
    "plt.show()\n"
   ]
  },
  {
   "cell_type": "code",
   "execution_count": 61,
   "metadata": {
    "ExecuteTime": {
     "end_time": "2019-09-29T11:04:17.315235Z",
     "start_time": "2019-09-29T11:04:17.251423Z"
    }
   },
   "outputs": [
    {
     "name": "stdout",
     "output_type": "stream",
     "text": [
      "              precision    recall  f1-score   support\n",
      "\n",
      "           0       0.96      0.69      0.80     56994\n",
      "           1       0.17      0.67      0.27      5425\n",
      "\n",
      "    accuracy                           0.68     62419\n",
      "   macro avg       0.56      0.68      0.53     62419\n",
      "weighted avg       0.89      0.68      0.75     62419\n",
      "\n"
     ]
    }
   ],
   "source": [
    "#confusion Matrix\n",
    "print(classification_report(y_test, y_pred)) "
   ]
  },
  {
   "cell_type": "code",
   "execution_count": 62,
   "metadata": {
    "ExecuteTime": {
     "end_time": "2019-09-29T11:04:19.531204Z",
     "start_time": "2019-09-29T11:04:17.316856Z"
    }
   },
   "outputs": [
    {
     "data": {
      "image/png": "[encoded data removed]",
      "text/plain": [
       "<Figure size 432x288 with 1 Axes>"
      ]
     },
     "metadata": {
      "needs_background": "light"
     },
     "output_type": "display_data"
    }
   ],
   "source": [
    "#ROC\n",
    "y_pred_proba = adb.predict_proba(X_test.values)[::,1]\n",
    "fpr, tpr, _ = metrics.roc_curve(y_test,  y_pred_proba)\n",
    "auc = metrics.roc_auc_score(y_test, y_pred_proba)\n",
    "\n",
    "plt.plot(fpr,tpr,label=\"adb, auc=\"+str(auc))\n",
    "plt.plot([0,1],[0,1],'k--')\n",
    "plt.legend(loc=4)\n",
    "plt.savefig('selection_adb_roc', dpi=300)\n",
    "plt.show()"
   ]
  },
  {
   "cell_type": "markdown",
   "metadata": {},
   "source": [
    "XGBOOST with Grid Search for All Training Data"
   ]
  },
  {
   "cell_type": "code",
   "execution_count": 63,
   "metadata": {
    "ExecuteTime": {
     "end_time": "2019-09-29T11:05:58.900119Z",
     "start_time": "2019-09-29T11:04:19.533144Z"
    }
   },
   "outputs": [
    {
     "name": "stdout",
     "output_type": "stream",
     "text": [
      "Fitting 3 folds for each of 2 candidates, totalling 6 fits\n"
     ]
    },
    {
     "name": "stderr",
     "output_type": "stream",
     "text": [
      "[Parallel(n_jobs=4)]: Using backend LokyBackend with 4 concurrent workers.\n",
      "[Parallel(n_jobs=4)]: Done   3 out of   6 | elapsed:   53.4s remaining:   53.4s\n",
      "[Parallel(n_jobs=4)]: Done   6 out of   6 | elapsed:  1.3min finished\n"
     ]
    }
   ],
   "source": [
    "parameters = {'nthread':[4], #when use hyperthread, xgboost may become slower\n",
    "              'objective':['binary:logistic'],\n",
    "              'learning_rate': [0.15], #so called `eta` value\n",
    "              'max_depth': [8],\n",
    "              'min_child_weight': [3,11],\n",
    "              'silent': [1],\n",
    "              'subsample': [0.9],\n",
    "              'colsample_bytree': [0.5],\n",
    "              'n_estimators': [300], #number of trees\n",
    "              'seed': [1337]}\n",
    "\n",
    "clf = GridSearchCV(XGBClassifier(), parameters, n_jobs=4, verbose=2, refit=True)\n",
    "\n",
    "clf.fit(X_train_resample, y_train_resample)\n",
    "\n",
    "xgb = clf.best_params_"
   ]
  },
  {
   "cell_type": "code",
   "execution_count": 64,
   "metadata": {
    "ExecuteTime": {
     "end_time": "2019-09-29T11:05:58.908438Z",
     "start_time": "2019-09-29T11:05:58.901873Z"
    }
   },
   "outputs": [
    {
     "data": {
      "text/plain": [
       "{'colsample_bytree': 0.5,\n",
       " 'learning_rate': 0.15,\n",
       " 'max_depth': 8,\n",
       " 'min_child_weight': 11,\n",
       " 'n_estimators': 300,\n",
       " 'nthread': 4,\n",
       " 'objective': 'binary:logistic',\n",
       " 'seed': 1337,\n",
       " 'silent': 1,\n",
       " 'subsample': 0.9}"
      ]
     },
     "execution_count": 64,
     "metadata": {},
     "output_type": "execute_result"
    }
   ],
   "source": [
    "xgb"
   ]
  },
  {
   "cell_type": "code",
   "execution_count": 65,
   "metadata": {
    "ExecuteTime": {
     "end_time": "2019-09-29T11:05:58.914894Z",
     "start_time": "2019-09-29T11:05:58.910089Z"
    }
   },
   "outputs": [],
   "source": [
    "xgb = XGBClassifier(base_score=0.5, booster='gbtree', colsample_bylevel=1,\n",
    "              colsample_bynode=1, colsample_bytree=1, gamma=0,\n",
    "              learning_rate=0.1, max_delta_step=0, max_depth=3,\n",
    "              min_child_weight=1, missing=None, n_estimators=100, n_jobs=1,\n",
    "              nthread=None, objective='binary:logistic', random_state=0,\n",
    "              reg_alpha=0, reg_lambda=1, scale_pos_weight=1, seed=None,\n",
    "              silent=None, subsample=1, verbosity=1)"
   ]
  },
  {
   "cell_type": "code",
   "execution_count": 66,
   "metadata": {
    "ExecuteTime": {
     "end_time": "2019-09-29T11:06:20.523451Z",
     "start_time": "2019-09-29T11:05:58.916886Z"
    }
   },
   "outputs": [
    {
     "name": "stdout",
     "output_type": "stream",
     "text": [
      "Recall metric in the testing dataset:  0.6772350230414746\n"
     ]
    },
    {
     "data": {
      "text/plain": [
       "<Figure size 432x288 with 0 Axes>"
      ]
     },
     "metadata": {},
     "output_type": "display_data"
    },
    {
     "data": {
      "image/png": "[encoded data removed]",
      "text/plain": [
       "<Figure size 432x288 with 2 Axes>"
      ]
     },
     "metadata": {
      "needs_background": "light"
     },
     "output_type": "display_data"
    }
   ],
   "source": [
    "#test with original testing dataset\n",
    "xgb.fit(X_train_resample, y_train_resample)\n",
    "\n",
    "y_pred = xgb.predict(X_test.values)\n",
    "\n",
    "cnf_matrix = confusion_matrix(y_test,y_pred)\n",
    "np.set_printoptions(precision=2)\n",
    "\n",
    "print(\"Recall metric in the testing dataset: \", cnf_matrix[1,1]/(cnf_matrix[1,0]+cnf_matrix[1,1]))\n",
    "\n",
    "class_names = [0,1]\n",
    "plt.figure()\n",
    "fig, ax = plot_confusion_matrix(conf_mat=cnf_matrix,\n",
    "                                show_absolute=True,\n",
    "                                show_normed=True,\n",
    "                                colorbar=True)\n",
    "plt.savefig('selection_xgb_matrix', dpi=300)\n",
    "plt.show()\n"
   ]
  },
  {
   "cell_type": "code",
   "execution_count": 67,
   "metadata": {
    "ExecuteTime": {
     "end_time": "2019-09-29T11:06:20.590689Z",
     "start_time": "2019-09-29T11:06:20.525049Z"
    },
    "scrolled": false
   },
   "outputs": [
    {
     "name": "stdout",
     "output_type": "stream",
     "text": [
      "              precision    recall  f1-score   support\n",
      "\n",
      "           0       0.96      0.68      0.80     56994\n",
      "           1       0.17      0.68      0.27      5425\n",
      "\n",
      "    accuracy                           0.68     62419\n",
      "   macro avg       0.56      0.68      0.53     62419\n",
      "weighted avg       0.89      0.68      0.75     62419\n",
      "\n"
     ]
    }
   ],
   "source": [
    "#confusion Matrix\n",
    "print(classification_report(y_test, y_pred)) "
   ]
  },
  {
   "cell_type": "code",
   "execution_count": 68,
   "metadata": {
    "ExecuteTime": {
     "end_time": "2019-09-29T11:06:21.333769Z",
     "start_time": "2019-09-29T11:06:20.600144Z"
    }
   },
   "outputs": [
    {
     "data": {
      "image/png": "[encoded data removed]",
      "text/plain": [
       "<Figure size 432x288 with 1 Axes>"
      ]
     },
     "metadata": {
      "needs_background": "light"
     },
     "output_type": "display_data"
    }
   ],
   "source": [
    "#ROC\n",
    "y_pred_proba = xgb.predict_proba(X_test.values)[::,1]\n",
    "fpr, tpr, _ = metrics.roc_curve(y_test,  y_pred_proba)\n",
    "auc = metrics.roc_auc_score(y_test, y_pred_proba)\n",
    "\n",
    "plt.plot(fpr,tpr,label=\"xgb, auc=\"+str(auc))\n",
    "plt.plot([0,1],[0,1],'k--')\n",
    "plt.legend(loc=4)\n",
    "plt.savefig('selection_xgb_roc', dpi=300)\n",
    "plt.show()"
   ]
  },
  {
   "cell_type": "markdown",
   "metadata": {},
   "source": [
    "LIGHTGBM with Random Search for All Training Data"
   ]
  },
  {
   "cell_type": "code",
   "execution_count": 69,
   "metadata": {
    "ExecuteTime": {
     "end_time": "2019-09-29T11:07:05.911576Z",
     "start_time": "2019-09-29T11:06:21.338005Z"
    }
   },
   "outputs": [
    {
     "data": {
      "text/plain": [
       "{'boosting_type': 'gbdt',\n",
       " 'colsample_bytree': 0.66,\n",
       " 'learning_rate': 0.005,\n",
       " 'n_estimators': 40,\n",
       " 'num_leaves': 16,\n",
       " 'objective': 'binary',\n",
       " 'random_state': 501,\n",
       " 'reg_alpha': 1,\n",
       " 'reg_lambda': 1,\n",
       " 'subsample': 0.75}"
      ]
     },
     "execution_count": 69,
     "metadata": {},
     "output_type": "execute_result"
    }
   ],
   "source": [
    "gridParams = {\n",
    "    'learning_rate': [0.005],\n",
    "    'n_estimators': [40],\n",
    "    'num_leaves': [6,8,12,16],\n",
    "    'boosting_type' : ['gbdt'],\n",
    "    'objective' : ['binary'],\n",
    "    'random_state' : [501], # Updated from 'seed'\n",
    "    'colsample_bytree' : [0.65, 0.66],\n",
    "    'subsample' : [0.7,0.75],\n",
    "    'reg_alpha' : [1,1.2],\n",
    "    'reg_lambda' : [1,1.2,1.4],\n",
    "    }\n",
    "\n",
    "lgb = LGBMClassifier(boosting_type= 'gbdt',\n",
    "          objective = 'binary',\n",
    "          n_jobs = 3, # Updated from 'nthread'\n",
    "          silent = True,\n",
    "          max_depth = -1,\n",
    "          max_bin = 512,\n",
    "          subsample_for_bin = 200,\n",
    "          subsample = 1,\n",
    "          subsample_freq = 1,\n",
    "          min_split_gain = 0.5,\n",
    "          min_child_weight = 1,\n",
    "          min_child_samples = 5,\n",
    "          scale_pos_weight = 1)\n",
    "\n",
    "clf = GridSearchCV(lgb, gridParams,\n",
    "                    verbose=0,\n",
    "                    cv=4,\n",
    "                    n_jobs=2)\n",
    "\n",
    "clf.fit(X_train_resample, y_train_resample)\n",
    "\n",
    "clf.best_params_"
   ]
  },
  {
   "cell_type": "code",
   "execution_count": 70,
   "metadata": {
    "ExecuteTime": {
     "end_time": "2019-09-29T11:07:05.918778Z",
     "start_time": "2019-09-29T11:07:05.913267Z"
    }
   },
   "outputs": [],
   "source": [
    "lgb = LGBMClassifier(boosting_type= 'gbdt',\n",
    "                     colsample_bytree= 0.65,\n",
    "                     learning_rate= 0.005,\n",
    "                     n_estimators= 40,\n",
    "                     num_leaves= 16,\n",
    "                     objective= 'binary',\n",
    "                     random_state= 501,\n",
    "                     reg_alpha= 1.2,\n",
    "                     reg_lambda= 1,\n",
    "                     subsample= 0.7,\n",
    "          n_jobs = 3, # Updated from 'nthread'\n",
    "          silent = True,\n",
    "          max_depth = -1,\n",
    "          max_bin = 512,\n",
    "          subsample_for_bin = 200,\n",
    "          subsample_freq = 1,\n",
    "          min_split_gain = 0.5,\n",
    "          min_child_weight = 1,\n",
    "          min_child_samples = 5,\n",
    "          scale_pos_weight = 1)"
   ]
  },
  {
   "cell_type": "code",
   "execution_count": 71,
   "metadata": {
    "ExecuteTime": {
     "end_time": "2019-09-29T11:07:06.702297Z",
     "start_time": "2019-09-29T11:07:05.920510Z"
    }
   },
   "outputs": [
    {
     "name": "stdout",
     "output_type": "stream",
     "text": [
      "Recall metric in the testing dataset:  0.6772350230414746\n"
     ]
    },
    {
     "data": {
      "text/plain": [
       "<Figure size 432x288 with 0 Axes>"
      ]
     },
     "metadata": {},
     "output_type": "display_data"
    },
    {
     "data": {
      "image/png": "[encoded data removed]",
      "text/plain": [
       "<Figure size 432x288 with 2 Axes>"
      ]
     },
     "metadata": {
      "needs_background": "light"
     },
     "output_type": "display_data"
    }
   ],
   "source": [
    "#test with original testing dataset\n",
    "lgb.fit(X_train_resample, y_train_resample)\n",
    "\n",
    "y_pred = xgb.predict(X_test.values)\n",
    "\n",
    "cnf_matrix = confusion_matrix(y_test,y_pred)\n",
    "np.set_printoptions(precision=2)\n",
    "\n",
    "print(\"Recall metric in the testing dataset: \", cnf_matrix[1,1]/(cnf_matrix[1,0]+cnf_matrix[1,1]))\n",
    "\n",
    "class_names = [0,1]\n",
    "plt.figure()\n",
    "fig, ax = plot_confusion_matrix(conf_mat=cnf_matrix,\n",
    "                                show_absolute=True,\n",
    "                                show_normed=True,\n",
    "                                colorbar=True)\n",
    "plt.savefig('selection_lgb_matrix', dpi=300)\n",
    "plt.show()\n"
   ]
  },
  {
   "cell_type": "code",
   "execution_count": 72,
   "metadata": {
    "ExecuteTime": {
     "end_time": "2019-09-29T11:07:06.767039Z",
     "start_time": "2019-09-29T11:07:06.703839Z"
    }
   },
   "outputs": [
    {
     "name": "stdout",
     "output_type": "stream",
     "text": [
      "              precision    recall  f1-score   support\n",
      "\n",
      "           0       0.96      0.68      0.80     56994\n",
      "           1       0.17      0.68      0.27      5425\n",
      "\n",
      "    accuracy                           0.68     62419\n",
      "   macro avg       0.56      0.68      0.53     62419\n",
      "weighted avg       0.89      0.68      0.75     62419\n",
      "\n"
     ]
    }
   ],
   "source": [
    "#confusion Matrix\n",
    "print(classification_report(y_test, y_pred)) "
   ]
  },
  {
   "cell_type": "code",
   "execution_count": 73,
   "metadata": {
    "ExecuteTime": {
     "end_time": "2019-09-29T11:07:07.239475Z",
     "start_time": "2019-09-29T11:07:06.769470Z"
    }
   },
   "outputs": [
    {
     "data": {
      "image/png": "[encoded data removed]",
      "text/plain": [
       "<Figure size 432x288 with 1 Axes>"
      ]
     },
     "metadata": {
      "needs_background": "light"
     },
     "output_type": "display_data"
    }
   ],
   "source": [
    "#ROC\n",
    "y_pred_proba = lgb.predict_proba(X_test.values)[::,1]\n",
    "fpr, tpr, _ = metrics.roc_curve(y_test,  y_pred_proba)\n",
    "auc = metrics.roc_auc_score(y_test, y_pred_proba)\n",
    "\n",
    "plt.plot(fpr,tpr,label=\"lgb, auc=\"+str(auc))\n",
    "plt.plot([0,1],[0,1],'k--')\n",
    "plt.legend(loc=4)\n",
    "plt.savefig('selection_lgb_roc', dpi=300)\n",
    "plt.show()"
   ]
  },
  {
   "cell_type": "markdown",
   "metadata": {},
   "source": [
    "# Model Evaluation"
   ]
  },
  {
   "cell_type": "markdown",
   "metadata": {},
   "source": [
    "Logistic Regression Stratified K Fold Cross Valuation"
   ]
  },
  {
   "cell_type": "code",
   "execution_count": 74,
   "metadata": {
    "ExecuteTime": {
     "end_time": "2019-09-29T11:07:10.117050Z",
     "start_time": "2019-09-29T11:07:07.240984Z"
    }
   },
   "outputs": [
    {
     "name": "stdout",
     "output_type": "stream",
     "text": [
      "1 of KFold 5\n",
      "              precision    recall  f1-score   support\n",
      "\n",
      "           0       0.95      0.68      0.80     45595\n",
      "           1       0.16      0.64      0.26      4340\n",
      "\n",
      "    accuracy                           0.68     49935\n",
      "   macro avg       0.56      0.66      0.53     49935\n",
      "weighted avg       0.88      0.68      0.75     49935\n",
      "\n",
      "ROC AUC score: 0.7225837126413025\n",
      "Recall score: 0.6419354838709678\n",
      "2 of KFold 5\n",
      "              precision    recall  f1-score   support\n",
      "\n",
      "           0       0.95      0.68      0.79     45595\n",
      "           1       0.16      0.65      0.26      4340\n",
      "\n",
      "    accuracy                           0.67     49935\n",
      "   macro avg       0.56      0.66      0.52     49935\n",
      "weighted avg       0.88      0.67      0.74     49935\n",
      "\n",
      "ROC AUC score: 0.7223186813575545\n",
      "Recall score: 0.646774193548387\n",
      "3 of KFold 5\n",
      "              precision    recall  f1-score   support\n",
      "\n",
      "           0       0.95      0.68      0.79     45595\n",
      "           1       0.16      0.65      0.26      4340\n",
      "\n",
      "    accuracy                           0.68     49935\n",
      "   macro avg       0.56      0.66      0.53     49935\n",
      "weighted avg       0.88      0.68      0.75     49935\n",
      "\n",
      "ROC AUC score: 0.7263734957598531\n",
      "Recall score: 0.645852534562212\n",
      "4 of KFold 5\n",
      "              precision    recall  f1-score   support\n",
      "\n",
      "           0       0.95      0.68      0.80     45595\n",
      "           1       0.16      0.65      0.26      4340\n",
      "\n",
      "    accuracy                           0.68     49935\n",
      "   macro avg       0.56      0.67      0.53     49935\n",
      "weighted avg       0.88      0.68      0.75     49935\n",
      "\n",
      "ROC AUC score: 0.72876897529491\n",
      "Recall score: 0.6497695852534562\n",
      "5 of KFold 5\n",
      "              precision    recall  f1-score   support\n",
      "\n",
      "           0       0.95      0.68      0.80     45595\n",
      "           1       0.16      0.65      0.26      4340\n",
      "\n",
      "    accuracy                           0.68     49935\n",
      "   macro avg       0.56      0.66      0.53     49935\n",
      "weighted avg       0.88      0.68      0.75     49935\n",
      "\n",
      "ROC AUC score: 0.7229275635061851\n",
      "Recall score: 0.6472350230414746\n"
     ]
    }
   ],
   "source": [
    "pipeline = make_pipeline(rus, log_reg)\n",
    "\n",
    "auc_roc = []\n",
    "recall_list = []\n",
    "\n",
    "kf = StratifiedKFold(n_splits=5,shuffle=False)\n",
    "\n",
    "dummy = dummy[['AMT_INCOME_TOTAL', 'AMT_CREDIT','AMT_ANNUITY','REGION_POPULATION_RELATIVE','DAYS_BIRTH',\n",
    "                                     'DAYS_EMPLOYED','DAYS_REGISTRATION','AMT_GOODS_PRICE','HOUR_APPR_PROCESS_START','OBS_30_CNT_SOCIAL_CIRCLE',\n",
    "                                     'DAYS_ID_PUBLISH','EXT_SOURCE_2','EXT_SOURCE_3','DAYS_LAST_PHONE_CHANGE','AMT_REQ_CREDIT_BUREAU_YEAR']]\n",
    "\n",
    "i = 1\n",
    "lr_auc = 0\n",
    "for train_index,test_index in kf.split(dummy, target):\n",
    "    print('{} of KFold {}'.format(i,kf.n_splits))\n",
    "    xtr,xvl = dummy.loc[train_index],dummy.loc[test_index]\n",
    "    ytr,yvl = target.loc[train_index],target.loc[test_index]\n",
    "        \n",
    "    #confustion mmatrix\n",
    "    y_pred = pipeline.fit(xtr, ytr).predict(xvl)\n",
    "    print(classification_report(yvl, y_pred)) \n",
    "    \n",
    "    #AUC score\n",
    "    y_pred_proba = pipeline.fit(xtr, ytr).predict_proba(xvl)[::,1]\n",
    "    auc = metrics.roc_auc_score(yvl, y_pred_proba)\n",
    "    print('ROC AUC score:', auc)\n",
    "    if auc > lr_auc:\n",
    "        lr_auc = auc\n",
    "        lr_fpr, lr_tpr, _ = metrics.roc_curve(yvl, y_pred_proba)\n",
    "    else:\n",
    "        pass\n",
    "    auc_roc.append(auc)\n",
    "    \n",
    "    #Recall\n",
    "    recall = recall_score(yvl, y_pred)\n",
    "    print('Recall score:', recall)\n",
    "    recall_list.append(recall)\n",
    "    \n",
    "    i+=1    "
   ]
  },
  {
   "cell_type": "markdown",
   "metadata": {},
   "source": [
    "Random Forest Stratified K Fold Cross Valuation"
   ]
  },
  {
   "cell_type": "code",
   "execution_count": 75,
   "metadata": {
    "ExecuteTime": {
     "end_time": "2019-09-29T11:08:36.936447Z",
     "start_time": "2019-09-29T11:07:10.118440Z"
    }
   },
   "outputs": [
    {
     "name": "stdout",
     "output_type": "stream",
     "text": [
      "1 of KFold 5\n",
      "              precision    recall  f1-score   support\n",
      "\n",
      "           0       0.95      0.67      0.79     45595\n",
      "           1       0.16      0.66      0.26      4340\n",
      "\n",
      "    accuracy                           0.67     49935\n",
      "   macro avg       0.56      0.67      0.53     49935\n",
      "weighted avg       0.89      0.67      0.74     49935\n",
      "\n",
      "ROC AUC score: 0.7243679298249515\n",
      "Recall score: 0.6599078341013825\n",
      "2 of KFold 5\n",
      "              precision    recall  f1-score   support\n",
      "\n",
      "           0       0.95      0.67      0.78     45595\n",
      "           1       0.16      0.67      0.26      4340\n",
      "\n",
      "    accuracy                           0.67     49935\n",
      "   macro avg       0.56      0.67      0.52     49935\n",
      "weighted avg       0.89      0.67      0.74     49935\n",
      "\n",
      "ROC AUC score: 0.7254376768412333\n",
      "Recall score: 0.6693548387096774\n",
      "3 of KFold 5\n",
      "              precision    recall  f1-score   support\n",
      "\n",
      "           0       0.95      0.67      0.79     45595\n",
      "           1       0.16      0.66      0.26      4340\n",
      "\n",
      "    accuracy                           0.67     49935\n",
      "   macro avg       0.56      0.67      0.52     49935\n",
      "weighted avg       0.89      0.67      0.74     49935\n",
      "\n",
      "ROC AUC score: 0.7287742814794451\n",
      "Recall score: 0.6638248847926267\n",
      "4 of KFold 5\n",
      "              precision    recall  f1-score   support\n",
      "\n",
      "           0       0.95      0.66      0.78     45595\n",
      "           1       0.16      0.67      0.25      4340\n",
      "\n",
      "    accuracy                           0.66     49935\n",
      "   macro avg       0.56      0.66      0.52     49935\n",
      "weighted avg       0.89      0.66      0.73     49935\n",
      "\n",
      "ROC AUC score: 0.7280476626762475\n",
      "Recall score: 0.6707373271889401\n",
      "5 of KFold 5\n",
      "              precision    recall  f1-score   support\n",
      "\n",
      "           0       0.96      0.66      0.78     45595\n",
      "           1       0.16      0.67      0.26      4340\n",
      "\n",
      "    accuracy                           0.66     49935\n",
      "   macro avg       0.56      0.67      0.52     49935\n",
      "weighted avg       0.89      0.66      0.74     49935\n",
      "\n",
      "ROC AUC score: 0.7275227749020504\n",
      "Recall score: 0.6744239631336405\n"
     ]
    }
   ],
   "source": [
    "pipeline = make_pipeline(rus, rfc)\n",
    "\n",
    "auc_roc = []\n",
    "recall_list = []\n",
    "\n",
    "kf = StratifiedKFold(n_splits=5,shuffle=False)\n",
    "\n",
    "dummy = dummy[['AMT_INCOME_TOTAL', 'AMT_CREDIT','AMT_ANNUITY','REGION_POPULATION_RELATIVE','DAYS_BIRTH',\n",
    "                                     'DAYS_EMPLOYED','DAYS_REGISTRATION','AMT_GOODS_PRICE','HOUR_APPR_PROCESS_START','OBS_30_CNT_SOCIAL_CIRCLE',\n",
    "                                     'DAYS_ID_PUBLISH','EXT_SOURCE_2','EXT_SOURCE_3','DAYS_LAST_PHONE_CHANGE','AMT_REQ_CREDIT_BUREAU_YEAR']]\n",
    "\n",
    "i = 1\n",
    "rf_auc = 0\n",
    "for train_index,test_index in kf.split(dummy, target):\n",
    "    print('{} of KFold {}'.format(i,kf.n_splits))\n",
    "    xtr,xvl = dummy.loc[train_index],dummy.loc[test_index]\n",
    "    ytr,yvl = target.loc[train_index],target.loc[test_index]\n",
    "        \n",
    "    #confustion mmatrix\n",
    "    y_pred = pipeline.fit(xtr, ytr).predict(xvl)\n",
    "    print(classification_report(yvl, y_pred)) \n",
    "    \n",
    "    #AUC score\n",
    "    y_pred_proba = pipeline.fit(xtr, ytr).predict_proba(xvl)[::,1]\n",
    "    auc = metrics.roc_auc_score(yvl, y_pred_proba)\n",
    "    print('ROC AUC score:', auc)\n",
    "    if auc > rf_auc:\n",
    "        rf_auc = auc\n",
    "        rf_fpr, rf_tpr, _ = metrics.roc_curve(yvl, y_pred_proba)\n",
    "    else:\n",
    "        pass\n",
    "    auc_roc.append(auc)\n",
    "    \n",
    "    #Recall\n",
    "    recall = recall_score(yvl, y_pred)\n",
    "    print('Recall score:', recall)\n",
    "    recall_list.append(recall)\n",
    "    \n",
    "    i+=1    "
   ]
  },
  {
   "cell_type": "markdown",
   "metadata": {},
   "source": [
    "Ada Boost Stratified K Fold Cross Valuation"
   ]
  },
  {
   "cell_type": "code",
   "execution_count": 76,
   "metadata": {
    "ExecuteTime": {
     "end_time": "2019-09-29T11:09:14.251882Z",
     "start_time": "2019-09-29T11:08:36.938242Z"
    }
   },
   "outputs": [
    {
     "name": "stdout",
     "output_type": "stream",
     "text": [
      "1 of KFold 5\n",
      "              precision    recall  f1-score   support\n",
      "\n",
      "           0       0.95      0.68      0.79     45595\n",
      "           1       0.16      0.66      0.26      4340\n",
      "\n",
      "    accuracy                           0.68     49935\n",
      "   macro avg       0.56      0.67      0.53     49935\n",
      "weighted avg       0.89      0.68      0.75     49935\n",
      "\n",
      "ROC AUC score: 0.7284544373094513\n",
      "Recall score: 0.6624423963133641\n",
      "2 of KFold 5\n",
      "              precision    recall  f1-score   support\n",
      "\n",
      "           0       0.95      0.67      0.79     45595\n",
      "           1       0.16      0.66      0.26      4340\n",
      "\n",
      "    accuracy                           0.67     49935\n",
      "   macro avg       0.56      0.67      0.53     49935\n",
      "weighted avg       0.89      0.67      0.74     49935\n",
      "\n",
      "ROC AUC score: 0.7287794512192349\n",
      "Recall score: 0.6617511520737327\n",
      "3 of KFold 5\n",
      "              precision    recall  f1-score   support\n",
      "\n",
      "           0       0.95      0.67      0.79     45595\n",
      "           1       0.16      0.66      0.26      4340\n",
      "\n",
      "    accuracy                           0.67     49935\n",
      "   macro avg       0.56      0.67      0.52     49935\n",
      "weighted avg       0.89      0.67      0.74     49935\n",
      "\n",
      "ROC AUC score: 0.7286844098739504\n",
      "Recall score: 0.6619815668202765\n",
      "4 of KFold 5\n",
      "              precision    recall  f1-score   support\n",
      "\n",
      "           0       0.95      0.68      0.79     45595\n",
      "           1       0.16      0.66      0.26      4340\n",
      "\n",
      "    accuracy                           0.68     49935\n",
      "   macro avg       0.56      0.67      0.53     49935\n",
      "weighted avg       0.89      0.68      0.75     49935\n",
      "\n",
      "ROC AUC score: 0.7319032172154861\n",
      "Recall score: 0.6576036866359447\n",
      "5 of KFold 5\n",
      "              precision    recall  f1-score   support\n",
      "\n",
      "           0       0.95      0.67      0.79     45595\n",
      "           1       0.16      0.67      0.26      4340\n",
      "\n",
      "    accuracy                           0.67     49935\n",
      "   macro avg       0.56      0.67      0.53     49935\n",
      "weighted avg       0.89      0.67      0.74     49935\n",
      "\n",
      "ROC AUC score: 0.7283509010154015\n",
      "Recall score: 0.6652073732718894\n"
     ]
    }
   ],
   "source": [
    "pipeline = make_pipeline(rus, adb)\n",
    "\n",
    "auc_roc = []\n",
    "recall_list = []\n",
    "\n",
    "kf = StratifiedKFold(n_splits=5,shuffle=False)\n",
    "\n",
    "i = 1\n",
    "adb_auc = 0\n",
    "for train_index,test_index in kf.split(dummy, target):\n",
    "    print('{} of KFold {}'.format(i,kf.n_splits))\n",
    "    xtr,xvl = dummy.loc[train_index],dummy.loc[test_index]\n",
    "    ytr,yvl = target.loc[train_index],target.loc[test_index]\n",
    "        \n",
    "    #confustion mmatrix\n",
    "    y_pred = pipeline.fit(xtr, ytr).predict(xvl)\n",
    "    print(classification_report(yvl, y_pred)) \n",
    "    \n",
    "    #AUC score\n",
    "    y_pred_proba = pipeline.fit(xtr, ytr).predict_proba(xvl)[::,1]\n",
    "    auc = metrics.roc_auc_score(yvl, y_pred_proba)\n",
    "    print('ROC AUC score:', auc)\n",
    "    if auc > adb_auc:\n",
    "        adb_auc = auc\n",
    "        adb_fpr, adb_tpr, _ = metrics.roc_curve(yvl, y_pred_proba)\n",
    "    else:\n",
    "        pass\n",
    "    auc_roc.append(auc)\n",
    "    \n",
    "    #Recall\n",
    "    recall = recall_score(yvl, y_pred)\n",
    "    print('Recall score:', recall)\n",
    "    recall_list.append(recall)\n",
    "    \n",
    "    i+=1    "
   ]
  },
  {
   "cell_type": "markdown",
   "metadata": {},
   "source": [
    "XGBoost Stratified K Fold Cross Valuation"
   ]
  },
  {
   "cell_type": "code",
   "execution_count": 77,
   "metadata": {
    "ExecuteTime": {
     "end_time": "2019-09-29T11:09:53.390352Z",
     "start_time": "2019-09-29T11:09:14.253430Z"
    }
   },
   "outputs": [
    {
     "name": "stdout",
     "output_type": "stream",
     "text": [
      "1 of KFold 5\n",
      "              precision    recall  f1-score   support\n",
      "\n",
      "           0       0.95      0.68      0.79     45595\n",
      "           1       0.16      0.66      0.26      4340\n",
      "\n",
      "    accuracy                           0.67     49935\n",
      "   macro avg       0.56      0.67      0.53     49935\n",
      "weighted avg       0.89      0.67      0.74     49935\n",
      "\n",
      "ROC AUC score: 0.7323098528771901\n",
      "Recall score: 0.6599078341013825\n",
      "2 of KFold 5\n",
      "              precision    recall  f1-score   support\n",
      "\n",
      "           0       0.96      0.67      0.79     45595\n",
      "           1       0.16      0.68      0.26      4340\n",
      "\n",
      "    accuracy                           0.67     49935\n",
      "   macro avg       0.56      0.67      0.53     49935\n",
      "weighted avg       0.89      0.67      0.74     49935\n",
      "\n",
      "ROC AUC score: 0.7311304624011344\n",
      "Recall score: 0.6815668202764977\n",
      "3 of KFold 5\n",
      "              precision    recall  f1-score   support\n",
      "\n",
      "           0       0.96      0.67      0.79     45595\n",
      "           1       0.16      0.67      0.26      4340\n",
      "\n",
      "    accuracy                           0.67     49935\n",
      "   macro avg       0.56      0.67      0.53     49935\n",
      "weighted avg       0.89      0.67      0.74     49935\n",
      "\n",
      "ROC AUC score: 0.7339266852063071\n",
      "Recall score: 0.6711981566820276\n",
      "4 of KFold 5\n",
      "              precision    recall  f1-score   support\n",
      "\n",
      "           0       0.96      0.67      0.79     45595\n",
      "           1       0.16      0.67      0.26      4340\n",
      "\n",
      "    accuracy                           0.67     49935\n",
      "   macro avg       0.56      0.67      0.53     49935\n",
      "weighted avg       0.89      0.67      0.74     49935\n",
      "\n",
      "ROC AUC score: 0.7357453294205696\n",
      "Recall score: 0.6682027649769585\n",
      "5 of KFold 5\n",
      "              precision    recall  f1-score   support\n",
      "\n",
      "           0       0.96      0.67      0.79     45595\n",
      "           1       0.16      0.67      0.26      4340\n",
      "\n",
      "    accuracy                           0.67     49935\n",
      "   macro avg       0.56      0.67      0.52     49935\n",
      "weighted avg       0.89      0.67      0.74     49935\n",
      "\n",
      "ROC AUC score: 0.7305780127884102\n",
      "Recall score: 0.6732718894009216\n"
     ]
    }
   ],
   "source": [
    "pipeline = make_pipeline(rus, xgb)\n",
    "\n",
    "auc_roc = []\n",
    "recall_list = []\n",
    "\n",
    "kf = StratifiedKFold(n_splits=5,shuffle=False)\n",
    "\n",
    "i = 1\n",
    "xgb_auc = 0\n",
    "for train_index,test_index in kf.split(dummy, target):\n",
    "    print('{} of KFold {}'.format(i,kf.n_splits))\n",
    "    xtr,xvl = dummy.loc[train_index].values,dummy.loc[test_index].values\n",
    "    ytr,yvl = target.loc[train_index],target.loc[test_index]\n",
    "        \n",
    "    #confustion mmatrix\n",
    "    y_pred = pipeline.fit(xtr, ytr).predict(xvl)\n",
    "    print(classification_report(yvl, y_pred)) \n",
    "    \n",
    "    #AUC score\n",
    "    y_pred_proba = pipeline.fit(xtr, ytr).predict_proba(xvl)[::,1]\n",
    "    auc = metrics.roc_auc_score(yvl, y_pred_proba)\n",
    "    print('ROC AUC score:', auc)\n",
    "    if auc > xgb_auc:\n",
    "        xgb_auc = auc\n",
    "        xgb_fpr, xgb_tpr, _ = metrics.roc_curve(yvl, y_pred_proba)\n",
    "    else:\n",
    "        pass\n",
    "    auc_roc.append(auc)\n",
    "    \n",
    "    #Recall\n",
    "    recall = recall_score(yvl, y_pred)\n",
    "    print('Recall score:', recall)\n",
    "    recall_list.append(recall)\n",
    "    \n",
    "    i+=1    "
   ]
  },
  {
   "cell_type": "markdown",
   "metadata": {},
   "source": [
    "LightGBM Stratified K Fold Cross Valuation"
   ]
  },
  {
   "cell_type": "code",
   "execution_count": 78,
   "metadata": {
    "ExecuteTime": {
     "end_time": "2019-09-29T11:09:55.855075Z",
     "start_time": "2019-09-29T11:09:53.391986Z"
    }
   },
   "outputs": [
    {
     "name": "stdout",
     "output_type": "stream",
     "text": [
      "1 of KFold 5\n",
      "              precision    recall  f1-score   support\n",
      "\n",
      "           0       0.95      0.66      0.78     45595\n",
      "           1       0.15      0.66      0.25      4340\n",
      "\n",
      "    accuracy                           0.66     49935\n",
      "   macro avg       0.55      0.66      0.51     49935\n",
      "weighted avg       0.88      0.66      0.73     49935\n",
      "\n",
      "ROC AUC score: 0.7166289430636292\n",
      "Recall score: 0.6566820276497696\n",
      "2 of KFold 5\n",
      "              precision    recall  f1-score   support\n",
      "\n",
      "           0       0.95      0.65      0.78     45595\n",
      "           1       0.15      0.67      0.25      4340\n",
      "\n",
      "    accuracy                           0.65     49935\n",
      "   macro avg       0.55      0.66      0.51     49935\n",
      "weighted avg       0.88      0.65      0.73     49935\n",
      "\n",
      "ROC AUC score: 0.7182650949579623\n",
      "Recall score: 0.665668202764977\n",
      "3 of KFold 5\n",
      "              precision    recall  f1-score   support\n",
      "\n",
      "           0       0.95      0.67      0.79     45595\n",
      "           1       0.16      0.66      0.26      4340\n",
      "\n",
      "    accuracy                           0.67     49935\n",
      "   macro avg       0.56      0.67      0.52     49935\n",
      "weighted avg       0.88      0.67      0.74     49935\n",
      "\n",
      "ROC AUC score: 0.7207218912454525\n",
      "Recall score: 0.656221198156682\n",
      "4 of KFold 5\n",
      "              precision    recall  f1-score   support\n",
      "\n",
      "           0       0.95      0.66      0.78     45595\n",
      "           1       0.16      0.66      0.25      4340\n",
      "\n",
      "    accuracy                           0.66     49935\n",
      "   macro avg       0.55      0.66      0.52     49935\n",
      "weighted avg       0.88      0.66      0.73     49935\n",
      "\n",
      "ROC AUC score: 0.7215662467032169\n",
      "Recall score: 0.6589861751152074\n",
      "5 of KFold 5\n",
      "              precision    recall  f1-score   support\n",
      "\n",
      "           0       0.95      0.66      0.78     45595\n",
      "           1       0.16      0.67      0.25      4340\n",
      "\n",
      "    accuracy                           0.66     49935\n",
      "   macro avg       0.55      0.66      0.51     49935\n",
      "weighted avg       0.88      0.66      0.73     49935\n",
      "\n",
      "ROC AUC score: 0.7204314761855912\n",
      "Recall score: 0.6682027649769585\n"
     ]
    }
   ],
   "source": [
    "pipeline = make_pipeline(rus, lgb)\n",
    "\n",
    "auc_roc = []\n",
    "recall_list = []\n",
    "\n",
    "kf = StratifiedKFold(n_splits=5,shuffle=False)\n",
    "\n",
    "i = 1\n",
    "lgb_auc = 0\n",
    "for train_index,test_index in kf.split(dummy, target):\n",
    "    print('{} of KFold {}'.format(i,kf.n_splits))\n",
    "    xtr,xvl = dummy.loc[train_index].values,dummy.loc[test_index].values\n",
    "    ytr,yvl = target.loc[train_index],target.loc[test_index]\n",
    "        \n",
    "    #confustion mmatrix\n",
    "    y_pred = pipeline.fit(xtr, ytr).predict(xvl)\n",
    "    print(classification_report(yvl, y_pred)) \n",
    "    \n",
    "    #AUC score\n",
    "    y_pred_proba = pipeline.fit(xtr, ytr).predict_proba(xvl)[::,1]\n",
    "    auc = metrics.roc_auc_score(yvl, y_pred_proba)\n",
    "    print('ROC AUC score:', auc)\n",
    "    if auc > lgb_auc:\n",
    "        lgb_auc = auc\n",
    "        lgb_fpr, lgb_tpr, _ = metrics.roc_curve(yvl, y_pred_proba)\n",
    "    else:\n",
    "        pass\n",
    "    auc_roc.append(auc)\n",
    "    \n",
    "    #Recall\n",
    "    recall = recall_score(yvl, y_pred)\n",
    "    print('Recall score:', recall)\n",
    "    recall_list.append(recall)\n",
    "    \n",
    "    i+=1    "
   ]
  },
  {
   "cell_type": "markdown",
   "metadata": {},
   "source": [
    "ROC Comparison among Models"
   ]
  },
  {
   "cell_type": "code",
   "execution_count": 79,
   "metadata": {
    "ExecuteTime": {
     "end_time": "2019-09-29T11:09:56.209342Z",
     "start_time": "2019-09-29T11:09:55.856671Z"
    }
   },
   "outputs": [
    {
     "data": {
      "image/png": "[encoded data removed]",
      "text/plain": [
       "<Figure size 432x288 with 1 Axes>"
      ]
     },
     "metadata": {
      "needs_background": "light"
     },
     "output_type": "display_data"
    }
   ],
   "source": [
    "plt.plot(lr_fpr,lr_tpr,label=\"Logistic Regression, auc=\"+str(lr_auc))\n",
    "plt.plot(rf_fpr,rf_tpr,label=\"Random Forest, auc=\"+str(rf_auc))\n",
    "plt.plot(adb_fpr,adb_tpr,label=\"AdaBoost, auc=\"+str(adb_auc))\n",
    "plt.plot(xgb_fpr,xgb_tpr,label=\"XGBoost, auc=\"+str(xgb_auc))\n",
    "plt.plot(lgb_fpr,lgb_tpr,label=\"LightGBM, auc=\"+str(lgb_auc))\n",
    "\n",
    "plt.plot([0,1],[0,1],'k--')\n",
    "plt.legend(loc=4)\n",
    "plt.savefig('all_roc', dpi=300)\n",
    "plt.show()"
   ]
  }
 ],
 "metadata": {
  "kernelspec": {
   "display_name": "Python 3",
   "language": "python",
   "name": "python3"
  },
  "language_info": {
   "codemirror_mode": {
    "name": "ipython",
    "version": 3
   },
   "file_extension": ".py",
   "mimetype": "text/x-python",
   "name": "python",
   "nbconvert_exporter": "python",
   "pygments_lexer": "ipython3",
   "version": "3.7.3"
  },
  "latex_envs": {
   "LaTeX_envs_menu_present": true,
   "autoclose": false,
   "autocomplete": true,
   "bibliofile": "biblio.bib",
   "cite_by": "apalike",
   "current_citInitial": 1,
   "eqLabelWithNumbers": true,
   "eqNumInitial": 1,
   "hotkeys": {
    "equation": "Ctrl-E",
    "itemize": "Ctrl-I"
   },
   "labels_anchors": false,
   "latex_user_defs": false,
   "report_style_numbering": false,
   "user_envs_cfg": false
  },
  "toc": {
   "base_numbering": 1,
   "nav_menu": {},
   "number_sections": true,
   "sideBar": true,
   "skip_h1_title": false,
   "title_cell": "Table of Contents",
   "title_sidebar": "Contents",
   "toc_cell": true,
   "toc_position": {},
   "toc_section_display": true,
   "toc_window_display": true
  },
  "varInspector": {
   "cols": {
    "lenName": 16,
    "lenType": 16,
    "lenVar": 40
   },
   "kernels_config": {
    "python": {
     "delete_cmd_postfix": "",
     "delete_cmd_prefix": "del ",
     "library": "var_list.py",
     "varRefreshCmd": "print(var_dic_list())"
    },
    "r": {
     "delete_cmd_postfix": ") ",
     "delete_cmd_prefix": "rm(",
     "library": "var_list.r",
     "varRefreshCmd": "cat(var_dic_list()) "
    }
   },
   "types_to_exclude": [
    "module",
    "function",
    "builtin_function_or_method",
    "instance",
    "_Feature"
   ],
   "window_display": false
  }
 },
 "nbformat": 4,
 "nbformat_minor": 2
}
