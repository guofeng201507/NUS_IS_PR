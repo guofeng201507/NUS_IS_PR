{
 "cells": [
  {
   "cell_type": "markdown",
   "metadata": {
    "toc": true
   },
   "source": [
    "<h1>Table of Contents<span class=\"tocSkip\"></span></h1>\n",
    "<div class=\"toc\"><ul class=\"toc-item\"></ul></div>"
   ]
  },
  {
   "cell_type": "code",
   "execution_count": 6,
   "metadata": {},
   "outputs": [
    {
     "name": "stderr",
     "output_type": "stream",
     "text": [
      "E:\\Apps\\Anaconda3\\lib\\site-packages\\h5py\\__init__.py:36: FutureWarning: Conversion of the second argument of issubdtype from `float` to `np.floating` is deprecated. In future, it will be treated as `np.float64 == np.dtype(float).type`.\n",
      "  from ._conv import register_converters as _register_converters\n",
      "Using TensorFlow backend.\n"
     ]
    }
   ],
   "source": [
    "import matplotlib.pyplot as plt\n",
    "import numpy as np\n",
    "import pandas as pd\n",
    "import os\n",
    "import scipy.io\n",
    "from scipy.signal import find_peaks\n",
    "import scipy.signal as signal\n",
    "\n",
    "\n",
    "from sklearn.preprocessing import MinMaxScaler\n",
    "from sklearn.metrics import confusion_matrix,accuracy_score\n",
    "from sklearn.model_selection import train_test_split\n",
    "from imblearn.under_sampling import RandomUnderSampler\n",
    "\n",
    "\n",
    "from keras.models import Sequential\n",
    "from keras.layers import Dense, Dropout, LSTM, Activation\n",
    "from keras.callbacks import EarlyStopping\n",
    "\n",
    "import matplotlib.pyplot as plt\n",
    "plt.style.use('ggplot')\n",
    "%matplotlib inline  "
   ]
  },
  {
   "cell_type": "code",
   "execution_count": null,
   "metadata": {},
   "outputs": [],
   "source": [
    "# Set data folder path\n",
    "DATA_FOLDER = 'D:\\\\NUS\\\\semester 2\\\\Course 3\\\\CA\\\\MAREA_dataset'\n",
    "ACTIVITY_FOLDER = os.path.join(DATA_FOLDER, 'Activity Timings')\n",
    "SUBJECT_FOLDER = os.path.join(DATA_FOLDER, 'Subject Data_txt format')\n",
    "PROCESSED_FOLDER = os.path.join(DATA_FOLDER, 'Processed_data')\n",
    "\n",
    "\n",
    "# Define Activity Labels\n",
    "indoor_label = ['tread_flat_walk_start',\n",
    "                'tread_flat_walk_end',\n",
    "                'tread_flat_run_end',\n",
    "                'tread_slope_walk_start',\n",
    "                'tread_slope_walk_end',\n",
    "                'indoor_flat_walk_start',\n",
    "                'indoor_flat_walk_end',\n",
    "                'indoor_flat_run_end'\n",
    "                ]\n",
    "\n",
    "outdoor_label = ['outdoor_walk_start',\n",
    "                 'outdoor_walk_end',\n",
    "                 'outdoor_run_end']\n",
    "\n",
    "indoor_time_df = pd.read_csv(os.path.join(ACTIVITY_FOLDER, 'Indoor Experiment Timings.txt')\n",
    "                             , names=indoor_label)\n",
    "\n",
    "outdoor_time_df = pd.read_csv(os.path.join(ACTIVITY_FOLDER, 'Outdoor Experiment Timings.txt')\n",
    "                              , names=outdoor_label)\n",
    "\n",
    "indoor_time_df[\"subject\"] = [\"Sub\" + str(i) for i in range(1, 12)]\n",
    "outdoor_time_df[\"subject\"] = [\"Sub\" + str(j) for j in range(12, 21)]"
   ]
  },
  {
   "cell_type": "code",
   "execution_count": null,
   "metadata": {},
   "outputs": [],
   "source": [
    "indoor_time_df"
   ]
  },
  {
   "cell_type": "code",
   "execution_count": null,
   "metadata": {},
   "outputs": [],
   "source": [
    "outdoor_time_df"
   ]
  },
  {
   "cell_type": "code",
   "execution_count": null,
   "metadata": {},
   "outputs": [],
   "source": [
    "pos_list = ['LF', 'RF', 'Waist', 'Wrist']\n",
    "sub_list = ['Sub' + str(i) for i in range(1, 21)]\n",
    "column_names = ['accX_LF', 'accY_LF', 'accZ_LF','accX_RF', 'accY_RF', 'accZ_RF', 'accX_Waist', 'accY_Waist', 'accZ_Waist','accX_Wrist', 'accY_Wrist', 'accZ_Wrist']"
   ]
  },
  {
   "cell_type": "code",
   "execution_count": null,
   "metadata": {},
   "outputs": [],
   "source": [
    "#purposely exclude subject 4 first as missing data -- dont know how to deal with missing data for signal\n",
    "sub_list.remove('Sub4')\n",
    "print(sub_list)"
   ]
  },
  {
   "cell_type": "code",
   "execution_count": null,
   "metadata": {},
   "outputs": [],
   "source": [
    "df = pd.DataFrame()\n",
    "for sub in sub_list:\n",
    "    lf_df = pd.read_csv(os.path.join(SUBJECT_FOLDER, sub + '_' + 'LF.txt'))\n",
    "    rf_df = pd.read_csv(os.path.join(SUBJECT_FOLDER, sub + '_' + 'RF.txt'))\n",
    "    waist_df = pd.read_csv(os.path.join(SUBJECT_FOLDER, sub + '_' + 'Waist.txt'))\n",
    "    wrist_df = pd.read_csv(os.path.join(SUBJECT_FOLDER, sub + '_' + 'Wrist.txt'))\n",
    "    sub_df = pd.concat([lf_df, rf_df, waist_df, wrist_df], axis=1)\n",
    "    sub_df.columns = column_names\n",
    "\n",
    "    sub_df = sub_df.copy()\n",
    "    n = int(sub[3:])\n",
    "    if n > 11:\n",
    "        sub_row = outdoor_time_df[outdoor_time_df['subject'] == sub]\n",
    "        tmp = sub_row.iloc[0]\n",
    "        sub_df.loc[0:tmp['outdoor_walk_end'], 'label'] = 'outdoor_walk'\n",
    "        sub_df.loc[tmp['outdoor_walk_end']: tmp['outdoor_run_end'], 'label'] = 'outdoor_run'\n",
    "    else:\n",
    "        sub_row = indoor_time_df[indoor_time_df['subject'] == sub]\n",
    "        tmp = sub_row.iloc[0]\n",
    "        sub_df.loc[0:tmp['tread_flat_walk_end'], 'label'] = 'tread_flat_walk'\n",
    "        sub_df.loc[tmp['tread_flat_walk_end']: tmp['tread_flat_run_end'],'label'] = 'tread_flat_run'\n",
    "        sub_df.loc[tmp['tread_flat_run_end']: tmp['tread_slope_walk_start'], 'label'] = 'rest'\n",
    "        sub_df.loc[tmp['tread_slope_walk_start']: tmp['tread_slope_walk_end'],'label'] = 'tread_slope_walk'\n",
    "        sub_df.loc[tmp['tread_slope_walk_end']: tmp['indoor_flat_walk_start'], 'label'] = 'rest'\n",
    "        sub_df.loc[tmp['indoor_flat_walk_start']: tmp['indoor_flat_walk_end'],'label'] = 'indoor_flat_walk'\n",
    "        sub_df.loc[tmp['indoor_flat_walk_end']: tmp['indoor_flat_run_end'],'label'] = 'indoor_flat_run'\n",
    "\n",
    "    sub_df['subject'] = sub\n",
    "    df = df.append(sub_df)\n",
    "    print(df.shape)"
   ]
  },
  {
   "cell_type": "code",
   "execution_count": null,
   "metadata": {},
   "outputs": [],
   "source": [
    "df.head(5)"
   ]
  },
  {
   "cell_type": "markdown",
   "metadata": {},
   "source": [
    "Preprocessing Data"
   ]
  },
  {
   "cell_type": "code",
   "execution_count": null,
   "metadata": {},
   "outputs": [],
   "source": [
    "import numpy as np\n",
    "import matplotlib.pyplot as plt\n",
    "%matplotlib inline\n",
    "import pywt\n",
    "import pandas as pd\n",
    "import time\n",
    "from sklearn.metrics import confusion_matrix\n",
    "from warnings import filterwarnings # Avoid training warning message in MLPClassifier\n",
    "filterwarnings('ignore')"
   ]
  },
  {
   "cell_type": "code",
   "execution_count": null,
   "metadata": {},
   "outputs": [],
   "source": [
    "def PreprocessingSignal(df, label, subject, feature, window, waveletname, waveletlevel, threshold):\n",
    "    df = df.loc[(df['label'] == label) & (df['subject'] == subject)]\n",
    "    \n",
    "    #wavelet transform\n",
    "    signal_orig = df[feature].values\n",
    "    coeffs_orig = pywt.wavedec(signal_orig, waveletname, level=waveletlevel)\n",
    "    coeffs_filter = coeffs_orig.copy()\n",
    "    for i in range(1, len(coeffs_orig)):\n",
    "        coeffs_filter[i] = pywt.threshold(coeffs_orig[i], threshold*max(coeffs_orig[i]))\n",
    "    signal_denoised = pywt.waverec(coeffs_filter, waveletname) \n",
    "    \n",
    "    #cut signal into windows\n",
    "    to_process_df = pd.DataFrame(signal_denoised)\n",
    "    min_index = min(to_process_df.index)\n",
    "    max_index = max(to_process_df.index)\n",
    "    \n",
    "    index_every_Xs_w_overlap = range(min_index, max_index+1, int(window/2))\n",
    "    index_list = index_every_Xs_w_overlap\n",
    "    windowed_selected_chunk_array = []\n",
    "    for index in index_list:\n",
    "        windowed_selected_chunk = to_process_df[0].iloc[index:index+window] \n",
    "        if windowed_selected_chunk.shape[0] == window:\n",
    "            windowed_selected_chunk_array.append(windowed_selected_chunk.values) #normalize_numpy_columns(windowed_selected_chunk.values))\n",
    "            \n",
    "    output_np_arr = np.array(windowed_selected_chunk_array)\n",
    "\n",
    "    #split into train and test\n",
    "    train_len = int(0.8*len(output_np_arr))\n",
    "    train_X = output_np_arr[:train_len,:]\n",
    "    test_X = output_np_arr[train_len:len(output_np_arr),:]\n",
    "    \n",
    "    train_y = list()\n",
    "    for i in range(len(train_X)):\n",
    "        train_y.append(label)\n",
    "    train_y = np.asarray(train_y)\n",
    "    \n",
    "    test_y = list()\n",
    "    for i in range(len(test_X)):\n",
    "        test_y.append(label)\n",
    "    test_y = np.asarray(test_y)\n",
    "    \n",
    "    return train_X, test_X, train_y, test_y"
   ]
  },
  {
   "cell_type": "code",
   "execution_count": null,
   "metadata": {},
   "outputs": [],
   "source": [
    "#feature_list = column_names\n",
    "indoor_activity = ['tread_slope_walk', 'tread_flat_walk', 'indoor_flat_run', 'indoor_flat_walk', 'tread_flat_run', 'rest']\n",
    "outdoor_activity = ['outdoor_walk', 'outdoor_run']\n",
    "indoor_sub = ['Sub1', 'Sub2', 'Sub3', 'Sub5', 'Sub6', 'Sub7', 'Sub8', 'Sub9', 'Sub10', 'Sub11',]\n",
    "outdoor_sub = ['Sub12', 'Sub13', 'Sub14', 'Sub15', 'Sub16', 'Sub17', 'Sub18', 'Sub19', 'Sub20']"
   ]
  },
  {
   "cell_type": "code",
   "execution_count": null,
   "metadata": {},
   "outputs": [],
   "source": [
    "def PrepareFeature(feature):\n",
    "    train_X = pd.DataFrame()\n",
    "    test_X = pd.DataFrame()\n",
    "    #train_y = np.asarray(list())\n",
    "    train_y = pd.DataFrame()\n",
    "    #test_y = np.asarray(list())\n",
    "    test_y = pd.DataFrame()\n",
    "\n",
    "    for feature in [feature]:\n",
    "        #indoor activity\n",
    "        for sub in indoor_sub:\n",
    "            for activity in indoor_activity:\n",
    "                tr_x, ts_x, tr_y, ts_y = PreprocessingSignal(df, activity, sub, feature, 128*4, 'db4', 2, 0.8)\n",
    "                train_X = train_X.append(pd.DataFrame(tr_x))\n",
    "                test_X = test_X.append(pd.DataFrame(ts_x))\n",
    "                train_y = train_y.append(pd.DataFrame(tr_y))\n",
    "                #train_y = np.append(train_y,tr_y)\n",
    "                test_y = test_y.append(pd.DataFrame(ts_y)) \n",
    "                #test_y = np.append(test_y,ts_y)\n",
    "\n",
    "        #outdoor activity\n",
    "        for sub in outdoor_sub:\n",
    "            for activity in outdoor_activity:\n",
    "                tr_x, ts_x, tr_y, ts_y = PreprocessingSignal(df, activity, sub, feature, 128*4, 'db4', 2, 0.8)\n",
    "\n",
    "                train_X = train_X.append(pd.DataFrame(tr_x))\n",
    "                test_X = test_X.append(pd.DataFrame(ts_x))\n",
    "                train_y = train_y.append(pd.DataFrame(tr_y))\n",
    "                #train_y = np.append(train_y,tr_y)\n",
    "                test_y = test_y.append(pd.DataFrame(ts_y)) \n",
    "                #test_y = np.append(test_y,ts_y)\n",
    "    \n",
    "    return train_X, test_X, train_y, test_y"
   ]
  },
  {
   "cell_type": "code",
   "execution_count": null,
   "metadata": {},
   "outputs": [],
   "source": [
    "train_X, test_X, train_y, test_y = PrepareFeature('accX_LF')\n",
    "train_X.to_csv('train_accX_LF.txt', header=None, index=False, sep='\\t')\n",
    "test_X.to_csv('test_accX_LF.txt', header=None, index=False, sep='\\t')"
   ]
  },
  {
   "cell_type": "code",
   "execution_count": null,
   "metadata": {},
   "outputs": [],
   "source": [
    "train_X.shape"
   ]
  },
  {
   "cell_type": "code",
   "execution_count": null,
   "metadata": {},
   "outputs": [],
   "source": [
    "train_y.shape"
   ]
  },
  {
   "cell_type": "code",
   "execution_count": null,
   "metadata": {},
   "outputs": [],
   "source": [
    "train_X, test_X, train_y, test_y = PrepareFeature('accY_LF')\n",
    "train_X.to_csv('train_accY_LF.txt', header=None, index=False, sep='\\t')\n",
    "test_X.to_csv('test_accY_LF.txt', header=None, index=False, sep='\\t')"
   ]
  },
  {
   "cell_type": "code",
   "execution_count": null,
   "metadata": {},
   "outputs": [],
   "source": [
    "train_X, test_X, train_y, test_y = PrepareFeature('accZ_LF')\n",
    "train_X.to_csv('train_accZ_LF.txt', header=None, index=False, sep='\\t')\n",
    "test_X.to_csv('test_accZ_LF.txt', header=None, index=False, sep='\\t')"
   ]
  },
  {
   "cell_type": "code",
   "execution_count": null,
   "metadata": {},
   "outputs": [],
   "source": [
    "train_X, test_X, train_y, test_y = PrepareFeature('accX_RF')\n",
    "train_X.to_csv('train_accX_RF.txt', header=None, index=False, sep='\\t')\n",
    "test_X.to_csv('test_accX_RF.txt', header=None, index=False, sep='\\t')"
   ]
  },
  {
   "cell_type": "code",
   "execution_count": null,
   "metadata": {},
   "outputs": [],
   "source": [
    "train_X, test_X, train_y, test_y = PrepareFeature('accY_RF')\n",
    "train_X.to_csv('train_accY_RF.txt', header=None, index=False, sep='\\t')\n",
    "test_X.to_csv('test_accY_RF.txt', header=None, index=False, sep='\\t')"
   ]
  },
  {
   "cell_type": "code",
   "execution_count": null,
   "metadata": {},
   "outputs": [],
   "source": [
    "train_X, test_X, train_y, test_y = PrepareFeature('accZ_RF')\n",
    "train_X.to_csv('train_accZ_RF.txt', header=None, index=False, sep='\\t')\n",
    "test_X.to_csv('test_accZ_RF.txt', header=None, index=False, sep='\\t')"
   ]
  },
  {
   "cell_type": "code",
   "execution_count": null,
   "metadata": {},
   "outputs": [],
   "source": [
    "train_X, test_X, train_y, test_y = PrepareFeature('accX_Waist')\n",
    "train_X.to_csv('train_accX_Waist.txt', header=None, index=False, sep='\\t')\n",
    "test_X.to_csv('test_accX_Waist.txt', header=None, index=False, sep='\\t')"
   ]
  },
  {
   "cell_type": "code",
   "execution_count": null,
   "metadata": {},
   "outputs": [],
   "source": [
    "train_X, test_X, train_y, test_y = PrepareFeature('accY_Waist')\n",
    "train_X.to_csv('train_accY_Waist.txt', header=None, index=False, sep='\\t')\n",
    "test_X.to_csv('test_accY_Waist.txt', header=None, index=False, sep='\\t')"
   ]
  },
  {
   "cell_type": "code",
   "execution_count": null,
   "metadata": {},
   "outputs": [],
   "source": [
    "train_X, test_X, train_y, test_y = PrepareFeature('accZ_Waist')\n",
    "train_X.to_csv('train_accZ_Waist.txt', header=None, index=False, sep='\\t')\n",
    "test_X.to_csv('test_accZ_Waist.txt', header=None, index=False, sep='\\t')"
   ]
  },
  {
   "cell_type": "code",
   "execution_count": null,
   "metadata": {},
   "outputs": [],
   "source": [
    "train_X, test_X, train_y, test_y = PrepareFeature('accX_Wrist')\n",
    "train_X.to_csv('train_accX_Wrist.txt', header=None, index=False, sep='\\t')\n",
    "test_X.to_csv('test_accX_Wrist.txt', header=None, index=False, sep='\\t')"
   ]
  },
  {
   "cell_type": "code",
   "execution_count": null,
   "metadata": {},
   "outputs": [],
   "source": [
    "train_X, test_X, train_y, test_y = PrepareFeature('accY_Wrist')\n",
    "train_X.to_csv('train_accY_Wrist.txt', header=None, index=False, sep='\\t')\n",
    "test_X.to_csv('test_accY_Wrist.txt', header=None, index=False, sep='\\t')"
   ]
  },
  {
   "cell_type": "code",
   "execution_count": null,
   "metadata": {},
   "outputs": [],
   "source": [
    "train_X, test_X, train_y, test_y = PrepareFeature('accZ_Wrist')\n",
    "train_X.to_csv('train_accZ_Wrist.txt', header=None, index=False, sep='\\t')\n",
    "test_X.to_csv('test_accZ_Wrist.txt', header=None, index=False, sep='\\t')"
   ]
  },
  {
   "cell_type": "code",
   "execution_count": null,
   "metadata": {},
   "outputs": [],
   "source": [
    "train_y.shape"
   ]
  },
  {
   "cell_type": "code",
   "execution_count": null,
   "metadata": {},
   "outputs": [],
   "source": [
    "pd.DataFrame(train_y).to_csv('train_y.txt', header=None, index=False, sep='\\t')\n",
    "pd.DataFrame(test_y).to_csv('test_y.txt', header=None, index=False, sep='\\t')"
   ]
  },
  {
   "cell_type": "code",
   "execution_count": 1,
   "metadata": {},
   "outputs": [],
   "source": [
    "def load_file(filepath):\n",
    "    dataframe = pd.read_csv(filepath, header=None, delim_whitespace=True)\n",
    "    return dataframe.values"
   ]
  },
  {
   "cell_type": "code",
   "execution_count": 2,
   "metadata": {},
   "outputs": [],
   "source": [
    "def load_group(filenames):\n",
    "    loaded = list()\n",
    "    for name in filenames:\n",
    "        data = load_file(name)\n",
    "        loaded.append(data)\n",
    "    \n",
    "    loaded = np.dstack(loaded)\n",
    "    return loaded"
   ]
  },
  {
   "cell_type": "code",
   "execution_count": 3,
   "metadata": {},
   "outputs": [],
   "source": [
    "def load_dataset_group(group):\n",
    "    if group == 'train':\n",
    "        filenames = ['train_accX_LF.txt','train_accY_LF.txt','train_accZ_LF.txt',\n",
    "                    'train_accX_RF.txt','train_accY_RF.txt','train_accZ_RF.txt',\n",
    "                    'train_accX_Waist.txt','train_accY_Waist.txt','train_accZ_Waist.txt',\n",
    "                    'train_accX_Wrist.txt','train_accY_Wrist.txt','train_accZ_Wrist.txt']\n",
    "        X = load_group(filenames)\n",
    "        y = load_file('train_y.txt')\n",
    "    else:\n",
    "        filenames = ['test_accX_LF.txt','test_accY_LF.txt','test_accZ_LF.txt',\n",
    "                    'test_accX_RF.txt','test_accY_RF.txt','test_accZ_RF.txt',\n",
    "                    'test_accX_Waist.txt','test_accY_Waist.txt','test_accZ_Waist.txt',\n",
    "                    'test_accX_Wrist.txt','test_accY_Wrist.txt','test_accZ_Wrist.txt']\n",
    "        X = load_group(filenames)\n",
    "        y = load_file('test_y.txt')\n",
    "    return X,y"
   ]
  },
  {
   "cell_type": "code",
   "execution_count": 4,
   "metadata": {},
   "outputs": [],
   "source": [
    "def load_dataset():\n",
    "    train_X, train_y = load_dataset_group('train')\n",
    "    test_X, test_y = load_dataset_group('test')\n",
    "    return train_X, train_y, test_X, test_y"
   ]
  },
  {
   "cell_type": "code",
   "execution_count": 7,
   "metadata": {},
   "outputs": [],
   "source": [
    "train_X, train_y, test_X, test_y = load_dataset()"
   ]
  },
  {
   "cell_type": "code",
   "execution_count": 8,
   "metadata": {},
   "outputs": [
    {
     "name": "stdout",
     "output_type": "stream",
     "text": [
      "(9462, 512, 12)\n",
      "(9462, 1)\n",
      "(2408, 512, 12)\n",
      "(2408, 1)\n",
      "512\n",
      "12\n",
      "1\n"
     ]
    }
   ],
   "source": [
    "print(train_X.shape)\n",
    "print(train_y.shape)\n",
    "print(test_X.shape)\n",
    "print(test_y.shape)\n",
    "print(train_X.shape[1])\n",
    "print(train_X.shape[2])\n",
    "print(train_y.shape[1])"
   ]
  },
  {
   "cell_type": "code",
   "execution_count": 9,
   "metadata": {},
   "outputs": [],
   "source": [
    "from keras.utils import to_categorical\n",
    "train_y = to_categorical(train_y)\n",
    "test_y = to_categorical(test_y)"
   ]
  },
  {
   "cell_type": "code",
   "execution_count": 10,
   "metadata": {},
   "outputs": [
    {
     "data": {
      "text/plain": [
       "array([[0., 1., 0., ..., 0., 0., 0.],\n",
       "       [0., 1., 0., ..., 0., 0., 0.],\n",
       "       [0., 1., 0., ..., 0., 0., 0.],\n",
       "       ...,\n",
       "       [0., 0., 0., ..., 0., 0., 1.],\n",
       "       [0., 0., 0., ..., 0., 0., 1.],\n",
       "       [0., 0., 0., ..., 0., 0., 1.]], dtype=float32)"
      ]
     },
     "execution_count": 10,
     "metadata": {},
     "output_type": "execute_result"
    }
   ],
   "source": [
    "train_y"
   ]
  },
  {
   "cell_type": "code",
   "execution_count": 11,
   "metadata": {},
   "outputs": [
    {
     "data": {
      "text/plain": [
       "array([[0., 1., 0., ..., 0., 0., 0.],\n",
       "       [0., 1., 0., ..., 0., 0., 0.],\n",
       "       [0., 1., 0., ..., 0., 0., 0.],\n",
       "       ...,\n",
       "       [0., 0., 0., ..., 0., 0., 1.],\n",
       "       [0., 0., 0., ..., 0., 0., 1.],\n",
       "       [0., 0., 0., ..., 0., 0., 1.]], dtype=float32)"
      ]
     },
     "execution_count": 11,
     "metadata": {},
     "output_type": "execute_result"
    }
   ],
   "source": [
    "test_y"
   ]
  },
  {
   "cell_type": "code",
   "execution_count": 12,
   "metadata": {},
   "outputs": [
    {
     "name": "stdout",
     "output_type": "stream",
     "text": [
      "(9462, 512, 12)\n",
      "(9462, 8)\n",
      "(2408, 512, 12)\n",
      "(2408, 8)\n",
      "512\n",
      "12\n",
      "8\n"
     ]
    }
   ],
   "source": [
    "print(train_X.shape)\n",
    "print(train_y.shape)\n",
    "print(test_X.shape)\n",
    "print(test_y.shape)\n",
    "print(train_X.shape[1])\n",
    "print(train_X.shape[2])\n",
    "print(train_y.shape[1])"
   ]
  },
  {
   "cell_type": "markdown",
   "metadata": {},
   "source": [
    "Model"
   ]
  },
  {
   "cell_type": "code",
   "execution_count": 13,
   "metadata": {},
   "outputs": [],
   "source": [
    "from tensorflow.keras.models import Sequential\n",
    "from tensorflow.keras.layers import Dense\n",
    "from tensorflow.keras.layers import Flatten\n",
    "from tensorflow.keras.layers import Dropout\n",
    "from tensorflow.keras.layers import LSTM\n",
    "from tensorflow.keras.utils import to_categorical\n",
    "from tensorflow.keras.callbacks import ModelCheckpoint,CSVLogger"
   ]
  },
  {
   "cell_type": "code",
   "execution_count": 17,
   "metadata": {},
   "outputs": [
    {
     "name": "stdout",
     "output_type": "stream",
     "text": [
      "_________________________________________________________________\n",
      "Layer (type)                 Output Shape              Param #   \n",
      "=================================================================\n",
      "lstm_1 (LSTM)                (None, 100)               45200     \n",
      "_________________________________________________________________\n",
      "dropout_1 (Dropout)          (None, 100)               0         \n",
      "_________________________________________________________________\n",
      "dense_2 (Dense)              (None, 100)               10100     \n",
      "_________________________________________________________________\n",
      "dense_3 (Dense)              (None, 8)                 808       \n",
      "=================================================================\n",
      "Total params: 56,108\n",
      "Trainable params: 56,108\n",
      "Non-trainable params: 0\n",
      "_________________________________________________________________\n"
     ]
    }
   ],
   "source": [
    "verbose, epochs, batch_size = 2, 20, 64\n",
    "n_timesteps, n_features, n_outputs = train_X.shape[1], train_X.shape[2], train_y.shape[1]\n",
    "model = Sequential()\n",
    "model.add(LSTM(100, input_shape=(n_timesteps, n_features)))\n",
    "model.add(Dropout(0.5))\n",
    "model.add(Dense(100, activation='relu'))\n",
    "model.add(Dense(n_outputs, activation='softmax'))\n",
    "model.compile(loss='categorical_crossentropy', optimizer='adam', metrics=['accuracy'])\n",
    "\n",
    "model.summary()"
   ]
  },
  {
   "cell_type": "code",
   "execution_count": 18,
   "metadata": {},
   "outputs": [],
   "source": [
    "modelname = 'v1'\n",
    "filepath        = os.path.join(modelname + \".hdf5\")\n",
    "checkpoint      = ModelCheckpoint(filepath, \n",
    "                                  monitor='val_acc', \n",
    "                                  verbose=0, \n",
    "                                  save_best_only=True, \n",
    "                                  mode='max')\n",
    "\n",
    "# Log the epoch detail into csv\n",
    "csv_logger      = CSVLogger(os.path.join(modelname +'.csv'))\n",
    "callbacks_list  = [checkpoint,csv_logger]"
   ]
  },
  {
   "cell_type": "code",
   "execution_count": 19,
   "metadata": {},
   "outputs": [
    {
     "name": "stdout",
     "output_type": "stream",
     "text": [
      "Train on 9462 samples, validate on 2408 samples\n",
      "Epoch 1/20\n",
      " - 264s - loss: 1.5458 - acc: 0.3939 - val_loss: 1.1940 - val_acc: 0.6038\n",
      "Epoch 2/20\n",
      " - 267s - loss: 0.9461 - acc: 0.6159 - val_loss: 1.0790 - val_acc: 0.6819\n",
      "Epoch 3/20\n",
      " - 273s - loss: 0.9330 - acc: 0.6245 - val_loss: 0.9230 - val_acc: 0.7321\n",
      "Epoch 4/20\n",
      " - 270s - loss: 0.6609 - acc: 0.7420 - val_loss: 0.8921 - val_acc: 0.7309\n",
      "Epoch 5/20\n",
      " - 271s - loss: 0.5429 - acc: 0.7999 - val_loss: 0.8429 - val_acc: 0.7596\n",
      "Epoch 6/20\n",
      " - 272s - loss: 0.4895 - acc: 0.8273 - val_loss: 0.7139 - val_acc: 0.7895\n",
      "Epoch 7/20\n",
      " - 272s - loss: 0.4263 - acc: 0.8524 - val_loss: 0.8319 - val_acc: 0.7741\n",
      "Epoch 8/20\n",
      " - 279s - loss: 0.3600 - acc: 0.8808 - val_loss: 0.8367 - val_acc: 0.7878\n",
      "Epoch 9/20\n",
      " - 278s - loss: 0.3288 - acc: 0.8903 - val_loss: 0.7849 - val_acc: 0.8094\n",
      "Epoch 10/20\n",
      " - 281s - loss: 0.2926 - acc: 0.9029 - val_loss: 0.6956 - val_acc: 0.8131\n",
      "Epoch 11/20\n",
      " - 282s - loss: 0.3429 - acc: 0.8818 - val_loss: 0.7741 - val_acc: 0.8044\n",
      "Epoch 12/20\n",
      " - 282s - loss: 0.3329 - acc: 0.8897 - val_loss: 0.8791 - val_acc: 0.7753\n",
      "Epoch 13/20\n",
      " - 284s - loss: 0.2845 - acc: 0.9022 - val_loss: 0.7549 - val_acc: 0.8235\n",
      "Epoch 14/20\n",
      " - 278s - loss: 0.2238 - acc: 0.9257 - val_loss: 0.7533 - val_acc: 0.8347\n",
      "Epoch 15/20\n",
      " - 283s - loss: 0.2479 - acc: 0.9214 - val_loss: 0.6522 - val_acc: 0.8671\n",
      "Epoch 16/20\n",
      " - 298s - loss: 0.1865 - acc: 0.9393 - val_loss: 0.8892 - val_acc: 0.7645\n",
      "Epoch 17/20\n",
      " - 302s - loss: 0.3770 - acc: 0.8781 - val_loss: 0.7189 - val_acc: 0.8032\n",
      "Epoch 18/20\n",
      " - 296s - loss: 0.2587 - acc: 0.9137 - val_loss: 0.6547 - val_acc: 0.8480\n",
      "Epoch 19/20\n",
      " - 287s - loss: 0.1651 - acc: 0.9475 - val_loss: 0.7634 - val_acc: 0.8223\n",
      "Epoch 20/20\n",
      " - 291s - loss: 0.2026 - acc: 0.9346 - val_loss: 0.6765 - val_acc: 0.8505\n"
     ]
    },
    {
     "data": {
      "text/plain": [
       "<tensorflow.python.keras.callbacks.History at 0xd25b8f34a8>"
      ]
     },
     "execution_count": 19,
     "metadata": {},
     "output_type": "execute_result"
    }
   ],
   "source": [
    "model.fit(train_X, train_y, \n",
    "          validation_data=(test_X, test_y), \n",
    "          epochs=epochs, batch_size=batch_size, \n",
    "          verbose=verbose, callbacks=callbacks_list)"
   ]
  },
  {
   "cell_type": "code",
   "execution_count": 20,
   "metadata": {},
   "outputs": [
    {
     "data": {
      "image/png": "[encoded data removed]",
      "text/plain": [
       "<Figure size 432x288 with 1 Axes>"
      ]
     },
     "metadata": {},
     "output_type": "display_data"
    },
    {
     "data": {
      "image/png": "[encoded data removed]",
      "text/plain": [
       "<Figure size 432x288 with 1 Axes>"
      ]
     },
     "metadata": {},
     "output_type": "display_data"
    }
   ],
   "source": [
    "import pandas as pd\n",
    "\n",
    "records     = pd.read_csv(modelname +'.csv')\n",
    "plt.figure()\n",
    "plt.plot(records['val_loss'])\n",
    "plt.plot(records['loss'])\n",
    "#plt.yticks([0.00,0.2,0.40,0.60,0.80])\n",
    "plt.title('Model loss')\n",
    "plt.ylabel('Loss')\n",
    "plt.xlabel('Epoch')\n",
    "plt.legend(['Train', 'Validation'], loc='upper right')\n",
    "plt.show()\n",
    "\n",
    "\n",
    "plt.figure()\n",
    "plt.plot(records['val_acc'])\n",
    "plt.plot(records['acc'])\n",
    "plt.yticks([0.5,0.6,0.7,0.8,0.9,1])\n",
    "plt.title('Model accuracy')\n",
    "plt.ylabel('Accuracy')\n",
    "plt.xlabel('Epoch')\n",
    "plt.legend(['Train', 'Validation'], loc='upper left')\n",
    "plt.show()\n"
   ]
  },
  {
   "cell_type": "code",
   "execution_count": 32,
   "metadata": {},
   "outputs": [
    {
     "name": "stdout",
     "output_type": "stream",
     "text": [
      "Best accuracy (on validation dataset): 85.05%\n",
      "[[268  82  11   0  43   0   1   0]\n",
      " [ 19 592   6   0  24   0   0   0]\n",
      " [  0   3 394  11   4   4  34  27]\n",
      " [  1   0   3 163   0  20   0   0]\n",
      " [  3  18  13   0 145   1   0   0]\n",
      " [  0   3   5   0   5 172   2   0]\n",
      " [  0   0   0   0   0   0 186   1]\n",
      " [  0   0   2   1   0   0  13 128]]\n",
      "Classification Report:\n",
      "                  precision    recall  f1-score   support\n",
      "\n",
      "            rest     0.9210    0.6617    0.7701       405\n",
      "tread_slope_walk     0.8481    0.9236    0.8842       641\n",
      " tread_flat_walk     0.9078    0.8260    0.8650       477\n",
      "  tread_flat_run     0.9314    0.8717    0.9006       187\n",
      "indoor_flat_walk     0.6561    0.8056    0.7232       180\n",
      " indoor_flat_run     0.8731    0.9198    0.8958       187\n",
      "    outdoor_walk     0.7881    0.9947    0.8794       187\n",
      "     outdoor_run     0.8205    0.8889    0.8533       144\n",
      "\n",
      "        accuracy                         0.8505      2408\n",
      "       macro avg     0.8433    0.8615    0.8465      2408\n",
      "    weighted avg     0.8600    0.8505    0.8491      2408\n",
      "\n"
     ]
    }
   ],
   "source": [
    "import sklearn.metrics as metrics\n",
    "predicts = model.predict(test_X)\n",
    "predicts = np.argmax(predicts, axis=1)\n",
    "\n",
    "label = np.argmax(test_y, axis=1)\n",
    "\n",
    "labelname = ['rest', 'tread_slope_walk', 'tread_flat_walk', 'tread_flat_run', 'indoor_flat_walk', 'indoor_flat_run', 'outdoor_walk', 'outdoor_run']\n",
    "\n",
    "predictScore = metrics.accuracy_score(label, predicts)\n",
    "confusion = metrics.confusion_matrix(label, predicts)\n",
    "classification_report = metrics.classification_report(label, predicts, target_names=labelname, digits=4)\n",
    "\n",
    "print(\"Best accuracy (on validation dataset): %.2f%%\" % (predictScore * 100))\n",
    "print(confusion)\n",
    "print(\"Classification Report:\")\n",
    "print(classification_report)"
   ]
  },
  {
   "cell_type": "code",
   "execution_count": null,
   "metadata": {},
   "outputs": [],
   "source": []
  }
 ],
 "metadata": {
  "kernelspec": {
   "display_name": "Python 3",
   "language": "python",
   "name": "python3"
  },
  "language_info": {
   "codemirror_mode": {
    "name": "ipython",
    "version": 3
   },
   "file_extension": ".py",
   "mimetype": "text/x-python",
   "name": "python",
   "nbconvert_exporter": "python",
   "pygments_lexer": "ipython3",
   "version": "3.7.4"
  },
  "latex_envs": {
   "LaTeX_envs_menu_present": true,
   "autoclose": false,
   "autocomplete": true,
   "bibliofile": "biblio.bib",
   "cite_by": "apalike",
   "current_citInitial": 1,
   "eqLabelWithNumbers": true,
   "eqNumInitial": 1,
   "hotkeys": {
    "equation": "Ctrl-E",
    "itemize": "Ctrl-I"
   },
   "labels_anchors": false,
   "latex_user_defs": false,
   "report_style_numbering": false,
   "user_envs_cfg": false
  },
  "toc": {
   "base_numbering": 1,
   "nav_menu": {},
   "number_sections": true,
   "sideBar": true,
   "skip_h1_title": false,
   "title_cell": "Table of Contents",
   "title_sidebar": "Contents",
   "toc_cell": true,
   "toc_position": {},
   "toc_section_display": true,
   "toc_window_display": true
  },
  "varInspector": {
   "cols": {
    "lenName": 16,
    "lenType": 16,
    "lenVar": 40
   },
   "kernels_config": {
    "python": {
     "delete_cmd_postfix": "",
     "delete_cmd_prefix": "del ",
     "library": "var_list.py",
     "varRefreshCmd": "print(var_dic_list())"
    },
    "r": {
     "delete_cmd_postfix": ") ",
     "delete_cmd_prefix": "rm(",
     "library": "var_list.r",
     "varRefreshCmd": "cat(var_dic_list()) "
    }
   },
   "types_to_exclude": [
    "module",
    "function",
    "builtin_function_or_method",
    "instance",
    "_Feature"
   ],
   "window_display": false
  }
 },
 "nbformat": 4,
 "nbformat_minor": 2
}
