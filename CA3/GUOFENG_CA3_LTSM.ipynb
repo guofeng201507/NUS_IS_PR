{
 "cells": [
  {
   "cell_type": "code",
   "execution_count": 2,
   "metadata": {},
   "outputs": [
    {
     "name": "stdout",
     "output_type": "stream",
     "text": [
      "Collecting pandas\n",
      "  Downloading https://files.pythonhosted.org/packages/6b/88/672fcbab1fda7c3a2af192daf32885e065ff4046649247cebdc5cf7383a4/pandas-0.25.2-cp37-cp37m-win_amd64.whl (9.2MB)\n",
      "Collecting pytz>=2017.2\n",
      "  Downloading https://files.pythonhosted.org/packages/e7/f9/f0b53f88060247251bf481fa6ea62cd0d25bf1b11a87888e53ce5b7c8ad2/pytz-2019.3-py2.py3-none-any.whl (509kB)\n",
      "Requirement already satisfied: python-dateutil>=2.6.1 in c:\\users\\guofe\\appdata\\local\\programs\\python\\python37\\lib\\site-packages (from pandas) (2.8.0)\n",
      "Requirement already satisfied: numpy>=1.13.3 in c:\\users\\guofe\\appdata\\local\\programs\\python\\python37\\lib\\site-packages (from pandas) (1.17.3)\n",
      "Requirement already satisfied: six>=1.5 in c:\\users\\guofe\\appdata\\local\\programs\\python\\python37\\lib\\site-packages (from python-dateutil>=2.6.1->pandas) (1.12.0)\n",
      "Installing collected packages: pytz, pandas\n",
      "Successfully installed pandas-0.25.2 pytz-2019.3\n"
     ]
    }
   ],
   "source": [
    "!pip install pandas"
   ]
  },
  {
   "cell_type": "code",
   "execution_count": 3,
   "metadata": {
    "colab": {
     "base_uri": "https://localhost:8080/",
     "height": 34
    },
    "colab_type": "code",
    "id": "6bX1Ws4siSUu",
    "outputId": "2990c0ac-a834-4032-fa6c-4c41eba0dc3f",
    "pycharm": {
     "is_executing": false
    }
   },
   "outputs": [],
   "source": [
    "import os\n",
    "import scipy.io\n",
    "import numpy as np\n",
    "import pandas as pd\n",
    "\n",
    "# Set data folder path\n",
    "DATA_FOLDER = r'D:/NUS_TERM2_CA3/MAREA_dataset'\n",
    "\n",
    "ACTIVITY_FOLDER = os.path.join(DATA_FOLDER, 'Activity Timings')\n",
    "SUBJECT_FOLDER = os.path.join(DATA_FOLDER, 'Subject_Data_txt_format')\n",
    "\n",
    "\n",
    "###########################################################################\n",
    "# treadWalk       = indoor_time['indoorTime'][:,1:2]\n",
    "# treadIncline    = indoor_time['indoorTime'][:,4:5]\n",
    "# treadWalknRun   = indoor_time['indoorTime'][:,1:3]\n",
    "# indoorWalk      = indoor_time['indoorTime'][:,6:7]\n",
    "# indoorRun       = indoor_time['indoorTime'][:,6:8]\n",
    "# outdoorWalk     = outdoor_time['outdoorTime'][:,1:2]\n",
    "# outdoorWalknRun = outdoor_time['outdoorTime'][:,1:3]\n",
    "###########################################################################\n",
    "\n",
    "###########################################################################\n",
    "# Subject numbers 1 to 11 are involved in Indoor Experiments\n",
    "# Subject numbers 12 to 20 are involved in Outdoor Experiments\n",
    "###########################################################################\n",
    "\n",
    "###########################################################################\n",
    "# There are five Indoor Activity labels:\n",
    "# actIndex = 1 -> treadWalk\n",
    "# actIndex = 2 -> treadIncline\n",
    "# actIndex = 3 -> treadWalknRun\n",
    "# actIndex = 4 -> indoorWalk\n",
    "# actIndex = 5 -> indoorWalknRun\n",
    "\n",
    "# There are two Outdoor Activity labels:\n",
    "# actIndex = 1 -> outdoorWalk\n",
    "# actIndex = 2 -> outdoorWalknRun\n",
    "###########################################################################\n",
    "\n",
    "###########################################################################\n",
    "# There are four accelerometer positions (accPos) to choose from:\n",
    "# accPos = 1 -> Left Foot\n",
    "# accPos = 2 -> Right Foot\n",
    "# accPos = 3 -> Waist\n",
    "# accPos = 4 -> Wrist\n",
    "###########################################################################"
   ]
  },
  {
   "cell_type": "code",
   "execution_count": 3,
   "metadata": {
    "colab": {
     "base_uri": "https://localhost:8080/",
     "height": 458
    },
    "colab_type": "code",
    "id": "jcAsA04JjP2U",
    "outputId": "3a752545-ad65-427e-a83d-2d5962480c47"
   },
   "outputs": [
    {
     "name": "stdout",
     "output_type": "stream",
     "text": [
      "    tread_flat_walk_start  tread_flat_walk_end  tread_flat_run_end  \\\n",
      "0                       1                55931               85681   \n",
      "1                       1                40911               84991   \n",
      "2                       1                62261               83961   \n",
      "3                       1                45781               84551   \n",
      "4                       1                63971               85121   \n",
      "5                       1                69381               84781   \n",
      "6                       1                46331               83761   \n",
      "7                       1                53801               84811   \n",
      "8                       1                69131               84661   \n",
      "9                       1                70041               84941   \n",
      "10                      1                77641               84741   \n",
      "\n",
      "    tread_slope_walk_start  tread_slope_walk_end  indoor_flat_walk_start  \\\n",
      "0                   102181                180281                  223681   \n",
      "1                   181091                262291                  289991   \n",
      "2                    98361                181061                  211061   \n",
      "3                    95851                177951                  193651   \n",
      "4                    97621                177921                  209821   \n",
      "5                    90081                169381                  189181   \n",
      "6                   101561                184861                  210361   \n",
      "7                    98711                183211                  224211   \n",
      "8                    98261                177561                  199861   \n",
      "9                    91941                175641                  195041   \n",
      "10                   98841                186141                  229541   \n",
      "\n",
      "    indoor_flat_walk_end  indoor_flat_run_end subject  \n",
      "0                 246381               271681    Sub1  \n",
      "1                 313491               336391    Sub2  \n",
      "2                 234261               257861    Sub3  \n",
      "3                 216851               239951    Sub4  \n",
      "4                 233021               257021    Sub5  \n",
      "5                 211981               235981    Sub6  \n",
      "6                 232761               255761    Sub7  \n",
      "7                 246811               270311    Sub8  \n",
      "8                 223061               246761    Sub9  \n",
      "9                 217941               240741   Sub10  \n",
      "10                252241               276041   Sub11  \n",
      "   outdoor_walk_start  outdoor_walk_end  outdoor_run_end subject\n",
      "0                   1             23691            49651   Sub12\n",
      "1                   1             47911            71011   Sub13\n",
      "2                   1             23551            43581   Sub14\n",
      "3                   1             22701            33140   Sub15\n",
      "4                   1             23581            46651   Sub16\n",
      "5                   1             23761            47261   Sub17\n",
      "6                   1             23801            48801   Sub18\n",
      "7                   1             23441            47141   Sub19\n",
      "8                   1             23401            32201   Sub20\n"
     ]
    }
   ],
   "source": [
    "# Define Activity Labels\n",
    "indoor_label = ['tread_flat_walk_start', \n",
    "                'tread_flat_walk_end',\n",
    "                'tread_flat_run_end',\n",
    "                'tread_slope_walk_start',\n",
    "                'tread_slope_walk_end',\n",
    "                'indoor_flat_walk_start',\n",
    "                'indoor_flat_walk_end',\n",
    "                'indoor_flat_run_end'\n",
    "               ]\n",
    "\n",
    "outdoor_label = ['outdoor_walk_start',\n",
    "                 'outdoor_walk_end',\n",
    "                 'outdoor_run_end']\n",
    "\n",
    "indoor_time_df = pd.read_csv(os.path.join(ACTIVITY_FOLDER, 'Indoor Experiment Timings.txt')\n",
    "                            , names= indoor_label)\n",
    "\n",
    "outdoor_time_df = pd.read_csv(os.path.join(ACTIVITY_FOLDER, 'Outdoor Experiment Timings.txt')\n",
    "                            , names=outdoor_label)\n",
    "\n",
    "indoor_time_df[\"subject\"] = [\"Sub\" + str(i) for i in range(1, 12)]\n",
    "outdoor_time_df[\"subject\"] = [\"Sub\" + str(j) for j in range(12, 21)]\n",
    "\n",
    "print(indoor_time_df)\n",
    "print(outdoor_time_df)"
   ]
  },
  {
   "cell_type": "code",
   "execution_count": 4,
   "metadata": {},
   "outputs": [],
   "source": [
    "pos_list = ['LF','RF','Waist','Wrist']\n",
    "sub_list = [\"Sub\" + str(i) for i in range(1, 21)]\n",
    "sub_list.remove('Sub4')\n"
   ]
  },
  {
   "cell_type": "code",
   "execution_count": 7,
   "metadata": {},
   "outputs": [],
   "source": [
    "from scipy import sparse\n",
    "from scipy.sparse.linalg import spsolve\n",
    "import numpy as np\n",
    "import pywt\n",
    "\n",
    "def alsbase(y, lam, p, niter=10):\n",
    "    L = len(y)\n",
    "    D = sparse.diags([1,-2,1],[0,-1,-2], shape=(L,L-2))\n",
    "    w = np.ones(L)\n",
    "    for i in range(niter):\n",
    "        W = sparse.spdiags(w, 0, L, L)\n",
    "        Z = W + lam * D.dot(D.transpose())\n",
    "        z = spsolve(Z, w*y)\n",
    "        w = p * (y > z) + (1-p) * (y < z)\n",
    "    return z\n",
    "\n",
    "def denoise(signal_orig):\n",
    "    coeffs_orig = pywt.wavedec(signal_orig, 'db4', level=2)\n",
    "    coeffs_filter = coeffs_orig.copy()\n",
    "\n",
    "    threshold = 0.8\n",
    "\n",
    "    for i in range(1, len(coeffs_orig)):\n",
    "        coeffs_filter[i] = pywt.threshold(coeffs_orig[i], threshold*max(coeffs_orig[i]))\n",
    "\n",
    "    signal_denoised = pywt.waverec(coeffs_filter, 'db4')\n",
    "    \n",
    "    return signal_denoised"
   ]
  },
  {
   "cell_type": "code",
   "execution_count": 12,
   "metadata": {},
   "outputs": [
    {
     "name": "stdout",
     "output_type": "stream",
     "text": [
      "   accX_LF  accY_LF  accZ_LF  accX_RF  accY_RF  accZ_RF  accX_Waist  \\\n",
      "0   -2.196  -11.765   -1.569    4.078   -6.902    2.196      -0.157   \n",
      "1   -2.510  -10.353   -2.039    4.392   -8.000    1.255      -0.157   \n",
      "2   -2.353  -10.824   -2.510    4.863   -8.314    0.941      -0.157   \n",
      "3   -1.882  -10.667   -2.667    4.549   -9.412   -0.157      -0.157   \n",
      "4   -1.412  -10.353   -2.824    3.451  -10.353   -0.784      -0.627   \n",
      "\n",
      "   accY_Waist  accZ_Waist  accX_Wrist  accY_Wrist  accZ_Wrist  \n",
      "0      -8.157       0.784       0.941     -11.451      -2.510  \n",
      "1      -8.000       1.255       0.627     -10.510      -2.353  \n",
      "2      -7.843       1.255       0.784     -10.196      -2.039  \n",
      "3      -8.000       1.412       1.255     -10.039      -1.412  \n",
      "4      -7.529       1.882       1.569     -10.196      -1.255  \n",
      "(271681,)\n"
     ]
    },
    {
     "ename": "ValueError",
     "evalue": "Length of values does not match length of index",
     "output_type": "error",
     "traceback": [
      "\u001b[1;31m---------------------------------------------------------------------------\u001b[0m",
      "\u001b[1;31mValueError\u001b[0m                                Traceback (most recent call last)",
      "\u001b[1;32m<ipython-input-12-a842e5e06a1c>\u001b[0m in \u001b[0;36m<module>\u001b[1;34m\u001b[0m\n\u001b[0;32m     19\u001b[0m     \u001b[1;32mfor\u001b[0m \u001b[0mcolumn\u001b[0m \u001b[1;32min\u001b[0m \u001b[0mnew_names\u001b[0m\u001b[1;33m:\u001b[0m\u001b[1;33m\u001b[0m\u001b[1;33m\u001b[0m\u001b[0m\n\u001b[0;32m     20\u001b[0m         \u001b[0mprint\u001b[0m\u001b[1;33m(\u001b[0m\u001b[0msub_df_new\u001b[0m\u001b[1;33m[\u001b[0m\u001b[0mcolumn\u001b[0m\u001b[1;33m]\u001b[0m\u001b[1;33m.\u001b[0m\u001b[0mvalues\u001b[0m\u001b[1;33m.\u001b[0m\u001b[0mshape\u001b[0m\u001b[1;33m)\u001b[0m\u001b[1;33m\u001b[0m\u001b[1;33m\u001b[0m\u001b[0m\n\u001b[1;32m---> 21\u001b[1;33m         \u001b[0msub_df_new\u001b[0m\u001b[1;33m[\u001b[0m\u001b[0mcolumn\u001b[0m\u001b[1;33m]\u001b[0m \u001b[1;33m=\u001b[0m \u001b[0mdenoise\u001b[0m\u001b[1;33m(\u001b[0m\u001b[0msub_df_new\u001b[0m\u001b[1;33m[\u001b[0m\u001b[0mcolumn\u001b[0m\u001b[1;33m]\u001b[0m\u001b[1;33m.\u001b[0m\u001b[0mvalues\u001b[0m\u001b[1;33m)\u001b[0m\u001b[1;33m\u001b[0m\u001b[1;33m\u001b[0m\u001b[0m\n\u001b[0m\u001b[0;32m     22\u001b[0m \u001b[1;31m#         sub_df_new[column] = sub_df_new[column] - alsbase(sub_df_new[column], 10^5,0.000005,niter=10)\u001b[0m\u001b[1;33m\u001b[0m\u001b[1;33m\u001b[0m\u001b[1;33m\u001b[0m\u001b[0m\n\u001b[0;32m     23\u001b[0m \u001b[1;33m\u001b[0m\u001b[0m\n",
      "\u001b[1;32mc:\\users\\guofe\\workspace\\nus_is_pr\\venv\\lib\\site-packages\\pandas\\core\\frame.py\u001b[0m in \u001b[0;36m__setitem__\u001b[1;34m(self, key, value)\u001b[0m\n\u001b[0;32m   3368\u001b[0m         \u001b[1;32melse\u001b[0m\u001b[1;33m:\u001b[0m\u001b[1;33m\u001b[0m\u001b[1;33m\u001b[0m\u001b[0m\n\u001b[0;32m   3369\u001b[0m             \u001b[1;31m# set column\u001b[0m\u001b[1;33m\u001b[0m\u001b[1;33m\u001b[0m\u001b[1;33m\u001b[0m\u001b[0m\n\u001b[1;32m-> 3370\u001b[1;33m             \u001b[0mself\u001b[0m\u001b[1;33m.\u001b[0m\u001b[0m_set_item\u001b[0m\u001b[1;33m(\u001b[0m\u001b[0mkey\u001b[0m\u001b[1;33m,\u001b[0m \u001b[0mvalue\u001b[0m\u001b[1;33m)\u001b[0m\u001b[1;33m\u001b[0m\u001b[1;33m\u001b[0m\u001b[0m\n\u001b[0m\u001b[0;32m   3371\u001b[0m \u001b[1;33m\u001b[0m\u001b[0m\n\u001b[0;32m   3372\u001b[0m     \u001b[1;32mdef\u001b[0m \u001b[0m_setitem_slice\u001b[0m\u001b[1;33m(\u001b[0m\u001b[0mself\u001b[0m\u001b[1;33m,\u001b[0m \u001b[0mkey\u001b[0m\u001b[1;33m,\u001b[0m \u001b[0mvalue\u001b[0m\u001b[1;33m)\u001b[0m\u001b[1;33m:\u001b[0m\u001b[1;33m\u001b[0m\u001b[1;33m\u001b[0m\u001b[0m\n",
      "\u001b[1;32mc:\\users\\guofe\\workspace\\nus_is_pr\\venv\\lib\\site-packages\\pandas\\core\\frame.py\u001b[0m in \u001b[0;36m_set_item\u001b[1;34m(self, key, value)\u001b[0m\n\u001b[0;32m   3443\u001b[0m \u001b[1;33m\u001b[0m\u001b[0m\n\u001b[0;32m   3444\u001b[0m         \u001b[0mself\u001b[0m\u001b[1;33m.\u001b[0m\u001b[0m_ensure_valid_index\u001b[0m\u001b[1;33m(\u001b[0m\u001b[0mvalue\u001b[0m\u001b[1;33m)\u001b[0m\u001b[1;33m\u001b[0m\u001b[1;33m\u001b[0m\u001b[0m\n\u001b[1;32m-> 3445\u001b[1;33m         \u001b[0mvalue\u001b[0m \u001b[1;33m=\u001b[0m \u001b[0mself\u001b[0m\u001b[1;33m.\u001b[0m\u001b[0m_sanitize_column\u001b[0m\u001b[1;33m(\u001b[0m\u001b[0mkey\u001b[0m\u001b[1;33m,\u001b[0m \u001b[0mvalue\u001b[0m\u001b[1;33m)\u001b[0m\u001b[1;33m\u001b[0m\u001b[1;33m\u001b[0m\u001b[0m\n\u001b[0m\u001b[0;32m   3446\u001b[0m         \u001b[0mNDFrame\u001b[0m\u001b[1;33m.\u001b[0m\u001b[0m_set_item\u001b[0m\u001b[1;33m(\u001b[0m\u001b[0mself\u001b[0m\u001b[1;33m,\u001b[0m \u001b[0mkey\u001b[0m\u001b[1;33m,\u001b[0m \u001b[0mvalue\u001b[0m\u001b[1;33m)\u001b[0m\u001b[1;33m\u001b[0m\u001b[1;33m\u001b[0m\u001b[0m\n\u001b[0;32m   3447\u001b[0m \u001b[1;33m\u001b[0m\u001b[0m\n",
      "\u001b[1;32mc:\\users\\guofe\\workspace\\nus_is_pr\\venv\\lib\\site-packages\\pandas\\core\\frame.py\u001b[0m in \u001b[0;36m_sanitize_column\u001b[1;34m(self, key, value, broadcast)\u001b[0m\n\u001b[0;32m   3628\u001b[0m \u001b[1;33m\u001b[0m\u001b[0m\n\u001b[0;32m   3629\u001b[0m             \u001b[1;31m# turn me into an ndarray\u001b[0m\u001b[1;33m\u001b[0m\u001b[1;33m\u001b[0m\u001b[1;33m\u001b[0m\u001b[0m\n\u001b[1;32m-> 3630\u001b[1;33m             \u001b[0mvalue\u001b[0m \u001b[1;33m=\u001b[0m \u001b[0msanitize_index\u001b[0m\u001b[1;33m(\u001b[0m\u001b[0mvalue\u001b[0m\u001b[1;33m,\u001b[0m \u001b[0mself\u001b[0m\u001b[1;33m.\u001b[0m\u001b[0mindex\u001b[0m\u001b[1;33m,\u001b[0m \u001b[0mcopy\u001b[0m\u001b[1;33m=\u001b[0m\u001b[1;32mFalse\u001b[0m\u001b[1;33m)\u001b[0m\u001b[1;33m\u001b[0m\u001b[1;33m\u001b[0m\u001b[0m\n\u001b[0m\u001b[0;32m   3631\u001b[0m             \u001b[1;32mif\u001b[0m \u001b[1;32mnot\u001b[0m \u001b[0misinstance\u001b[0m\u001b[1;33m(\u001b[0m\u001b[0mvalue\u001b[0m\u001b[1;33m,\u001b[0m \u001b[1;33m(\u001b[0m\u001b[0mnp\u001b[0m\u001b[1;33m.\u001b[0m\u001b[0mndarray\u001b[0m\u001b[1;33m,\u001b[0m \u001b[0mIndex\u001b[0m\u001b[1;33m)\u001b[0m\u001b[1;33m)\u001b[0m\u001b[1;33m:\u001b[0m\u001b[1;33m\u001b[0m\u001b[1;33m\u001b[0m\u001b[0m\n\u001b[0;32m   3632\u001b[0m                 \u001b[1;32mif\u001b[0m \u001b[0misinstance\u001b[0m\u001b[1;33m(\u001b[0m\u001b[0mvalue\u001b[0m\u001b[1;33m,\u001b[0m \u001b[0mlist\u001b[0m\u001b[1;33m)\u001b[0m \u001b[1;32mand\u001b[0m \u001b[0mlen\u001b[0m\u001b[1;33m(\u001b[0m\u001b[0mvalue\u001b[0m\u001b[1;33m)\u001b[0m \u001b[1;33m>\u001b[0m \u001b[1;36m0\u001b[0m\u001b[1;33m:\u001b[0m\u001b[1;33m\u001b[0m\u001b[1;33m\u001b[0m\u001b[0m\n",
      "\u001b[1;32mc:\\users\\guofe\\workspace\\nus_is_pr\\venv\\lib\\site-packages\\pandas\\core\\internals\\construction.py\u001b[0m in \u001b[0;36msanitize_index\u001b[1;34m(data, index, copy)\u001b[0m\n\u001b[0;32m    517\u001b[0m \u001b[1;33m\u001b[0m\u001b[0m\n\u001b[0;32m    518\u001b[0m     \u001b[1;32mif\u001b[0m \u001b[0mlen\u001b[0m\u001b[1;33m(\u001b[0m\u001b[0mdata\u001b[0m\u001b[1;33m)\u001b[0m \u001b[1;33m!=\u001b[0m \u001b[0mlen\u001b[0m\u001b[1;33m(\u001b[0m\u001b[0mindex\u001b[0m\u001b[1;33m)\u001b[0m\u001b[1;33m:\u001b[0m\u001b[1;33m\u001b[0m\u001b[1;33m\u001b[0m\u001b[0m\n\u001b[1;32m--> 519\u001b[1;33m         \u001b[1;32mraise\u001b[0m \u001b[0mValueError\u001b[0m\u001b[1;33m(\u001b[0m\u001b[1;34m'Length of values does not match length of index'\u001b[0m\u001b[1;33m)\u001b[0m\u001b[1;33m\u001b[0m\u001b[1;33m\u001b[0m\u001b[0m\n\u001b[0m\u001b[0;32m    520\u001b[0m \u001b[1;33m\u001b[0m\u001b[0m\n\u001b[0;32m    521\u001b[0m     \u001b[1;32mif\u001b[0m \u001b[0misinstance\u001b[0m\u001b[1;33m(\u001b[0m\u001b[0mdata\u001b[0m\u001b[1;33m,\u001b[0m \u001b[0mABCIndexClass\u001b[0m\u001b[1;33m)\u001b[0m \u001b[1;32mand\u001b[0m \u001b[1;32mnot\u001b[0m \u001b[0mcopy\u001b[0m\u001b[1;33m:\u001b[0m\u001b[1;33m\u001b[0m\u001b[1;33m\u001b[0m\u001b[0m\n",
      "\u001b[1;31mValueError\u001b[0m: Length of values does not match length of index"
     ]
    }
   ],
   "source": [
    "\n",
    "new_names = ['accX_LF', 'accY_LF', 'accZ_LF', \n",
    "            'accX_RF', 'accY_RF', 'accZ_RF', \n",
    "             'accX_Waist', 'accY_Waist', 'accZ_Waist', \n",
    "             'accX_Wrist', 'accY_Wrist', 'accZ_Wrist'            \n",
    "            ]\n",
    "\n",
    "sub_df = None\n",
    "\n",
    "for sub in sub_list:\n",
    "    lf_df = pd.read_csv(os.path.join(SUBJECT_FOLDER, sub + '_' + 'LF.txt'))\n",
    "    rf_df = pd.read_csv(os.path.join(SUBJECT_FOLDER, sub + '_' + 'RF.txt'))\n",
    "    waist_df = pd.read_csv(os.path.join(SUBJECT_FOLDER, sub + '_' + 'Waist.txt'))\n",
    "    wrist_df = pd.read_csv(os.path.join(SUBJECT_FOLDER, sub + '_' + 'Wrist.txt'))\n",
    "    sub_df = pd.concat([lf_df, rf_df, waist_df, wrist_df], axis=1)\n",
    "    sub_df.columns = new_names\n",
    "    print(sub_df.head())\n",
    "\n",
    "    sub_df_new = sub_df.copy()\n",
    "    sub_df_new = denoise(sub_df_new.values)\n",
    "    sub_df_new.columns = new_names\n",
    "    print(sub_df_new.head())\n",
    "\n",
    "    for column in new_names:\n",
    "        sub_df_new[column] = sub_df_new[column] - alsbase(sub_df_new[column], 10 ^ 5, 0.000005, niter=10)\n",
    "\n",
    "    n = int(sub[3:])\n",
    "    if n > 11:\n",
    "        sub_row = outdoor_time_df[outdoor_time_df['subject'] == sub]\n",
    "        tmp = sub_row.iloc[0]\n",
    "        sub_df_new.loc[0:tmp['outdoor_walk_end'], 'label'] = 'outdoor_walk'\n",
    "        sub_df_new.loc[tmp['outdoor_walk_end']: tmp['outdoor_run_end'], 'label'] = 'outdoor_run'\n",
    "    else:\n",
    "        sub_row = indoor_time_df[indoor_time_df['subject'] == sub]\n",
    "        tmp = sub_row.iloc[0]\n",
    "        sub_df_new.loc[0:tmp['tread_flat_walk_end'], 'label'] = 'tread_flat_walk'\n",
    "        sub_df_new.loc[tmp['tread_flat_walk_end']: tmp['tread_flat_run_end'], 'label'] = 'tread_flat_run'\n",
    "        sub_df_new.loc[tmp['tread_flat_run_end']: tmp['tread_slope_walk_start'], 'label'] = 'rest'\n",
    "        sub_df_new.loc[tmp['tread_slope_walk_start']: tmp['tread_slope_walk_end'], 'label'] = 'tread_slope_walk'\n",
    "        sub_df_new.loc[tmp['tread_slope_walk_end']: tmp['indoor_flat_walk_start'], 'label'] = 'rest'\n",
    "        sub_df_new.loc[tmp['indoor_flat_walk_start']: tmp['indoor_flat_walk_end'], 'label'] = 'indoor_flat_walk'\n",
    "        sub_df_new.loc[tmp['indoor_flat_walk_end']: tmp['indoor_flat_run_end'], 'label'] = 'indoor_flat_run'\n",
    "\n",
    "    print(sub_df_new)\n",
    "    sub_df_new.to_csv(sub + '_processed.csv')"
   ]
  },
  {
   "cell_type": "code",
   "execution_count": 58,
   "metadata": {
    "pycharm": {
     "is_executing": true
    }
   },
   "outputs": [
    {
     "name": "stdout",
     "output_type": "stream",
     "text": [
      "(271681, 13)\n",
      "LoadingSub2_processed.csv\n",
      "(336391, 13)\n",
      "LoadingSub3_processed.csv\n",
      "(257861, 13)\n",
      "LoadingSub5_processed.csv\n",
      "(257021, 13)\n",
      "LoadingSub6_processed.csv\n",
      "(235981, 13)\n",
      "LoadingSub7_processed.csv\n",
      "(255761, 13)\n",
      "LoadingSub8_processed.csv\n",
      "(270311, 13)\n",
      "LoadingSub9_processed.csv\n",
      "(246761, 13)\n",
      "LoadingSub10_processed.csv\n",
      "(240741, 13)\n",
      "LoadingSub11_processed.csv\n",
      "(276041, 13)\n",
      "LoadingSub12_processed.csv\n",
      "(49651, 13)\n",
      "LoadingSub13_processed.csv\n",
      "(71011, 13)\n",
      "LoadingSub14_processed.csv\n",
      "(43581, 13)\n",
      "LoadingSub15_processed.csv\n",
      "(33140, 13)\n",
      "LoadingSub16_processed.csv\n",
      "(46651, 13)\n",
      "LoadingSub17_processed.csv\n",
      "(47261, 13)\n",
      "LoadingSub18_processed.csv\n",
      "(48801, 13)\n",
      "LoadingSub19_processed.csv\n",
      "(47141, 13)\n",
      "LoadingSub20_processed.csv\n",
      "(32201, 13)\n",
      "(3067988, 13)\n"
     ]
    }
   ],
   "source": [
    "import os\n",
    "\n",
    "import pandas as pd\n",
    "\n",
    "pd.set_option('display.max_columns', 500)\n",
    "pd.set_option('display.width', 1000)\n",
    "\n",
    "DATA_FOLDER = r'D:/NUS_TERM2_CA3/MAREA_dataset'\n",
    "PROCESSED_FOLDER = os.path.join(DATA_FOLDER, 'Processed_data')\n",
    "\n",
    "sub_list = [\"Sub\" + str(i) for i in range(2, 21)]\n",
    "sub_list.remove('Sub4')\n",
    "\n",
    "\n",
    "full_df = pd.read_csv(os.path.join(PROCESSED_FOLDER, 'Sub1_processed.csv'))\n",
    "full_df = full_df.drop(full_df.columns[[0]], axis=1)\n",
    "\n",
    "print(full_df.shape)\n",
    "\n",
    "for sub in sub_list:\n",
    "    tmp_df = pd.read_csv(os.path.join(PROCESSED_FOLDER, sub + '_processed.csv'))\n",
    "    tmp_df = tmp_df.drop(tmp_df.columns[[0]], axis=1)\n",
    "\n",
    "    print('Loading ' + sub + '_processed.csv')\n",
    "    print(tmp_df.shape)\n",
    "    full_df = full_df.append(tmp_df, ignore_index = True)\n",
    "\n",
    "print(full_df.shape)\n"
   ]
  },
  {
   "cell_type": "code",
   "execution_count": 69,
   "metadata": {},
   "outputs": [
    {
     "name": "stdout",
     "output_type": "stream",
     "text": [
      "(609400, 13)\n",
      "(238050, 13)\n",
      "(819700, 13)\n",
      "(229200, 13)\n",
      "(236600, 13)\n",
      "(515600, 13)\n",
      "(235839, 13)\n",
      "(183599, 13)\n"
     ]
    }
   ],
   "source": [
    "df_tread_flat_walk = full_df[full_df['label'] == 'tread_flat_walk']\n",
    "print(df_tread_flat_walk.shape)\n",
    "\n",
    "df_tread_flat_run = full_df[full_df['label'] == 'tread_flat_run']\n",
    "print(df_tread_flat_run.shape)\n",
    "\n",
    "df_tread_slope_walk = full_df[full_df['label'] == 'tread_slope_walk']\n",
    "print(df_tread_slope_walk.shape)\n",
    "\n",
    "df_indoor_flat_walk = full_df[full_df['label'] == 'indoor_flat_walk']\n",
    "print(df_indoor_flat_walk.shape)\n",
    "\n",
    "df_indoor_flat_run = full_df[full_df['label'] == 'indoor_flat_run']\n",
    "print(df_indoor_flat_run.shape)\n",
    "\n",
    "df_rest = full_df[full_df['label'] == 'rest']\n",
    "print(df_rest.shape)\n",
    "\n",
    "df_outdoor_walk = full_df[full_df['label'] == 'outdoor_walk']\n",
    "print(df_outdoor_walk.shape)\n",
    "\n",
    "df_outdoor_run = full_df[full_df['label'] == 'outdoor_run']\n",
    "print(df_outdoor_run.shape)\n"
   ]
  },
  {
   "cell_type": "code",
   "execution_count": 64,
   "metadata": {},
   "outputs": [],
   "source": [
    "window_size = 256\n",
    "number_columns = 13\n",
    "\n",
    "activity_to_num_mapping = {\n",
    "    \"rest\":0,\n",
    "    \"tread_flat_walk\":1,\n",
    "    \"tread_flat_run\":2,\n",
    "    \"tread_slope_walk\":3,\n",
    "    \"indoor_flat_walk\":4,\n",
    "    \"indoor_flat_run\":5,\n",
    "    \n",
    "    \"outdoor_walk\":6,\n",
    "    \"outdoor_run\":7\n",
    "}\n",
    "\n",
    "\n",
    "def reshape_df(df, window_size, number_columns):\n",
    "    n_drop = df.shape[0] % window_size\n",
    "    n_samples = df.shape[0] // window_size\n",
    "    df = df[:-n_drop]\n",
    "    \n",
    "    label = activity_to_num_mapping.get(df.iloc[0][12])\n",
    "    label_series = pd.Series([label for _ in range(n_samples)])\n",
    "    \n",
    "    return df.values.reshape(n_samples, window_size, number_columns), label_series\n"
   ]
  },
  {
   "cell_type": "code",
   "execution_count": 72,
   "metadata": {},
   "outputs": [
    {
     "name": "stdout",
     "output_type": "stream",
     "text": [
      "(2380, 256, 13)\n",
      "(2380,)\n",
      "(929, 256, 13)\n",
      "(929,)\n",
      "(3201, 256, 13)\n",
      "(895, 256, 13)\n",
      "(924, 256, 13)\n",
      "(921, 256, 13)\n",
      "(717, 256, 13)\n",
      "(2014, 256, 13)\n",
      "(11981, 256, 13)\n",
      "(11981,)\n"
     ]
    }
   ],
   "source": [
    "df_tread_flat_walk_3d, ds_tread_flat_walk_label = reshape_df(df_tread_flat_walk, window_size, number_columns)\n",
    "print(df_tread_flat_walk_3d.shape)\n",
    "print(ds_tread_flat_walk_label.shape)\n",
    "\n",
    "df_tread_flat_run_3d, ds_tread_flat_run_label = reshape_df(df_tread_flat_run, window_size, number_columns)\n",
    "print(df_tread_flat_run_3d.shape)\n",
    "print(ds_tread_flat_run_label.shape)\n",
    "\n",
    "df_tread_slope_walk_3d, ds_tread_slope_walk_label = reshape_df(df_tread_slope_walk, window_size, number_columns)\n",
    "print(df_tread_slope_walk_3d.shape)\n",
    "df_indoor_flat_walk_3d, ds_indoor_flat_walk_label = reshape_df(df_indoor_flat_walk, window_size, number_columns)\n",
    "print(df_indoor_flat_walk_3d.shape)\n",
    "df_indoor_flat_run_3d, ds_indoor_flat_run_label = reshape_df(df_indoor_flat_run, window_size, number_columns)\n",
    "print(df_indoor_flat_run_3d.shape)\n",
    "df_outdoor_walk_3d, ds_outdoor_walk_label = reshape_df(df_outdoor_walk, window_size, number_columns)\n",
    "print(df_outdoor_walk_3d.shape)\n",
    "df_outdoor_run_3d, ds_outdoor_run_label = reshape_df(df_outdoor_run, window_size, number_columns)\n",
    "print(df_outdoor_run_3d.shape)\n",
    "df_rest_3d, ds_rest_label = reshape_df(df_rest, window_size, number_columns)\n",
    "print(df_rest_3d.shape)\n",
    "\n",
    "full_df_3d = np.vstack((df_tread_flat_walk_3d, df_tread_flat_run_3d,\n",
    "                        df_tread_slope_walk_3d, df_indoor_flat_walk_3d,\n",
    "                        df_indoor_flat_run_3d, df_outdoor_walk_3d,\n",
    "                        df_outdoor_run_3d, df_rest_3d\n",
    "                       ))\n",
    "\n",
    "print(full_df_3d.shape)\n",
    "\n",
    "full_ds_label = ds_tread_flat_walk_label.append(ds_tread_flat_run_label)\n",
    "full_ds_label= full_ds_label.append(ds_tread_slope_walk_label)\n",
    "full_ds_label= full_ds_label.append(ds_indoor_flat_walk_label)\n",
    "full_ds_label= full_ds_label.append(ds_indoor_flat_run_label)\n",
    "full_ds_label= full_ds_label.append(ds_outdoor_walk_label)\n",
    "full_ds_label= full_ds_label.append(ds_outdoor_run_label)\n",
    "full_ds_label= full_ds_label.append(ds_rest_label)\n",
    "\n",
    "print(full_ds_label.shape)\n"
   ]
  },
  {
   "cell_type": "code",
   "execution_count": 74,
   "metadata": {},
   "outputs": [
    {
     "name": "stdout",
     "output_type": "stream",
     "text": [
      "(11981, 256, 12)\n",
      "[[0. 1. 0. ... 0. 0. 0.]\n",
      " [0. 1. 0. ... 0. 0. 0.]\n",
      " [0. 1. 0. ... 0. 0. 0.]\n",
      " ...\n",
      " [1. 0. 0. ... 0. 0. 0.]\n",
      " [1. 0. 0. ... 0. 0. 0.]\n",
      " [1. 0. 0. ... 0. 0. 0.]]\n",
      "(11981, 8)\n"
     ]
    }
   ],
   "source": [
    "df_array = full_df_3d[:,:,:-1]\n",
    "print(df_array.shape)\n",
    "\n",
    "from keras.utils.np_utils import to_categorical\n",
    "\n",
    "y_cat = to_categorical(full_ds_label, num_classes=8)\n",
    "print(y_cat)\n",
    "print(y_cat.shape)"
   ]
  },
  {
   "cell_type": "code",
   "execution_count": 95,
   "metadata": {},
   "outputs": [
    {
     "name": "stdout",
     "output_type": "stream",
     "text": [
      "(19, 256, 12)\n",
      "(19, 8)\n",
      "(12000, 256, 12)\n",
      "(12000, 8)\n"
     ]
    }
   ],
   "source": [
    "y = y_cat\n",
    "X = df_array\n",
    "\n",
    "padding_number = 19 #12000 - 11981 \n",
    "\n",
    "df_padding_X = df_array[0:19,:,:]\n",
    "df_padding_y = y_cat[0:19,:]\n",
    "\n",
    "print(df_padding_X.shape)\n",
    "print(df_padding_y.shape)\n",
    "\n",
    "X = np.vstack((X, df_padding_X))\n",
    "y = np.vstack((y, df_padding_y))\n",
    "\n",
    "print(X.shape)\n",
    "print(y.shape)"
   ]
  },
  {
   "cell_type": "code",
   "execution_count": 32,
   "metadata": {},
   "outputs": [],
   "source": [
    "# y = full_df['label']\n",
    "# print(y.shape)\n",
    "# print(type(y))\n",
    "# X = full_df.drop('label', axis=1)"
   ]
  },
  {
   "cell_type": "code",
   "execution_count": 11,
   "metadata": {},
   "outputs": [
    {
     "name": "stdout",
     "output_type": "stream",
     "text": [
      "Collecting sklearn\n",
      "  Using cached https://files.pythonhosted.org/packages/1e/7a/dbb3be0ce9bd5c8b7e3d87328e79063f8b263b2b1bfa4774cb1147bfcd3f/sklearn-0.0.tar.gz\n",
      "Collecting scikit-learn\n",
      "  Using cached https://files.pythonhosted.org/packages/d6/9e/6a42486ffa64711fb868e5d4a9167153417e7414c3d8d3e0d627cf391e1e/scikit_learn-0.21.3-cp37-cp37m-win_amd64.whl\n",
      "Collecting joblib>=0.11\n",
      "  Downloading https://files.pythonhosted.org/packages/8f/42/155696f85f344c066e17af287359c9786b436b1bf86029bb3411283274f3/joblib-0.14.0-py2.py3-none-any.whl (294kB)\n",
      "Requirement already satisfied: scipy>=0.17.0 in c:\\users\\guofe\\appdata\\local\\programs\\python\\python37\\lib\\site-packages (from scikit-learn->sklearn) (1.3.1)\n",
      "Requirement already satisfied: numpy>=1.11.0 in c:\\users\\guofe\\appdata\\local\\programs\\python\\python37\\lib\\site-packages (from scikit-learn->sklearn) (1.17.3)\n",
      "Installing collected packages: joblib, scikit-learn, sklearn\n",
      "    Running setup.py install for sklearn: started\n",
      "    Running setup.py install for sklearn: finished with status 'done'\n",
      "Successfully installed joblib-0.14.0 scikit-learn-0.21.3 sklearn-0.0\n"
     ]
    }
   ],
   "source": [
    "!pip install sklearn"
   ]
  },
  {
   "cell_type": "code",
   "execution_count": 96,
   "metadata": {},
   "outputs": [
    {
     "name": "stdout",
     "output_type": "stream",
     "text": [
      "(9000, 256, 12)\n",
      "(9000, 8)\n"
     ]
    }
   ],
   "source": [
    "from sklearn.model_selection import train_test_split, cross_val_score\n",
    "\n",
    "\n",
    "#https://machinelearningmastery.com/index-slice-reshape-numpy-arrays-machine-learning-python/\n",
    "\n",
    "X_train, X_test, y_train, y_test = train_test_split(X, y, test_size=1 / 4, random_state=5)\n",
    "\n",
    "print(X_train.shape)\n",
    "print(y_train.shape)\n",
    "# print(X_train.describe())\n",
    "# print(y_train.describe())"
   ]
  },
  {
   "cell_type": "code",
   "execution_count": 16,
   "metadata": {},
   "outputs": [
    {
     "name": "stdout",
     "output_type": "stream",
     "text": [
      "Collecting keras\n",
      "  Downloading https://files.pythonhosted.org/packages/ad/fd/6bfe87920d7f4fd475acd28500a42482b6b84479832bdc0fe9e589a60ceb/Keras-2.3.1-py2.py3-none-any.whl (377kB)\n",
      "Collecting h5py\n",
      "  Downloading https://files.pythonhosted.org/packages/a1/6b/7f62017e3f0b32438dd90bdc1ff0b7b1448b6cb04a1ed84f37b6de95cd7b/h5py-2.10.0-cp37-cp37m-win_amd64.whl (2.5MB)\n",
      "Requirement already satisfied: numpy>=1.9.1 in c:\\users\\guofe\\appdata\\local\\programs\\python\\python37\\lib\\site-packages (from keras) (1.17.3)\n",
      "Collecting pyyaml\n",
      "  Using cached https://files.pythonhosted.org/packages/bc/3f/4f733cd0b1b675f34beb290d465a65e0f06b492c00b111d1b75125062de1/PyYAML-5.1.2-cp37-cp37m-win_amd64.whl\n",
      "Requirement already satisfied: six>=1.9.0 in c:\\users\\guofe\\appdata\\local\\programs\\python\\python37\\lib\\site-packages (from keras) (1.12.0)\n",
      "Collecting keras-preprocessing>=1.0.5\n",
      "  Using cached https://files.pythonhosted.org/packages/28/6a/8c1f62c37212d9fc441a7e26736df51ce6f0e38455816445471f10da4f0a/Keras_Preprocessing-1.1.0-py2.py3-none-any.whl\n",
      "Requirement already satisfied: scipy>=0.14 in c:\\users\\guofe\\appdata\\local\\programs\\python\\python37\\lib\\site-packages (from keras) (1.3.1)\n",
      "Collecting keras-applications>=1.0.6\n",
      "  Using cached https://files.pythonhosted.org/packages/71/e3/19762fdfc62877ae9102edf6342d71b28fbfd9dea3d2f96a882ce099b03f/Keras_Applications-1.0.8-py3-none-any.whl\n",
      "Installing collected packages: h5py, pyyaml, keras-preprocessing, keras-applications, keras\n",
      "Successfully installed h5py-2.10.0 keras-2.3.1 keras-applications-1.0.8 keras-preprocessing-1.1.0 pyyaml-5.1.2\n"
     ]
    }
   ],
   "source": [
    "!pip install keras"
   ]
  },
  {
   "cell_type": "code",
   "execution_count": 18,
   "metadata": {},
   "outputs": [
    {
     "name": "stdout",
     "output_type": "stream",
     "text": [
      "Collecting tensorflow-gpu\n",
      "  Downloading https://files.pythonhosted.org/packages/63/13/ea9ff554aa0043540a2387c28dd7926575eb25cf89e598caecea836d189d/tensorflow_gpu-2.0.0-cp37-cp37m-win_amd64.whl (285.3MB)\n",
      "Collecting astor>=0.6.0\n",
      "  Using cached https://files.pythonhosted.org/packages/d1/4f/950dfae467b384fc96bc6469de25d832534f6b4441033c39f914efd13418/astor-0.8.0-py2.py3-none-any.whl\n",
      "Collecting gast==0.2.2\n",
      "  Using cached https://files.pythonhosted.org/packages/4e/35/11749bf99b2d4e3cceb4d55ca22590b0d7c2c62b9de38ac4a4a7f4687421/gast-0.2.2.tar.gz\n",
      "Collecting tensorboard<2.1.0,>=2.0.0\n",
      "  Downloading https://files.pythonhosted.org/packages/9b/a6/e8ffa4e2ddb216449d34cfcb825ebb38206bee5c4553d69e7bc8bc2c5d64/tensorboard-2.0.0-py3-none-any.whl (3.8MB)\n",
      "Collecting grpcio>=1.8.6\n",
      "  Downloading https://files.pythonhosted.org/packages/0d/bc/60eeb61f97837475dae356afa797c54ea6db986afaf6c6d6320a572ff8aa/grpcio-1.24.3-cp37-cp37m-win_amd64.whl (1.6MB)\n",
      "Requirement already satisfied: keras-applications>=1.0.8 in c:\\users\\guofe\\appdata\\local\\programs\\python\\python37\\lib\\site-packages (from tensorflow-gpu) (1.0.8)\n",
      "Processing c:\\users\\guofe\\appdata\\local\\pip\\cache\\wheels\\7c\\06\\54\\bc84598ba1daf8f970247f550b175aaaee85f68b4b0c5ab2c6\\termcolor-1.1.0-cp37-none-any.whl\n",
      "Processing c:\\users\\guofe\\appdata\\local\\pip\\cache\\wheels\\d7\\de\\2e\\efa132238792efb6459a96e85916ef8597fcb3d2ae51590dfd\\wrapt-1.11.2-cp37-cp37m-win_amd64.whl\n",
      "Requirement already satisfied: six>=1.10.0 in c:\\users\\guofe\\appdata\\local\\programs\\python\\python37\\lib\\site-packages (from tensorflow-gpu) (1.12.0)\n",
      "Collecting wheel>=0.26\n",
      "  Using cached https://files.pythonhosted.org/packages/00/83/b4a77d044e78ad1a45610eb88f745be2fd2c6d658f9798a15e384b7d57c9/wheel-0.33.6-py2.py3-none-any.whl\n",
      "Collecting opt-einsum>=2.3.2\n",
      "  Downloading https://files.pythonhosted.org/packages/b8/83/755bd5324777875e9dff19c2e59daec837d0378c09196634524a3d7269ac/opt_einsum-3.1.0.tar.gz (69kB)\n",
      "Requirement already satisfied: numpy<2.0,>=1.16.0 in c:\\users\\guofe\\appdata\\local\\programs\\python\\python37\\lib\\site-packages (from tensorflow-gpu) (1.17.3)\n",
      "Requirement already satisfied: keras-preprocessing>=1.0.5 in c:\\users\\guofe\\appdata\\local\\programs\\python\\python37\\lib\\site-packages (from tensorflow-gpu) (1.1.0)\n",
      "Collecting google-pasta>=0.1.6\n",
      "  Using cached https://files.pythonhosted.org/packages/d0/33/376510eb8d6246f3c30545f416b2263eee461e40940c2a4413c711bdf62d/google_pasta-0.1.7-py3-none-any.whl\n",
      "Collecting tensorflow-estimator<2.1.0,>=2.0.0\n",
      "  Downloading https://files.pythonhosted.org/packages/fc/08/8b927337b7019c374719145d1dceba21a8bb909b93b1ad6f8fb7d22c1ca1/tensorflow_estimator-2.0.1-py2.py3-none-any.whl (449kB)\n",
      "Collecting absl-py>=0.7.0\n",
      "  Downloading https://files.pythonhosted.org/packages/3b/72/e6e483e2db953c11efa44ee21c5fdb6505c4dffa447b4263ca8af6676b62/absl-py-0.8.1.tar.gz (103kB)\n",
      "Collecting protobuf>=3.6.1\n",
      "  Downloading https://files.pythonhosted.org/packages/a8/ae/a11b9b0c8e2410b11887881990b71f54ec39b17c4de2b5d850ef66aade8c/protobuf-3.10.0-cp37-cp37m-win_amd64.whl (1.0MB)\n",
      "Collecting setuptools>=41.0.0\n",
      "  Downloading https://files.pythonhosted.org/packages/6a/9a/50fadfd53ec909e4399b67c74cc7f4e883488035cfcdb90b685758fa8b34/setuptools-41.4.0-py2.py3-none-any.whl (580kB)\n",
      "Collecting markdown>=2.6.8\n",
      "  Using cached https://files.pythonhosted.org/packages/c0/4e/fd492e91abdc2d2fcb70ef453064d980688762079397f779758e055f6575/Markdown-3.1.1-py2.py3-none-any.whl\n",
      "Collecting werkzeug>=0.11.15\n",
      "  Downloading https://files.pythonhosted.org/packages/ce/42/3aeda98f96e85fd26180534d36570e4d18108d62ae36f87694b476b83d6f/Werkzeug-0.16.0-py2.py3-none-any.whl (327kB)\n",
      "Requirement already satisfied: h5py in c:\\users\\guofe\\appdata\\local\\programs\\python\\python37\\lib\\site-packages (from keras-applications>=1.0.8->tensorflow-gpu) (2.10.0)\n",
      "Installing collected packages: astor, gast, setuptools, markdown, absl-py, werkzeug, grpcio, wheel, protobuf, tensorboard, termcolor, wrapt, opt-einsum, google-pasta, tensorflow-estimator, tensorflow-gpu\n",
      "    Running setup.py install for gast: started\n",
      "    Running setup.py install for gast: finished with status 'done'\n",
      "  Found existing installation: setuptools 40.8.0\n",
      "    Uninstalling setuptools-40.8.0:\n",
      "      Successfully uninstalled setuptools-40.8.0\n",
      "    Running setup.py install for absl-py: started\n",
      "    Running setup.py install for absl-py: finished with status 'done'\n",
      "    Running setup.py install for opt-einsum: started\n",
      "    Running setup.py install for opt-einsum: finished with status 'done'\n",
      "Successfully installed absl-py-0.8.1 astor-0.8.0 gast-0.2.2 google-pasta-0.1.7 grpcio-1.24.3 markdown-3.1.1 opt-einsum-3.1.0 protobuf-3.10.0 setuptools-41.4.0 tensorboard-2.0.0 tensorflow-estimator-2.0.1 tensorflow-gpu-2.0.0 termcolor-1.1.0 werkzeug-0.16.0 wheel-0.33.6 wrapt-1.11.2\n"
     ]
    }
   ],
   "source": [
    "!pip install tensorflow-gpu"
   ]
  },
  {
   "cell_type": "code",
   "execution_count": null,
   "metadata": {
    "pycharm": {
     "name": "#%%\n"
    },
    "scrolled": true
   },
   "outputs": [
    {
     "name": "stdout",
     "output_type": "stream",
     "text": [
      "Train on 7200 samples, validate on 1800 samples\n",
      "Epoch 1/20\n",
      "7200/7200 [==============================] - 24s 3ms/step - loss: 1.8231 - accuracy: 0.3324 - val_loss: 1.5083 - val_accuracy: 0.4078\n",
      "Epoch 2/20\n",
      "7200/7200 [==============================] - 25s 3ms/step - loss: 1.4669 - accuracy: 0.4404 - val_loss: 1.2522 - val_accuracy: 0.5111\n",
      "Epoch 3/20\n",
      "7200/7200 [==============================] - 26s 4ms/step - loss: 1.2796 - accuracy: 0.4917 - val_loss: 1.1161 - val_accuracy: 0.5439\n",
      "Epoch 4/20\n",
      "7200/7200 [==============================] - 27s 4ms/step - loss: 1.1869 - accuracy: 0.5185 - val_loss: 1.0617 - val_accuracy: 0.5789\n",
      "Epoch 5/20\n",
      "7200/7200 [==============================] - 28s 4ms/step - loss: 1.1142 - accuracy: 0.5462 - val_loss: 0.9894 - val_accuracy: 0.6022\n",
      "Epoch 6/20\n",
      "7200/7200 [==============================] - 30s 4ms/step - loss: 1.0781 - accuracy: 0.5549 - val_loss: 0.9500 - val_accuracy: 0.6228\n",
      "Epoch 7/20\n",
      "7200/7200 [==============================] - 30s 4ms/step - loss: 1.0426 - accuracy: 0.5774 - val_loss: 0.9276 - val_accuracy: 0.6267\n",
      "Epoch 8/20\n",
      "7200/7200 [==============================] - 32s 4ms/step - loss: 1.0111 - accuracy: 0.5951 - val_loss: 0.9005 - val_accuracy: 0.6433\n",
      "Epoch 9/20\n",
      "7200/7200 [==============================] - 28s 4ms/step - loss: 0.9820 - accuracy: 0.6021 - val_loss: 0.8765 - val_accuracy: 0.6528\n",
      "Epoch 10/20\n",
      "7200/7200 [==============================] - 28s 4ms/step - loss: 0.9628 - accuracy: 0.6074 - val_loss: 0.8751 - val_accuracy: 0.6567\n",
      "Epoch 11/20\n",
      "7200/7200 [==============================] - 27s 4ms/step - loss: 0.9508 - accuracy: 0.6147 - val_loss: 0.8689 - val_accuracy: 0.6561\n",
      "Epoch 12/20\n",
      "7200/7200 [==============================] - 28s 4ms/step - loss: 0.9252 - accuracy: 0.6267 - val_loss: 0.8464 - val_accuracy: 0.6567\n",
      "Epoch 13/20\n",
      "7200/7200 [==============================] - 28s 4ms/step - loss: 0.9254 - accuracy: 0.6250 - val_loss: 0.8468 - val_accuracy: 0.6600\n",
      "Epoch 14/20\n",
      "2800/7200 [==========>...................] - ETA: 15s - loss: 0.9188 - accuracy: 0.6268"
     ]
    }
   ],
   "source": [
    "# ------------------------------\n",
    "# https://towardsdatascience.com/recurrent-neural-networks-by-example-in-python-ffd204f99470\n",
    "from keras.models import Sequential\n",
    "from keras.layers import LSTM, Dense, Dropout, Masking, Embedding\n",
    "\n",
    "model = Sequential()\n",
    "\n",
    "batch_size = 100\n",
    "\n",
    "# Recurrent layer\n",
    "model.add(LSTM(64, batch_input_shape=(batch_size, 256, 12), return_sequences=False, dropout=0.1, recurrent_dropout=0.1))\n",
    "\n",
    "# Fully connected layer\n",
    "model.add(Dense(64, activation='relu'))\n",
    "\n",
    "# Dropout for regularization\n",
    "model.add(Dropout(0.5))\n",
    "\n",
    "# Output layer\n",
    "model.add(Dense(8, activation='softmax'))\n",
    "\n",
    "# Compile the model\n",
    "model.compile(optimizer='adam', loss='categorical_crossentropy', metrics=['accuracy'])\n",
    "\n",
    "STEPS = X_train.shape[0] // 20\n",
    "# VALID_STEPS = validation_generator.n // 20\n",
    "\n",
    "history = model.fit(X_train, y_train, epochs=20, batch_size=batch_size, validation_split=0.2, verbose=1)\n"
   ]
  },
  {
   "cell_type": "code",
   "execution_count": null,
   "metadata": {},
   "outputs": [],
   "source": [
    "score = model.evaluate(X_test, y_test, verbose=0)\n",
    "print('Test Loss:', score[0])\n",
    "print('Test accuracy:', score[1])"
   ]
  }
 ],
 "metadata": {
  "colab": {
   "name": "GUOFENG_CA3.ipynb",
   "provenance": []
  },
  "kernelspec": {
   "display_name": "Python 3",
   "language": "python",
   "name": "python3"
  },
  "language_info": {
   "codemirror_mode": {
    "name": "ipython",
    "version": 3
   },
   "file_extension": ".py",
   "mimetype": "text/x-python",
   "name": "python",
   "nbconvert_exporter": "python",
   "pygments_lexer": "ipython3",
   "version": "3.7.4"
  },
  "pycharm": {
   "stem_cell": {
    "cell_type": "raw",
    "metadata": {
     "collapsed": false
    },
    "source": []
   }
  }
 },
 "nbformat": 4,
 "nbformat_minor": 1
}
