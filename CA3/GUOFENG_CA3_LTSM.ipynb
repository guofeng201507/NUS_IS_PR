{
 "cells": [
  {
   "cell_type": "code",
   "execution_count": 2,
   "metadata": {
    "colab": {
     "base_uri": "https://localhost:8080/",
     "height": 34
    },
    "colab_type": "code",
    "id": "6bX1Ws4siSUu",
    "outputId": "2990c0ac-a834-4032-fa6c-4c41eba0dc3f",
    "pycharm": {
     "is_executing": false
    }
   },
   "outputs": [],
   "source": [
    "import os\n",
    "import scipy.io\n",
    "import numpy as np\n",
    "import pandas as pd\n",
    "\n",
    "# Set data folder path\n",
    "DATA_FOLDER = r'D:/NUS_TERM2_CA3/MAREA_dataset'\n",
    "\n",
    "ACTIVITY_FOLDER = os.path.join(DATA_FOLDER, 'Activity Timings')\n",
    "SUBJECT_FOLDER = os.path.join(DATA_FOLDER, 'Subject_Data_txt_format')\n",
    "\n",
    "\n",
    "###########################################################################\n",
    "# treadWalk       = indoor_time['indoorTime'][:,1:2]\n",
    "# treadIncline    = indoor_time['indoorTime'][:,4:5]\n",
    "# treadWalknRun   = indoor_time['indoorTime'][:,1:3]\n",
    "# indoorWalk      = indoor_time['indoorTime'][:,6:7]\n",
    "# indoorRun       = indoor_time['indoorTime'][:,6:8]\n",
    "# outdoorWalk     = outdoor_time['outdoorTime'][:,1:2]\n",
    "# outdoorWalknRun = outdoor_time['outdoorTime'][:,1:3]\n",
    "###########################################################################\n",
    "\n",
    "###########################################################################\n",
    "# Subject numbers 1 to 11 are involved in Indoor Experiments\n",
    "# Subject numbers 12 to 20 are involved in Outdoor Experiments\n",
    "###########################################################################\n",
    "\n",
    "###########################################################################\n",
    "# There are five Indoor Activity labels:\n",
    "# actIndex = 1 -> treadWalk\n",
    "# actIndex = 2 -> treadIncline\n",
    "# actIndex = 3 -> treadWalknRun\n",
    "# actIndex = 4 -> indoorWalk\n",
    "# actIndex = 5 -> indoorWalknRun\n",
    "\n",
    "# There are two Outdoor Activity labels:\n",
    "# actIndex = 1 -> outdoorWalk\n",
    "# actIndex = 2 -> outdoorWalknRun\n",
    "###########################################################################\n",
    "\n",
    "###########################################################################\n",
    "# There are four accelerometer positions (accPos) to choose from:\n",
    "# accPos = 1 -> Left Foot\n",
    "# accPos = 2 -> Right Foot\n",
    "# accPos = 3 -> Waist\n",
    "# accPos = 4 -> Wrist\n",
    "###########################################################################"
   ]
  },
  {
   "cell_type": "code",
   "execution_count": 3,
   "metadata": {
    "colab": {
     "base_uri": "https://localhost:8080/",
     "height": 458
    },
    "colab_type": "code",
    "id": "jcAsA04JjP2U",
    "outputId": "3a752545-ad65-427e-a83d-2d5962480c47"
   },
   "outputs": [
    {
     "name": "stdout",
     "output_type": "stream",
     "text": [
      "    tread_flat_walk_start  tread_flat_walk_end  tread_flat_run_end  \\\n",
      "0                       1                55931               85681   \n",
      "1                       1                40911               84991   \n",
      "2                       1                62261               83961   \n",
      "3                       1                45781               84551   \n",
      "4                       1                63971               85121   \n",
      "5                       1                69381               84781   \n",
      "6                       1                46331               83761   \n",
      "7                       1                53801               84811   \n",
      "8                       1                69131               84661   \n",
      "9                       1                70041               84941   \n",
      "10                      1                77641               84741   \n",
      "\n",
      "    tread_slope_walk_start  tread_slope_walk_end  indoor_flat_walk_start  \\\n",
      "0                   102181                180281                  223681   \n",
      "1                   181091                262291                  289991   \n",
      "2                    98361                181061                  211061   \n",
      "3                    95851                177951                  193651   \n",
      "4                    97621                177921                  209821   \n",
      "5                    90081                169381                  189181   \n",
      "6                   101561                184861                  210361   \n",
      "7                    98711                183211                  224211   \n",
      "8                    98261                177561                  199861   \n",
      "9                    91941                175641                  195041   \n",
      "10                   98841                186141                  229541   \n",
      "\n",
      "    indoor_flat_walk_end  indoor_flat_run_end subject  \n",
      "0                 246381               271681    Sub1  \n",
      "1                 313491               336391    Sub2  \n",
      "2                 234261               257861    Sub3  \n",
      "3                 216851               239951    Sub4  \n",
      "4                 233021               257021    Sub5  \n",
      "5                 211981               235981    Sub6  \n",
      "6                 232761               255761    Sub7  \n",
      "7                 246811               270311    Sub8  \n",
      "8                 223061               246761    Sub9  \n",
      "9                 217941               240741   Sub10  \n",
      "10                252241               276041   Sub11  \n",
      "   outdoor_walk_start  outdoor_walk_end  outdoor_run_end subject\n",
      "0                   1             23691            49651   Sub12\n",
      "1                   1             47911            71011   Sub13\n",
      "2                   1             23551            43581   Sub14\n",
      "3                   1             22701            33140   Sub15\n",
      "4                   1             23581            46651   Sub16\n",
      "5                   1             23761            47261   Sub17\n",
      "6                   1             23801            48801   Sub18\n",
      "7                   1             23441            47141   Sub19\n",
      "8                   1             23401            32201   Sub20\n"
     ]
    }
   ],
   "source": [
    "# Define Activity Labels\n",
    "indoor_label = ['tread_flat_walk_start', \n",
    "                'tread_flat_walk_end',\n",
    "                'tread_flat_run_end',\n",
    "                'tread_slope_walk_start',\n",
    "                'tread_slope_walk_end',\n",
    "                'indoor_flat_walk_start',\n",
    "                'indoor_flat_walk_end',\n",
    "                'indoor_flat_run_end'\n",
    "               ]\n",
    "\n",
    "outdoor_label = ['outdoor_walk_start',\n",
    "                 'outdoor_walk_end',\n",
    "                 'outdoor_run_end']\n",
    "\n",
    "indoor_time_df = pd.read_csv(os.path.join(ACTIVITY_FOLDER, 'Indoor Experiment Timings.txt')\n",
    "                            , names= indoor_label)\n",
    "\n",
    "outdoor_time_df = pd.read_csv(os.path.join(ACTIVITY_FOLDER, 'Outdoor Experiment Timings.txt')\n",
    "                            , names=outdoor_label)\n",
    "\n",
    "indoor_time_df[\"subject\"] = [\"Sub\" + str(i) for i in range(1, 12)]\n",
    "outdoor_time_df[\"subject\"] = [\"Sub\" + str(j) for j in range(12, 21)]\n",
    "\n",
    "print(indoor_time_df)\n",
    "print(outdoor_time_df)"
   ]
  },
  {
   "cell_type": "code",
   "execution_count": 4,
   "metadata": {},
   "outputs": [],
   "source": [
    "pos_list = ['LF','RF','Waist','Wrist']\n",
    "sub_list = [\"Sub\" + str(i) for i in range(1, 21)]\n",
    "sub_list.remove('Sub4')\n"
   ]
  },
  {
   "cell_type": "code",
   "execution_count": 7,
   "metadata": {},
   "outputs": [],
   "source": [
    "from scipy import sparse\n",
    "from scipy.sparse.linalg import spsolve\n",
    "import numpy as np\n",
    "import pywt\n",
    "\n",
    "def alsbase(y, lam, p, niter=10):\n",
    "    L = len(y)\n",
    "    D = sparse.diags([1,-2,1],[0,-1,-2], shape=(L,L-2))\n",
    "    w = np.ones(L)\n",
    "    for i in range(niter):\n",
    "        W = sparse.spdiags(w, 0, L, L)\n",
    "        Z = W + lam * D.dot(D.transpose())\n",
    "        z = spsolve(Z, w*y)\n",
    "        w = p * (y > z) + (1-p) * (y < z)\n",
    "    return z\n",
    "\n",
    "def denoise(signal_orig):\n",
    "    coeffs_orig = pywt.wavedec(signal_orig, 'db4', level=2)\n",
    "    coeffs_filter = coeffs_orig.copy()\n",
    "\n",
    "    threshold = 0.8\n",
    "\n",
    "    for i in range(1, len(coeffs_orig)):\n",
    "        coeffs_filter[i] = pywt.threshold(coeffs_orig[i], threshold*max(coeffs_orig[i]))\n",
    "\n",
    "    signal_denoised = pywt.waverec(coeffs_filter, 'db4')\n",
    "    \n",
    "    return signal_denoised"
   ]
  },
  {
   "cell_type": "code",
   "execution_count": 12,
   "metadata": {},
   "outputs": [
    {
     "name": "stdout",
     "output_type": "stream",
     "text": [
      "   accX_LF  accY_LF  accZ_LF  accX_RF  accY_RF  accZ_RF  accX_Waist  \\\n",
      "0   -2.196  -11.765   -1.569    4.078   -6.902    2.196      -0.157   \n",
      "1   -2.510  -10.353   -2.039    4.392   -8.000    1.255      -0.157   \n",
      "2   -2.353  -10.824   -2.510    4.863   -8.314    0.941      -0.157   \n",
      "3   -1.882  -10.667   -2.667    4.549   -9.412   -0.157      -0.157   \n",
      "4   -1.412  -10.353   -2.824    3.451  -10.353   -0.784      -0.627   \n",
      "\n",
      "   accY_Waist  accZ_Waist  accX_Wrist  accY_Wrist  accZ_Wrist  \n",
      "0      -8.157       0.784       0.941     -11.451      -2.510  \n",
      "1      -8.000       1.255       0.627     -10.510      -2.353  \n",
      "2      -7.843       1.255       0.784     -10.196      -2.039  \n",
      "3      -8.000       1.412       1.255     -10.039      -1.412  \n",
      "4      -7.529       1.882       1.569     -10.196      -1.255  \n",
      "(271681,)\n"
     ]
    },
    {
     "ename": "ValueError",
     "evalue": "Length of values does not match length of index",
     "output_type": "error",
     "traceback": [
      "\u001b[1;31m---------------------------------------------------------------------------\u001b[0m",
      "\u001b[1;31mValueError\u001b[0m                                Traceback (most recent call last)",
      "\u001b[1;32m<ipython-input-12-a842e5e06a1c>\u001b[0m in \u001b[0;36m<module>\u001b[1;34m\u001b[0m\n\u001b[0;32m     19\u001b[0m     \u001b[1;32mfor\u001b[0m \u001b[0mcolumn\u001b[0m \u001b[1;32min\u001b[0m \u001b[0mnew_names\u001b[0m\u001b[1;33m:\u001b[0m\u001b[1;33m\u001b[0m\u001b[1;33m\u001b[0m\u001b[0m\n\u001b[0;32m     20\u001b[0m         \u001b[0mprint\u001b[0m\u001b[1;33m(\u001b[0m\u001b[0msub_df_new\u001b[0m\u001b[1;33m[\u001b[0m\u001b[0mcolumn\u001b[0m\u001b[1;33m]\u001b[0m\u001b[1;33m.\u001b[0m\u001b[0mvalues\u001b[0m\u001b[1;33m.\u001b[0m\u001b[0mshape\u001b[0m\u001b[1;33m)\u001b[0m\u001b[1;33m\u001b[0m\u001b[1;33m\u001b[0m\u001b[0m\n\u001b[1;32m---> 21\u001b[1;33m         \u001b[0msub_df_new\u001b[0m\u001b[1;33m[\u001b[0m\u001b[0mcolumn\u001b[0m\u001b[1;33m]\u001b[0m \u001b[1;33m=\u001b[0m \u001b[0mdenoise\u001b[0m\u001b[1;33m(\u001b[0m\u001b[0msub_df_new\u001b[0m\u001b[1;33m[\u001b[0m\u001b[0mcolumn\u001b[0m\u001b[1;33m]\u001b[0m\u001b[1;33m.\u001b[0m\u001b[0mvalues\u001b[0m\u001b[1;33m)\u001b[0m\u001b[1;33m\u001b[0m\u001b[1;33m\u001b[0m\u001b[0m\n\u001b[0m\u001b[0;32m     22\u001b[0m \u001b[1;31m#         sub_df_new[column] = sub_df_new[column] - alsbase(sub_df_new[column], 10^5,0.000005,niter=10)\u001b[0m\u001b[1;33m\u001b[0m\u001b[1;33m\u001b[0m\u001b[1;33m\u001b[0m\u001b[0m\n\u001b[0;32m     23\u001b[0m \u001b[1;33m\u001b[0m\u001b[0m\n",
      "\u001b[1;32mc:\\users\\guofe\\workspace\\nus_is_pr\\venv\\lib\\site-packages\\pandas\\core\\frame.py\u001b[0m in \u001b[0;36m__setitem__\u001b[1;34m(self, key, value)\u001b[0m\n\u001b[0;32m   3368\u001b[0m         \u001b[1;32melse\u001b[0m\u001b[1;33m:\u001b[0m\u001b[1;33m\u001b[0m\u001b[1;33m\u001b[0m\u001b[0m\n\u001b[0;32m   3369\u001b[0m             \u001b[1;31m# set column\u001b[0m\u001b[1;33m\u001b[0m\u001b[1;33m\u001b[0m\u001b[1;33m\u001b[0m\u001b[0m\n\u001b[1;32m-> 3370\u001b[1;33m             \u001b[0mself\u001b[0m\u001b[1;33m.\u001b[0m\u001b[0m_set_item\u001b[0m\u001b[1;33m(\u001b[0m\u001b[0mkey\u001b[0m\u001b[1;33m,\u001b[0m \u001b[0mvalue\u001b[0m\u001b[1;33m)\u001b[0m\u001b[1;33m\u001b[0m\u001b[1;33m\u001b[0m\u001b[0m\n\u001b[0m\u001b[0;32m   3371\u001b[0m \u001b[1;33m\u001b[0m\u001b[0m\n\u001b[0;32m   3372\u001b[0m     \u001b[1;32mdef\u001b[0m \u001b[0m_setitem_slice\u001b[0m\u001b[1;33m(\u001b[0m\u001b[0mself\u001b[0m\u001b[1;33m,\u001b[0m \u001b[0mkey\u001b[0m\u001b[1;33m,\u001b[0m \u001b[0mvalue\u001b[0m\u001b[1;33m)\u001b[0m\u001b[1;33m:\u001b[0m\u001b[1;33m\u001b[0m\u001b[1;33m\u001b[0m\u001b[0m\n",
      "\u001b[1;32mc:\\users\\guofe\\workspace\\nus_is_pr\\venv\\lib\\site-packages\\pandas\\core\\frame.py\u001b[0m in \u001b[0;36m_set_item\u001b[1;34m(self, key, value)\u001b[0m\n\u001b[0;32m   3443\u001b[0m \u001b[1;33m\u001b[0m\u001b[0m\n\u001b[0;32m   3444\u001b[0m         \u001b[0mself\u001b[0m\u001b[1;33m.\u001b[0m\u001b[0m_ensure_valid_index\u001b[0m\u001b[1;33m(\u001b[0m\u001b[0mvalue\u001b[0m\u001b[1;33m)\u001b[0m\u001b[1;33m\u001b[0m\u001b[1;33m\u001b[0m\u001b[0m\n\u001b[1;32m-> 3445\u001b[1;33m         \u001b[0mvalue\u001b[0m \u001b[1;33m=\u001b[0m \u001b[0mself\u001b[0m\u001b[1;33m.\u001b[0m\u001b[0m_sanitize_column\u001b[0m\u001b[1;33m(\u001b[0m\u001b[0mkey\u001b[0m\u001b[1;33m,\u001b[0m \u001b[0mvalue\u001b[0m\u001b[1;33m)\u001b[0m\u001b[1;33m\u001b[0m\u001b[1;33m\u001b[0m\u001b[0m\n\u001b[0m\u001b[0;32m   3446\u001b[0m         \u001b[0mNDFrame\u001b[0m\u001b[1;33m.\u001b[0m\u001b[0m_set_item\u001b[0m\u001b[1;33m(\u001b[0m\u001b[0mself\u001b[0m\u001b[1;33m,\u001b[0m \u001b[0mkey\u001b[0m\u001b[1;33m,\u001b[0m \u001b[0mvalue\u001b[0m\u001b[1;33m)\u001b[0m\u001b[1;33m\u001b[0m\u001b[1;33m\u001b[0m\u001b[0m\n\u001b[0;32m   3447\u001b[0m \u001b[1;33m\u001b[0m\u001b[0m\n",
      "\u001b[1;32mc:\\users\\guofe\\workspace\\nus_is_pr\\venv\\lib\\site-packages\\pandas\\core\\frame.py\u001b[0m in \u001b[0;36m_sanitize_column\u001b[1;34m(self, key, value, broadcast)\u001b[0m\n\u001b[0;32m   3628\u001b[0m \u001b[1;33m\u001b[0m\u001b[0m\n\u001b[0;32m   3629\u001b[0m             \u001b[1;31m# turn me into an ndarray\u001b[0m\u001b[1;33m\u001b[0m\u001b[1;33m\u001b[0m\u001b[1;33m\u001b[0m\u001b[0m\n\u001b[1;32m-> 3630\u001b[1;33m             \u001b[0mvalue\u001b[0m \u001b[1;33m=\u001b[0m \u001b[0msanitize_index\u001b[0m\u001b[1;33m(\u001b[0m\u001b[0mvalue\u001b[0m\u001b[1;33m,\u001b[0m \u001b[0mself\u001b[0m\u001b[1;33m.\u001b[0m\u001b[0mindex\u001b[0m\u001b[1;33m,\u001b[0m \u001b[0mcopy\u001b[0m\u001b[1;33m=\u001b[0m\u001b[1;32mFalse\u001b[0m\u001b[1;33m)\u001b[0m\u001b[1;33m\u001b[0m\u001b[1;33m\u001b[0m\u001b[0m\n\u001b[0m\u001b[0;32m   3631\u001b[0m             \u001b[1;32mif\u001b[0m \u001b[1;32mnot\u001b[0m \u001b[0misinstance\u001b[0m\u001b[1;33m(\u001b[0m\u001b[0mvalue\u001b[0m\u001b[1;33m,\u001b[0m \u001b[1;33m(\u001b[0m\u001b[0mnp\u001b[0m\u001b[1;33m.\u001b[0m\u001b[0mndarray\u001b[0m\u001b[1;33m,\u001b[0m \u001b[0mIndex\u001b[0m\u001b[1;33m)\u001b[0m\u001b[1;33m)\u001b[0m\u001b[1;33m:\u001b[0m\u001b[1;33m\u001b[0m\u001b[1;33m\u001b[0m\u001b[0m\n\u001b[0;32m   3632\u001b[0m                 \u001b[1;32mif\u001b[0m \u001b[0misinstance\u001b[0m\u001b[1;33m(\u001b[0m\u001b[0mvalue\u001b[0m\u001b[1;33m,\u001b[0m \u001b[0mlist\u001b[0m\u001b[1;33m)\u001b[0m \u001b[1;32mand\u001b[0m \u001b[0mlen\u001b[0m\u001b[1;33m(\u001b[0m\u001b[0mvalue\u001b[0m\u001b[1;33m)\u001b[0m \u001b[1;33m>\u001b[0m \u001b[1;36m0\u001b[0m\u001b[1;33m:\u001b[0m\u001b[1;33m\u001b[0m\u001b[1;33m\u001b[0m\u001b[0m\n",
      "\u001b[1;32mc:\\users\\guofe\\workspace\\nus_is_pr\\venv\\lib\\site-packages\\pandas\\core\\internals\\construction.py\u001b[0m in \u001b[0;36msanitize_index\u001b[1;34m(data, index, copy)\u001b[0m\n\u001b[0;32m    517\u001b[0m \u001b[1;33m\u001b[0m\u001b[0m\n\u001b[0;32m    518\u001b[0m     \u001b[1;32mif\u001b[0m \u001b[0mlen\u001b[0m\u001b[1;33m(\u001b[0m\u001b[0mdata\u001b[0m\u001b[1;33m)\u001b[0m \u001b[1;33m!=\u001b[0m \u001b[0mlen\u001b[0m\u001b[1;33m(\u001b[0m\u001b[0mindex\u001b[0m\u001b[1;33m)\u001b[0m\u001b[1;33m:\u001b[0m\u001b[1;33m\u001b[0m\u001b[1;33m\u001b[0m\u001b[0m\n\u001b[1;32m--> 519\u001b[1;33m         \u001b[1;32mraise\u001b[0m \u001b[0mValueError\u001b[0m\u001b[1;33m(\u001b[0m\u001b[1;34m'Length of values does not match length of index'\u001b[0m\u001b[1;33m)\u001b[0m\u001b[1;33m\u001b[0m\u001b[1;33m\u001b[0m\u001b[0m\n\u001b[0m\u001b[0;32m    520\u001b[0m \u001b[1;33m\u001b[0m\u001b[0m\n\u001b[0;32m    521\u001b[0m     \u001b[1;32mif\u001b[0m \u001b[0misinstance\u001b[0m\u001b[1;33m(\u001b[0m\u001b[0mdata\u001b[0m\u001b[1;33m,\u001b[0m \u001b[0mABCIndexClass\u001b[0m\u001b[1;33m)\u001b[0m \u001b[1;32mand\u001b[0m \u001b[1;32mnot\u001b[0m \u001b[0mcopy\u001b[0m\u001b[1;33m:\u001b[0m\u001b[1;33m\u001b[0m\u001b[1;33m\u001b[0m\u001b[0m\n",
      "\u001b[1;31mValueError\u001b[0m: Length of values does not match length of index"
     ]
    }
   ],
   "source": [
    "\n",
    "new_names = ['accX_LF', 'accY_LF', 'accZ_LF', \n",
    "            'accX_RF', 'accY_RF', 'accZ_RF', \n",
    "             'accX_Waist', 'accY_Waist', 'accZ_Waist', \n",
    "             'accX_Wrist', 'accY_Wrist', 'accZ_Wrist'            \n",
    "            ]\n",
    "\n",
    "sub_df = None\n",
    "\n",
    "for sub in sub_list:\n",
    "    lf_df = pd.read_csv(os.path.join(SUBJECT_FOLDER, sub + '_' + 'LF.txt'))\n",
    "    rf_df = pd.read_csv(os.path.join(SUBJECT_FOLDER, sub + '_' + 'RF.txt'))\n",
    "    waist_df = pd.read_csv(os.path.join(SUBJECT_FOLDER, sub + '_' + 'Waist.txt'))\n",
    "    wrist_df = pd.read_csv(os.path.join(SUBJECT_FOLDER, sub + '_' + 'Wrist.txt'))\n",
    "    sub_df = pd.concat([lf_df, rf_df, waist_df, wrist_df], axis=1)\n",
    "    sub_df.columns = new_names\n",
    "    print(sub_df.head())\n",
    "\n",
    "    sub_df_new = sub_df.copy()\n",
    "    sub_df_new = denoise(sub_df_new.values)\n",
    "    sub_df_new.columns = new_names\n",
    "    print(sub_df_new.head())\n",
    "\n",
    "    for column in new_names:\n",
    "        sub_df_new[column] = sub_df_new[column] - alsbase(sub_df_new[column], 10 ^ 5, 0.000005, niter=10)\n",
    "\n",
    "    n = int(sub[3:])\n",
    "    if n > 11:\n",
    "        sub_row = outdoor_time_df[outdoor_time_df['subject'] == sub]\n",
    "        tmp = sub_row.iloc[0]\n",
    "        sub_df_new.loc[0:tmp['outdoor_walk_end'], 'label'] = 'outdoor_walk'\n",
    "        sub_df_new.loc[tmp['outdoor_walk_end']: tmp['outdoor_run_end'], 'label'] = 'outdoor_run'\n",
    "    else:\n",
    "        sub_row = indoor_time_df[indoor_time_df['subject'] == sub]\n",
    "        tmp = sub_row.iloc[0]\n",
    "        sub_df_new.loc[0:tmp['tread_flat_walk_end'], 'label'] = 'tread_flat_walk'\n",
    "        sub_df_new.loc[tmp['tread_flat_walk_end']: tmp['tread_flat_run_end'], 'label'] = 'tread_flat_run'\n",
    "        sub_df_new.loc[tmp['tread_flat_run_end']: tmp['tread_slope_walk_start'], 'label'] = 'rest'\n",
    "        sub_df_new.loc[tmp['tread_slope_walk_start']: tmp['tread_slope_walk_end'], 'label'] = 'tread_slope_walk'\n",
    "        sub_df_new.loc[tmp['tread_slope_walk_end']: tmp['indoor_flat_walk_start'], 'label'] = 'rest'\n",
    "        sub_df_new.loc[tmp['indoor_flat_walk_start']: tmp['indoor_flat_walk_end'], 'label'] = 'indoor_flat_walk'\n",
    "        sub_df_new.loc[tmp['indoor_flat_walk_end']: tmp['indoor_flat_run_end'], 'label'] = 'indoor_flat_run'\n",
    "\n",
    "    print(sub_df_new)\n",
    "    sub_df_new.to_csv(sub + '_processed.csv')"
   ]
  },
  {
   "cell_type": "code",
   "execution_count": 3,
   "metadata": {
    "pycharm": {
     "is_executing": true
    }
   },
   "outputs": [
    {
     "name": "stdout",
     "output_type": "stream",
     "text": [
      "    accX_LF   accY_LF   accZ_LF    accX_RF    accY_RF    accZ_RF  accX_Waist  accY_Waist  accZ_Waist  accX_Wrist  accY_Wrist  accZ_Wrist            label\n",
      "0  0.332763  4.665276  1.203748  29.928555  39.261268  29.893765    4.085569   12.973653   16.509466    4.599891    0.317562   -0.000466  tread_flat_walk\n",
      "1 -0.119334  6.199085  0.927106  30.093561  37.685433  28.674644    4.088255   13.046742   16.670780    4.285543    1.170696    0.114250  tread_flat_walk\n",
      "2 -0.100431  5.849893  0.649464  30.415558  36.893585  28.082513    4.090938   13.119826   16.361089    4.442194    1.396830    0.385996  tread_flat_walk\n",
      "3  0.240428  6.128695  0.685820  29.952524  35.317699  26.706353    4.093618   12.878897   16.208382    4.912840    1.465963    0.970805  tread_flat_walk\n",
      "4  0.602893  6.564487  0.722174  28.705430  33.898736  25.801135    3.626290   13.265941   16.368641    5.226477    1.221095    1.085706  tread_flat_walk\n"
     ]
    }
   ],
   "source": [
    "import os\n",
    "\n",
    "import pandas as pd\n",
    "\n",
    "pd.set_option('display.max_columns', 500)\n",
    "pd.set_option('display.width', 1000)\n",
    "\n",
    "DATA_FOLDER = r'D:/NUS_TERM2_CA3/MAREA_dataset'\n",
    "PROCESSED_FOLDER = os.path.join(DATA_FOLDER, 'Processed_data')\n",
    "\n",
    "sub_list = [\"Sub\" + str(i) for i in range(2, 21)]\n",
    "sub_list.remove('Sub4')\n",
    "\n",
    "\n",
    "full_df = pd.read_csv(os.path.join(PROCESSED_FOLDER, 'Sub1_processed.csv'))\n",
    "\n",
    "full_df = full_df.drop(full_df.columns[[0]], axis=1)\n",
    "\n",
    "# for sub in sub_list:\n",
    "#     tmp_df = pd.read_csv(sub + '_' + 'processed.csv')\n",
    "#     tmp_df = tmp_df.drop(tmp_df.columns[[0]], axis=1)\n",
    "#\n",
    "#     full_df.append(tmp_df)\n",
    "\n",
    "print(full_df.head())\n",
    "\n",
    "\n",
    "\n",
    "\n",
    "# print(X.corr())"
   ]
  },
  {
   "cell_type": "code",
   "execution_count": 7,
   "metadata": {},
   "outputs": [
    {
     "name": "stdout",
     "output_type": "stream",
     "text": [
      "(55931, 13)\n",
      "(29750, 13)\n",
      "(78100, 13)\n",
      "(22700, 13)\n",
      "(59900, 13)\n"
     ]
    }
   ],
   "source": [
    "df_tread_flat_walk = full_df[full_df['label'] == 'tread_flat_walk']\n",
    "print(df_tread_flat_walk.shape)\n",
    "\n",
    "df_tread_flat_run = full_df[full_df['label'] == 'tread_flat_run']\n",
    "print(df_tread_flat_run.shape)\n",
    "\n",
    "df_tread_slope_walk = full_df[full_df['label'] == 'tread_slope_walk']\n",
    "print(df_tread_slope_walk.shape)\n",
    "\n",
    "df_indoor_flat_walk = full_df[full_df['label'] == 'indoor_flat_walk']\n",
    "print(df_indoor_flat_walk.shape)\n",
    "\n",
    "df_rest = full_df[full_df['label'] == 'rest']\n",
    "print(df_rest.shape)\n"
   ]
  },
  {
   "cell_type": "code",
   "execution_count": 23,
   "metadata": {},
   "outputs": [],
   "source": [
    "window_size = 256\n",
    "number_columns = 13\n",
    "\n",
    "def reshape_df(df, window_size, number_columns):\n",
    "    n_drop = df.shape[0] % window_size\n",
    "    n_samples = df.shape[0] // window_size\n",
    "    df = df[:-n_drop]\n",
    "    return df.values.reshape(n_samples, window_size, number_columns), n_samples, df.iloc[0][12]\n",
    "\n"
   ]
  },
  {
   "cell_type": "code",
   "execution_count": 24,
   "metadata": {},
   "outputs": [
    {
     "name": "stdout",
     "output_type": "stream",
     "text": [
      "(218, 256, 13)\n",
      "(218, 256, 12)\n",
      "(218,)\n",
      "0    tread_flat_walk\n",
      "1    tread_flat_walk\n",
      "2    tread_flat_walk\n",
      "3    tread_flat_walk\n",
      "4    tread_flat_walk\n",
      "dtype: object\n"
     ]
    }
   ],
   "source": [
    "df_tread_flat_walk_3d, n_samples, label = reshape_df(df_tread_flat_walk, window_size, number_columns)\n",
    "\n",
    "print(df_tread_flat_walk_3d.shape)\n",
    "# print(df_tread_flat_walk_3d)\n",
    "\n",
    "df_tread_flat_walk_array = df_tread_flat_walk_3d[:,:,:-1]\n",
    "print(df_tread_flat_walk_array.shape)\n",
    "\n",
    "df_tread_flat_walk_label = pd.Series([label for _ in range(n_samples)])\n",
    "print(df_tread_flat_walk_label.shape)\n",
    "print(df_tread_flat_walk_label.head())"
   ]
  },
  {
   "cell_type": "code",
   "execution_count": null,
   "metadata": {},
   "outputs": [],
   "source": []
  },
  {
   "cell_type": "code",
   "execution_count": 17,
   "metadata": {},
   "outputs": [
    {
     "name": "stdout",
     "output_type": "stream",
     "text": [
      "(271681,)\n",
      "<class 'pandas.core.series.Series'>\n"
     ]
    }
   ],
   "source": [
    "y = full_df['label']\n",
    "print(y.shape)\n",
    "print(type(y))\n",
    "X = full_df.drop('label', axis=1)"
   ]
  },
  {
   "cell_type": "code",
   "execution_count": 3,
   "metadata": {},
   "outputs": [
    {
     "name": "stdout",
     "output_type": "stream",
     "text": [
      "(203760, 12)\n",
      "(203760,)\n"
     ]
    }
   ],
   "source": [
    "from sklearn.model_selection import train_test_split, cross_val_score\n",
    "\n",
    "\n",
    "#https://machinelearningmastery.com/index-slice-reshape-numpy-arrays-machine-learning-python/\n",
    "\n",
    "X_train, X_test, y_train, y_test = train_test_split(X, y, test_size=1 / 4, random_state=5)\n",
    "\n",
    "print(X_train.shape)\n",
    "print(y_train.shape)\n",
    "# print(X_train.describe())\n",
    "# print(y_train.describe())"
   ]
  },
  {
   "cell_type": "code",
   "execution_count": 3,
   "metadata": {
    "pycharm": {
     "name": "#%%\n"
    }
   },
   "outputs": [
    {
     "name": "stderr",
     "output_type": "stream",
     "text": [
      "Using TensorFlow backend.\n"
     ]
    },
    {
     "ename": "ValueError",
     "evalue": "invalid literal for int() with base 10: 'tread_slope_walk'",
     "output_type": "error",
     "traceback": [
      "\u001b[1;31m---------------------------------------------------------------------------\u001b[0m",
      "\u001b[1;31mValueError\u001b[0m                                Traceback (most recent call last)",
      "\u001b[1;32m<ipython-input-3-b90752f5597d>\u001b[0m in \u001b[0;36m<module>\u001b[1;34m\u001b[0m\n\u001b[0;32m      8\u001b[0m \u001b[0mepochs\u001b[0m \u001b[1;33m=\u001b[0m \u001b[1;36m20\u001b[0m\u001b[1;33m\u001b[0m\u001b[1;33m\u001b[0m\u001b[0m\n\u001b[0;32m      9\u001b[0m \u001b[1;33m\u001b[0m\u001b[0m\n\u001b[1;32m---> 10\u001b[1;33m \u001b[0my_train\u001b[0m \u001b[1;33m=\u001b[0m \u001b[0mto_categorical\u001b[0m\u001b[1;33m(\u001b[0m\u001b[0my_train\u001b[0m\u001b[1;33m,\u001b[0m \u001b[1;36m6\u001b[0m\u001b[1;33m)\u001b[0m\u001b[1;33m\u001b[0m\u001b[1;33m\u001b[0m\u001b[0m\n\u001b[0m\u001b[0;32m     11\u001b[0m \u001b[0my_test\u001b[0m \u001b[1;33m=\u001b[0m \u001b[0mto_categorical\u001b[0m\u001b[1;33m(\u001b[0m\u001b[0my_test\u001b[0m\u001b[1;33m,\u001b[0m \u001b[1;36m6\u001b[0m\u001b[1;33m)\u001b[0m\u001b[1;33m\u001b[0m\u001b[1;33m\u001b[0m\u001b[0m\n\u001b[0;32m     12\u001b[0m \u001b[1;33m\u001b[0m\u001b[0m\n",
      "\u001b[1;32mc:\\users\\guofe\\workspace\\nus_is_pr\\venv\\lib\\site-packages\\keras\\utils\\np_utils.py\u001b[0m in \u001b[0;36mto_categorical\u001b[1;34m(y, num_classes, dtype)\u001b[0m\n\u001b[0;32m     41\u001b[0m     \"\"\"\n\u001b[0;32m     42\u001b[0m \u001b[1;33m\u001b[0m\u001b[0m\n\u001b[1;32m---> 43\u001b[1;33m     \u001b[0my\u001b[0m \u001b[1;33m=\u001b[0m \u001b[0mnp\u001b[0m\u001b[1;33m.\u001b[0m\u001b[0marray\u001b[0m\u001b[1;33m(\u001b[0m\u001b[0my\u001b[0m\u001b[1;33m,\u001b[0m \u001b[0mdtype\u001b[0m\u001b[1;33m=\u001b[0m\u001b[1;34m'int'\u001b[0m\u001b[1;33m)\u001b[0m\u001b[1;33m\u001b[0m\u001b[1;33m\u001b[0m\u001b[0m\n\u001b[0m\u001b[0;32m     44\u001b[0m     \u001b[0minput_shape\u001b[0m \u001b[1;33m=\u001b[0m \u001b[0my\u001b[0m\u001b[1;33m.\u001b[0m\u001b[0mshape\u001b[0m\u001b[1;33m\u001b[0m\u001b[1;33m\u001b[0m\u001b[0m\n\u001b[0;32m     45\u001b[0m     \u001b[1;32mif\u001b[0m \u001b[0minput_shape\u001b[0m \u001b[1;32mand\u001b[0m \u001b[0minput_shape\u001b[0m\u001b[1;33m[\u001b[0m\u001b[1;33m-\u001b[0m\u001b[1;36m1\u001b[0m\u001b[1;33m]\u001b[0m \u001b[1;33m==\u001b[0m \u001b[1;36m1\u001b[0m \u001b[1;32mand\u001b[0m \u001b[0mlen\u001b[0m\u001b[1;33m(\u001b[0m\u001b[0minput_shape\u001b[0m\u001b[1;33m)\u001b[0m \u001b[1;33m>\u001b[0m \u001b[1;36m1\u001b[0m\u001b[1;33m:\u001b[0m\u001b[1;33m\u001b[0m\u001b[1;33m\u001b[0m\u001b[0m\n",
      "\u001b[1;32mc:\\users\\guofe\\workspace\\nus_is_pr\\venv\\lib\\site-packages\\pandas\\core\\series.py\u001b[0m in \u001b[0;36m__array__\u001b[1;34m(self, dtype)\u001b[0m\n\u001b[0;32m    726\u001b[0m             \u001b[0mwarnings\u001b[0m\u001b[1;33m.\u001b[0m\u001b[0mwarn\u001b[0m\u001b[1;33m(\u001b[0m\u001b[0mmsg\u001b[0m\u001b[1;33m,\u001b[0m \u001b[0mFutureWarning\u001b[0m\u001b[1;33m,\u001b[0m \u001b[0mstacklevel\u001b[0m\u001b[1;33m=\u001b[0m\u001b[1;36m3\u001b[0m\u001b[1;33m)\u001b[0m\u001b[1;33m\u001b[0m\u001b[1;33m\u001b[0m\u001b[0m\n\u001b[0;32m    727\u001b[0m             \u001b[0mdtype\u001b[0m \u001b[1;33m=\u001b[0m \u001b[1;34m'M8[ns]'\u001b[0m\u001b[1;33m\u001b[0m\u001b[1;33m\u001b[0m\u001b[0m\n\u001b[1;32m--> 728\u001b[1;33m         \u001b[1;32mreturn\u001b[0m \u001b[0mnp\u001b[0m\u001b[1;33m.\u001b[0m\u001b[0masarray\u001b[0m\u001b[1;33m(\u001b[0m\u001b[0mself\u001b[0m\u001b[1;33m.\u001b[0m\u001b[0marray\u001b[0m\u001b[1;33m,\u001b[0m \u001b[0mdtype\u001b[0m\u001b[1;33m)\u001b[0m\u001b[1;33m\u001b[0m\u001b[1;33m\u001b[0m\u001b[0m\n\u001b[0m\u001b[0;32m    729\u001b[0m \u001b[1;33m\u001b[0m\u001b[0m\n\u001b[0;32m    730\u001b[0m     \u001b[1;32mdef\u001b[0m \u001b[0m__array_wrap__\u001b[0m\u001b[1;33m(\u001b[0m\u001b[0mself\u001b[0m\u001b[1;33m,\u001b[0m \u001b[0mresult\u001b[0m\u001b[1;33m,\u001b[0m \u001b[0mcontext\u001b[0m\u001b[1;33m=\u001b[0m\u001b[1;32mNone\u001b[0m\u001b[1;33m)\u001b[0m\u001b[1;33m:\u001b[0m\u001b[1;33m\u001b[0m\u001b[1;33m\u001b[0m\u001b[0m\n",
      "\u001b[1;32mc:\\users\\guofe\\workspace\\nus_is_pr\\venv\\lib\\site-packages\\numpy\\core\\numeric.py\u001b[0m in \u001b[0;36masarray\u001b[1;34m(a, dtype, order)\u001b[0m\n\u001b[0;32m    536\u001b[0m \u001b[1;33m\u001b[0m\u001b[0m\n\u001b[0;32m    537\u001b[0m     \"\"\"\n\u001b[1;32m--> 538\u001b[1;33m     \u001b[1;32mreturn\u001b[0m \u001b[0marray\u001b[0m\u001b[1;33m(\u001b[0m\u001b[0ma\u001b[0m\u001b[1;33m,\u001b[0m \u001b[0mdtype\u001b[0m\u001b[1;33m,\u001b[0m \u001b[0mcopy\u001b[0m\u001b[1;33m=\u001b[0m\u001b[1;32mFalse\u001b[0m\u001b[1;33m,\u001b[0m \u001b[0morder\u001b[0m\u001b[1;33m=\u001b[0m\u001b[0morder\u001b[0m\u001b[1;33m)\u001b[0m\u001b[1;33m\u001b[0m\u001b[1;33m\u001b[0m\u001b[0m\n\u001b[0m\u001b[0;32m    539\u001b[0m \u001b[1;33m\u001b[0m\u001b[0m\n\u001b[0;32m    540\u001b[0m \u001b[1;33m\u001b[0m\u001b[0m\n",
      "\u001b[1;32mc:\\users\\guofe\\workspace\\nus_is_pr\\venv\\lib\\site-packages\\pandas\\core\\arrays\\numpy_.py\u001b[0m in \u001b[0;36m__array__\u001b[1;34m(self, dtype)\u001b[0m\n\u001b[0;32m    169\u001b[0m \u001b[1;33m\u001b[0m\u001b[0m\n\u001b[0;32m    170\u001b[0m     \u001b[1;32mdef\u001b[0m \u001b[0m__array__\u001b[0m\u001b[1;33m(\u001b[0m\u001b[0mself\u001b[0m\u001b[1;33m,\u001b[0m \u001b[0mdtype\u001b[0m\u001b[1;33m=\u001b[0m\u001b[1;32mNone\u001b[0m\u001b[1;33m)\u001b[0m\u001b[1;33m:\u001b[0m\u001b[1;33m\u001b[0m\u001b[1;33m\u001b[0m\u001b[0m\n\u001b[1;32m--> 171\u001b[1;33m         \u001b[1;32mreturn\u001b[0m \u001b[0mnp\u001b[0m\u001b[1;33m.\u001b[0m\u001b[0masarray\u001b[0m\u001b[1;33m(\u001b[0m\u001b[0mself\u001b[0m\u001b[1;33m.\u001b[0m\u001b[0m_ndarray\u001b[0m\u001b[1;33m,\u001b[0m \u001b[0mdtype\u001b[0m\u001b[1;33m=\u001b[0m\u001b[0mdtype\u001b[0m\u001b[1;33m)\u001b[0m\u001b[1;33m\u001b[0m\u001b[1;33m\u001b[0m\u001b[0m\n\u001b[0m\u001b[0;32m    172\u001b[0m \u001b[1;33m\u001b[0m\u001b[0m\n\u001b[0;32m    173\u001b[0m     \u001b[0m_HANDLED_TYPES\u001b[0m \u001b[1;33m=\u001b[0m \u001b[1;33m(\u001b[0m\u001b[0mnp\u001b[0m\u001b[1;33m.\u001b[0m\u001b[0mndarray\u001b[0m\u001b[1;33m,\u001b[0m \u001b[0mnumbers\u001b[0m\u001b[1;33m.\u001b[0m\u001b[0mNumber\u001b[0m\u001b[1;33m)\u001b[0m\u001b[1;33m\u001b[0m\u001b[1;33m\u001b[0m\u001b[0m\n",
      "\u001b[1;32mc:\\users\\guofe\\workspace\\nus_is_pr\\venv\\lib\\site-packages\\numpy\\core\\numeric.py\u001b[0m in \u001b[0;36masarray\u001b[1;34m(a, dtype, order)\u001b[0m\n\u001b[0;32m    536\u001b[0m \u001b[1;33m\u001b[0m\u001b[0m\n\u001b[0;32m    537\u001b[0m     \"\"\"\n\u001b[1;32m--> 538\u001b[1;33m     \u001b[1;32mreturn\u001b[0m \u001b[0marray\u001b[0m\u001b[1;33m(\u001b[0m\u001b[0ma\u001b[0m\u001b[1;33m,\u001b[0m \u001b[0mdtype\u001b[0m\u001b[1;33m,\u001b[0m \u001b[0mcopy\u001b[0m\u001b[1;33m=\u001b[0m\u001b[1;32mFalse\u001b[0m\u001b[1;33m,\u001b[0m \u001b[0morder\u001b[0m\u001b[1;33m=\u001b[0m\u001b[0morder\u001b[0m\u001b[1;33m)\u001b[0m\u001b[1;33m\u001b[0m\u001b[1;33m\u001b[0m\u001b[0m\n\u001b[0m\u001b[0;32m    539\u001b[0m \u001b[1;33m\u001b[0m\u001b[0m\n\u001b[0;32m    540\u001b[0m \u001b[1;33m\u001b[0m\u001b[0m\n",
      "\u001b[1;31mValueError\u001b[0m: invalid literal for int() with base 10: 'tread_slope_walk'"
     ]
    }
   ],
   "source": [
    "from sklearn.model_selection import train_test_split, cross_val_score\n",
    "\n",
    "X_train, X_test, y_train, y_test = train_test_split(X, y, test_size=1 / 4, random_state=5)\n",
    "\n",
    "print(X_train.shape)\n",
    "print(y_train.shape)\n",
    "print(X_train.describe())\n",
    "print(y_train.describe())\n",
    "# ------------------------------\n",
    "# https://towardsdatascience.com/recurrent-neural-networks-by-example-in-python-ffd204f99470\n",
    "\n",
    "from keras.models import Sequential\n",
    "from keras.layers import LSTM, Dense, Dropout, Masking, Embedding\n",
    "\n",
    "model = Sequential()\n",
    "# Recurrent layer\n",
    "model.add(LSTM(64, batch_input_shape=(8, 256,10), return_sequences=False, dropout=0.1, recurrent_dropout=0.1))\n",
    "\n",
    "# Fully connected layer\n",
    "model.add(Dense(64, activation='relu'))\n",
    "\n",
    "# Dropout for regularization\n",
    "model.add(Dropout(0.5))\n",
    "\n",
    "# Output layer\n",
    "model.add(Dense(6, activation='softmax'))\n",
    "\n",
    "# Compile the model\n",
    "model.compile(optimizer='adam', loss='categorical_crossentropy', metrics=['accuracy'])\n",
    "\n",
    "history = model.fit(X_train, y_train, epochs=20, batch_size=128, validation_split=0.2, verbose=1)\n",
    "\n",
    "score = model.evaluate(X_test, y_test, verbose=0)\n",
    "print('Test Loss:', score[0])\n",
    "print('Test accuracy:', score[1])\n"
   ]
  }
 ],
 "metadata": {
  "colab": {
   "name": "GUOFENG_CA3.ipynb",
   "provenance": []
  },
  "kernelspec": {
   "display_name": "Python 3",
   "language": "python",
   "name": "python3"
  },
  "language_info": {
   "codemirror_mode": {
    "name": "ipython",
    "version": 3
   },
   "file_extension": ".py",
   "mimetype": "text/x-python",
   "name": "python",
   "nbconvert_exporter": "python",
   "pygments_lexer": "ipython3",
   "version": "3.7.3"
  },
  "pycharm": {
   "stem_cell": {
    "cell_type": "raw",
    "metadata": {
     "collapsed": false
    },
    "source": []
   }
  }
 },
 "nbformat": 4,
 "nbformat_minor": 1
}
