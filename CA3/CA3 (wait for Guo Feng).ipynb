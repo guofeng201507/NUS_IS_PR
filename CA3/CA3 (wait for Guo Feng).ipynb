{
 "nbformat": 4,
 "nbformat_minor": 0,
 "metadata": {
  "kernelspec": {
   "display_name": "Python 3",
   "language": "python",
   "name": "python3"
  },
  "language_info": {
   "codemirror_mode": {
    "name": "ipython",
    "version": 3
   },
   "file_extension": ".py",
   "mimetype": "text/x-python",
   "name": "python",
   "nbconvert_exporter": "python",
   "pygments_lexer": "ipython3",
   "version": "3.6.9"
  },
  "varInspector": {
   "cols": {
    "lenName": 16,
    "lenType": 16,
    "lenVar": 40
   },
   "kernels_config": {
    "python": {
     "delete_cmd_postfix": "",
     "delete_cmd_prefix": "del ",
     "library": "var_list.py",
     "varRefreshCmd": "print(var_dic_list())"
    },
    "r": {
     "delete_cmd_postfix": ") ",
     "delete_cmd_prefix": "rm(",
     "library": "var_list.r",
     "varRefreshCmd": "cat(var_dic_list()) "
    }
   },
   "types_to_exclude": [
    "module",
    "function",
    "builtin_function_or_method",
    "instance",
    "_Feature"
   ],
   "window_display": false
  },
  "colab": {
   "name": "CA3 (wait for Guo Feng).ipynb",
   "provenance": [
    {
     "file_id": "1Ea-NOJBL8OMf8Uid-kGHJ8n0-bEch-zd",
     "timestamp": 1572162182682
    }
   ],
   "collapsed_sections": [],
   "toc_visible": true
  },
  "pycharm": {
   "stem_cell": {
    "cell_type": "raw",
    "source": [],
    "metadata": {
     "collapsed": false
    }
   }
  }
 },
 "cells": [
  {
   "cell_type": "markdown",
   "metadata": {
    "id": "3WXwEE2OCJyu",
    "colab_type": "text"
   },
   "source": [
    "# Import Data"
   ]
  },
  {
   "cell_type": "code",
   "metadata": {
    "id": "18Itw25J_BXE",
    "colab_type": "code",
    "colab": {
     "base_uri": "https://localhost:8080/",
     "height": 241
    },
    "outputId": "6cdcdc70-db41-40c4-820e-4e2131cdd844",
    "executionInfo": {
     "status": "ok",
     "timestamp": 1572162396151,
     "user_tz": -480,
     "elapsed": 7103,
     "user": {
      "displayName": "Jiahao Lu",
      "photoUrl": "https://lh3.googleusercontent.com/a-/AAuE7mCSedBqA0sbYDHljONdK7tmdMcHsqoSqAqt1MIkhO4=s64",
      "userId": "06740036021251600378"
     }
    },
    "pycharm": {
     "is_executing": false
    }
   },
   "source": [
    "import numpy as np\n",
    "import pandas as pd\n",
    "import os\n",
    "import scipy.io\n",
    "import scipy.signal as signal\n",
    "from scipy.signal import find_peaks\n",
    "\n",
    "import itertools\n",
    "\n",
    "from sklearn.preprocessing import MinMaxScaler\n",
    "from sklearn.metrics import confusion_matrix, accuracy_score, classification_report\n",
    "from keras.utils import to_categorical\n",
    "\n",
    "from mlxtend.plotting import plot_confusion_matrix\n",
    "\n",
    "import matplotlib.pyplot as plt\n",
    "import pywt\n",
    "import time\n",
    "\n",
    "from keras.models import Sequential, Model\n",
    "from keras.layers import Dense, Flatten, Dropout, LSTM, Input\n",
    "from keras.utils import to_categorical\n",
    "from keras.callbacks import ModelCheckpoint,CSVLogger\n",
    "\n",
    "# from keras.models import Sequential\n",
    "# from keras.layers import Dense, Dropout, LSTM, Activation\n",
    "# from keras.callbacks import EarlyStopping\n",
    "\n",
    "# plt.style.use('ggplot')\n",
    "from warnings import filterwarnings\n",
    "filterwarnings('ignore')\n",
    "%matplotlib inline  "
   ],
   "execution_count": 1,
   "outputs": [
    {
     "name": "stderr",
     "text": [
      "c:\\users\\guofe\\workspace\\nus_is_pr\\venv\\lib\\site-packages\\tensorflow\\python\\framework\\dtypes.py:516: FutureWarning: Passing (type, 1) or '1type' as a synonym of type is deprecated; in a future version of numpy, it will be understood as (type, (1,)) / '(1,)type'.\n  _np_qint8 = np.dtype([(\"qint8\", np.int8, 1)])\nc:\\users\\guofe\\workspace\\nus_is_pr\\venv\\lib\\site-packages\\tensorflow\\python\\framework\\dtypes.py:517: FutureWarning: Passing (type, 1) or '1type' as a synonym of type is deprecated; in a future version of numpy, it will be understood as (type, (1,)) / '(1,)type'.\n  _np_quint8 = np.dtype([(\"quint8\", np.uint8, 1)])\nc:\\users\\guofe\\workspace\\nus_is_pr\\venv\\lib\\site-packages\\tensorflow\\python\\framework\\dtypes.py:518: FutureWarning: Passing (type, 1) or '1type' as a synonym of type is deprecated; in a future version of numpy, it will be understood as (type, (1,)) / '(1,)type'.\n  _np_qint16 = np.dtype([(\"qint16\", np.int16, 1)])\nc:\\users\\guofe\\workspace\\nus_is_pr\\venv\\lib\\site-packages\\tensorflow\\python\\framework\\dtypes.py:519: FutureWarning: Passing (type, 1) or '1type' as a synonym of type is deprecated; in a future version of numpy, it will be understood as (type, (1,)) / '(1,)type'.\n  _np_quint16 = np.dtype([(\"quint16\", np.uint16, 1)])\nc:\\users\\guofe\\workspace\\nus_is_pr\\venv\\lib\\site-packages\\tensorflow\\python\\framework\\dtypes.py:520: FutureWarning: Passing (type, 1) or '1type' as a synonym of type is deprecated; in a future version of numpy, it will be understood as (type, (1,)) / '(1,)type'.\n  _np_qint32 = np.dtype([(\"qint32\", np.int32, 1)])\nc:\\users\\guofe\\workspace\\nus_is_pr\\venv\\lib\\site-packages\\tensorflow\\python\\framework\\dtypes.py:525: FutureWarning: Passing (type, 1) or '1type' as a synonym of type is deprecated; in a future version of numpy, it will be understood as (type, (1,)) / '(1,)type'.\n  np_resource = np.dtype([(\"resource\", np.ubyte, 1)])\n",
      "c:\\users\\guofe\\workspace\\nus_is_pr\\venv\\lib\\site-packages\\tensorboard\\compat\\tensorflow_stub\\dtypes.py:541: FutureWarning: Passing (type, 1) or '1type' as a synonym of type is deprecated; in a future version of numpy, it will be understood as (type, (1,)) / '(1,)type'.\n  _np_qint8 = np.dtype([(\"qint8\", np.int8, 1)])\nc:\\users\\guofe\\workspace\\nus_is_pr\\venv\\lib\\site-packages\\tensorboard\\compat\\tensorflow_stub\\dtypes.py:542: FutureWarning: Passing (type, 1) or '1type' as a synonym of type is deprecated; in a future version of numpy, it will be understood as (type, (1,)) / '(1,)type'.\n  _np_quint8 = np.dtype([(\"quint8\", np.uint8, 1)])\nc:\\users\\guofe\\workspace\\nus_is_pr\\venv\\lib\\site-packages\\tensorboard\\compat\\tensorflow_stub\\dtypes.py:543: FutureWarning: Passing (type, 1) or '1type' as a synonym of type is deprecated; in a future version of numpy, it will be understood as (type, (1,)) / '(1,)type'.\n  _np_qint16 = np.dtype([(\"qint16\", np.int16, 1)])\nc:\\users\\guofe\\workspace\\nus_is_pr\\venv\\lib\\site-packages\\tensorboard\\compat\\tensorflow_stub\\dtypes.py:544: FutureWarning: Passing (type, 1) or '1type' as a synonym of type is deprecated; in a future version of numpy, it will be understood as (type, (1,)) / '(1,)type'.\n  _np_quint16 = np.dtype([(\"quint16\", np.uint16, 1)])\nc:\\users\\guofe\\workspace\\nus_is_pr\\venv\\lib\\site-packages\\tensorboard\\compat\\tensorflow_stub\\dtypes.py:545: FutureWarning: Passing (type, 1) or '1type' as a synonym of type is deprecated; in a future version of numpy, it will be understood as (type, (1,)) / '(1,)type'.\n  _np_qint32 = np.dtype([(\"qint32\", np.int32, 1)])\nc:\\users\\guofe\\workspace\\nus_is_pr\\venv\\lib\\site-packages\\tensorboard\\compat\\tensorflow_stub\\dtypes.py:550: FutureWarning: Passing (type, 1) or '1type' as a synonym of type is deprecated; in a future version of numpy, it will be understood as (type, (1,)) / '(1,)type'.\n  np_resource = np.dtype([(\"resource\", np.ubyte, 1)])\n"
     ],
     "output_type": "stream"
    },
    {
     "traceback": [
      "\u001b[1;31m---------------------------------------------------------------------------\u001b[0m",
      "\u001b[1;31mModuleNotFoundError\u001b[0m                       Traceback (most recent call last)",
      "\u001b[1;32m<ipython-input-1-8bf47455e419>\u001b[0m in \u001b[0;36m<module>\u001b[1;34m\u001b[0m\n\u001b[0;32m     12\u001b[0m \u001b[1;32mfrom\u001b[0m \u001b[0mtensorflow\u001b[0m\u001b[1;33m.\u001b[0m\u001b[0mkeras\u001b[0m\u001b[1;33m.\u001b[0m\u001b[0mutils\u001b[0m \u001b[1;32mimport\u001b[0m \u001b[0mto_categorical\u001b[0m\u001b[1;33m\u001b[0m\u001b[1;33m\u001b[0m\u001b[0m\n\u001b[0;32m     13\u001b[0m \u001b[1;33m\u001b[0m\u001b[0m\n\u001b[1;32m---> 14\u001b[1;33m \u001b[1;32mfrom\u001b[0m \u001b[0mmlxtend\u001b[0m\u001b[1;33m.\u001b[0m\u001b[0mplotting\u001b[0m \u001b[1;32mimport\u001b[0m \u001b[0mplot_confusion_matrix\u001b[0m\u001b[1;33m\u001b[0m\u001b[1;33m\u001b[0m\u001b[0m\n\u001b[0m\u001b[0;32m     15\u001b[0m \u001b[1;33m\u001b[0m\u001b[0m\n\u001b[0;32m     16\u001b[0m \u001b[1;32mimport\u001b[0m \u001b[0mmatplotlib\u001b[0m\u001b[1;33m.\u001b[0m\u001b[0mpyplot\u001b[0m \u001b[1;32mas\u001b[0m \u001b[0mplt\u001b[0m\u001b[1;33m\u001b[0m\u001b[1;33m\u001b[0m\u001b[0m\n",
      "\u001b[1;31mModuleNotFoundError\u001b[0m: No module named 'mlxtend'"
     ],
     "ename": "ModuleNotFoundError",
     "evalue": "No module named 'mlxtend'",
     "output_type": "error"
    }
   ]
  },
  {
   "cell_type": "code",
   "metadata": {
    "id": "44bERuDj_BXK",
    "colab_type": "code",
    "colab": {}
   },
   "source": [
    "# set data folder path\n",
    "# DATA_FOLDER = 'D:\\\\NUS\\\\semester 2\\\\Course 3\\\\CA\\\\MAREA_dataset'\n",
    "# DATA_FOLDER = '/Users/jiahao/Downloads/MAREA_dataset'\n",
    "DATA_FOLDER = r'D:/NUS_TERM2_CA3/MAREA_dataset'\n",
    "# DATA_FOLDER = 'C:/Users/david/Documents/CA3/MAREA_dataset-201/MAREA_dataset'\n",
    "ACTIVITY_FOLDER = os.path.join(DATA_FOLDER, 'Activity Timings')\n",
    "SUBJECT_FOLDER = os.path.join(DATA_FOLDER, 'Subject Data_txt format')\n",
    "PROCESSED_FOLDER = os.path.join(DATA_FOLDER, 'Processed_data')\n",
    "\n",
    "# define activity timing labels\n",
    "label_indoor = ['tread_flat_walk_start',\n",
    "                'tread_flat_walk_end',\n",
    "                'tread_flat_run_end',\n",
    "                'tread_slope_walk_start',\n",
    "                'tread_slope_walk_end',\n",
    "                'indoor_flat_walk_start',\n",
    "                'indoor_flat_walk_end',\n",
    "                'indoor_flat_run_end']\n",
    "\n",
    "label_outdoor = ['outdoor_walk_start',\n",
    "                 'outdoor_walk_end',\n",
    "                 'outdoor_run_end']\n",
    "\n",
    "# prepare timing index for different activities\n",
    "df_indoor_time = pd.read_csv(os.path.join(ACTIVITY_FOLDER, 'Indoor Experiment Timings.txt')\n",
    "                             , names=label_indoor)\n",
    "\n",
    "df_outdoor_time = pd.read_csv(os.path.join(ACTIVITY_FOLDER, 'Outdoor Experiment Timings.txt')\n",
    "                              , names=label_outdoor)\n",
    "\n",
    "df_indoor_time[\"subject\"] = [\"Sub\" + str(i) for i in range(1, 12)]\n",
    "df_outdoor_time[\"subject\"] = [\"Sub\" + str(j) for j in range(12, 21)]"
   ],
   "execution_count": 0,
   "outputs": []
  },
  {
   "cell_type": "code",
   "metadata": {
    "id": "XHr9eQf5_BXR",
    "colab_type": "code",
    "colab": {}
   },
   "source": [
    "  # set up activity column names\n",
    "axis_list = ['accX', 'accY', 'accZ']\n",
    "pos_list = ['LF', 'RF', 'Waist', 'Wrist']\n",
    "sub_list = ['Sub' + str(i) for i in range(1, 21)]\n",
    "column_names = [f\"{y}_{x}\" for x,y in itertools.product(pos_list, axis_list)]\n",
    "\n",
    "# TODO: purposely exclude subject 4 first as missing data -- dont know how to deal with missing data for signal\n",
    "sub_list.remove('Sub4')"
   ],
   "execution_count": 0,
   "outputs": []
  },
  {
   "cell_type": "code",
   "metadata": {
    "id": "zWrJRkG7ESNH",
    "colab_type": "code",
    "outputId": "c3a05b1b-4b87-420a-cb85-10166dae5e38",
    "executionInfo": {
     "status": "ok",
     "timestamp": 1572162396186,
     "user_tz": -480,
     "elapsed": 7098,
     "user": {
      "displayName": "Jiahao Lu",
      "photoUrl": "https://lh3.googleusercontent.com/a-/AAuE7mCSedBqA0sbYDHljONdK7tmdMcHsqoSqAqt1MIkhO4=s64",
      "userId": "06740036021251600378"
     }
    },
    "colab": {
     "base_uri": "https://localhost:8080/",
     "height": 221
    }
   },
   "source": [
    "column_names"
   ],
   "execution_count": 4,
   "outputs": [
    {
     "output_type": "execute_result",
     "data": {
      "text/plain": [
       "['accX_LF',\n",
       " 'accY_LF',\n",
       " 'accZ_LF',\n",
       " 'accX_RF',\n",
       " 'accY_RF',\n",
       " 'accZ_RF',\n",
       " 'accX_Waist',\n",
       " 'accY_Waist',\n",
       " 'accZ_Waist',\n",
       " 'accX_Wrist',\n",
       " 'accY_Wrist',\n",
       " 'accZ_Wrist']"
      ]
     },
     "metadata": {
      "tags": []
     },
     "execution_count": 4
    }
   ]
  },
  {
   "cell_type": "code",
   "metadata": {
    "id": "jhvKltEZ_BXV",
    "colab_type": "code",
    "colab": {}
   },
   "source": [
    "# create master dataframe\n",
    "df = pd.DataFrame()\n",
    "for sub in sub_list:\n",
    "    df_lf = pd.read_csv(os.path.join(SUBJECT_FOLDER, sub + '_' + 'LF.txt'))\n",
    "    df_rf = pd.read_csv(os.path.join(SUBJECT_FOLDER, sub + '_' + 'RF.txt'))\n",
    "    df_waist = pd.read_csv(os.path.join(SUBJECT_FOLDER, sub + '_' + 'Waist.txt'))\n",
    "    df_wrist = pd.read_csv(os.path.join(SUBJECT_FOLDER, sub + '_' + 'Wrist.txt'))\n",
    "    df_sub = pd.concat([df_lf, df_rf, df_waist, df_wrist], axis=1)\n",
    "    df_sub.columns = column_names\n",
    "\n",
    "    df_sub = df_sub.copy()\n",
    "    n = int(sub[3:])\n",
    "    if n > 11:\n",
    "        sub_row = df_outdoor_time[df_outdoor_time['subject'] == sub]\n",
    "        tmp = sub_row.iloc[0]\n",
    "        df_sub.loc[0:tmp['outdoor_walk_end'], 'label'] = 'outdoor_walk'\n",
    "        df_sub.loc[tmp['outdoor_walk_end']: tmp['outdoor_run_end'], 'label'] = 'outdoor_run'\n",
    "    else:\n",
    "        sub_row = df_indoor_time[df_indoor_time['subject'] == sub]\n",
    "        tmp = sub_row.iloc[0]\n",
    "        df_sub.loc[0:tmp['tread_flat_walk_end'], 'label'] = 'tread_flat_walk'\n",
    "        df_sub.loc[tmp['tread_flat_walk_end']: tmp['tread_flat_run_end'],'label'] = 'tread_flat_run'\n",
    "        df_sub.loc[tmp['tread_flat_run_end']: tmp['tread_slope_walk_start'], 'label'] = 'rest'\n",
    "        df_sub.loc[tmp['tread_slope_walk_start']: tmp['tread_slope_walk_end'],'label'] = 'tread_slope_walk'\n",
    "        df_sub.loc[tmp['tread_slope_walk_end']: tmp['indoor_flat_walk_start'], 'label'] = 'rest'\n",
    "        df_sub.loc[tmp['indoor_flat_walk_start']: tmp['indoor_flat_walk_end'],'label'] = 'indoor_flat_walk'\n",
    "        df_sub.loc[tmp['indoor_flat_walk_end']: tmp['indoor_flat_run_end'],'label'] = 'indoor_flat_run'\n",
    "\n",
    "    df_sub['subject'] = sub\n",
    "    df = df.append(df_sub)\n",
    "    # print(df.shape)"
   ],
   "execution_count": 0,
   "outputs": []
  },
  {
   "cell_type": "code",
   "metadata": {
    "id": "tJ6waucV_BXX",
    "colab_type": "code",
    "outputId": "110c4eb8-7e37-4874-a012-04befdd9763b",
    "executionInfo": {
     "status": "ok",
     "timestamp": 1572162406598,
     "user_tz": -480,
     "elapsed": 17497,
     "user": {
      "displayName": "Jiahao Lu",
      "photoUrl": "https://lh3.googleusercontent.com/a-/AAuE7mCSedBqA0sbYDHljONdK7tmdMcHsqoSqAqt1MIkhO4=s64",
      "userId": "06740036021251600378"
     }
    },
    "colab": {
     "base_uri": "https://localhost:8080/",
     "height": 204
    }
   },
   "source": [
    "df.head(5)"
   ],
   "execution_count": 6,
   "outputs": [
    {
     "output_type": "execute_result",
     "data": {
      "text/plain": [
       "   accX_LF  accY_LF  accZ_LF  accX_RF  accY_RF  accZ_RF  accX_Waist  \\\n",
       "0   -2.196  -11.765   -1.569    4.078   -6.902    2.196      -0.157   \n",
       "1   -2.510  -10.353   -2.039    4.392   -8.000    1.255      -0.157   \n",
       "2   -2.353  -10.824   -2.510    4.863   -8.314    0.941      -0.157   \n",
       "3   -1.882  -10.667   -2.667    4.549   -9.412   -0.157      -0.157   \n",
       "4   -1.412  -10.353   -2.824    3.451  -10.353   -0.784      -0.627   \n",
       "\n",
       "   accY_Waist  accZ_Waist  accX_Wrist  accY_Wrist  accZ_Wrist  \\\n",
       "0      -8.157       0.784       0.941     -11.451      -2.510   \n",
       "1      -8.000       1.255       0.627     -10.510      -2.353   \n",
       "2      -7.843       1.255       0.784     -10.196      -2.039   \n",
       "3      -8.000       1.412       1.255     -10.039      -1.412   \n",
       "4      -7.529       1.882       1.569     -10.196      -1.255   \n",
       "\n",
       "             label subject  \n",
       "0  tread_flat_walk    Sub1  \n",
       "1  tread_flat_walk    Sub1  \n",
       "2  tread_flat_walk    Sub1  \n",
       "3  tread_flat_walk    Sub1  \n",
       "4  tread_flat_walk    Sub1  "
      ],
      "text/html": [
       "<div>\n",
       "<style scoped>\n",
       "    .dataframe tbody tr th:only-of-type {\n",
       "        vertical-align: middle;\n",
       "    }\n",
       "\n",
       "    .dataframe tbody tr th {\n",
       "        vertical-align: top;\n",
       "    }\n",
       "\n",
       "    .dataframe thead th {\n",
       "        text-align: right;\n",
       "    }\n",
       "</style>\n",
       "<table border=\"1\" class=\"dataframe\">\n",
       "  <thead>\n",
       "    <tr style=\"text-align: right;\">\n",
       "      <th></th>\n",
       "      <th>accX_LF</th>\n",
       "      <th>accY_LF</th>\n",
       "      <th>accZ_LF</th>\n",
       "      <th>accX_RF</th>\n",
       "      <th>accY_RF</th>\n",
       "      <th>accZ_RF</th>\n",
       "      <th>accX_Waist</th>\n",
       "      <th>accY_Waist</th>\n",
       "      <th>accZ_Waist</th>\n",
       "      <th>accX_Wrist</th>\n",
       "      <th>accY_Wrist</th>\n",
       "      <th>accZ_Wrist</th>\n",
       "      <th>label</th>\n",
       "      <th>subject</th>\n",
       "    </tr>\n",
       "  </thead>\n",
       "  <tbody>\n",
       "    <tr>\n",
       "      <th>0</th>\n",
       "      <td>-2.196</td>\n",
       "      <td>-11.765</td>\n",
       "      <td>-1.569</td>\n",
       "      <td>4.078</td>\n",
       "      <td>-6.902</td>\n",
       "      <td>2.196</td>\n",
       "      <td>-0.157</td>\n",
       "      <td>-8.157</td>\n",
       "      <td>0.784</td>\n",
       "      <td>0.941</td>\n",
       "      <td>-11.451</td>\n",
       "      <td>-2.510</td>\n",
       "      <td>tread_flat_walk</td>\n",
       "      <td>Sub1</td>\n",
       "    </tr>\n",
       "    <tr>\n",
       "      <th>1</th>\n",
       "      <td>-2.510</td>\n",
       "      <td>-10.353</td>\n",
       "      <td>-2.039</td>\n",
       "      <td>4.392</td>\n",
       "      <td>-8.000</td>\n",
       "      <td>1.255</td>\n",
       "      <td>-0.157</td>\n",
       "      <td>-8.000</td>\n",
       "      <td>1.255</td>\n",
       "      <td>0.627</td>\n",
       "      <td>-10.510</td>\n",
       "      <td>-2.353</td>\n",
       "      <td>tread_flat_walk</td>\n",
       "      <td>Sub1</td>\n",
       "    </tr>\n",
       "    <tr>\n",
       "      <th>2</th>\n",
       "      <td>-2.353</td>\n",
       "      <td>-10.824</td>\n",
       "      <td>-2.510</td>\n",
       "      <td>4.863</td>\n",
       "      <td>-8.314</td>\n",
       "      <td>0.941</td>\n",
       "      <td>-0.157</td>\n",
       "      <td>-7.843</td>\n",
       "      <td>1.255</td>\n",
       "      <td>0.784</td>\n",
       "      <td>-10.196</td>\n",
       "      <td>-2.039</td>\n",
       "      <td>tread_flat_walk</td>\n",
       "      <td>Sub1</td>\n",
       "    </tr>\n",
       "    <tr>\n",
       "      <th>3</th>\n",
       "      <td>-1.882</td>\n",
       "      <td>-10.667</td>\n",
       "      <td>-2.667</td>\n",
       "      <td>4.549</td>\n",
       "      <td>-9.412</td>\n",
       "      <td>-0.157</td>\n",
       "      <td>-0.157</td>\n",
       "      <td>-8.000</td>\n",
       "      <td>1.412</td>\n",
       "      <td>1.255</td>\n",
       "      <td>-10.039</td>\n",
       "      <td>-1.412</td>\n",
       "      <td>tread_flat_walk</td>\n",
       "      <td>Sub1</td>\n",
       "    </tr>\n",
       "    <tr>\n",
       "      <th>4</th>\n",
       "      <td>-1.412</td>\n",
       "      <td>-10.353</td>\n",
       "      <td>-2.824</td>\n",
       "      <td>3.451</td>\n",
       "      <td>-10.353</td>\n",
       "      <td>-0.784</td>\n",
       "      <td>-0.627</td>\n",
       "      <td>-7.529</td>\n",
       "      <td>1.882</td>\n",
       "      <td>1.569</td>\n",
       "      <td>-10.196</td>\n",
       "      <td>-1.255</td>\n",
       "      <td>tread_flat_walk</td>\n",
       "      <td>Sub1</td>\n",
       "    </tr>\n",
       "  </tbody>\n",
       "</table>\n",
       "</div>"
      ]
     },
     "metadata": {
      "tags": []
     },
     "execution_count": 6
    }
   ]
  },
  {
   "cell_type": "markdown",
   "metadata": {
    "id": "j9Q7R48-E1-v",
    "colab_type": "text"
   },
   "source": [
    "# Preprocess Data"
   ]
  },
  {
   "cell_type": "markdown",
   "metadata": {
    "id": "wRBBFYU0JRJJ",
    "colab_type": "text"
   },
   "source": [
    "## Function: Signal Processing (Split & Transformation)"
   ]
  },
  {
   "cell_type": "code",
   "metadata": {
    "id": "cGfJUaBc_BXb",
    "colab_type": "code",
    "colab": {}
   },
   "source": [
    "def PreprocessingSignal(df, label, subject, feature, window, \n",
    "                        wavelet_args = {\"type\":\"Y\",\n",
    "                                        \"threshold\":2, \n",
    "                                        \"wavedec_options\":{\"wavelet\":\"db4\", \"level\":2},\n",
    "                                        \"waverec_options\":{\"wavelet\":\"db4\"}},\n",
    "                        window_args = {\"type\":\"no_overlap\"}\n",
    "                       ):\n",
    "    \n",
    "    df = df.loc[(df['label'] == label) & (df['subject'] == subject)]\n",
    "    \n",
    "    ### Do wavelet transform or NOT ###\n",
    "    if wavelet_args[\"type\"] == \"Y\":\n",
    "        # wavelet_args = {\"threshold\":2, \"options\":{\"wavelet\":\"db4\", \"level\":0.8}}\n",
    "        # Do wavelet transform\n",
    "        signal_orig = df[feature].values\n",
    "        args1 = wavelet_args[\"wavedec_options\"]\n",
    "        coeffs_orig = pywt.wavedec(signal_orig, **args1)\n",
    "        coeffs_filter = coeffs_orig.copy()\n",
    "        threshold = wavelet_args[\"threshold\"]\n",
    "        for i in range(1, len(coeffs_orig)):\n",
    "            coeffs_filter[i] = pywt.threshold(coeffs_orig[i], threshold*max(coeffs_orig[i]))\n",
    "        args2 = wavelet_args[\"waverec_options\"]\n",
    "        signal_denoised = pywt.waverec(coeffs_filter, **args2) \n",
    "        to_process_df = pd.DataFrame(signal_denoised)\n",
    "    else:\n",
    "        tmp_df = df[feature].reset_index()\n",
    "        to_process_df = tmp_df.drop(columns=[\"index\"])\n",
    "        to_process_df.columns = [0]\n",
    "    ### Do wavelet transform or NOT ###\n",
    "        \n",
    "    min_index = min(to_process_df.index)\n",
    "    max_index = max(to_process_df.index)\n",
    "    \n",
    "    ### Define Method to cut signal into windows ###\n",
    "    if window_args[\"type\"] == \"no_overlap\":\n",
    "        # window_args = {\"type\":\"no_overlap\"}\n",
    "        index_list = range(min_index, max_index+1, int(window))\n",
    "    elif window_args[\"type\"] == \"with_overlap\":\n",
    "        # window_args = {\"type\":\"with_overlap\", \"overlap_perc\":0.5}\n",
    "        overlap_perc = window_args[\"overlap_perc\"]\n",
    "        step = int(window/(1/overlap_perc))\n",
    "        index_list = range(min_index, max_index+1, step)\n",
    "    elif window_args[\"type\"] == \"by_peaks\":\n",
    "        index_list = window_args[\"peaks_index\"]\n",
    "    ### Define Method to cut signal into windows ###\n",
    "    \n",
    "    ### Cut signal into windows ###\n",
    "    windowed_selected_chunk_array = []\n",
    "    for index in index_list:\n",
    "        windowed_selected_chunk = to_process_df[0].iloc[index:index+window] \n",
    "        if windowed_selected_chunk.shape[0] == window:\n",
    "            windowed_selected_chunk_array.append(windowed_selected_chunk.values)\n",
    "    output_np_arr = np.array(windowed_selected_chunk_array)\n",
    "    ### Cut signal into windows ###\n",
    "    \n",
    "    output_np_label = np.asarray([label]*output_np_arr.shape[0])\n",
    "    \n",
    "    return output_np_arr, output_np_label\n"
   ],
   "execution_count": 0,
   "outputs": []
  },
  {
   "cell_type": "markdown",
   "metadata": {
    "id": "Tq2mCtTWJaVB",
    "colab_type": "text"
   },
   "source": [
    "## Label Setup"
   ]
  },
  {
   "cell_type": "code",
   "metadata": {
    "id": "6TEEPUqA_BXd",
    "colab_type": "code",
    "colab": {}
   },
   "source": [
    "#feature_list = column_names TODO: is this line still needed?\n",
    "\n",
    "# Create\n",
    "indoor_activity = ['rest',\n",
    "                   'tread_flat_walk',\n",
    "                    'tread_flat_run',\n",
    "                    'tread_slope_walk',\n",
    "                    'indoor_flat_walk',\n",
    "                    'indoor_flat_run'\n",
    "                    ]\n",
    "outdoor_activity = ['outdoor_walk', 'outdoor_run']\n",
    "\n",
    "indoor_sub = ['Sub' + str(i) for i in range(1, 12)]\n",
    "outdoor_sub = ['Sub' + str(i) for i in range(12, 21)]\n",
    "indoor_sub.remove('Sub4')"
   ],
   "execution_count": 0,
   "outputs": []
  },
  {
   "cell_type": "code",
   "metadata": {
    "id": "0cIqT63LFdME",
    "colab_type": "code",
    "outputId": "b754f24d-38d4-4403-df09-cd1a19def96e",
    "executionInfo": {
     "status": "ok",
     "timestamp": 1572162406637,
     "user_tz": -480,
     "elapsed": 17520,
     "user": {
      "displayName": "Jiahao Lu",
      "photoUrl": "https://lh3.googleusercontent.com/a-/AAuE7mCSedBqA0sbYDHljONdK7tmdMcHsqoSqAqt1MIkhO4=s64",
      "userId": "06740036021251600378"
     }
    },
    "colab": {
     "base_uri": "https://localhost:8080/",
     "height": 187
    }
   },
   "source": [
    "# indoor_sub"
   ],
   "execution_count": 9,
   "outputs": [
    {
     "output_type": "execute_result",
     "data": {
      "text/plain": [
       "['Sub1',\n",
       " 'Sub2',\n",
       " 'Sub3',\n",
       " 'Sub5',\n",
       " 'Sub6',\n",
       " 'Sub7',\n",
       " 'Sub8',\n",
       " 'Sub9',\n",
       " 'Sub10',\n",
       " 'Sub11']"
      ]
     },
     "metadata": {
      "tags": []
     },
     "execution_count": 9
    }
   ]
  },
  {
   "cell_type": "markdown",
   "metadata": {
    "id": "FgsLIXC4JfRZ",
    "colab_type": "text"
   },
   "source": [
    "## Function: Train & Test Split (including Signal Processing)"
   ]
  },
  {
   "cell_type": "code",
   "metadata": {
    "id": "SUjbD2V5_BXg",
    "colab_type": "code",
    "colab": {}
   },
   "source": [
    "def PrepareFeature(df, feature, split_method, window,\n",
    "                   indoor_activity, outdoor_activity, indoor_sub, outdoor_sub, \n",
    "                   wavelet_args, window_args, train_size=0.8):\n",
    "    \n",
    "    X_train = pd.DataFrame()\n",
    "    X_test = pd.DataFrame()\n",
    "    y_train = pd.DataFrame()\n",
    "    y_test = pd.DataFrame()\n",
    "\n",
    "    # train_size = 0.8\n",
    "    #window = 128*4\n",
    "    #indoor_activity = ['tread_slope_walk', 'tread_flat_walk', 'indoor_flat_run', 'indoor_flat_walk', 'tread_flat_run', 'rest']\n",
    "    #outdoor_activity = ['outdoor_walk', 'outdoor_run']\n",
    "    #indoor_sub = ['Sub1', 'Sub2', 'Sub3', 'Sub5', 'Sub6', 'Sub7', 'Sub8', 'Sub9', 'Sub10', 'Sub11',]\n",
    "    #outdoor_sub = ['Sub12', 'Sub13', 'Sub14', 'Sub15', 'Sub16', 'Sub17', 'Sub18', 'Sub19', 'Sub20']\n",
    "    # (SAMPLE) wavelet args options #\n",
    "    #wavelet_args = {\"type\":\"Y\", \"threshold\":2, \"wavedec_options\":{\"wavelet\":\"db4\", \"level\":2}, \"waverec_options\":{\"wavelet\":\"db4\"}}\n",
    "    #wavelet_args = {\"type\":\"N\"}\n",
    "    # (SAMPLE) window args options #\n",
    "    #window_args = {\"type\":\"by_peaks\", \"find_peaks_col\":\"accX_LF\", \"find_peaks_options\": {\"prominence\":30, \"height\":20}} # \"peaks_index\":peaks_index_list will be added\n",
    "    #window_args = {\"type\":\"with_overlap\", \"overlap_perc\":0.5} \n",
    "    #window_args = {\"type\":\"no_overlap\"}\n",
    "\n",
    "    #TODO: find_peaks from a given column\n",
    "    #NOTE: code will break when using -> window_args = {\"type\":\"by_peaks\", \"peaks_index\":peaks_index_list}\n",
    "    \n",
    "    # method 1: split within each subject\n",
    "    if split_method == 'TrainTestSplitWithinSubject':\n",
    "        for feature in [feature]:\n",
    "            #indoor activity\n",
    "            for sub in indoor_sub:\n",
    "                for activity in indoor_activity:\n",
    "                    if window_args[\"type\"] == \"by_peaks\":\n",
    "                        data_df = df.loc[(df['label'] == activity) & (df['subject'] == sub)]\n",
    "                        args = window_args[\"find_peaks_options\"]\n",
    "                        peak_col = window_args[\"find_peaks_col\"]\n",
    "                        peaks_index_list = list(find_peaks(data_df[peak_col], **args)[0])\n",
    "                        window_args[\"peaks_index\"] = peaks_index_list\n",
    "                    output_np_arr, output_label = PreprocessingSignal(df, activity, sub, feature, window, wavelet_args, window_args)\n",
    "                    \n",
    "                    train_len = int(train_size*len(output_np_arr))\n",
    "                    tr_x = output_np_arr[:train_len,:]\n",
    "                    ts_x = output_np_arr[train_len:len(output_np_arr),:]\n",
    "                    \n",
    "                    test_len = int(train_size*len(output_label))\n",
    "                    tr_y = output_label[:test_len]\n",
    "                    ts_y = output_label[test_len:len(output_label)]\n",
    "                \n",
    "                    X_train = X_train.append(pd.DataFrame(tr_x))\n",
    "                    X_test = X_test.append(pd.DataFrame(ts_x))\n",
    "                    y_train = y_train.append(pd.DataFrame(tr_y))\n",
    "                    y_test = y_test.append(pd.DataFrame(ts_y)) \n",
    "\n",
    "            #outdoor activity\n",
    "            for sub in outdoor_sub:\n",
    "                for activity in outdoor_activity:\n",
    "                    if window_args[\"type\"] == \"by_peaks\":\n",
    "                          data_df = df.loc[(df['label'] == activity) & (df['subject'] == sub)]\n",
    "                          args = window_args[\"find_peaks_options\"]\n",
    "                          peak_col = window_args[\"find_peaks_col\"]\n",
    "                          peaks_index_list = list(find_peaks(data_df[peak_col], **args)[0])\n",
    "                          window_args[\"peaks_index\"] = peaks_index_list\n",
    "                    output_np_arr, output_label = PreprocessingSignal(df, activity, sub, feature, window, wavelet_args, window_args)\n",
    "                    \n",
    "                    train_len = int(train_size*len(output_np_arr))\n",
    "                    tr_x = output_np_arr[:train_len,:]\n",
    "                    ts_x = output_np_arr[train_len:len(output_np_arr),:]\n",
    "                    \n",
    "                    test_len = int(train_size*len(output_label))\n",
    "                    tr_y = output_label[:test_len]\n",
    "                    ts_y = output_label[test_len:len(output_label)]\n",
    "                \n",
    "                    X_train = X_train.append(pd.DataFrame(tr_x))\n",
    "                    X_test = X_test.append(pd.DataFrame(ts_x))\n",
    "                    y_train = y_train.append(pd.DataFrame(tr_y))\n",
    "                    y_test = y_test.append(pd.DataFrame(ts_y))\n",
    "    \n",
    "    # method 2: split all samples randomly\n",
    "    if split_method == 'Random':\n",
    "        for feature in [feature]:\n",
    "#             output = np.asarray(list())\n",
    "#             label = np.asarray(list())\n",
    "            output = np.empty((0,window), float)\n",
    "            label = np.empty((0,), float)\n",
    "            \n",
    "            #indoor activity\n",
    "            for sub in indoor_sub:\n",
    "                for activity in indoor_activity:\n",
    "                    if window_args[\"type\"] == \"by_peaks\":\n",
    "                          data_df = df.loc[(df['label'] == activity) & (df['subject'] == sub)]\n",
    "                          args = window_args[\"find_peaks_options\"]\n",
    "                          peak_col = window_args[\"find_peaks_col\"]\n",
    "                          peaks_index_list = list(find_peaks(data_df[peak_col], **args)[0])\n",
    "                          window_args[\"peaks_index\"] = peaks_index_list\n",
    "                    output_np_arr, output_label = PreprocessingSignal(df, activity, sub, feature, window, wavelet_args, window_args)\n",
    "                    output = np.append(output, output_np_arr, axis = 0)\n",
    "                    label = np.append(label, output_label, axis = 0)\n",
    "                    \n",
    "            #outdoor activity:\n",
    "            for sub in outdoor_sub:\n",
    "                for activity in outdoor_activity:\n",
    "                    if window_args[\"type\"] == \"by_peaks\":\n",
    "                          data_df = df.loc[(df['label'] == activity) & (df['subject'] == sub)]\n",
    "                          args = window_args[\"find_peaks_options\"]\n",
    "                          peak_col = window_args[\"find_peaks_col\"]\n",
    "                          peaks_index_list = list(find_peaks(data_df[peak_col], **args)[0])\n",
    "                          window_args[\"peaks_index\"] = peaks_index_list\n",
    "                    output_np_arr, output_label = PreprocessingSignal(df, activity, sub, feature, window, wavelet_args, window_args)\n",
    "                    output = np.append(output, output_np_arr, axis = 0)\n",
    "                    label = np.append(label, output_label, axis = 0)\n",
    "                    \n",
    "            train_len = int(train_size*len(output))\n",
    "            tr_x = output[:train_len,:]\n",
    "            ts_x = output[train_len:len(output),:]\n",
    "                    \n",
    "            test_len = int(train_size*len(label))\n",
    "            tr_y = label[:test_len]\n",
    "            ts_y = label[test_len:len(label)]\n",
    "                \n",
    "            X_train = X_train.append(pd.DataFrame(tr_x))\n",
    "            X_test = X_test.append(pd.DataFrame(ts_x))\n",
    "            y_train = y_train.append(pd.DataFrame(tr_y))\n",
    "            y_test = y_test.append(pd.DataFrame(ts_y))\n",
    "    \n",
    "    # method 3: only keep several subjects in the train, \n",
    "    #           put other subjects in the test\n",
    "    if split_method == 'DifferentSubjectsInTrainTest':\n",
    "        for feature in [feature]:  \n",
    "            train_sub = np.empty((0,window), float)\n",
    "            train_label_sub = np.empty((0,), float)\n",
    "            test_sub = np.empty((0,window), float)\n",
    "            test_label_sub = np.empty((0,), float)\n",
    "            \n",
    "            #indoor activity\n",
    "            indoor_sub_train_len = int(train_size*len(indoor_sub))\n",
    "            indoor_sub_train = indoor_sub[:indoor_sub_train_len]\n",
    "            indoor_sub_test = indoor_sub[indoor_sub_train_len:len(indoor_sub)]\n",
    "            \n",
    "            for sub in indoor_sub_train:\n",
    "                for activity in indoor_activity:\n",
    "                    if window_args[\"type\"] == \"by_peaks\":\n",
    "                          data_df = df.loc[(df['label'] == activity) & (df['subject'] == sub)]\n",
    "                          args = window_args[\"find_peaks_options\"]\n",
    "                          peak_col = window_args[\"find_peaks_col\"]\n",
    "                          peaks_index_list = list(find_peaks(data_df[peak_col], **args)[0])\n",
    "                          #print(\"THIS\", activity, peaks_index_list)\n",
    "                          window_args[\"peaks_index\"] = peaks_index_list\n",
    "                    output_np_arr, output_label = PreprocessingSignal(df, activity, sub, feature, window, wavelet_args, window_args)\n",
    "                    train_sub = np.append(train_sub, output_np_arr, axis = 0)\n",
    "                    train_label_sub = np.append(train_label_sub, output_label, axis = 0)\n",
    "            \n",
    "            for sub in indoor_sub_test:\n",
    "                for activity in indoor_activity:\n",
    "                    if window_args[\"type\"] == \"by_peaks\":\n",
    "                          data_df = df.loc[(df['label'] == activity) & (df['subject'] == sub)]\n",
    "                          args = window_args[\"find_peaks_options\"]\n",
    "                          peak_col = window_args[\"find_peaks_col\"]\n",
    "                          peaks_index_list = list(find_peaks(data_df[peak_col], **args)[0])\n",
    "                          window_args[\"peaks_index\"] = peaks_index_list\n",
    "                    output_np_arr, output_label = PreprocessingSignal(df, activity, sub, feature, window, wavelet_args, window_args)\n",
    "                    test_sub = np.append(test_sub, output_np_arr, axis = 0)\n",
    "                    test_label_sub = np.append(test_label_sub, output_label, axis = 0)\n",
    "            \n",
    "                    \n",
    "            #outdoor activity\n",
    "            outdoor_sub_train_len = int(train_size*len(outdoor_sub))\n",
    "            outdoor_sub_train = outdoor_sub[:outdoor_sub_train_len]\n",
    "            outdoor_sub_test = outdoor_sub[outdoor_sub_train_len:len(outdoor_sub)]\n",
    "            \n",
    "            for sub in outdoor_sub_train:\n",
    "                for activity in outdoor_activity:\n",
    "                    if window_args[\"type\"] == \"by_peaks\":\n",
    "                          data_df = df.loc[(df['label'] == activity) & (df['subject'] == sub)]\n",
    "                          args = window_args[\"find_peaks_options\"]\n",
    "                          peak_col = window_args[\"find_peaks_col\"]\n",
    "                          peaks_index_list = list(find_peaks(data_df[peak_col], **args)[0])\n",
    "                          window_args[\"peaks_index\"] = peaks_index_list\n",
    "                    output_np_arr, output_label = PreprocessingSignal(df, activity, sub, feature, window, wavelet_args, window_args)\n",
    "                    train_sub = np.append(train_sub, output_np_arr, axis = 0)\n",
    "                    train_label_sub = np.append(train_label_sub, output_label, axis = 0)\n",
    "            \n",
    "            for sub in outdoor_sub_test:\n",
    "                for activity in outdoor_activity:\n",
    "                    if window_args[\"type\"] == \"by_peaks\":\n",
    "                          data_df = df.loc[(df['label'] == activity) & (df['subject'] == sub)]\n",
    "                          args = window_args[\"find_peaks_options\"]\n",
    "                          peak_col = window_args[\"find_peaks_col\"]\n",
    "                          peaks_index_list = list(find_peaks(data_df[peak_col], **args)[0])\n",
    "                          window_args[\"peaks_index\"] = peaks_index_list\n",
    "                    output_np_arr, output_label = PreprocessingSignal(df, activity, sub, feature, window, wavelet_args, window_args)\n",
    "                    test_sub = np.append(test_sub, output_np_arr, axis = 0)\n",
    "                    test_label_sub = np.append(test_label_sub, output_label, axis = 0)\n",
    "                    \n",
    "            X_train = pd.DataFrame(train_sub)\n",
    "            y_train = pd.DataFrame(train_label_sub)\n",
    "            X_test = pd.DataFrame(test_sub)\n",
    "            y_test = pd.DataFrame(test_label_sub)\n",
    "        \n",
    "    return X_train, X_test, y_train, y_test"
   ],
   "execution_count": 0,
   "outputs": []
  },
  {
   "cell_type": "code",
   "metadata": {
    "id": "BH1SEQeUYc-b",
    "colab_type": "code",
    "colab": {}
   },
   "source": [
    "# activity = 'tread_slope_walk'\n",
    "# sub = 'Sub1'\n",
    "\n",
    "# window_args = {\"type\":\"by_peaks\", \"find_peaks_col\":\"accX_LF\", \"find_peaks_options\": {\"prominence\":30, \"height\":20}}\n",
    "\n",
    "# data_df = df = df.loc[(df['label'] == activity) & (df['subject'] == sub)]\n",
    "# args = window_args[\"find_peaks_options\"]\n",
    "# peak_col = window_args[\"find_peaks_col\"]\n",
    "# peaks_index_list = list(find_peaks(data_df[peak_col], **args)[0])\n",
    "# window_args[\"peaks_index\"] = peaks_index_list"
   ],
   "execution_count": 0,
   "outputs": []
  },
  {
   "cell_type": "markdown",
   "metadata": {
    "id": "qbrj7b4OJ2Sa",
    "colab_type": "text"
   },
   "source": [
    "## Test"
   ]
  },
  {
   "cell_type": "code",
   "metadata": {
    "id": "3HH6VSbu_BXi",
    "colab_type": "code",
    "colab": {}
   },
   "source": [
    "# TODO: is this for testing? David: Yes\n",
    "window = 128*4\n",
    "\n",
    "# for selection, shoud be commented out\n",
    "# indoor_activity = ['rest',\n",
    "#                    'tread_flat_walk',\n",
    "#                     'tread_flat_run',\n",
    "#                     'tread_slope_walk',\n",
    "#                     'indoor_flat_walk',\n",
    "#                     'indoor_flat_run',\n",
    "#                    ]\n",
    "# outdoor_activity = ['outdoor_walk', 'outdoor_run']\n",
    "# indoor_sub = ['Sub1', 'Sub2', 'Sub3', 'Sub5', 'Sub6', 'Sub7', 'Sub8', 'Sub9', 'Sub10', 'Sub11',]\n",
    "# outdoor_sub = ['Sub12', 'Sub13', 'Sub14', 'Sub15', 'Sub16', 'Sub17', 'Sub18', 'Sub19', 'Sub20']\n",
    "\n",
    "\n",
    "split_method = \"TrainTestSplitWithinSubject\"\n",
    "# split_method = \"Random\"\n",
    "# split_method = \"DifferentSubjectsInTrainTest\"\n",
    "\n",
    "# wavelet_args = {\"type\":\"Y\", \"threshold\":2, \"wavedec_options\":{\"wavelet\":\"db4\", \"level\":2}, \"waverec_options\":{\"wavelet\":\"db4\"}}\n",
    "wavelet_args = {\"type\":\"N\"}\n",
    "window_args = {\"type\":\"by_peaks\", \"find_peaks_col\":\"accX_LF\", \"find_peaks_options\": {\"prominence\":30, \"height\":20}}\n",
    "#window_args = {\"type\":\"with_overlap\", \"overlap_perc\":0.5} \n",
    "# window_args = {\"type\":\"no_overlap\"}"
   ],
   "execution_count": 0,
   "outputs": []
  },
  {
   "cell_type": "code",
   "metadata": {
    "id": "vb-dhh69_BXk",
    "colab_type": "code",
    "outputId": "58b2b5b1-61c7-46a9-cdd4-247da8060ba9",
    "executionInfo": {
     "status": "ok",
     "timestamp": 1572162469280,
     "user_tz": -480,
     "elapsed": 80144,
     "user": {
      "displayName": "Jiahao Lu",
      "photoUrl": "https://lh3.googleusercontent.com/a-/AAuE7mCSedBqA0sbYDHljONdK7tmdMcHsqoSqAqt1MIkhO4=s64",
      "userId": "06740036021251600378"
     }
    },
    "colab": {
     "base_uri": "https://localhost:8080/",
     "height": 85
    }
   },
   "source": [
    "# SAMPLE #\n",
    "\n",
    "feature = 'accY_LF'\n",
    "# feature_list = column_names\n",
    "# for feature in column_names:\n",
    "    # (example) feature = accX_LF (which is stored in the column_names)\n",
    "    \n",
    "X_train, X_test, y_train, y_test = PrepareFeature(df, feature, split_method, window,\n",
    "                                                  indoor_activity, outdoor_activity, indoor_sub, outdoor_sub,\n",
    "                                                  wavelet_args, window_args)\n",
    "\n",
    "\n",
    "X_train_filename = \"_\".join(['X_train', feature, \"Window\"+str(window), \"Wavelet\" + wavelet_args[\"type\"], window_args[\"type\"], split_method]) + '.txt'\n",
    "X_test_filename = \"_\".join(['X_test', feature, \"Window\"+str(window), \"Wavelet\" + wavelet_args[\"type\"], window_args[\"type\"], split_method]) + '.txt'\n",
    "y_train_filename = \"_\".join(['y_train', feature, \"Window\"+str(window), \"Wavelet\" + wavelet_args[\"type\"], window_args[\"type\"], split_method]) + '.txt'\n",
    "y_test_filename = \"_\".join(['y_test', feature, \"Window\"+str(window), \"Wavelet\" + wavelet_args[\"type\"], window_args[\"type\"], split_method]) + '.txt'\n",
    "\n",
    "X_train.to_csv(X_train_filename, header=None, index=False, sep='\\t')\n",
    "X_test.to_csv(X_test_filename, header=None, index=False, sep='\\t')\n",
    "\n",
    "pd.DataFrame(y_train).to_csv(y_train_filename, header=None, index=False, sep='\\t')\n",
    "pd.DataFrame(y_test).to_csv(y_test_filename, header=None, index=False, sep='\\t')\n",
    "\n",
    "print(\"Saved X_train to %s\" %(X_train_filename))\n",
    "print(\"Saved X_test to %s\" %(X_test_filename))\n",
    "print(\"Saved X_train to %s\" %(y_train_filename))\n",
    "print(\"Saved X_test to %s\" %(y_test_filename))"
   ],
   "execution_count": 13,
   "outputs": [
    {
     "output_type": "stream",
     "text": [
      "Saved X_train to X_train_accY_LF_Window512_WaveletN_by_peaks_TrainTestSplitWithinSubject.txt\n",
      "Saved X_test to X_test_accY_LF_Window512_WaveletN_by_peaks_TrainTestSplitWithinSubject.txt\n",
      "Saved X_train to y_train_accY_LF_Window512_WaveletN_by_peaks_TrainTestSplitWithinSubject.txt\n",
      "Saved X_test to y_test_accY_LF_Window512_WaveletN_by_peaks_TrainTestSplitWithinSubject.txt\n"
     ],
     "name": "stdout"
    }
   ]
  },
  {
   "cell_type": "code",
   "metadata": {
    "id": "XUnyugSlm3Rh",
    "colab_type": "code",
    "colab": {}
   },
   "source": [
    "## TODO THIS PART"
   ],
   "execution_count": 0,
   "outputs": []
  },
  {
   "cell_type": "code",
   "metadata": {
    "id": "K3I4LLXF_BXo",
    "colab_type": "code",
    "colab": {}
   },
   "source": [
    "def load_file(filepath):\n",
    "    dataframe = pd.read_csv(filepath, header=None, delim_whitespace=True)\n",
    "    return dataframe.values"
   ],
   "execution_count": 0,
   "outputs": []
  },
  {
   "cell_type": "code",
   "metadata": {
    "id": "biDo7BQP_BXp",
    "colab_type": "code",
    "colab": {}
   },
   "source": [
    "def load_group(filenames):\n",
    "    loaded = list()\n",
    "    for name in filenames:\n",
    "        data = load_file(name)\n",
    "        loaded.append(data)\n",
    "    \n",
    "    loaded = np.dstack(loaded)\n",
    "    return loaded"
   ],
   "execution_count": 0,
   "outputs": []
  },
  {
   "cell_type": "code",
   "metadata": {
    "id": "2U-kWOvWdUux",
    "colab_type": "code",
    "colab": {}
   },
   "source": [
    "def load_dataset_group(group):\n",
    "    if group == 'train':\n",
    "              # X_filenames = ['train_accX_LF.txt','train_accY_LF.txt','train_accZ_LF.txt',\n",
    "        #                     'train_accX_RF.txt','train_accY_RF.txt','train_accZ_RF.txt',\n",
    "        #                     'train_accX_Waist.txt','train_accY_Waist.txt','train_accZ_Waist.txt',\n",
    "        #                     'train_accX_Wrist.txt','train_accY_Wrist.txt','train_accZ_Wrist.txt']\n",
    "\n",
    "        X_filenames = ['X_train_accY_LF_Window512_WaveletN_by_peaks_TrainTestSplitWithinSubject.txt']\n",
    "        y_filename = 'y_train_accY_LF_Window512_WaveletN_by_peaks_TrainTestSplitWithinSubject.txt'\n",
    "        X = load_group(X_filenames)\n",
    "        y = load_file(y_filename)\n",
    "    else:\n",
    "              # X_filenames = ['test_accX_LF.txt','test_accY_LF.txt','test_accZ_LF.txt',\n",
    "        #                     'test_accX_RF.txt','test_accY_RF.txt','test_accZ_RF.txt',\n",
    "        #                     'test_accX_Waist.txt','test_accY_Waist.txt','test_accZ_Waist.txt',\n",
    "        #                     'test_accX_Wrist.txt','test_accY_Wrist.txt','test_accZ_Wrist.txt']\n",
    "\n",
    "        X_filenames = ['X_test_accY_LF_Window512_WaveletN_by_peaks_TrainTestSplitWithinSubject.txt']\n",
    "        y_filename = 'y_test_accY_LF_Window512_WaveletN_by_peaks_TrainTestSplitWithinSubject.txt'\n",
    "        X = load_group(X_filenames)\n",
    "        y = load_file(y_filename)\n",
    "    return X,y"
   ],
   "execution_count": 0,
   "outputs": []
  },
  {
   "cell_type": "code",
   "metadata": {
    "id": "Nh-IBjBh_BXt",
    "colab_type": "code",
    "colab": {}
   },
   "source": [
    "def load_dataset():\n",
    "    X_train, y_train = load_dataset_group('train') #load_group(X_filenames), load_file(y_filename) \n",
    "    X_test, y_test = load_dataset_group('test')\n",
    "    return X_train, y_train, X_test, y_test"
   ],
   "execution_count": 0,
   "outputs": []
  },
  {
   "cell_type": "code",
   "metadata": {
    "id": "3_dWvkbo_BXv",
    "colab_type": "code",
    "colab": {}
   },
   "source": [
    "X_train, y_train, X_test, y_test = load_dataset()"
   ],
   "execution_count": 0,
   "outputs": []
  },
  {
   "cell_type": "code",
   "metadata": {
    "id": "utzGUmbu_BXy",
    "colab_type": "code",
    "outputId": "2f46af71-4cb7-4674-ce50-456c5abe1943",
    "executionInfo": {
     "status": "ok",
     "timestamp": 1572162471365,
     "user_tz": -480,
     "elapsed": 82192,
     "user": {
      "displayName": "Jiahao Lu",
      "photoUrl": "https://lh3.googleusercontent.com/a-/AAuE7mCSedBqA0sbYDHljONdK7tmdMcHsqoSqAqt1MIkhO4=s64",
      "userId": "06740036021251600378"
     }
    },
    "colab": {
     "base_uri": "https://localhost:8080/",
     "height": 136
    }
   },
   "source": [
    "print(X_train.shape)\n",
    "print(y_train.shape)\n",
    "print(X_test.shape)\n",
    "print(y_test.shape)\n",
    "print(X_train.shape[1])\n",
    "print(X_train.shape[2])\n",
    "print(y_train.shape[1])"
   ],
   "execution_count": 20,
   "outputs": [
    {
     "output_type": "stream",
     "text": [
      "(16068, 512, 1)\n",
      "(16068, 1)\n",
      "(4059, 512, 1)\n",
      "(4059, 1)\n",
      "512\n",
      "1\n",
      "1\n"
     ],
     "name": "stdout"
    }
   ]
  },
  {
   "cell_type": "code",
   "metadata": {
    "id": "jo7REnmszQ81",
    "colab_type": "code",
    "colab": {}
   },
   "source": [
    "# activity mapping dictionary\n",
    "activity_to_num_mapping = {\n",
    "    \"rest\":0,\n",
    "    # indoor\n",
    "    \"tread_flat_walk\":1,\n",
    "    \"tread_flat_run\":2,\n",
    "    \"tread_slope_walk\":3,\n",
    "    \"indoor_flat_walk\":4,\n",
    "    \"indoor_flat_run\":5,\n",
    "    # outdoor\n",
    "    \"outdoor_walk\":6,\n",
    "    \"outdoor_run\":7\n",
    "    }\n",
    "\n",
    "# mapping the activity\n",
    "y_train = np.vectorize(activity_to_num_mapping.get)(y_train)\n",
    "y_test = np.vectorize(activity_to_num_mapping.get)(y_test)\n",
    "\n",
    "# convert to binary class matrix\n",
    "y_train = to_categorical(y_train)\n",
    "y_test = to_categorical(y_test)"
   ],
   "execution_count": 0,
   "outputs": []
  },
  {
   "cell_type": "code",
   "metadata": {
    "id": "1drWwC14_BX2",
    "colab_type": "code",
    "outputId": "933bead8-8a63-4c89-cee3-8e431cfd026f",
    "executionInfo": {
     "status": "ok",
     "timestamp": 1572162471398,
     "user_tz": -480,
     "elapsed": 82213,
     "user": {
      "displayName": "Jiahao Lu",
      "photoUrl": "https://lh3.googleusercontent.com/a-/AAuE7mCSedBqA0sbYDHljONdK7tmdMcHsqoSqAqt1MIkhO4=s64",
      "userId": "06740036021251600378"
     }
    },
    "colab": {
     "base_uri": "https://localhost:8080/",
     "height": 136
    }
   },
   "source": [
    "# np.set_printoptions(edgeitems=5)\n",
    "y_train"
   ],
   "execution_count": 22,
   "outputs": [
    {
     "output_type": "execute_result",
     "data": {
      "text/plain": [
       "array([[1., 0., 0., ..., 0., 0., 0.],\n",
       "       [1., 0., 0., ..., 0., 0., 0.],\n",
       "       [1., 0., 0., ..., 0., 0., 0.],\n",
       "       ...,\n",
       "       [0., 0., 0., ..., 0., 0., 1.],\n",
       "       [0., 0., 0., ..., 0., 0., 1.],\n",
       "       [0., 0., 0., ..., 0., 0., 1.]], dtype=float32)"
      ]
     },
     "metadata": {
      "tags": []
     },
     "execution_count": 22
    }
   ]
  },
  {
   "cell_type": "code",
   "metadata": {
    "id": "NMgSIpZf_BX4",
    "colab_type": "code",
    "outputId": "e1ec4bc7-254c-4f10-e754-f49f3af1124d",
    "executionInfo": {
     "status": "ok",
     "timestamp": 1572162471417,
     "user_tz": -480,
     "elapsed": 82209,
     "user": {
      "displayName": "Jiahao Lu",
      "photoUrl": "https://lh3.googleusercontent.com/a-/AAuE7mCSedBqA0sbYDHljONdK7tmdMcHsqoSqAqt1MIkhO4=s64",
      "userId": "06740036021251600378"
     }
    },
    "colab": {
     "base_uri": "https://localhost:8080/",
     "height": 136
    }
   },
   "source": [
    "y_test"
   ],
   "execution_count": 23,
   "outputs": [
    {
     "output_type": "execute_result",
     "data": {
      "text/plain": [
       "array([[1., 0., 0., ..., 0., 0., 0.],\n",
       "       [1., 0., 0., ..., 0., 0., 0.],\n",
       "       [1., 0., 0., ..., 0., 0., 0.],\n",
       "       ...,\n",
       "       [0., 0., 0., ..., 0., 0., 1.],\n",
       "       [0., 0., 0., ..., 0., 0., 1.],\n",
       "       [0., 0., 0., ..., 0., 0., 1.]], dtype=float32)"
      ]
     },
     "metadata": {
      "tags": []
     },
     "execution_count": 23
    }
   ]
  },
  {
   "cell_type": "code",
   "metadata": {
    "id": "LapZAaOj_BX6",
    "colab_type": "code",
    "outputId": "f940f20b-7512-46af-ae23-aa6c227c688a",
    "executionInfo": {
     "status": "ok",
     "timestamp": 1572162471439,
     "user_tz": -480,
     "elapsed": 82203,
     "user": {
      "displayName": "Jiahao Lu",
      "photoUrl": "https://lh3.googleusercontent.com/a-/AAuE7mCSedBqA0sbYDHljONdK7tmdMcHsqoSqAqt1MIkhO4=s64",
      "userId": "06740036021251600378"
     }
    },
    "colab": {
     "base_uri": "https://localhost:8080/",
     "height": 136
    }
   },
   "source": [
    "print(X_train.shape)\n",
    "print(y_train.shape)\n",
    "print(X_test.shape)\n",
    "print(y_test.shape)\n",
    "print(X_train.shape[1])\n",
    "print(X_train.shape[2])\n",
    "print(y_train.shape[1])"
   ],
   "execution_count": 24,
   "outputs": [
    {
     "output_type": "stream",
     "text": [
      "(16068, 512, 1)\n",
      "(16068, 8)\n",
      "(4059, 512, 1)\n",
      "(4059, 8)\n",
      "512\n",
      "1\n",
      "8\n"
     ],
     "name": "stdout"
    }
   ]
  },
  {
   "cell_type": "markdown",
   "metadata": {
    "id": "r7xpdMl-KAm6",
    "colab_type": "text"
   },
   "source": [
    "# Modelling"
   ]
  },
  {
   "cell_type": "markdown",
   "metadata": {
    "id": "h3tUyM4lWTRn",
    "colab_type": "text"
   },
   "source": [
    "## LSTM"
   ]
  },
  {
   "cell_type": "code",
   "metadata": {
    "id": "HyV7lZ9MWNfl",
    "colab_type": "code",
    "outputId": "848b9b42-fd0b-4fd2-bec1-941eb1cfea46",
    "executionInfo": {
     "status": "ok",
     "timestamp": 1572163697208,
     "user_tz": -480,
     "elapsed": 406,
     "user": {
      "displayName": "Jiahao Lu",
      "photoUrl": "https://lh3.googleusercontent.com/a-/AAuE7mCSedBqA0sbYDHljONdK7tmdMcHsqoSqAqt1MIkhO4=s64",
      "userId": "06740036021251600378"
     }
    },
    "colab": {
     "base_uri": "https://localhost:8080/",
     "height": 306
    }
   },
   "source": [
    "# create LSTM Model\n",
    "def createLSTMModel(n_timesteps=X_train.shape[1], n_features=X_train.shape[2], n_outputs=y_train.shape[1]):\n",
    "    ipt = Input(shape=(n_timesteps, n_features))\n",
    "    x = LSTM(100)(ipt)\n",
    "    x = Dropout(0.5)(x)\n",
    "    x = Dense(100, activation='relu')(x)\n",
    "    x = Dense(n_outputs, activation='softmax')(x)\n",
    "\n",
    "    model = Model(inputs=ipt, outputs=x)\n",
    "\n",
    "# Sequential API\n",
    "    # model = Sequential()\n",
    "    # model.add(LSTM(100, input_shape=(n_timesteps, n_features)))\n",
    "    # model.add(Dropout(0.5))\n",
    "    # model.add(Dense(100, activation='relu'))\n",
    "    # model.add(Dense(n_outputs, activation='softmax'))\n",
    "\n",
    "    model.compile(optimizer='adam', loss='categorical_crossentropy', metrics=['accuracy'])\n",
    "    return model\n",
    "\n",
    "model = createLSTMModel(n_timesteps=X_train.shape[1], n_features=X_train.shape[2], n_outputs=y_train.shape[1])\n",
    "model.summary()"
   ],
   "execution_count": 57,
   "outputs": [
    {
     "output_type": "stream",
     "text": [
      "_________________________________________________________________\n",
      "Layer (type)                 Output Shape              Param #   \n",
      "=================================================================\n",
      "input_8 (InputLayer)         (None, 512, 1)            0         \n",
      "_________________________________________________________________\n",
      "lstm_10 (LSTM)               (None, 100)               40800     \n",
      "_________________________________________________________________\n",
      "dropout_10 (Dropout)         (None, 100)               0         \n",
      "_________________________________________________________________\n",
      "dense_20 (Dense)             (None, 100)               10100     \n",
      "_________________________________________________________________\n",
      "dense_21 (Dense)             (None, 8)                 808       \n",
      "=================================================================\n",
      "Total params: 51,708\n",
      "Trainable params: 51,708\n",
      "Non-trainable params: 0\n",
      "_________________________________________________________________\n"
     ],
     "name": "stdout"
    }
   ]
  },
  {
   "cell_type": "code",
   "metadata": {
    "id": "m_CxHQk6_BYA",
    "colab_type": "code",
    "colab": {}
   },
   "source": [
    "model_name = 'v1'\n",
    "filepath        = os.path.join(model_name + \".hdf5\")\n",
    "checkpoint      = ModelCheckpoint(filepath, \n",
    "                                  monitor='val_acc', \n",
    "                                  verbose=1, \n",
    "                                  save_best_only=True, \n",
    "                                  mode='max')\n",
    "\n",
    "# Log the epoch detail into csv\n",
    "csv_logger      = CSVLogger(os.path.join(model_name +'.csv'))\n",
    "callbacks_list  = [checkpoint,csv_logger]"
   ],
   "execution_count": 0,
   "outputs": []
  },
  {
   "cell_type": "code",
   "metadata": {
    "colab_type": "code",
    "outputId": "94938e87-a748-4c84-d03f-c5fe309dde0e",
    "executionInfo": {
     "status": "ok",
     "timestamp": 1572164263738,
     "user_tz": -480,
     "elapsed": 526836,
     "user": {
      "displayName": "Jiahao Lu",
      "photoUrl": "https://lh3.googleusercontent.com/a-/AAuE7mCSedBqA0sbYDHljONdK7tmdMcHsqoSqAqt1MIkhO4=s64",
      "userId": "06740036021251600378"
     }
    },
    "id": "D_N6f8xFP0Ex",
    "colab": {
     "base_uri": "https://localhost:8080/",
     "height": 374
    }
   },
   "source": [
    "verbose = 1\n",
    "epochs = 5\n",
    "batch_size = 128\n",
    "history = model.fit(X_train, y_train, \n",
    "                    validation_data=(X_test, y_test), \n",
    "                    epochs=epochs, batch_size=batch_size, \n",
    "                    verbose=verbose, callbacks=callbacks_list)"
   ],
   "execution_count": 60,
   "outputs": [
    {
     "output_type": "stream",
     "text": [
      "Train on 16068 samples, validate on 4059 samples\n",
      "Epoch 1/5\n",
      "16000/16068 [============================>.] - ETA: 0s - loss: 1.7002 - acc: 0.3264\n",
      "Epoch 00001: val_acc improved from -inf to 0.34368, saving model to v1.hdf5\n",
      "16068/16068 [==============================] - 112s 7ms/sample - loss: 1.6997 - acc: 0.3265 - val_loss: 1.5431 - val_acc: 0.3437\n",
      "Epoch 2/5\n",
      "16000/16068 [============================>.] - ETA: 0s - loss: 1.5169 - acc: 0.3724\n",
      "Epoch 00002: val_acc improved from 0.34368 to 0.43360, saving model to v1.hdf5\n",
      "16068/16068 [==============================] - 102s 6ms/sample - loss: 1.5171 - acc: 0.3725 - val_loss: 1.5793 - val_acc: 0.4336\n",
      "Epoch 3/5\n",
      "16000/16068 [============================>.] - ETA: 0s - loss: 1.4248 - acc: 0.3999\n",
      "Epoch 00003: val_acc improved from 0.43360 to 0.47007, saving model to v1.hdf5\n",
      "16068/16068 [==============================] - 102s 6ms/sample - loss: 1.4249 - acc: 0.4000 - val_loss: 1.4710 - val_acc: 0.4701\n",
      "Epoch 4/5\n",
      "16000/16068 [============================>.] - ETA: 0s - loss: 1.3774 - acc: 0.4295\n",
      "Epoch 00004: val_acc did not improve from 0.47007\n",
      "16068/16068 [==============================] - 100s 6ms/sample - loss: 1.3769 - acc: 0.4295 - val_loss: 1.3649 - val_acc: 0.4545\n",
      "Epoch 5/5\n",
      "16000/16068 [============================>.] - ETA: 0s - loss: 1.2843 - acc: 0.4550\n",
      "Epoch 00005: val_acc did not improve from 0.47007\n",
      "16068/16068 [==============================] - 111s 7ms/sample - loss: 1.2842 - acc: 0.4551 - val_loss: 1.4196 - val_acc: 0.3757\n"
     ],
     "name": "stdout"
    }
   ]
  },
  {
   "cell_type": "markdown",
   "metadata": {
    "id": "u6xL2IbkNLU7",
    "colab_type": "text"
   },
   "source": [
    "# Evalutaion"
   ]
  },
  {
   "cell_type": "markdown",
   "metadata": {
    "id": "jBkz1LxrT-ID",
    "colab_type": "text"
   },
   "source": [
    "## Data Prediction"
   ]
  },
  {
   "cell_type": "code",
   "metadata": {
    "id": "-Zz7-n6HOv3V",
    "colab_type": "code",
    "colab": {}
   },
   "source": [
    "# prediction preparation\n",
    "y_pred = model.predict(X_test)\n",
    "y_pred = np.argmax(y_pred, axis=1)\n",
    "y_test = np.argmax(y_test, axis=1)"
   ],
   "execution_count": 0,
   "outputs": []
  },
  {
   "cell_type": "markdown",
   "metadata": {
    "id": "bT1auXJ7NNh3",
    "colab_type": "text"
   },
   "source": [
    "## Model Accuracy"
   ]
  },
  {
   "cell_type": "code",
   "metadata": {
    "id": "uoIvtH1d_BYK",
    "colab_type": "code",
    "outputId": "4a89af49-211d-4f17-f31a-ad8806ec2bd4",
    "executionInfo": {
     "status": "ok",
     "timestamp": 1572164278884,
     "user_tz": -480,
     "elapsed": 15103,
     "user": {
      "displayName": "Jiahao Lu",
      "photoUrl": "https://lh3.googleusercontent.com/a-/AAuE7mCSedBqA0sbYDHljONdK7tmdMcHsqoSqAqt1MIkhO4=s64",
      "userId": "06740036021251600378"
     }
    },
    "colab": {
     "base_uri": "https://localhost:8080/",
     "height": 573
    }
   },
   "source": [
    "# plot model accuracy\n",
    "plt.plot(history.history['acc'])\n",
    "plt.plot(history.history['val_acc'])\n",
    "plt.title('model accuracy')\n",
    "plt.ylabel('accuracy')\n",
    "plt.xlabel('epoch')\n",
    "plt.legend(['train', 'val'], loc='upper left')\n",
    "plt.savefig(model_name + '_model_acc', dpi=300)\n",
    "plt.show()\n",
    "\n",
    "plt.plot(history.history['loss'])\n",
    "plt.plot(history.history['val_loss'])\n",
    "plt.title('model loss')\n",
    "plt.ylabel('loss')\n",
    "plt.xlabel('epoch')\n",
    "plt.legend(['train', 'val'], loc='upper right')\n",
    "plt.savefig(model_name + '_model_loss', dpi=300)\n",
    "plt.show()"
   ],
   "execution_count": 62,
   "outputs": [
    {
     "output_type": "display_data",
     "data": {
      "text/plain": [
       "<Figure size 432x288 with 1 Axes>"
      ],
      "image/png": "[encoded data removed]"
     },
     "metadata": {
      "tags": [],
      "needs_background": "light"
     }
    },
    {
     "output_type": "display_data",
     "data": {
      "text/plain": [
       "<Figure size 432x288 with 1 Axes>"
      ],
      "image/png": "[encoded data removed]"
     },
     "metadata": {
      "tags": [],
      "needs_background": "light"
     }
    }
   ]
  },
  {
   "cell_type": "markdown",
   "metadata": {
    "id": "HYvWyoo0Oi2x",
    "colab_type": "text"
   },
   "source": [
    "## Confusion Matrix"
   ]
  },
  {
   "cell_type": "code",
   "metadata": {
    "id": "eDmaNnMGOkrV",
    "colab_type": "code",
    "outputId": "9d8b9d28-ae5c-4863-ab7a-746879b08c7d",
    "executionInfo": {
     "status": "ok",
     "timestamp": 1572164295976,
     "user_tz": -480,
     "elapsed": 1480,
     "user": {
      "displayName": "Jiahao Lu",
      "photoUrl": "https://lh3.googleusercontent.com/a-/AAuE7mCSedBqA0sbYDHljONdK7tmdMcHsqoSqAqt1MIkhO4=s64",
      "userId": "06740036021251600378"
     }
    },
    "colab": {
     "base_uri": "https://localhost:8080/",
     "height": 785
    }
   },
   "source": [
    "class_label = np.concatenate((indoor_activity, outdoor_activity))\n",
    "\n",
    "cnf_matrix = confusion_matrix(y_test,y_pred)\n",
    "\n",
    "print(\"Best accuracy (on validation dataset): %.2f%%\" % (accuracy_score(y_test, y_pred) * 100))\n",
    "print(cnf_matrix)\n",
    "\n",
    "plt.figure()\n",
    "fig, ax = plot_confusion_matrix(conf_mat=cnf_matrix,\n",
    "                                show_absolute=True,\n",
    "                                show_normed=True,\n",
    "                                colorbar=True,\n",
    "                                class_names=class_label,\n",
    "                                figsize=(10,10))\n",
    "plt.savefig(model_name + '_confusion_matrix', dpi=300)\n",
    "plt.show()"
   ],
   "execution_count": 65,
   "outputs": [
    {
     "output_type": "stream",
     "text": [
      "Best accuracy (on validation dataset): 37.57%\n",
      "[[  0  39   1  95   0   0   1   0]\n",
      " [  0 427  76  28   0  32 408   0]\n",
      " [  0   9  61   0   0 134   1  75]\n",
      " [  0 537   0 557   0   0   3   0]\n",
      " [  0 181   0 135   0   0  38   0]\n",
      " [  0  68  30   5   0 114  13 194]\n",
      " [  0 279   3  36   0   2 131   2]\n",
      " [  0  21   9   3   0  73   3 235]]\n"
     ],
     "name": "stdout"
    },
    {
     "output_type": "display_data",
     "data": {
      "text/plain": [
       "<Figure size 432x288 with 0 Axes>"
      ]
     },
     "metadata": {
      "tags": []
     }
    },
    {
     "output_type": "display_data",
     "data": {
      "text/plain": [
       "<Figure size 720x720 with 2 Axes>"
      ],
      "image/png": "[encoded data removed]"
     },
     "metadata": {
      "tags": [],
      "needs_background": "light"
     }
    }
   ]
  },
  {
   "cell_type": "markdown",
   "metadata": {
    "id": "l0Jmw_AhNb5Z",
    "colab_type": "text"
   },
   "source": [
    "## Classification Report"
   ]
  },
  {
   "cell_type": "code",
   "metadata": {
    "id": "y0a69Wbj_BYM",
    "colab_type": "code",
    "outputId": "93327d5f-df04-4f5d-e06d-71456224f2db",
    "executionInfo": {
     "status": "ok",
     "timestamp": 1572164280583,
     "user_tz": -480,
     "elapsed": 16786,
     "user": {
      "displayName": "Jiahao Lu",
      "photoUrl": "https://lh3.googleusercontent.com/a-/AAuE7mCSedBqA0sbYDHljONdK7tmdMcHsqoSqAqt1MIkhO4=s64",
      "userId": "06740036021251600378"
     }
    },
    "colab": {
     "base_uri": "https://localhost:8080/",
     "height": 289
    }
   },
   "source": [
    "# display report\n",
    "report_display = classification_report(y_test, y_pred, target_names=class_label, digits=4)\n",
    "print(\"Classification Report:\")\n",
    "print(report_display)\n",
    "\n",
    "# create report and store in csv\n",
    "report = classification_report(y_test, y_pred, output_dict=True)\n",
    "df_report = pd.DataFrame(report).transpose()\n",
    "df_report.to_csv(model_name+'_classification_report')"
   ],
   "execution_count": 64,
   "outputs": [
    {
     "output_type": "stream",
     "text": [
      "Classification Report:\n",
      "                  precision    recall  f1-score   support\n",
      "\n",
      "            rest     0.0000    0.0000    0.0000       136\n",
      " tread_flat_walk     0.2735    0.4398    0.3373       971\n",
      "  tread_flat_run     0.3389    0.2179    0.2652       280\n",
      "tread_slope_walk     0.6484    0.5077    0.5695      1097\n",
      "indoor_flat_walk     0.0000    0.0000    0.0000       354\n",
      " indoor_flat_run     0.3211    0.2689    0.2927       424\n",
      "    outdoor_walk     0.2191    0.2892    0.2493       453\n",
      "     outdoor_run     0.4644    0.6831    0.5529       344\n",
      "\n",
      "        accuracy                         0.3757      4059\n",
      "       macro avg     0.2832    0.3008    0.2834      4059\n",
      "    weighted avg     0.3614    0.3757    0.3582      4059\n",
      "\n"
     ],
     "name": "stdout"
    }
   ]
  }
 ]
}