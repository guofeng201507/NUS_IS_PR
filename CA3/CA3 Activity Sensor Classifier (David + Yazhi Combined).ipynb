{
 "nbformat": 4,
 "nbformat_minor": 0,
 "metadata": {
  "kernelspec": {
   "display_name": "Python 3",
   "language": "python",
   "name": "python3"
  },
  "language_info": {
   "codemirror_mode": {
    "name": "ipython",
    "version": 3
   },
   "file_extension": ".py",
   "mimetype": "text/x-python",
   "name": "python",
   "nbconvert_exporter": "python",
   "pygments_lexer": "ipython3",
   "version": "3.6.9"
  },
  "varInspector": {
   "cols": {
    "lenName": 16,
    "lenType": 16,
    "lenVar": 40
   },
   "kernels_config": {
    "python": {
     "delete_cmd_postfix": "",
     "delete_cmd_prefix": "del ",
     "library": "var_list.py",
     "varRefreshCmd": "print(var_dic_list())"
    },
    "r": {
     "delete_cmd_postfix": ") ",
     "delete_cmd_prefix": "rm(",
     "library": "var_list.r",
     "varRefreshCmd": "cat(var_dic_list()) "
    }
   },
   "types_to_exclude": [
    "module",
    "function",
    "builtin_function_or_method",
    "instance",
    "_Feature"
   ],
   "window_display": false
  },
  "colab": {
   "name": "CA3 Activity Sensor Classifier (David + Yazhi Combined).ipynb",
   "provenance": [],
   "collapsed_sections": [],
   "toc_visible": true
  },
  "pycharm": {
   "stem_cell": {
    "cell_type": "raw",
    "source": [],
    "metadata": {
     "collapsed": false
    }
   }
  }
 },
 "cells": [
  {
   "cell_type": "markdown",
   "metadata": {
    "id": "3WXwEE2OCJyu",
    "colab_type": "text"
   },
   "source": [
    "# Import Data"
   ]
  },
  {
   "cell_type": "code",
   "metadata": {
    "id": "18Itw25J_BXE",
    "colab_type": "code",
    "colab": {}
   },
   "source": [
    "import numpy as np\n",
    "import pandas as pd\n",
    "import os\n",
    "import scipy.io\n",
    "import scipy.signal as signal\n",
    "from scipy.signal import find_peaks\n",
    "\n",
    "import itertools\n",
    "\n",
    "from sklearn.preprocessing import MinMaxScaler\n",
    "from sklearn.metrics import confusion_matrix, accuracy_score, classification_report\n",
    "from tensorflow.keras.utils import to_categorical\n",
    "\n",
    "from mlxtend.plotting import plot_confusion_matrix\n",
    "\n",
    "import matplotlib.pyplot as plt\n",
    "import pywt\n",
    "import time\n",
    "\n",
    "from tensorflow.keras.models import Sequential\n",
    "from tensorflow.keras.layers import Dense, Flatten, Dropout, LSTM\n",
    "from tensorflow.keras.utils import to_categorical\n",
    "from tensorflow.keras.callbacks import ModelCheckpoint,CSVLogger\n",
    "\n",
    "# from keras.models import Sequential\n",
    "# from keras.layers import Dense, Dropout, LSTM, Activation\n",
    "# from keras.callbacks import EarlyStopping\n",
    "\n",
    "# plt.style.use('ggplot')\n",
    "from warnings import filterwarnings\n",
    "filterwarnings('ignore')\n",
    "%matplotlib inline  "
   ],
   "execution_count": 0,
   "outputs": []
  },
  {
   "cell_type": "code",
   "metadata": {
    "id": "44bERuDj_BXK",
    "colab_type": "code",
    "colab": {}
   },
   "source": [
    "# set data folder path\n",
    "# DATA_FOLDER = 'D:\\\\NUS\\\\semester 2\\\\Course 3\\\\CA\\\\MAREA_dataset'\n",
    "# DATA_FOLDER = '/Users/jiahao/Downloads/MAREA_dataset'\n",
    "# DATA_FOLDER = 'C:/Users/david/Documents/CA3/MAREA_dataset-201/MAREA_dataset'\n",
    "DATA_FOLDER = r'D:/NUS_TERM2_CA3/MAREA_dataset'\n",
    "\n",
    "ACTIVITY_FOLDER = os.path.join(DATA_FOLDER, 'Activity Timings')\n",
    "SUBJECT_FOLDER = os.path.join(DATA_FOLDER, 'Subject Data_txt format')\n",
    "PROCESSED_FOLDER = os.path.join(DATA_FOLDER, 'Processed_data')\n",
    "\n",
    "# define activity timing labels\n",
    "label_indoor = ['tread_flat_walk_start',\n",
    "                'tread_flat_walk_end',\n",
    "                'tread_flat_run_end',\n",
    "                'tread_slope_walk_start',\n",
    "                'tread_slope_walk_end',\n",
    "                'indoor_flat_walk_start',\n",
    "                'indoor_flat_walk_end',\n",
    "                'indoor_flat_run_end']\n",
    "\n",
    "label_outdoor = ['outdoor_walk_start',\n",
    "                 'outdoor_walk_end',\n",
    "                 'outdoor_run_end']\n",
    "\n",
    "# prepare timing index for different activities\n",
    "df_indoor_time = pd.read_csv(os.path.join(ACTIVITY_FOLDER, 'Indoor Experiment Timings.txt')\n",
    "                             , names=label_indoor)\n",
    "\n",
    "df_outdoor_time = pd.read_csv(os.path.join(ACTIVITY_FOLDER, 'Outdoor Experiment Timings.txt')\n",
    "                              , names=label_outdoor)\n",
    "\n",
    "df_indoor_time[\"subject\"] = [\"Sub\" + str(i) for i in range(1, 12)]\n",
    "df_outdoor_time[\"subject\"] = [\"Sub\" + str(j) for j in range(12, 21)]"
   ],
   "execution_count": 0,
   "outputs": []
  },
  {
   "cell_type": "code",
   "metadata": {
    "id": "XHr9eQf5_BXR",
    "colab_type": "code",
    "colab": {}
   },
   "source": [
    "  # set up activity column names\n",
    "axis_list = ['accX', 'accY', 'accZ']\n",
    "pos_list = ['LF', 'RF', 'Waist', 'Wrist']\n",
    "sub_list = ['Sub' + str(i) for i in range(1, 21)]\n",
    "column_names = [f\"{y}_{x}\" for x,y in itertools.product(pos_list, axis_list)]\n",
    "\n",
    "# TODO: purposely exclude subject 4 first as missing data -- dont know how to deal with missing data for signal\n",
    "sub_list.remove('Sub4')"
   ],
   "execution_count": 0,
   "outputs": []
  },
  {
   "cell_type": "code",
   "metadata": {
    "id": "zWrJRkG7ESNH",
    "colab_type": "code",
    "outputId": "0a4d67c0-b356-4d04-ec2d-55147f2c8892",
    "executionInfo": {
     "status": "ok",
     "timestamp": 1572155489762,
     "user_tz": -480,
     "elapsed": 76,
     "user": {
      "displayName": "Jiahao Lu",
      "photoUrl": "https://lh3.googleusercontent.com/a-/AAuE7mCSedBqA0sbYDHljONdK7tmdMcHsqoSqAqt1MIkhO4=s64",
      "userId": "06740036021251600378"
     }
    },
    "colab": {
     "base_uri": "https://localhost:8080/",
     "height": 221
    }
   },
   "source": [
    "column_names"
   ],
   "execution_count": 37,
   "outputs": [
    {
     "output_type": "execute_result",
     "data": {
      "text/plain": [
       "['accX_LF',\n",
       " 'accY_LF',\n",
       " 'accZ_LF',\n",
       " 'accX_RF',\n",
       " 'accY_RF',\n",
       " 'accZ_RF',\n",
       " 'accX_Waist',\n",
       " 'accY_Waist',\n",
       " 'accZ_Waist',\n",
       " 'accX_Wrist',\n",
       " 'accY_Wrist',\n",
       " 'accZ_Wrist']"
      ]
     },
     "metadata": {
      "tags": []
     },
     "execution_count": 37
    }
   ]
  },
  {
   "cell_type": "code",
   "metadata": {
    "id": "jhvKltEZ_BXV",
    "colab_type": "code",
    "colab": {}
   },
   "source": [
    "# create master dataframe\n",
    "df = pd.DataFrame()\n",
    "for sub in sub_list:\n",
    "    df_lf = pd.read_csv(os.path.join(SUBJECT_FOLDER, sub + '_' + 'LF.txt'))\n",
    "    df_rf = pd.read_csv(os.path.join(SUBJECT_FOLDER, sub + '_' + 'RF.txt'))\n",
    "    df_waist = pd.read_csv(os.path.join(SUBJECT_FOLDER, sub + '_' + 'Waist.txt'))\n",
    "    df_wrist = pd.read_csv(os.path.join(SUBJECT_FOLDER, sub + '_' + 'Wrist.txt'))\n",
    "    df_sub = pd.concat([df_lf, df_rf, df_waist, df_wrist], axis=1)\n",
    "    df_sub.columns = column_names\n",
    "\n",
    "    df_sub = df_sub.copy()\n",
    "    n = int(sub[3:])\n",
    "    if n > 11:\n",
    "        sub_row = df_outdoor_time[df_outdoor_time['subject'] == sub]\n",
    "        tmp = sub_row.iloc[0]\n",
    "        df_sub.loc[0:tmp['outdoor_walk_end'], 'label'] = 'outdoor_walk'\n",
    "        df_sub.loc[tmp['outdoor_walk_end']: tmp['outdoor_run_end'], 'label'] = 'outdoor_run'\n",
    "    else:\n",
    "        sub_row = df_indoor_time[df_indoor_time['subject'] == sub]\n",
    "        tmp = sub_row.iloc[0]\n",
    "        df_sub.loc[0:tmp['tread_flat_walk_end'], 'label'] = 'tread_flat_walk'\n",
    "        df_sub.loc[tmp['tread_flat_walk_end']: tmp['tread_flat_run_end'],'label'] = 'tread_flat_run'\n",
    "        df_sub.loc[tmp['tread_flat_run_end']: tmp['tread_slope_walk_start'], 'label'] = 'rest'\n",
    "        df_sub.loc[tmp['tread_slope_walk_start']: tmp['tread_slope_walk_end'],'label'] = 'tread_slope_walk'\n",
    "        df_sub.loc[tmp['tread_slope_walk_end']: tmp['indoor_flat_walk_start'], 'label'] = 'rest'\n",
    "        df_sub.loc[tmp['indoor_flat_walk_start']: tmp['indoor_flat_walk_end'],'label'] = 'indoor_flat_walk'\n",
    "        df_sub.loc[tmp['indoor_flat_walk_end']: tmp['indoor_flat_run_end'],'label'] = 'indoor_flat_run'\n",
    "\n",
    "    df_sub['subject'] = sub\n",
    "    df = df.append(df_sub)\n",
    "    # print(df.shape)"
   ],
   "execution_count": 0,
   "outputs": []
  },
  {
   "cell_type": "code",
   "metadata": {
    "id": "tJ6waucV_BXX",
    "colab_type": "code",
    "outputId": "4ce27572-6667-4d16-ff9b-17b82f4932b2",
    "executionInfo": {
     "status": "ok",
     "timestamp": 1572155501421,
     "user_tz": -480,
     "elapsed": 5624,
     "user": {
      "displayName": "Jiahao Lu",
      "photoUrl": "https://lh3.googleusercontent.com/a-/AAuE7mCSedBqA0sbYDHljONdK7tmdMcHsqoSqAqt1MIkhO4=s64",
      "userId": "06740036021251600378"
     }
    },
    "colab": {
     "base_uri": "https://localhost:8080/",
     "height": 224
    }
   },
   "source": [
    "df.head(5)"
   ],
   "execution_count": 39,
   "outputs": [
    {
     "output_type": "execute_result",
     "data": {
      "text/plain": [
       "   accX_LF  accY_LF  accZ_LF  accX_RF  accY_RF  accZ_RF  accX_Waist  \\\n",
       "0   -2.196  -11.765   -1.569    4.078   -6.902    2.196      -0.157   \n",
       "1   -2.510  -10.353   -2.039    4.392   -8.000    1.255      -0.157   \n",
       "2   -2.353  -10.824   -2.510    4.863   -8.314    0.941      -0.157   \n",
       "3   -1.882  -10.667   -2.667    4.549   -9.412   -0.157      -0.157   \n",
       "4   -1.412  -10.353   -2.824    3.451  -10.353   -0.784      -0.627   \n",
       "\n",
       "   accY_Waist  accZ_Waist  accX_Wrist  accY_Wrist  accZ_Wrist  \\\n",
       "0      -8.157       0.784       0.941     -11.451      -2.510   \n",
       "1      -8.000       1.255       0.627     -10.510      -2.353   \n",
       "2      -7.843       1.255       0.784     -10.196      -2.039   \n",
       "3      -8.000       1.412       1.255     -10.039      -1.412   \n",
       "4      -7.529       1.882       1.569     -10.196      -1.255   \n",
       "\n",
       "             label subject  \n",
       "0  tread_flat_walk    Sub1  \n",
       "1  tread_flat_walk    Sub1  \n",
       "2  tread_flat_walk    Sub1  \n",
       "3  tread_flat_walk    Sub1  \n",
       "4  tread_flat_walk    Sub1  "
      ],
      "text/html": [
       "<div>\n",
       "<style scoped>\n",
       "    .dataframe tbody tr th:only-of-type {\n",
       "        vertical-align: middle;\n",
       "    }\n",
       "\n",
       "    .dataframe tbody tr th {\n",
       "        vertical-align: top;\n",
       "    }\n",
       "\n",
       "    .dataframe thead th {\n",
       "        text-align: right;\n",
       "    }\n",
       "</style>\n",
       "<table border=\"1\" class=\"dataframe\">\n",
       "  <thead>\n",
       "    <tr style=\"text-align: right;\">\n",
       "      <th></th>\n",
       "      <th>accX_LF</th>\n",
       "      <th>accY_LF</th>\n",
       "      <th>accZ_LF</th>\n",
       "      <th>accX_RF</th>\n",
       "      <th>accY_RF</th>\n",
       "      <th>accZ_RF</th>\n",
       "      <th>accX_Waist</th>\n",
       "      <th>accY_Waist</th>\n",
       "      <th>accZ_Waist</th>\n",
       "      <th>accX_Wrist</th>\n",
       "      <th>accY_Wrist</th>\n",
       "      <th>accZ_Wrist</th>\n",
       "      <th>label</th>\n",
       "      <th>subject</th>\n",
       "    </tr>\n",
       "  </thead>\n",
       "  <tbody>\n",
       "    <tr>\n",
       "      <th>0</th>\n",
       "      <td>-2.196</td>\n",
       "      <td>-11.765</td>\n",
       "      <td>-1.569</td>\n",
       "      <td>4.078</td>\n",
       "      <td>-6.902</td>\n",
       "      <td>2.196</td>\n",
       "      <td>-0.157</td>\n",
       "      <td>-8.157</td>\n",
       "      <td>0.784</td>\n",
       "      <td>0.941</td>\n",
       "      <td>-11.451</td>\n",
       "      <td>-2.510</td>\n",
       "      <td>tread_flat_walk</td>\n",
       "      <td>Sub1</td>\n",
       "    </tr>\n",
       "    <tr>\n",
       "      <th>1</th>\n",
       "      <td>-2.510</td>\n",
       "      <td>-10.353</td>\n",
       "      <td>-2.039</td>\n",
       "      <td>4.392</td>\n",
       "      <td>-8.000</td>\n",
       "      <td>1.255</td>\n",
       "      <td>-0.157</td>\n",
       "      <td>-8.000</td>\n",
       "      <td>1.255</td>\n",
       "      <td>0.627</td>\n",
       "      <td>-10.510</td>\n",
       "      <td>-2.353</td>\n",
       "      <td>tread_flat_walk</td>\n",
       "      <td>Sub1</td>\n",
       "    </tr>\n",
       "    <tr>\n",
       "      <th>2</th>\n",
       "      <td>-2.353</td>\n",
       "      <td>-10.824</td>\n",
       "      <td>-2.510</td>\n",
       "      <td>4.863</td>\n",
       "      <td>-8.314</td>\n",
       "      <td>0.941</td>\n",
       "      <td>-0.157</td>\n",
       "      <td>-7.843</td>\n",
       "      <td>1.255</td>\n",
       "      <td>0.784</td>\n",
       "      <td>-10.196</td>\n",
       "      <td>-2.039</td>\n",
       "      <td>tread_flat_walk</td>\n",
       "      <td>Sub1</td>\n",
       "    </tr>\n",
       "    <tr>\n",
       "      <th>3</th>\n",
       "      <td>-1.882</td>\n",
       "      <td>-10.667</td>\n",
       "      <td>-2.667</td>\n",
       "      <td>4.549</td>\n",
       "      <td>-9.412</td>\n",
       "      <td>-0.157</td>\n",
       "      <td>-0.157</td>\n",
       "      <td>-8.000</td>\n",
       "      <td>1.412</td>\n",
       "      <td>1.255</td>\n",
       "      <td>-10.039</td>\n",
       "      <td>-1.412</td>\n",
       "      <td>tread_flat_walk</td>\n",
       "      <td>Sub1</td>\n",
       "    </tr>\n",
       "    <tr>\n",
       "      <th>4</th>\n",
       "      <td>-1.412</td>\n",
       "      <td>-10.353</td>\n",
       "      <td>-2.824</td>\n",
       "      <td>3.451</td>\n",
       "      <td>-10.353</td>\n",
       "      <td>-0.784</td>\n",
       "      <td>-0.627</td>\n",
       "      <td>-7.529</td>\n",
       "      <td>1.882</td>\n",
       "      <td>1.569</td>\n",
       "      <td>-10.196</td>\n",
       "      <td>-1.255</td>\n",
       "      <td>tread_flat_walk</td>\n",
       "      <td>Sub1</td>\n",
       "    </tr>\n",
       "  </tbody>\n",
       "</table>\n",
       "</div>"
      ]
     },
     "metadata": {
      "tags": []
     },
     "execution_count": 39
    }
   ]
  },
  {
   "cell_type": "markdown",
   "metadata": {
    "id": "j9Q7R48-E1-v",
    "colab_type": "text"
   },
   "source": [
    "# Preprocess Data"
   ]
  },
  {
   "cell_type": "markdown",
   "metadata": {
    "id": "wRBBFYU0JRJJ",
    "colab_type": "text"
   },
   "source": [
    "## Function: Signal Processing (Split & Transformation)"
   ]
  },
  {
   "cell_type": "code",
   "metadata": {
    "id": "cGfJUaBc_BXb",
    "colab_type": "code",
    "colab": {}
   },
   "source": [
    "def PreprocessingSignal(df, label, subject, feature, window, \n",
    "                        wavelet_args = {\"type\":\"Y\",\n",
    "                                        \"threshold\":2, \n",
    "                                        \"wavedec_options\":{\"wavelet\":\"db4\", \"level\":2},\n",
    "                                        \"waverec_options\":{\"wavelet\":\"db4\"}},\n",
    "                        window_args = {\"type\":\"no_overlap\"}\n",
    "                       ):\n",
    "    \n",
    "    df = df.loc[(df['label'] == label) & (df['subject'] == subject)]\n",
    "    \n",
    "    ### Do wavelet transform or NOT ###\n",
    "    if wavelet_args[\"type\"] == \"Y\":\n",
    "        # wavelet_args = {\"threshold\":2, \"options\":{\"wavelet\":\"db4\", \"level\":0.8}}\n",
    "        # Do wavelet transform\n",
    "        signal_orig = df[feature].values\n",
    "        args1 = wavelet_args[\"wavedec_options\"]\n",
    "        coeffs_orig = pywt.wavedec(signal_orig, **args1)\n",
    "        coeffs_filter = coeffs_orig.copy()\n",
    "        threshold = wavelet_args[\"threshold\"]\n",
    "        for i in range(1, len(coeffs_orig)):\n",
    "            coeffs_filter[i] = pywt.threshold(coeffs_orig[i], threshold*max(coeffs_orig[i]))\n",
    "        args2 = wavelet_args[\"waverec_options\"]\n",
    "        signal_denoised = pywt.waverec(coeffs_filter, **args2) \n",
    "        to_process_df = pd.DataFrame(signal_denoised)\n",
    "    else:\n",
    "        tmp_df = df[feature].reset_index()\n",
    "        to_process_df = tmp_df.drop(columns=[\"index\"])\n",
    "        to_process_df.columns = [0]\n",
    "    ### Do wavelet transform or NOT ###\n",
    "        \n",
    "    min_index = min(to_process_df.index)\n",
    "    max_index = max(to_process_df.index)\n",
    "    \n",
    "    ### Define Method to cut signal into windows ###\n",
    "    if window_args[\"type\"] == \"no_overlap\":\n",
    "        # window_args = {\"type\":\"no_overlap\"}\n",
    "        index_list = range(min_index, max_index+1, int(window))\n",
    "    elif window_args[\"type\"] == \"with_overlap\":\n",
    "        # window_args = {\"type\":\"with_overlap\", \"overlap_perc\":0.5}\n",
    "        overlap_perc = window_args[\"overlap_perc\"]\n",
    "        step = int(window/(1/overlap_perc))\n",
    "        index_list = range(min_index, max_index+1, step)\n",
    "    elif window_args[\"type\"] == \"by_peaks\":\n",
    "        index_list = window_args[\"peaks_index\"]\n",
    "    ### Define Method to cut signal into windows ###\n",
    "    \n",
    "    ### Cut signal into windows ###\n",
    "    windowed_selected_chunk_array = []\n",
    "    for index in index_list:\n",
    "        windowed_selected_chunk = to_process_df[0].iloc[index:index+window] \n",
    "        if windowed_selected_chunk.shape[0] == window:\n",
    "            windowed_selected_chunk_array.append(windowed_selected_chunk.values)\n",
    "    output_np_arr = np.array(windowed_selected_chunk_array)\n",
    "    ### Cut signal into windows ###\n",
    "    \n",
    "    output_np_label = np.asarray([label]*output_np_arr.shape[0])\n",
    "    \n",
    "    return output_np_arr, output_np_label\n"
   ],
   "execution_count": 0,
   "outputs": []
  },
  {
   "cell_type": "markdown",
   "metadata": {
    "id": "Tq2mCtTWJaVB",
    "colab_type": "text"
   },
   "source": [
    "## Label Setup"
   ]
  },
  {
   "cell_type": "code",
   "metadata": {
    "id": "6TEEPUqA_BXd",
    "colab_type": "code",
    "colab": {}
   },
   "source": [
    "#feature_list = column_names TODO: is this line still needed?\n",
    "\n",
    "# Create\n",
    "indoor_activity = ['tread_slope_walk', 'tread_flat_walk', 'indoor_flat_run', 'indoor_flat_walk', 'tread_flat_run', 'rest']\n",
    "outdoor_activity = ['outdoor_walk', 'outdoor_run']\n",
    "\n",
    "indoor_sub = ['Sub' + str(i) for i in range(1, 12)]\n",
    "outdoor_sub = ['Sub' + str(i) for i in range(12, 21)]\n",
    "indoor_sub.remove('Sub4')"
   ],
   "execution_count": 0,
   "outputs": []
  },
  {
   "cell_type": "code",
   "metadata": {
    "id": "0cIqT63LFdME",
    "colab_type": "code",
    "outputId": "642cb4c1-dc17-4a9f-a8dc-e5a5d0d4c466",
    "executionInfo": {
     "status": "ok",
     "timestamp": 1572155504317,
     "user_tz": -480,
     "elapsed": 49,
     "user": {
      "displayName": "Jiahao Lu",
      "photoUrl": "https://lh3.googleusercontent.com/a-/AAuE7mCSedBqA0sbYDHljONdK7tmdMcHsqoSqAqt1MIkhO4=s64",
      "userId": "06740036021251600378"
     }
    },
    "colab": {
     "base_uri": "https://localhost:8080/",
     "height": 187
    }
   },
   "source": [
    "indoor_sub"
   ],
   "execution_count": 42,
   "outputs": [
    {
     "output_type": "execute_result",
     "data": {
      "text/plain": [
       "['Sub1',\n",
       " 'Sub2',\n",
       " 'Sub3',\n",
       " 'Sub5',\n",
       " 'Sub6',\n",
       " 'Sub7',\n",
       " 'Sub8',\n",
       " 'Sub9',\n",
       " 'Sub10',\n",
       " 'Sub11']"
      ]
     },
     "metadata": {
      "tags": []
     },
     "execution_count": 42
    }
   ]
  },
  {
   "cell_type": "markdown",
   "metadata": {
    "id": "FgsLIXC4JfRZ",
    "colab_type": "text"
   },
   "source": [
    "## Function: Train & Test Split (including Signal Processing)"
   ]
  },
  {
   "cell_type": "code",
   "metadata": {
    "id": "SUjbD2V5_BXg",
    "colab_type": "code",
    "colab": {}
   },
   "source": [
    "def PrepareFeature(df, feature, split_method, window,\n",
    "                   indoor_activity, outdoor_activity, indoor_sub, outdoor_sub, \n",
    "                   wavelet_args, window_args, train_size=0.8):\n",
    "    \n",
    "    X_train = pd.DataFrame()\n",
    "    X_test = pd.DataFrame()\n",
    "    y_train = pd.DataFrame()\n",
    "    y_test = pd.DataFrame()\n",
    "\n",
    "    # train_size = 0.8\n",
    "    #window = 128*4\n",
    "    #indoor_activity = ['tread_slope_walk', 'tread_flat_walk', 'indoor_flat_run', 'indoor_flat_walk', 'tread_flat_run', 'rest']\n",
    "    #outdoor_activity = ['outdoor_walk', 'outdoor_run']\n",
    "    #indoor_sub = ['Sub1', 'Sub2', 'Sub3', 'Sub5', 'Sub6', 'Sub7', 'Sub8', 'Sub9', 'Sub10', 'Sub11',]\n",
    "    #outdoor_sub = ['Sub12', 'Sub13', 'Sub14', 'Sub15', 'Sub16', 'Sub17', 'Sub18', 'Sub19', 'Sub20']\n",
    "    # (SAMPLE) wavelet args options #\n",
    "    #wavelet_args = {\"type\":\"Y\", \"threshold\":2, \"wavedec_options\":{\"wavelet\":\"db4\", \"level\":2}, \"waverec_options\":{\"wavelet\":\"db4\"}}\n",
    "    #wavelet_args = {\"type\":\"N\"}\n",
    "    # (SAMPLE) window args options #\n",
    "    #window_args = {\"type\":\"by_peaks\", \"find_peaks_col\":\"accX_LF\", \"find_peaks_options\": {\"prominence\":30, \"height\":20}} # \"peaks_index\":peaks_index_list will be added\n",
    "    #window_args = {\"type\":\"with_overlap\", \"overlap_perc\":0.5} \n",
    "    #window_args = {\"type\":\"no_overlap\"}\n",
    "\n",
    "    #TODO: find_peaks from a given column\n",
    "    #NOTE: code will break when using -> window_args = {\"type\":\"by_peaks\", \"peaks_index\":peaks_index_list}\n",
    "    \n",
    "    # method 1: split within each subject\n",
    "    if split_method == 'TrainTestSplitWithinSubject':\n",
    "        for feature in [feature]:\n",
    "            #indoor activity\n",
    "            for sub in indoor_sub:\n",
    "                for activity in indoor_activity:\n",
    "                    if window_args[\"type\"] == \"by_peaks\":\n",
    "                        data_df = df.loc[(df['label'] == activity) & (df['subject'] == sub)]\n",
    "                        args = window_args[\"find_peaks_options\"]\n",
    "                        peak_col = window_args[\"find_peaks_col\"]\n",
    "                        peaks_index_list = list(find_peaks(data_df[peak_col], **args)[0])\n",
    "                        window_args[\"peaks_index\"] = peaks_index_list\n",
    "                    output_np_arr, output_label = PreprocessingSignal(df, activity, sub, feature, window, wavelet_args, window_args)\n",
    "                    \n",
    "                    train_len = int(train_size*len(output_np_arr))\n",
    "                    tr_x = output_np_arr[:train_len,:]\n",
    "                    ts_x = output_np_arr[train_len:len(output_np_arr),:]\n",
    "                    \n",
    "                    test_len = int(train_size*len(output_label))\n",
    "                    tr_y = output_label[:test_len]\n",
    "                    ts_y = output_label[test_len:len(output_label)]\n",
    "                \n",
    "                    X_train = X_train.append(pd.DataFrame(tr_x))\n",
    "                    X_test = X_test.append(pd.DataFrame(ts_x))\n",
    "                    y_train = y_train.append(pd.DataFrame(tr_y))\n",
    "                    y_test = y_test.append(pd.DataFrame(ts_y)) \n",
    "\n",
    "            #outdoor activity\n",
    "            for sub in outdoor_sub:\n",
    "                for activity in outdoor_activity:\n",
    "                    if window_args[\"type\"] == \"by_peaks\":\n",
    "                          data_df = df.loc[(df['label'] == activity) & (df['subject'] == sub)]\n",
    "                          args = window_args[\"find_peaks_options\"]\n",
    "                          peak_col = window_args[\"find_peaks_col\"]\n",
    "                          peaks_index_list = list(find_peaks(data_df[peak_col], **args)[0])\n",
    "                          window_args[\"peaks_index\"] = peaks_index_list\n",
    "                    output_np_arr, output_label = PreprocessingSignal(df, activity, sub, feature, window, wavelet_args, window_args)\n",
    "                    \n",
    "                    train_len = int(train_size*len(output_np_arr))\n",
    "                    tr_x = output_np_arr[:train_len,:]\n",
    "                    ts_x = output_np_arr[train_len:len(output_np_arr),:]\n",
    "                    \n",
    "                    test_len = int(train_size*len(output_label))\n",
    "                    tr_y = output_label[:test_len]\n",
    "                    ts_y = output_label[test_len:len(output_label)]\n",
    "                \n",
    "                    X_train = X_train.append(pd.DataFrame(tr_x))\n",
    "                    X_test = X_test.append(pd.DataFrame(ts_x))\n",
    "                    y_train = y_train.append(pd.DataFrame(tr_y))\n",
    "                    y_test = y_test.append(pd.DataFrame(ts_y))\n",
    "    \n",
    "    # method 2: split all samples randomly\n",
    "    if split_method == 'Random':\n",
    "        for feature in [feature]:\n",
    "#             output = np.asarray(list())\n",
    "#             label = np.asarray(list())\n",
    "            output = np.empty((0,window), float)\n",
    "            label = np.empty((0,), float)\n",
    "            \n",
    "            #indoor activity\n",
    "            for sub in indoor_sub:\n",
    "                for activity in indoor_activity:\n",
    "                    if window_args[\"type\"] == \"by_peaks\":\n",
    "                          data_df = df.loc[(df['label'] == activity) & (df['subject'] == sub)]\n",
    "                          args = window_args[\"find_peaks_options\"]\n",
    "                          peak_col = window_args[\"find_peaks_col\"]\n",
    "                          peaks_index_list = list(find_peaks(data_df[peak_col], **args)[0])\n",
    "                          window_args[\"peaks_index\"] = peaks_index_list\n",
    "                    output_np_arr, output_label = PreprocessingSignal(df, activity, sub, feature, window, wavelet_args, window_args)\n",
    "                    output = np.append(output, output_np_arr, axis = 0)\n",
    "                    label = np.append(label, output_label, axis = 0)\n",
    "                    \n",
    "            #outdoor activity:\n",
    "            for sub in outdoor_sub:\n",
    "                for activity in outdoor_activity:\n",
    "                    if window_args[\"type\"] == \"by_peaks\":\n",
    "                          data_df = df.loc[(df['label'] == activity) & (df['subject'] == sub)]\n",
    "                          args = window_args[\"find_peaks_options\"]\n",
    "                          peak_col = window_args[\"find_peaks_col\"]\n",
    "                          peaks_index_list = list(find_peaks(data_df[peak_col], **args)[0])\n",
    "                          window_args[\"peaks_index\"] = peaks_index_list\n",
    "                    output_np_arr, output_label = PreprocessingSignal(df, activity, sub, feature, window, wavelet_args, window_args)\n",
    "                    output = np.append(output, output_np_arr, axis = 0)\n",
    "                    label = np.append(label, output_label, axis = 0)\n",
    "                    \n",
    "            train_len = int(train_size*len(output))\n",
    "            tr_x = output[:train_len,:]\n",
    "            ts_x = output[train_len:len(output),:]\n",
    "                    \n",
    "            test_len = int(train_size*len(label))\n",
    "            tr_y = label[:test_len]\n",
    "            ts_y = label[test_len:len(label)]\n",
    "                \n",
    "            X_train = X_train.append(pd.DataFrame(tr_x))\n",
    "            X_test = X_test.append(pd.DataFrame(ts_x))\n",
    "            y_train = y_train.append(pd.DataFrame(tr_y))\n",
    "            y_test = y_test.append(pd.DataFrame(ts_y))\n",
    "    \n",
    "    # method 3: only keep several subjects in the train, \n",
    "    #           put other subjects in the test\n",
    "    if split_method == 'DifferentSubjectsInTrainTest':\n",
    "        for feature in [feature]:  \n",
    "            train_sub = np.empty((0,window), float)\n",
    "            train_label_sub = np.empty((0,), float)\n",
    "            test_sub = np.empty((0,window), float)\n",
    "            test_label_sub = np.empty((0,), float)\n",
    "            \n",
    "            #indoor activity\n",
    "            indoor_sub_train_len = int(train_size*len(indoor_sub))\n",
    "            indoor_sub_train = indoor_sub[:indoor_sub_train_len]\n",
    "            indoor_sub_test = indoor_sub[indoor_sub_train_len:len(indoor_sub)]\n",
    "            \n",
    "            for sub in indoor_sub_train:\n",
    "                for activity in indoor_activity:\n",
    "                    if window_args[\"type\"] == \"by_peaks\":\n",
    "                          data_df = df.loc[(df['label'] == activity) & (df['subject'] == sub)]\n",
    "                          args = window_args[\"find_peaks_options\"]\n",
    "                          peak_col = window_args[\"find_peaks_col\"]\n",
    "                          peaks_index_list = list(find_peaks(data_df[peak_col], **args)[0])\n",
    "                          #print(\"THIS\", activity, peaks_index_list)\n",
    "                          window_args[\"peaks_index\"] = peaks_index_list\n",
    "                    output_np_arr, output_label = PreprocessingSignal(df, activity, sub, feature, window, wavelet_args, window_args)\n",
    "                    train_sub = np.append(train_sub, output_np_arr, axis = 0)\n",
    "                    train_label_sub = np.append(train_label_sub, output_label, axis = 0)\n",
    "            \n",
    "            for sub in indoor_sub_test:\n",
    "                for activity in indoor_activity:\n",
    "                    if window_args[\"type\"] == \"by_peaks\":\n",
    "                          data_df = df.loc[(df['label'] == activity) & (df['subject'] == sub)]\n",
    "                          args = window_args[\"find_peaks_options\"]\n",
    "                          peak_col = window_args[\"find_peaks_col\"]\n",
    "                          peaks_index_list = list(find_peaks(data_df[peak_col], **args)[0])\n",
    "                          window_args[\"peaks_index\"] = peaks_index_list\n",
    "                    output_np_arr, output_label = PreprocessingSignal(df, activity, sub, feature, window, wavelet_args, window_args)\n",
    "                    test_sub = np.append(test_sub, output_np_arr, axis = 0)\n",
    "                    test_label_sub = np.append(test_label_sub, output_label, axis = 0)\n",
    "            \n",
    "                    \n",
    "            #outdoor activity\n",
    "            outdoor_sub_train_len = int(train_size*len(outdoor_sub))\n",
    "            outdoor_sub_train = outdoor_sub[:outdoor_sub_train_len]\n",
    "            outdoor_sub_test = outdoor_sub[outdoor_sub_train_len:len(outdoor_sub)]\n",
    "            \n",
    "            for sub in outdoor_sub_train:\n",
    "                for activity in outdoor_activity:\n",
    "                    if window_args[\"type\"] == \"by_peaks\":\n",
    "                          data_df = df.loc[(df['label'] == activity) & (df['subject'] == sub)]\n",
    "                          args = window_args[\"find_peaks_options\"]\n",
    "                          peak_col = window_args[\"find_peaks_col\"]\n",
    "                          peaks_index_list = list(find_peaks(data_df[peak_col], **args)[0])\n",
    "                          window_args[\"peaks_index\"] = peaks_index_list\n",
    "                    output_np_arr, output_label = PreprocessingSignal(df, activity, sub, feature, window, wavelet_args, window_args)\n",
    "                    train_sub = np.append(train_sub, output_np_arr, axis = 0)\n",
    "                    train_label_sub = np.append(train_label_sub, output_label, axis = 0)\n",
    "            \n",
    "            for sub in outdoor_sub_test:\n",
    "                for activity in outdoor_activity:\n",
    "                    if window_args[\"type\"] == \"by_peaks\":\n",
    "                          data_df = df.loc[(df['label'] == activity) & (df['subject'] == sub)]\n",
    "                          args = window_args[\"find_peaks_options\"]\n",
    "                          peak_col = window_args[\"find_peaks_col\"]\n",
    "                          peaks_index_list = list(find_peaks(data_df[peak_col], **args)[0])\n",
    "                          window_args[\"peaks_index\"] = peaks_index_list\n",
    "                    output_np_arr, output_label = PreprocessingSignal(df, activity, sub, feature, window, wavelet_args, window_args)\n",
    "                    test_sub = np.append(test_sub, output_np_arr, axis = 0)\n",
    "                    test_label_sub = np.append(test_label_sub, output_label, axis = 0)\n",
    "                    \n",
    "            X_train = pd.DataFrame(train_sub)\n",
    "            y_train = pd.DataFrame(train_label_sub)\n",
    "            X_test = pd.DataFrame(test_sub)\n",
    "            y_test = pd.DataFrame(test_label_sub)\n",
    "        \n",
    "    return X_train, X_test, y_train, y_test"
   ],
   "execution_count": 0,
   "outputs": []
  },
  {
   "cell_type": "code",
   "metadata": {
    "id": "BH1SEQeUYc-b",
    "colab_type": "code",
    "colab": {}
   },
   "source": [
    "# activity = 'tread_slope_walk'\n",
    "# sub = 'Sub1'\n",
    "\n",
    "# window_args = {\"type\":\"by_peaks\", \"find_peaks_col\":\"accX_LF\", \"find_peaks_options\": {\"prominence\":30, \"height\":20}}\n",
    "\n",
    "# data_df = df = df.loc[(df['label'] == activity) & (df['subject'] == sub)]\n",
    "# args = window_args[\"find_peaks_options\"]\n",
    "# peak_col = window_args[\"find_peaks_col\"]\n",
    "# peaks_index_list = list(find_peaks(data_df[peak_col], **args)[0])\n",
    "# window_args[\"peaks_index\"] = peaks_index_list"
   ],
   "execution_count": 0,
   "outputs": []
  },
  {
   "cell_type": "markdown",
   "metadata": {
    "id": "qbrj7b4OJ2Sa",
    "colab_type": "text"
   },
   "source": [
    "## Test?"
   ]
  },
  {
   "cell_type": "code",
   "metadata": {
    "id": "3HH6VSbu_BXi",
    "colab_type": "code",
    "colab": {}
   },
   "source": [
    "# TODO: is this for testing? David: Yes\n",
    "window = 128*4\n",
    "\n",
    "indoor_activity = ['tread_slope_walk', 'tread_flat_walk', 'indoor_flat_run', 'indoor_flat_walk', 'tread_flat_run', 'rest']\n",
    "outdoor_activity = ['outdoor_walk', 'outdoor_run']\n",
    "indoor_sub = ['Sub1', 'Sub2', 'Sub3', 'Sub5', 'Sub6', 'Sub7', 'Sub8', 'Sub9', 'Sub10', 'Sub11',]\n",
    "outdoor_sub = ['Sub12', 'Sub13', 'Sub14', 'Sub15', 'Sub16', 'Sub17', 'Sub18', 'Sub19', 'Sub20']\n",
    "\n",
    "\n",
    "split_method = \"TrainTestSplitWithinSubject\"\n",
    "# split_method = \"Random\"\n",
    "# split_method = \"DifferentSubjectsInTrainTest\"\n",
    "\n",
    "# wavelet_args = {\"type\":\"Y\", \"threshold\":2, \"wavedec_options\":{\"wavelet\":\"db4\", \"level\":2}, \"waverec_options\":{\"wavelet\":\"db4\"}}\n",
    "wavelet_args = {\"type\":\"N\"}\n",
    "window_args = {\"type\":\"by_peaks\", \"find_peaks_col\":\"accX_LF\", \"find_peaks_options\": {\"prominence\":30, \"height\":20}}\n",
    "#window_args = {\"type\":\"with_overlap\", \"overlap_perc\":0.5} \n",
    "# window_args = {\"type\":\"no_overlap\"}"
   ],
   "execution_count": 0,
   "outputs": []
  },
  {
   "cell_type": "code",
   "metadata": {
    "id": "vb-dhh69_BXk",
    "colab_type": "code",
    "outputId": "dabf5f3a-d096-45b3-9f96-e4be15916c84",
    "executionInfo": {
     "status": "ok",
     "timestamp": 1572155569055,
     "user_tz": -480,
     "elapsed": 59589,
     "user": {
      "displayName": "Jiahao Lu",
      "photoUrl": "https://lh3.googleusercontent.com/a-/AAuE7mCSedBqA0sbYDHljONdK7tmdMcHsqoSqAqt1MIkhO4=s64",
      "userId": "06740036021251600378"
     }
    },
    "colab": {
     "base_uri": "https://localhost:8080/",
     "height": 85
    }
   },
   "source": [
    "# SAMPLE #\n",
    "\n",
    "feature = 'accY_LF'\n",
    "# feature_list = column_names\n",
    "# for feature in column_names:\n",
    "    # (example) feature = accX_LF (which is stored in the column_names)\n",
    "    \n",
    "X_train, X_test, y_train, y_test = PrepareFeature(df, feature, split_method, window,\n",
    "                                                  indoor_activity, outdoor_activity, indoor_sub, outdoor_sub,\n",
    "                                                  wavelet_args, window_args)\n",
    "\n",
    "\n",
    "X_train_filename = \"_\".join(['X_train', feature, \"Window\"+str(window), \"Wavelet\" + wavelet_args[\"type\"], window_args[\"type\"], split_method]) + '.txt'\n",
    "X_test_filename = \"_\".join(['X_test', feature, \"Window\"+str(window), \"Wavelet\" + wavelet_args[\"type\"], window_args[\"type\"], split_method]) + '.txt'\n",
    "y_train_filename = \"_\".join(['y_train', feature, \"Window\"+str(window), \"Wavelet\" + wavelet_args[\"type\"], window_args[\"type\"], split_method]) + '.txt'\n",
    "y_test_filename = \"_\".join(['y_test', feature, \"Window\"+str(window), \"Wavelet\" + wavelet_args[\"type\"], window_args[\"type\"], split_method]) + '.txt'\n",
    "                            \n",
    "X_train.to_csv(X_train_filename, header=None, index=False, sep='\\t')\n",
    "X_test.to_csv(X_test_filename, header=None, index=False, sep='\\t')\n",
    "\n",
    "pd.DataFrame(y_train).to_csv(y_train_filename, header=None, index=False, sep='\\t')\n",
    "pd.DataFrame(y_test).to_csv(y_test_filename, header=None, index=False, sep='\\t')\n",
    "\n",
    "print(\"Saved X_train to %s\" %(X_train_filename))\n",
    "print(\"Saved X_test to %s\" %(X_test_filename))\n",
    "print(\"Saved X_train to %s\" %(y_train_filename))\n",
    "print(\"Saved X_test to %s\" %(y_test_filename))"
   ],
   "execution_count": 46,
   "outputs": [
    {
     "output_type": "stream",
     "text": [
      "Saved X_train to X_train_accY_LF_Window512_WaveletN_by_peaks_TrainTestSplitWithinSubject.txt\n",
      "Saved X_test to X_test_accY_LF_Window512_WaveletN_by_peaks_TrainTestSplitWithinSubject.txt\n",
      "Saved X_train to y_train_accY_LF_Window512_WaveletN_by_peaks_TrainTestSplitWithinSubject.txt\n",
      "Saved X_test to y_test_accY_LF_Window512_WaveletN_by_peaks_TrainTestSplitWithinSubject.txt\n"
     ],
     "name": "stdout"
    }
   ]
  },
  {
   "cell_type": "code",
   "metadata": {
    "id": "XUnyugSlm3Rh",
    "colab_type": "code",
    "colab": {}
   },
   "source": [
    "## TODO THIS PART"
   ],
   "execution_count": 0,
   "outputs": []
  },
  {
   "cell_type": "code",
   "metadata": {
    "id": "K3I4LLXF_BXo",
    "colab_type": "code",
    "colab": {}
   },
   "source": [
    "def load_file(filepath):\n",
    "    dataframe = pd.read_csv(filepath, header=None, delim_whitespace=True)\n",
    "    return dataframe.values"
   ],
   "execution_count": 0,
   "outputs": []
  },
  {
   "cell_type": "code",
   "metadata": {
    "id": "biDo7BQP_BXp",
    "colab_type": "code",
    "colab": {}
   },
   "source": [
    "def load_group(filenames):\n",
    "    loaded = list()\n",
    "    for name in filenames:\n",
    "        data = load_file(name)\n",
    "        loaded.append(data)\n",
    "    \n",
    "    loaded = np.dstack(loaded)\n",
    "    return loaded"
   ],
   "execution_count": 0,
   "outputs": []
  },
  {
   "cell_type": "code",
   "metadata": {
    "id": "2U-kWOvWdUux",
    "colab_type": "code",
    "colab": {}
   },
   "source": [
    "def load_dataset_group(group):\n",
    "    if group == 'train':\n",
    "              # X_filenames = ['train_accX_LF.txt','train_accY_LF.txt','train_accZ_LF.txt',\n",
    "        #                     'train_accX_RF.txt','train_accY_RF.txt','train_accZ_RF.txt',\n",
    "        #                     'train_accX_Waist.txt','train_accY_Waist.txt','train_accZ_Waist.txt',\n",
    "        #                     'train_accX_Wrist.txt','train_accY_Wrist.txt','train_accZ_Wrist.txt']\n",
    "\n",
    "        X_filenames = ['X_train_accY_LF_Window512_WaveletN_by_peaks_TrainTestSplitWithinSubject.txt']\n",
    "        y_filename = 'y_train_accY_LF_Window512_WaveletN_by_peaks_TrainTestSplitWithinSubject.txt'\n",
    "        X = load_group(X_filenames)\n",
    "        y = load_file(y_filename)\n",
    "    else:\n",
    "              # X_filenames = ['test_accX_LF.txt','test_accY_LF.txt','test_accZ_LF.txt',\n",
    "        #                     'test_accX_RF.txt','test_accY_RF.txt','test_accZ_RF.txt',\n",
    "        #                     'test_accX_Waist.txt','test_accY_Waist.txt','test_accZ_Waist.txt',\n",
    "        #                     'test_accX_Wrist.txt','test_accY_Wrist.txt','test_accZ_Wrist.txt']\n",
    "\n",
    "        X_filenames = ['X_test_accY_LF_Window512_WaveletN_by_peaks_TrainTestSplitWithinSubject.txt']\n",
    "        y_filename = 'y_test_accY_LF_Window512_WaveletN_by_peaks_TrainTestSplitWithinSubject.txt'\n",
    "        X = load_group(X_filenames)\n",
    "        y = load_file(y_filename)\n",
    "    return X,y"
   ],
   "execution_count": 0,
   "outputs": []
  },
  {
   "cell_type": "code",
   "metadata": {
    "id": "Nh-IBjBh_BXt",
    "colab_type": "code",
    "colab": {}
   },
   "source": [
    "def load_dataset():\n",
    "    X_train, y_train = load_dataset_group('train') #load_group(X_filenames), load_file(y_filename) \n",
    "    X_test, y_test = load_dataset_group('test')\n",
    "    return X_train, y_train, X_test, y_test"
   ],
   "execution_count": 0,
   "outputs": []
  },
  {
   "cell_type": "code",
   "metadata": {
    "id": "3_dWvkbo_BXv",
    "colab_type": "code",
    "colab": {}
   },
   "source": [
    "X_train, y_train, X_test, y_test = load_dataset()"
   ],
   "execution_count": 0,
   "outputs": []
  },
  {
   "cell_type": "code",
   "metadata": {
    "id": "utzGUmbu_BXy",
    "colab_type": "code",
    "outputId": "128729ab-0a0d-48d7-dbd9-c5d4ebfad3d6",
    "executionInfo": {
     "status": "ok",
     "timestamp": 1572155673518,
     "user_tz": -480,
     "elapsed": 53,
     "user": {
      "displayName": "Jiahao Lu",
      "photoUrl": "https://lh3.googleusercontent.com/a-/AAuE7mCSedBqA0sbYDHljONdK7tmdMcHsqoSqAqt1MIkhO4=s64",
      "userId": "06740036021251600378"
     }
    },
    "colab": {
     "base_uri": "https://localhost:8080/",
     "height": 136
    }
   },
   "source": [
    "print(X_train.shape)\n",
    "print(y_train.shape)\n",
    "print(X_test.shape)\n",
    "print(y_test.shape)\n",
    "print(X_train.shape[1])\n",
    "print(X_train.shape[2])\n",
    "print(y_train.shape[1])"
   ],
   "execution_count": 60,
   "outputs": [
    {
     "output_type": "stream",
     "text": [
      "(16068, 512, 1)\n",
      "(16068, 1)\n",
      "(4059, 512, 1)\n",
      "(4059, 1)\n",
      "512\n",
      "1\n",
      "1\n"
     ],
     "name": "stdout"
    }
   ]
  },
  {
   "cell_type": "code",
   "metadata": {
    "id": "vTCVBT3N_BX0",
    "colab_type": "code",
    "colab": {
     "base_uri": "https://localhost:8080/",
     "height": 300
    },
    "outputId": "57babad0-fd03-4df1-f68e-dc2cf172ed8c",
    "executionInfo": {
     "status": "error",
     "timestamp": 1572155707553,
     "user_tz": -480,
     "elapsed": 62,
     "user": {
      "displayName": "Jiahao Lu",
      "photoUrl": "https://lh3.googleusercontent.com/a-/AAuE7mCSedBqA0sbYDHljONdK7tmdMcHsqoSqAqt1MIkhO4=s64",
      "userId": "06740036021251600378"
     }
    }
   },
   "source": [
    "y_train = to_categorical(y_train)\n",
    "y_test = to_categorical(y_test)"
   ],
   "execution_count": 63,
   "outputs": [
    {
     "output_type": "error",
     "ename": "ValueError",
     "evalue": "ignored",
     "traceback": [
      "\u001b[0;31m---------------------------------------------------------------------------\u001b[0m",
      "\u001b[0;31mValueError\u001b[0m                                Traceback (most recent call last)",
      "\u001b[0;32m<ipython-input-63-54ac574217cd>\u001b[0m in \u001b[0;36m<module>\u001b[0;34m\u001b[0m\n\u001b[0;32m----> 1\u001b[0;31m \u001b[0my_train\u001b[0m \u001b[0;34m=\u001b[0m \u001b[0mto_categorical\u001b[0m\u001b[0;34m(\u001b[0m\u001b[0my_train\u001b[0m\u001b[0;34m)\u001b[0m\u001b[0;34m\u001b[0m\u001b[0;34m\u001b[0m\u001b[0m\n\u001b[0m\u001b[1;32m      2\u001b[0m \u001b[0my_test\u001b[0m \u001b[0;34m=\u001b[0m \u001b[0mto_categorical\u001b[0m\u001b[0;34m(\u001b[0m\u001b[0my_test\u001b[0m\u001b[0;34m)\u001b[0m\u001b[0;34m\u001b[0m\u001b[0;34m\u001b[0m\u001b[0m\n",
      "\u001b[0;32m~/anaconda3/envs/iss/lib/python3.7/site-packages/tensorflow/python/keras/utils/np_utils.py\u001b[0m in \u001b[0;36mto_categorical\u001b[0;34m(y, num_classes, dtype)\u001b[0m\n\u001b[1;32m     38\u001b[0m       \u001b[0mlast\u001b[0m\u001b[0;34m.\u001b[0m\u001b[0;34m\u001b[0m\u001b[0;34m\u001b[0m\u001b[0m\n\u001b[1;32m     39\u001b[0m   \"\"\"\n\u001b[0;32m---> 40\u001b[0;31m   \u001b[0my\u001b[0m \u001b[0;34m=\u001b[0m \u001b[0mnp\u001b[0m\u001b[0;34m.\u001b[0m\u001b[0marray\u001b[0m\u001b[0;34m(\u001b[0m\u001b[0my\u001b[0m\u001b[0;34m,\u001b[0m \u001b[0mdtype\u001b[0m\u001b[0;34m=\u001b[0m\u001b[0;34m'int'\u001b[0m\u001b[0;34m)\u001b[0m\u001b[0;34m\u001b[0m\u001b[0;34m\u001b[0m\u001b[0m\n\u001b[0m\u001b[1;32m     41\u001b[0m   \u001b[0minput_shape\u001b[0m \u001b[0;34m=\u001b[0m \u001b[0my\u001b[0m\u001b[0;34m.\u001b[0m\u001b[0mshape\u001b[0m\u001b[0;34m\u001b[0m\u001b[0;34m\u001b[0m\u001b[0m\n\u001b[1;32m     42\u001b[0m   \u001b[0;32mif\u001b[0m \u001b[0minput_shape\u001b[0m \u001b[0;32mand\u001b[0m \u001b[0minput_shape\u001b[0m\u001b[0;34m[\u001b[0m\u001b[0;34m-\u001b[0m\u001b[0;36m1\u001b[0m\u001b[0;34m]\u001b[0m \u001b[0;34m==\u001b[0m \u001b[0;36m1\u001b[0m \u001b[0;32mand\u001b[0m \u001b[0mlen\u001b[0m\u001b[0;34m(\u001b[0m\u001b[0minput_shape\u001b[0m\u001b[0;34m)\u001b[0m \u001b[0;34m>\u001b[0m \u001b[0;36m1\u001b[0m\u001b[0;34m:\u001b[0m\u001b[0;34m\u001b[0m\u001b[0;34m\u001b[0m\u001b[0m\n",
      "\u001b[0;31mValueError\u001b[0m: invalid literal for int() with base 10: 'tread_slope_walk'"
     ]
    }
   ]
  },
  {
   "cell_type": "code",
   "metadata": {
    "id": "1drWwC14_BX2",
    "colab_type": "code",
    "colab": {}
   },
   "source": [
    "y_train"
   ],
   "execution_count": 0,
   "outputs": []
  },
  {
   "cell_type": "code",
   "metadata": {
    "id": "NMgSIpZf_BX4",
    "colab_type": "code",
    "colab": {}
   },
   "source": [
    "y_test"
   ],
   "execution_count": 0,
   "outputs": []
  },
  {
   "cell_type": "code",
   "metadata": {
    "id": "LapZAaOj_BX6",
    "colab_type": "code",
    "colab": {}
   },
   "source": [
    "print(X_train.shape)\n",
    "print(y_train.shape)\n",
    "print(X_test.shape)\n",
    "print(y_test.shape)\n",
    "print(X_train.shape[1])\n",
    "print(X_train.shape[2])\n",
    "print(y_train.shape[1])"
   ],
   "execution_count": 0,
   "outputs": []
  },
  {
   "cell_type": "markdown",
   "metadata": {
    "id": "r7xpdMl-KAm6",
    "colab_type": "text"
   },
   "source": [
    "# Modelling"
   ]
  },
  {
   "cell_type": "code",
   "metadata": {
    "id": "lYUTwosb_BX-",
    "colab_type": "code",
    "colab": {}
   },
   "source": [
    "verbose, epochs, batch_size = 2, 5, 64\n",
    "n_timesteps, n_features, n_outputs = X_train.shape[1], X_train.shape[2], y_train.shape[1]\n",
    "model = Sequential()\n",
    "model.add(LSTM(100, input_shape=(n_timesteps, n_features)))\n",
    "model.add(Dropout(0.5))\n",
    "model.add(Dense(100, activation='relu'))\n",
    "model.add(Dense(n_outputs, activation='softmax'))\n",
    "model.compile(loss='categorical_crossentropy', optimizer='adam', metrics=['accuracy'])\n",
    "\n",
    "model.summary()"
   ],
   "execution_count": 0,
   "outputs": []
  },
  {
   "cell_type": "markdown",
   "metadata": {
    "id": "99CRDg2WWPHa",
    "colab_type": "text"
   },
   "source": [
    "## Reconstruct Model"
   ]
  },
  {
   "cell_type": "markdown",
   "metadata": {
    "id": "h3tUyM4lWTRn",
    "colab_type": "text"
   },
   "source": [
    "### LSTM"
   ]
  },
  {
   "cell_type": "code",
   "metadata": {
    "id": "HyV7lZ9MWNfl",
    "colab_type": "code",
    "colab": {}
   },
   "source": [
    "def createConv1DModel():\n",
    "    ipt = Input(input_shape=(imgrows, imgclms))\n",
    "    x \t= Conv1D(256, 3, activation='relu')(ipt)\n",
    "    x \t= Dropout(0.2)(x)\n",
    "    x \t= Conv1D(256, 3, activation='relu')(x)\n",
    "    x \t= Dropout(0.2)(x)\n",
    "    x \t= Conv1D(256, 3, activation='relu')(x)\n",
    "    x \t= Dropout(0.2)(x)\n",
    "\n",
    "    x \t= Flatten()(x)\n",
    "    x \t= Dense(256, activation='relu')(x)\n",
    "    x \t= Dense(32, activation='relu')(x)\n",
    "    x \t= Dense(num_classes, activation='softmax')(x)\n",
    "\n",
    "    model = Model(inputs=ipt, outputs=x)\n",
    "\n",
    "    model.compile(optimizer='adam', loss='categorical_crossentropy', metrics=['accuracy'])\n",
    "    return model\n",
    "\n",
    "\n",
    "# create LSTM Model\n",
    "# verbose, epochs, batch_size = 2, 20, 64\n",
    "# n_timesteps, n_features, n_outputs = X_train.shape[1], X_train.shape[2], y_train.shape[1]\n",
    "def createLSTMModel(n_timesteps=X_train.shape[1], n_features=X_train.shape[2], n_outputs=y_train.shape[1]):\n",
    "    ipt = Input(input_shape=(n_timesteps, n_features))\n",
    "    x = LSTM(100, activation='relu')(ipt)\n",
    "    x = Dropout(0.2)(x)\n",
    "    x = Dense(100, activation='relu')(x)\n",
    "    x = Dense(n_outputs, activation='softmax')(x)\n",
    "\n",
    "    model = Model(inputs=ipt, outputs=x)\n",
    "\n",
    "    model.compile(optimizer='adam', loss='categorical_crossentropy', metrics=['accuracy'])\n",
    "    return model"
   ],
   "execution_count": 0,
   "outputs": []
  },
  {
   "cell_type": "code",
   "metadata": {
    "id": "m_CxHQk6_BYA",
    "colab_type": "code",
    "colab": {}
   },
   "source": [
    "model_name = 'v1'\n",
    "filepath        = os.path.join(model_name + \".hdf5\")\n",
    "checkpoint      = ModelCheckpoint(filepath, \n",
    "                                  monitor='val_acc', \n",
    "                                  verbose=0, \n",
    "                                  save_best_only=True, \n",
    "                                  mode='max')\n",
    "\n",
    "# Log the epoch detail into csv\n",
    "csv_logger      = CSVLogger(os.path.join(model_name +'.csv'))\n",
    "callbacks_list  = [checkpoint,csv_logger]"
   ],
   "execution_count": 0,
   "outputs": []
  },
  {
   "cell_type": "code",
   "metadata": {
    "id": "JlPM6ZcN_BYI",
    "colab_type": "code",
    "outputId": "6394ce43-7c58-444f-9462-31452bfe6402",
    "colab": {}
   },
   "source": [
    "history = model.fit(X_train, y_train, \n",
    "                    validation_data=(X_test, y_test), \n",
    "                    epochs=epochs, batch_size=batch_size, \n",
    "                    verbose=verbose, callbacks=callbacks_list)"
   ],
   "execution_count": 0,
   "outputs": [
    {
     "output_type": "stream",
     "text": [
      "Train on 9462 samples, validate on 2408 samples\n",
      "Epoch 1/20\n",
      " - 264s - loss: 1.5458 - acc: 0.3939 - val_loss: 1.1940 - val_acc: 0.6038\n",
      "Epoch 2/20\n",
      " - 267s - loss: 0.9461 - acc: 0.6159 - val_loss: 1.0790 - val_acc: 0.6819\n",
      "Epoch 3/20\n",
      " - 273s - loss: 0.9330 - acc: 0.6245 - val_loss: 0.9230 - val_acc: 0.7321\n",
      "Epoch 4/20\n",
      " - 270s - loss: 0.6609 - acc: 0.7420 - val_loss: 0.8921 - val_acc: 0.7309\n",
      "Epoch 5/20\n",
      " - 271s - loss: 0.5429 - acc: 0.7999 - val_loss: 0.8429 - val_acc: 0.7596\n",
      "Epoch 6/20\n",
      " - 272s - loss: 0.4895 - acc: 0.8273 - val_loss: 0.7139 - val_acc: 0.7895\n",
      "Epoch 7/20\n",
      " - 272s - loss: 0.4263 - acc: 0.8524 - val_loss: 0.8319 - val_acc: 0.7741\n",
      "Epoch 8/20\n",
      " - 279s - loss: 0.3600 - acc: 0.8808 - val_loss: 0.8367 - val_acc: 0.7878\n",
      "Epoch 9/20\n",
      " - 278s - loss: 0.3288 - acc: 0.8903 - val_loss: 0.7849 - val_acc: 0.8094\n",
      "Epoch 10/20\n",
      " - 281s - loss: 0.2926 - acc: 0.9029 - val_loss: 0.6956 - val_acc: 0.8131\n",
      "Epoch 11/20\n",
      " - 282s - loss: 0.3429 - acc: 0.8818 - val_loss: 0.7741 - val_acc: 0.8044\n",
      "Epoch 12/20\n",
      " - 282s - loss: 0.3329 - acc: 0.8897 - val_loss: 0.8791 - val_acc: 0.7753\n",
      "Epoch 13/20\n",
      " - 284s - loss: 0.2845 - acc: 0.9022 - val_loss: 0.7549 - val_acc: 0.8235\n",
      "Epoch 14/20\n",
      " - 278s - loss: 0.2238 - acc: 0.9257 - val_loss: 0.7533 - val_acc: 0.8347\n",
      "Epoch 15/20\n",
      " - 283s - loss: 0.2479 - acc: 0.9214 - val_loss: 0.6522 - val_acc: 0.8671\n",
      "Epoch 16/20\n",
      " - 298s - loss: 0.1865 - acc: 0.9393 - val_loss: 0.8892 - val_acc: 0.7645\n",
      "Epoch 17/20\n",
      " - 302s - loss: 0.3770 - acc: 0.8781 - val_loss: 0.7189 - val_acc: 0.8032\n",
      "Epoch 18/20\n",
      " - 296s - loss: 0.2587 - acc: 0.9137 - val_loss: 0.6547 - val_acc: 0.8480\n",
      "Epoch 19/20\n",
      " - 287s - loss: 0.1651 - acc: 0.9475 - val_loss: 0.7634 - val_acc: 0.8223\n",
      "Epoch 20/20\n",
      " - 291s - loss: 0.2026 - acc: 0.9346 - val_loss: 0.6765 - val_acc: 0.8505\n"
     ],
     "name": "stdout"
    },
    {
     "output_type": "execute_result",
     "data": {
      "text/plain": [
       "<tensorflow.python.keras.callbacks.History at 0xd25b8f34a8>"
      ]
     },
     "metadata": {
      "tags": []
     },
     "execution_count": 19
    }
   ]
  },
  {
   "cell_type": "markdown",
   "metadata": {
    "id": "u6xL2IbkNLU7",
    "colab_type": "text"
   },
   "source": [
    "# Evalutaion"
   ]
  },
  {
   "cell_type": "markdown",
   "metadata": {
    "id": "jBkz1LxrT-ID",
    "colab_type": "text"
   },
   "source": [
    "## Data Prediction"
   ]
  },
  {
   "cell_type": "code",
   "metadata": {
    "id": "-Zz7-n6HOv3V",
    "colab_type": "code",
    "colab": {}
   },
   "source": [
    "# prediction preparation\n",
    "y_pred = model.predict(X_test)\n",
    "y_pred = np.argmax(y_pred, axis=1)\n",
    "y_test = np.argmax(y_test, axis=1)"
   ],
   "execution_count": 0,
   "outputs": []
  },
  {
   "cell_type": "markdown",
   "metadata": {
    "id": "bT1auXJ7NNh3",
    "colab_type": "text"
   },
   "source": [
    "## Model Accuracy"
   ]
  },
  {
   "cell_type": "code",
   "metadata": {
    "id": "uoIvtH1d_BYK",
    "colab_type": "code",
    "outputId": "ab7187ef-db63-46ab-db05-75d317f93811",
    "colab": {}
   },
   "source": [
    "# plot model accuracy\n",
    "plt.plot(history.history['acc'])\n",
    "plt.plot(history.history['val_acc'])\n",
    "plt.title('model accuracy')\n",
    "plt.ylabel('accuracy')\n",
    "plt.xlabel('epoch')\n",
    "plt.legend(['train', 'val'], loc='upper left')\n",
    "plt.savefig(model_name + '_model_acc', dpi=300)\n",
    "plt.show()\n",
    "\n",
    "plt.plot(history.history['loss'])\n",
    "plt.plot(history.history['val_loss'])\n",
    "plt.title('model loss')\n",
    "plt.ylabel('loss')\n",
    "plt.xlabel('epoch')\n",
    "plt.legend(['train', 'val'], loc='upper right')\n",
    "plt.savefig(model_name + '_model_loss', dpi=300)\n",
    "plt.show()"
   ],
   "execution_count": 0,
   "outputs": [
    {
     "output_type": "display_data",
     "data": {
      "image/png": "[encoded data removed]",
      "text/plain": [
       "<Figure size 432x288 with 1 Axes>"
      ]
     },
     "metadata": {
      "tags": []
     }
    },
    {
     "output_type": "display_data",
     "data": {
      "image/png": "[encoded data removed]",
      "text/plain": [
       "<Figure size 432x288 with 1 Axes>"
      ]
     },
     "metadata": {
      "tags": []
     }
    }
   ]
  },
  {
   "cell_type": "markdown",
   "metadata": {
    "id": "HYvWyoo0Oi2x",
    "colab_type": "text"
   },
   "source": [
    "## Confusion Matrix"
   ]
  },
  {
   "cell_type": "code",
   "metadata": {
    "id": "eDmaNnMGOkrV",
    "colab_type": "code",
    "colab": {}
   },
   "source": [
    "cnf_matrix = confusion_matrix(y_test,y_pred)\n",
    "\n",
    "print(\"Best accuracy (on validation dataset): %.2f%%\" % (accuracy_score(y_test, y_pred) * 100))\n",
    "print(cnf_matrix)\n",
    "\n",
    "plt.figure()\n",
    "fig, ax = plot_confusion_matrix(conf_mat=cnf_matrix,\n",
    "                                show_absolute=True,\n",
    "                                show_normed=True,\n",
    "                                colorbar=True,\n",
    "                                class_names=labelname,\n",
    "                                figsize=(8,8))\n",
    "plt.savefig(model_name + '_confusion_matrix', dpi=300)\n",
    "plt.show()"
   ],
   "execution_count": 0,
   "outputs": []
  },
  {
   "cell_type": "markdown",
   "metadata": {
    "id": "l0Jmw_AhNb5Z",
    "colab_type": "text"
   },
   "source": [
    "## Classification Report"
   ]
  },
  {
   "cell_type": "code",
   "metadata": {
    "id": "y0a69Wbj_BYM",
    "colab_type": "code",
    "outputId": "767829fd-730a-4877-85ba-899a83e8eb80",
    "colab": {}
   },
   "source": [
    "# TODO: need to check the sequence\n",
    "labelname = ['rest', 'tread_slope_walk', 'tread_flat_walk', 'tread_flat_run', 'indoor_flat_walk', 'indoor_flat_run', 'outdoor_walk', 'outdoor_run']\n",
    "\n",
    "classification_report = classification_report(y_test, y_pred, target_names=labelname, digits=4)\n",
    "\n",
    "print(\"Classification Report:\")\n",
    "print(classification_report)\n",
    "\n",
    "# create report and store in csv\n",
    "report = classification_report(y_test, y_pred, output_dict=True)\n",
    "df_report = pd.DataFrame(report).transpose()\n",
    "df_report.to_csv(model_name+'_classification_report')"
   ],
   "execution_count": 0,
   "outputs": [
    {
     "output_type": "stream",
     "text": [
      "Best accuracy (on validation dataset): 85.05%\n",
      "[[268  82  11   0  43   0   1   0]\n",
      " [ 19 592   6   0  24   0   0   0]\n",
      " [  0   3 394  11   4   4  34  27]\n",
      " [  1   0   3 163   0  20   0   0]\n",
      " [  3  18  13   0 145   1   0   0]\n",
      " [  0   3   5   0   5 172   2   0]\n",
      " [  0   0   0   0   0   0 186   1]\n",
      " [  0   0   2   1   0   0  13 128]]\n",
      "Classification Report:\n",
      "                  precision    recall  f1-score   support\n",
      "\n",
      "            rest     0.9210    0.6617    0.7701       405\n",
      "tread_slope_walk     0.8481    0.9236    0.8842       641\n",
      " tread_flat_walk     0.9078    0.8260    0.8650       477\n",
      "  tread_flat_run     0.9314    0.8717    0.9006       187\n",
      "indoor_flat_walk     0.6561    0.8056    0.7232       180\n",
      " indoor_flat_run     0.8731    0.9198    0.8958       187\n",
      "    outdoor_walk     0.7881    0.9947    0.8794       187\n",
      "     outdoor_run     0.8205    0.8889    0.8533       144\n",
      "\n",
      "        accuracy                         0.8505      2408\n",
      "       macro avg     0.8433    0.8615    0.8465      2408\n",
      "    weighted avg     0.8600    0.8505    0.8491      2408\n",
      "\n"
     ],
     "name": "stdout"
    }
   ]
  }
 ]
}