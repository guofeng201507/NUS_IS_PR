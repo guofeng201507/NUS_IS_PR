{
  "nbformat": 4,
  "nbformat_minor": 0,
  "metadata": {
    "colab": {
      "name": "GUOFENG_IS_wk3_abnormal_colab_v4.0.ipynb",
      "provenance": [],
      "collapsed_sections": []
    },
    "kernelspec": {
      "name": "python3",
      "display_name": "Python 3"
    },
    "accelerator": "GPU"
  },
  "cells": [
    {
      "cell_type": "markdown",
      "metadata": {
        "id": "IXqzXfJZrtmT",
        "colab_type": "text"
      },
      "source": [
        "# Workshop: Anomaly detection from sensor data\n",
        "Course: NICF- Intelligent Sensing and Sense Making (SF)\n",
        "\n",
        "Website: https://www.iss.nus.edu.sg/executive-education/course/detail/intelligent-sensing-and-sense-making/analytics-and-intelligent-systems\n",
        "\n",
        "Contact: Tian Jing\n",
        "\n",
        "Email: tianjing@nus.edu.sg\n",
        "\n",
        "## Installation guideline (Colab)\n",
        "\n",
        "[Last test on 27 August 2019] All required libraries have been installed in Colab.\n",
        "\n",
        "## Objective\n",
        "In this workshop, we will perform following three tasks:\n",
        "\n",
        "- Introduction to autoencoder model and Keras\n",
        "- Perform anomaly detection using autoencoder as reconstruction model\n",
        "\n",
        "## Submission guideline\n",
        "Once you finish the workshop, rename your .ipynb file to your name, and submit your .ipynb file into LumiNUS."
      ]
    },
    {
      "cell_type": "code",
      "metadata": {
        "id": "JbSXdcFNDpoG",
        "colab_type": "code",
        "outputId": "4b8e2b12-3ded-46dd-9eff-4f7e5ca4b232",
        "colab": {
          "base_uri": "https://localhost:8080/",
          "height": 34
        }
      },
      "source": [
        "# Check GPU setup in Colab\n",
        "\n",
        "import tensorflow as tf\n",
        "tf.test.gpu_device_name()\n",
        "\n",
        "# Your expected output will be '/device:GPU:0'"
      ],
      "execution_count": 4,
      "outputs": [
        {
          "output_type": "execute_result",
          "data": {
            "text/plain": [
              "'/device:GPU:0'"
            ]
          },
          "metadata": {
            "tags": []
          },
          "execution_count": 4
        }
      ]
    },
    {
      "cell_type": "code",
      "metadata": {
        "id": "ABqVPqhtFDMG",
        "colab_type": "code",
        "outputId": "9626b5fd-5e2a-4257-a707-77e2297832b6",
        "colab": {
          "base_uri": "https://localhost:8080/",
          "height": 286
        }
      },
      "source": [
        "# Check GPU coinfiguration in Colab (T4 GPU)\n",
        "\n",
        "!/opt/bin/nvidia-smi"
      ],
      "execution_count": 0,
      "outputs": [
        {
          "output_type": "stream",
          "text": [
            "Sat Oct 12 14:06:51 2019       \n",
            "+-----------------------------------------------------------------------------+\n",
            "| NVIDIA-SMI 418.67       Driver Version: 418.67       CUDA Version: 10.1     |\n",
            "|-------------------------------+----------------------+----------------------+\n",
            "| GPU  Name        Persistence-M| Bus-Id        Disp.A | Volatile Uncorr. ECC |\n",
            "| Fan  Temp  Perf  Pwr:Usage/Cap|         Memory-Usage | GPU-Util  Compute M. |\n",
            "|===============================+======================+======================|\n",
            "|   0  Tesla K80           Off  | 00000000:00:04.0 Off |                    0 |\n",
            "| N/A   44C    P0    59W / 149W |     69MiB / 11441MiB |      0%      Default |\n",
            "+-------------------------------+----------------------+----------------------+\n",
            "                                                                               \n",
            "+-----------------------------------------------------------------------------+\n",
            "| Processes:                                                       GPU Memory |\n",
            "|  GPU       PID   Type   Process name                             Usage      |\n",
            "|=============================================================================|\n",
            "+-----------------------------------------------------------------------------+\n"
          ],
          "name": "stdout"
        }
      ]
    },
    {
      "cell_type": "code",
      "metadata": {
        "id": "VP5_TSABEcz3",
        "colab_type": "code",
        "outputId": "f6fdc710-1836-4137-ee5c-aabb75249de8",
        "colab": {
          "base_uri": "https://localhost:8080/",
          "height": 34
        }
      },
      "source": [
        "import os\n",
        "import numpy as np\n",
        "import keras\n",
        "import pickle\n",
        "import pandas as pd\n",
        "from keras.utils import plot_model\n",
        "from keras.datasets import fashion_mnist\n",
        "from keras.models import Model\n",
        "from keras.models import Sequential\n",
        "from keras.layers import Dense, Input\n",
        "import matplotlib.pyplot as plt\n",
        "%matplotlib inline\n",
        "from sklearn.metrics import mean_squared_error\n",
        "from sklearn.preprocessing import MinMaxScaler"
      ],
      "execution_count": 5,
      "outputs": [
        {
          "output_type": "stream",
          "text": [
            "Using TensorFlow backend.\n"
          ],
          "name": "stderr"
        }
      ]
    },
    {
      "cell_type": "code",
      "metadata": {
        "id": "Qx_eHkdoFv3e",
        "colab_type": "code",
        "outputId": "74c11034-f184-4a92-cf5a-18d27d59c821",
        "colab": {
          "base_uri": "https://localhost:8080/",
          "height": 121
        }
      },
      "source": [
        "# Then you’ll see a link, click on that link, allow access\n",
        "# Copy the code that pops up, paste it in the box, hit enter\n",
        "\n",
        "from google.colab import drive\n",
        "drive.mount('/content/gdrive')"
      ],
      "execution_count": 6,
      "outputs": [
        {
          "output_type": "stream",
          "text": [
            "Go to this URL in a browser: https://accounts.google.com/o/oauth2/auth?client_id=947318989803-6bn6qk8qdgf4n4g3pfee6491hc0brc4i.apps.googleusercontent.com&redirect_uri=urn%3Aietf%3Awg%3Aoauth%3A2.0%3Aoob&scope=email%20https%3A%2F%2Fwww.googleapis.com%2Fauth%2Fdocs.test%20https%3A%2F%2Fwww.googleapis.com%2Fauth%2Fdrive%20https%3A%2F%2Fwww.googleapis.com%2Fauth%2Fdrive.photos.readonly%20https%3A%2F%2Fwww.googleapis.com%2Fauth%2Fpeopleapi.readonly&response_type=code\n",
            "\n",
            "Enter your authorization code:\n",
            "··········\n",
            "Mounted at /content/gdrive\n"
          ],
          "name": "stdout"
        }
      ]
    },
    {
      "cell_type": "code",
      "metadata": {
        "id": "d8kuZNznGIiw",
        "colab_type": "code",
        "outputId": "dd976657-3447-4fc4-f2fa-6bf28acff175",
        "colab": {
          "base_uri": "https://localhost:8080/",
          "height": 67
        }
      },
      "source": [
        "# Change working directory to be current folder\n",
        "\n",
        "os.chdir('/content/gdrive/My Drive/NUS/Term2/IS/Day 3/day3 workshop')\n",
        "!ls\n"
      ],
      "execution_count": 7,
      "outputs": [
        {
          "output_type": "stream",
          "text": [
            "data\t\t\t      wk_abnormal_v4.1.html\n",
            "wk_abnormal_colab_v4.0.ipynb  wk_abnormal_v4.1.ipynb\n",
            "wk_abnormal_colab_v4.1.html\n"
          ],
          "name": "stdout"
        }
      ]
    },
    {
      "cell_type": "code",
      "metadata": {
        "id": "nR0CFaIOFb28",
        "colab_type": "code",
        "colab": {}
      },
      "source": [
        "# Configuration on autoencoder model\n",
        "\n",
        "# Dimension of input signal, determined by your test data\n",
        "signal_dimension = 784 \n",
        "\n",
        "# Dimension of encoded features, can be adjusted by user\n",
        "encoder_dimension = 2\n",
        "\n",
        "# training setup\n",
        "EPOCHS = 5\n",
        "BATCH_SIZE = 64\n"
      ],
      "execution_count": 0,
      "outputs": []
    },
    {
      "cell_type": "code",
      "metadata": {
        "id": "8EZR6y7x8VFd",
        "colab_type": "code",
        "colab": {}
      },
      "source": [
        "# Define an autoencoder model using Sequential method\n",
        "\n",
        "def AE_method1(x_train):\n",
        "    FINAL_DIM = 900\n",
        "    data_dim = data_train.shape[1]\n",
        "    autoencoder = Sequential()\n",
        "    autoencoder.add(Dense(encoder_dimension, activation='relu', input_shape=(signal_dimension, ), name='layer1'))\n",
        "    autoencoder.add(Dense(signal_dimension, activation='relu',name='layer2'))\n",
        "    autoencoder.compile(optimizer='adam', loss='mse')\n",
        "    autoencoder.fit(x_train, x_train, epochs=EPOCHS, batch_size=BATCH_SIZE, shuffle=True)\n",
        "    \n",
        "    encoder = Model(inputs=autoencoder.input, outputs=autoencoder.get_layer('layer1').output)\n",
        "    return encoder, autoencoder"
      ],
      "execution_count": 0,
      "outputs": []
    },
    {
      "cell_type": "code",
      "metadata": {
        "id": "XUqEnXID8YUP",
        "colab_type": "code",
        "colab": {}
      },
      "source": [
        "# Show the encoding coefficients\n",
        "\n",
        "def show_encodings(inputs, latent_repr, outputs):\n",
        "    n = len(inputs)\n",
        "    fig, axes = plt.subplots(2, n)\n",
        "    for i in range(n):\n",
        "        print(i, '-th image, encoding coefficients are ', latent_repr[i,:])\n",
        "        axes[0, i].imshow(inputs[i].reshape(28, 28), cmap='gray')\n",
        "        axes[1, i].imshow(outputs[i].reshape(28, 28), cmap='gray')\n",
        "    for ax in axes.flatten():\n",
        "        ax.get_xaxis().set_visible(False)\n",
        "        ax.get_yaxis().set_visible(False)\n",
        "    plt.show()"
      ],
      "execution_count": 0,
      "outputs": []
    },
    {
      "cell_type": "code",
      "metadata": {
        "id": "yQJMcysb8bRj",
        "colab_type": "code",
        "outputId": "24c0d781-13ea-44d1-ef24-a95496a3e21c",
        "colab": {
          "base_uri": "https://localhost:8080/",
          "height": 34
        }
      },
      "source": [
        "# For the first time of running this code, it will automatically download fashion_mnist data from Internet\n",
        "# Load data\n",
        "(data_train, label_train), (data_test, label_test) = fashion_mnist.load_data()\n",
        "print(data_train.shape, data_test.shape)"
      ],
      "execution_count": 10,
      "outputs": [
        {
          "output_type": "stream",
          "text": [
            "(60000, 28, 28) (10000, 28, 28)\n"
          ],
          "name": "stdout"
        }
      ]
    },
    {
      "cell_type": "code",
      "metadata": {
        "id": "HUynH4X1WvNV",
        "colab_type": "code",
        "outputId": "c517b2ef-a2c4-4cce-8544-89f586d895eb",
        "colab": {
          "base_uri": "https://localhost:8080/",
          "height": 80
        }
      },
      "source": [
        "# Normalize\n",
        "data_train = data_train.astype('float32') / 255.\n",
        "data_test = data_test.astype('float32') / 255.\n",
        "\n",
        "# Plot the examples of original images\n",
        "fig, ax = plt.subplots(1, 10)\n",
        "for i in range(10):\n",
        "    ax[i].imshow(data_train[i], cmap='gray')\n",
        "    ax[i].axis('off')\n",
        "\n",
        "plt.show()\n",
        "\n",
        "data_train = data_train.reshape((data_train.shape[0], -1))\n",
        "data_test = data_test.reshape((data_test.shape[0], -1))"
      ],
      "execution_count": 11,
      "outputs": [
        {
          "output_type": "display_data",
          "data": {
            "image/png": "[encoded data removed]",
            "text/plain": [
              "<Figure size 432x288 with 10 Axes>"
            ]
          },
          "metadata": {
            "tags": []
          }
        }
      ]
    },
    {
      "cell_type": "code",
      "metadata": {
        "id": "sD2sQDMs8hPh",
        "colab_type": "code",
        "outputId": "0f29a181-e00b-408e-8109-b51765f47052",
        "colab": {
          "base_uri": "https://localhost:8080/",
          "height": 1000
        }
      },
      "source": [
        "# Demo autoencoder using method 1 (Sequential method)\n",
        "\n",
        "model_encoder, model_autoencoder = AE_method1(x_train=data_train)\n",
        "model_encoder.summary()\n",
        "model_autoencoder.summary()"
      ],
      "execution_count": 12,
      "outputs": [
        {
          "output_type": "stream",
          "text": [
            "WARNING:tensorflow:From /usr/local/lib/python3.6/dist-packages/keras/backend/tensorflow_backend.py:66: The name tf.get_default_graph is deprecated. Please use tf.compat.v1.get_default_graph instead.\n",
            "\n",
            "WARNING:tensorflow:From /usr/local/lib/python3.6/dist-packages/keras/backend/tensorflow_backend.py:541: The name tf.placeholder is deprecated. Please use tf.compat.v1.placeholder instead.\n",
            "\n",
            "WARNING:tensorflow:From /usr/local/lib/python3.6/dist-packages/keras/backend/tensorflow_backend.py:4432: The name tf.random_uniform is deprecated. Please use tf.random.uniform instead.\n",
            "\n",
            "WARNING:tensorflow:From /usr/local/lib/python3.6/dist-packages/keras/optimizers.py:793: The name tf.train.Optimizer is deprecated. Please use tf.compat.v1.train.Optimizer instead.\n",
            "\n",
            "WARNING:tensorflow:From /usr/local/lib/python3.6/dist-packages/keras/backend/tensorflow_backend.py:1033: The name tf.assign_add is deprecated. Please use tf.compat.v1.assign_add instead.\n",
            "\n",
            "WARNING:tensorflow:From /usr/local/lib/python3.6/dist-packages/keras/backend/tensorflow_backend.py:1020: The name tf.assign is deprecated. Please use tf.compat.v1.assign instead.\n",
            "\n",
            "WARNING:tensorflow:From /usr/local/lib/python3.6/dist-packages/keras/backend/tensorflow_backend.py:3005: The name tf.Session is deprecated. Please use tf.compat.v1.Session instead.\n",
            "\n",
            "Epoch 1/5\n",
            "WARNING:tensorflow:From /usr/local/lib/python3.6/dist-packages/keras/backend/tensorflow_backend.py:190: The name tf.get_default_session is deprecated. Please use tf.compat.v1.get_default_session instead.\n",
            "\n",
            "WARNING:tensorflow:From /usr/local/lib/python3.6/dist-packages/keras/backend/tensorflow_backend.py:197: The name tf.ConfigProto is deprecated. Please use tf.compat.v1.ConfigProto instead.\n",
            "\n",
            "WARNING:tensorflow:From /usr/local/lib/python3.6/dist-packages/keras/backend/tensorflow_backend.py:207: The name tf.global_variables is deprecated. Please use tf.compat.v1.global_variables instead.\n",
            "\n",
            "WARNING:tensorflow:From /usr/local/lib/python3.6/dist-packages/keras/backend/tensorflow_backend.py:216: The name tf.is_variable_initialized is deprecated. Please use tf.compat.v1.is_variable_initialized instead.\n",
            "\n",
            "WARNING:tensorflow:From /usr/local/lib/python3.6/dist-packages/keras/backend/tensorflow_backend.py:223: The name tf.variables_initializer is deprecated. Please use tf.compat.v1.variables_initializer instead.\n",
            "\n",
            "60000/60000 [==============================] - 8s 126us/step - loss: 0.0981\n",
            "Epoch 2/5\n",
            "60000/60000 [==============================] - 4s 67us/step - loss: 0.0913\n",
            "Epoch 3/5\n",
            "60000/60000 [==============================] - 4s 66us/step - loss: 0.0912\n",
            "Epoch 4/5\n",
            "60000/60000 [==============================] - 4s 66us/step - loss: 0.0912\n",
            "Epoch 5/5\n",
            "60000/60000 [==============================] - 4s 65us/step - loss: 0.0912\n",
            "Model: \"model_1\"\n",
            "_________________________________________________________________\n",
            "Layer (type)                 Output Shape              Param #   \n",
            "=================================================================\n",
            "layer1_input (InputLayer)    (None, 784)               0         \n",
            "_________________________________________________________________\n",
            "layer1 (Dense)               (None, 2)                 1570      \n",
            "=================================================================\n",
            "Total params: 1,570\n",
            "Trainable params: 1,570\n",
            "Non-trainable params: 0\n",
            "_________________________________________________________________\n",
            "Model: \"sequential_1\"\n",
            "_________________________________________________________________\n",
            "Layer (type)                 Output Shape              Param #   \n",
            "=================================================================\n",
            "layer1 (Dense)               (None, 2)                 1570      \n",
            "_________________________________________________________________\n",
            "layer2 (Dense)               (None, 784)               2352      \n",
            "=================================================================\n",
            "Total params: 3,922\n",
            "Trainable params: 3,922\n",
            "Non-trainable params: 0\n",
            "_________________________________________________________________\n"
          ],
          "name": "stdout"
        }
      ]
    },
    {
      "cell_type": "code",
      "metadata": {
        "id": "S601YZWv8j2X",
        "colab_type": "code",
        "outputId": "a12242f6-6a20-42d1-a64b-16fed51bd708",
        "colab": {
          "base_uri": "https://localhost:8080/",
          "height": 298
        }
      },
      "source": [
        "# Visualize the results and encoding coefficients\n",
        "\n",
        "num_sample = 6 # Number of test samples used for visualization\n",
        "data_encode = model_encoder.predict(data_test[:num_sample])\n",
        "\n",
        "data_rec = model_autoencoder.predict(data_test)\n",
        "show_encodings(data_test[:num_sample], data_encode, data_rec)"
      ],
      "execution_count": 13,
      "outputs": [
        {
          "output_type": "stream",
          "text": [
            "0 -th image, encoding coefficients are  [3.3129745  0.01855767]\n",
            "1 -th image, encoding coefficients are  [9.929262  4.8527884]\n",
            "2 -th image, encoding coefficients are  [0.8910112 8.767237 ]\n",
            "3 -th image, encoding coefficients are  [0.        7.3015504]\n",
            "4 -th image, encoding coefficients are  [5.78586  3.510652]\n",
            "5 -th image, encoding coefficients are  [2.7786617 6.8957486]\n"
          ],
          "name": "stdout"
        },
        {
          "output_type": "display_data",
          "data": {
            "image/png": "[encoded data removed]",
            "text/plain": [
              "<Figure size 432x288 with 12 Axes>"
            ]
          },
          "metadata": {
            "tags": []
          }
        }
      ]
    },
    {
      "cell_type": "code",
      "metadata": {
        "id": "ASPaZxv68v-e",
        "colab_type": "code",
        "colab": {}
      },
      "source": [
        "# Define an autoencoder model using Functional method\n",
        "\n",
        "def AE_method2(x_train):\n",
        "    # input placeholder\n",
        "    input_image = Input(shape=(signal_dimension, ))\n",
        "\n",
        "    # encoding layer\n",
        "    hidden_layer = Dense(encoder_dimension, activation='relu')(input_image)\n",
        "\n",
        "    # decoding layer\n",
        "    decode_output = Dense(signal_dimension, activation='relu')(hidden_layer)\n",
        "\n",
        "    # build autoencoder, encoder, decoder\n",
        "    encoder = Model(inputs=input_image, outputs=hidden_layer)\n",
        "    autoencoder = Model(inputs=input_image, outputs=decode_output)\n",
        "\n",
        "    # compile autoencoder\n",
        "    autoencoder.compile(optimizer='adam', loss='mse')\n",
        "\n",
        "    # training\n",
        "    autoencoder.fit(x_train, x_train, epochs=EPOCHS, batch_size=BATCH_SIZE, shuffle=True)\n",
        "\n",
        "    return encoder, autoencoder"
      ],
      "execution_count": 0,
      "outputs": []
    },
    {
      "cell_type": "markdown",
      "metadata": {
        "id": "M6daH46E83zY",
        "colab_type": "text"
      },
      "source": [
        "$\\color{red}{\\text{Q1. Complete the code to build autoencoder model and visualize the encoding coefficients.}}$\n",
        "\n",
        "Tasks\n",
        "\n",
        "- Build an autoencoder model using `AE_method2()`\n",
        "- Plot the model summary\n",
        "- Perform prediction using the first 5 test samples\n",
        "- Visualize the original sample, encoding coefficients, reconstructed sample"
      ]
    },
    {
      "cell_type": "code",
      "metadata": {
        "id": "WkTVxhdD8y4M",
        "colab_type": "code",
        "outputId": "2761698a-7f41-4996-f9c0-efb839300cf4",
        "colab": {
          "base_uri": "https://localhost:8080/",
          "height": 896
        }
      },
      "source": [
        "# Provide your solution to Q1 here\n",
        "#\n",
        "model_encoder2, model_autoencoder2 = AE_method2(x_train=data_train)\n",
        "model_encoder2.summary()\n",
        "model_autoencoder2.summary()\n",
        "\n",
        "# Visualize the results and encoding coefficients\n",
        "\n",
        "num_sample = 5 # Number of test samples used for visualization\n",
        "data_encode = model_encoder2.predict(data_test[:num_sample])\n",
        "\n",
        "data_rec = model_autoencoder2.predict(data_test)\n",
        "show_encodings(data_test[:num_sample], data_encode, data_rec)"
      ],
      "execution_count": 15,
      "outputs": [
        {
          "output_type": "stream",
          "text": [
            "Epoch 1/5\n",
            "60000/60000 [==============================] - 4s 69us/step - loss: 0.0985\n",
            "Epoch 2/5\n",
            "60000/60000 [==============================] - 4s 67us/step - loss: 0.0917\n",
            "Epoch 3/5\n",
            "60000/60000 [==============================] - 4s 67us/step - loss: 0.0916\n",
            "Epoch 4/5\n",
            "60000/60000 [==============================] - 4s 66us/step - loss: 0.0914\n",
            "Epoch 5/5\n",
            "60000/60000 [==============================] - 4s 66us/step - loss: 0.0913\n",
            "Model: \"model_2\"\n",
            "_________________________________________________________________\n",
            "Layer (type)                 Output Shape              Param #   \n",
            "=================================================================\n",
            "input_1 (InputLayer)         (None, 784)               0         \n",
            "_________________________________________________________________\n",
            "dense_1 (Dense)              (None, 2)                 1570      \n",
            "=================================================================\n",
            "Total params: 1,570\n",
            "Trainable params: 1,570\n",
            "Non-trainable params: 0\n",
            "_________________________________________________________________\n",
            "Model: \"model_3\"\n",
            "_________________________________________________________________\n",
            "Layer (type)                 Output Shape              Param #   \n",
            "=================================================================\n",
            "input_1 (InputLayer)         (None, 784)               0         \n",
            "_________________________________________________________________\n",
            "dense_1 (Dense)              (None, 2)                 1570      \n",
            "_________________________________________________________________\n",
            "dense_2 (Dense)              (None, 784)               2352      \n",
            "=================================================================\n",
            "Total params: 3,922\n",
            "Trainable params: 3,922\n",
            "Non-trainable params: 0\n",
            "_________________________________________________________________\n",
            "0 -th image, encoding coefficients are  [0.        3.1737447]\n",
            "1 -th image, encoding coefficients are  [ 5.17418  11.039086]\n",
            "2 -th image, encoding coefficients are  [9.72322    0.92326343]\n",
            "3 -th image, encoding coefficients are  [7.7894106 0.       ]\n",
            "4 -th image, encoding coefficients are  [3.8028235 6.364302 ]\n"
          ],
          "name": "stdout"
        },
        {
          "output_type": "display_data",
          "data": {
            "image/png": "[encoded data removed]",
            "text/plain": [
              "<Figure size 432x288 with 10 Axes>"
            ]
          },
          "metadata": {
            "tags": []
          }
        }
      ]
    },
    {
      "cell_type": "markdown",
      "metadata": {
        "id": "1LYi8Lje8_1A",
        "colab_type": "text"
      },
      "source": [
        "# Exercise 2: Machine health monitoring\n",
        "\n",
        "- Reference: R. Zhao, R. Yan, Z. Chen, K. Mao, P. Wang, R. Gao, Deep learning and its applications to machine health monitoring, Mechanical Systems and Signal Processing, Vol. 115, Jan. 2019, pp. 213-237.\n",
        "\n",
        "- pdf paper, https://arxiv.org/abs/1612.07640\n",
        "- code, https://github.com/ClockworkBunny/MHMS_DEEPLEARNING"
      ]
    },
    {
      "cell_type": "code",
      "metadata": {
        "id": "zU4AeFno898f",
        "colab_type": "code",
        "colab": {}
      },
      "source": [
        "# Configuration\n",
        "encoder_dimension = 10\n",
        "NUM_EPOCH = 10\n",
        "BATH_SIZE = 24"
      ],
      "execution_count": 0,
      "outputs": []
    },
    {
      "cell_type": "code",
      "metadata": {
        "id": "ZzShvDsb9Hjh",
        "colab_type": "code",
        "colab": {}
      },
      "source": [
        "# Define an autoencoder model using Sequantial method\n",
        "\n",
        "def build_AE_machine(data_train):\n",
        "    data_dim = data_train.shape[1]\n",
        "    ae = Sequential()\n",
        "    ae.add(Dense(encoder_dimension, activation='relu', input_shape=(data_dim, )))\n",
        "    ae.add(Dense(encoder_dimension, activation='relu'))\n",
        "    ae.add(Dense(data_dim, activation='relu'))\n",
        "    ae.compile(optimizer='adam', loss='mse')\n",
        "    ae.fit(data_train, data_train, epochs=NUM_EPOCH, batch_size=BATH_SIZE, shuffle=True)\n",
        "    \n",
        "    return ae"
      ],
      "execution_count": 0,
      "outputs": []
    },
    {
      "cell_type": "code",
      "metadata": {
        "id": "STmPhD-p9K6A",
        "colab_type": "code",
        "outputId": "61976fda-1230-4252-9726-84b170c4c50d",
        "colab": {
          "base_uri": "https://localhost:8080/",
          "height": 1000
        }
      },
      "source": [
        "# Load data \n",
        "x_train_pd = pd.read_csv(\"data/machine_sensor_train.csv\",header=None)\n",
        "x_train = x_train_pd.values\n",
        "x_test_pd = pd.read_csv(\"data/machine_sensor_test.csv\",header=None)\n",
        "x_test = x_test_pd.values\n",
        "\n",
        "# Train the model\n",
        "normal_AE = build_AE_machine(x_train)\n",
        "normal_AE.summary()"
      ],
      "execution_count": 10,
      "outputs": [
        {
          "output_type": "stream",
          "text": [
            "WARNING:tensorflow:From /usr/local/lib/python3.6/dist-packages/keras/backend/tensorflow_backend.py:66: The name tf.get_default_graph is deprecated. Please use tf.compat.v1.get_default_graph instead.\n",
            "\n",
            "WARNING:tensorflow:From /usr/local/lib/python3.6/dist-packages/keras/backend/tensorflow_backend.py:541: The name tf.placeholder is deprecated. Please use tf.compat.v1.placeholder instead.\n",
            "\n",
            "WARNING:tensorflow:From /usr/local/lib/python3.6/dist-packages/keras/backend/tensorflow_backend.py:4432: The name tf.random_uniform is deprecated. Please use tf.random.uniform instead.\n",
            "\n",
            "WARNING:tensorflow:From /usr/local/lib/python3.6/dist-packages/keras/optimizers.py:793: The name tf.train.Optimizer is deprecated. Please use tf.compat.v1.train.Optimizer instead.\n",
            "\n",
            "WARNING:tensorflow:From /usr/local/lib/python3.6/dist-packages/keras/backend/tensorflow_backend.py:1033: The name tf.assign_add is deprecated. Please use tf.compat.v1.assign_add instead.\n",
            "\n",
            "WARNING:tensorflow:From /usr/local/lib/python3.6/dist-packages/keras/backend/tensorflow_backend.py:1020: The name tf.assign is deprecated. Please use tf.compat.v1.assign instead.\n",
            "\n",
            "WARNING:tensorflow:From /usr/local/lib/python3.6/dist-packages/keras/backend/tensorflow_backend.py:3005: The name tf.Session is deprecated. Please use tf.compat.v1.Session instead.\n",
            "\n",
            "Epoch 1/10\n",
            "WARNING:tensorflow:From /usr/local/lib/python3.6/dist-packages/keras/backend/tensorflow_backend.py:190: The name tf.get_default_session is deprecated. Please use tf.compat.v1.get_default_session instead.\n",
            "\n",
            "WARNING:tensorflow:From /usr/local/lib/python3.6/dist-packages/keras/backend/tensorflow_backend.py:197: The name tf.ConfigProto is deprecated. Please use tf.compat.v1.ConfigProto instead.\n",
            "\n",
            "WARNING:tensorflow:From /usr/local/lib/python3.6/dist-packages/keras/backend/tensorflow_backend.py:207: The name tf.global_variables is deprecated. Please use tf.compat.v1.global_variables instead.\n",
            "\n",
            "WARNING:tensorflow:From /usr/local/lib/python3.6/dist-packages/keras/backend/tensorflow_backend.py:216: The name tf.is_variable_initialized is deprecated. Please use tf.compat.v1.is_variable_initialized instead.\n",
            "\n",
            "WARNING:tensorflow:From /usr/local/lib/python3.6/dist-packages/keras/backend/tensorflow_backend.py:223: The name tf.variables_initializer is deprecated. Please use tf.compat.v1.variables_initializer instead.\n",
            "\n",
            "600/600 [==============================] - 4s 6ms/step - loss: 0.5523\n",
            "Epoch 2/10\n",
            "600/600 [==============================] - 0s 176us/step - loss: 0.4595\n",
            "Epoch 3/10\n",
            "600/600 [==============================] - 0s 169us/step - loss: 0.4511\n",
            "Epoch 4/10\n",
            "600/600 [==============================] - 0s 182us/step - loss: 0.4502\n",
            "Epoch 5/10\n",
            "600/600 [==============================] - 0s 168us/step - loss: 0.4496\n",
            "Epoch 6/10\n",
            "600/600 [==============================] - 0s 163us/step - loss: 0.4488\n",
            "Epoch 7/10\n",
            "600/600 [==============================] - 0s 181us/step - loss: 0.4480\n",
            "Epoch 8/10\n",
            "600/600 [==============================] - 0s 161us/step - loss: 0.4474\n",
            "Epoch 9/10\n",
            "600/600 [==============================] - 0s 176us/step - loss: 0.4469\n",
            "Epoch 10/10\n",
            "600/600 [==============================] - 0s 176us/step - loss: 0.4465\n",
            "Model: \"sequential_1\"\n",
            "_________________________________________________________________\n",
            "Layer (type)                 Output Shape              Param #   \n",
            "=================================================================\n",
            "dense_1 (Dense)              (None, 10)                710       \n",
            "_________________________________________________________________\n",
            "dense_2 (Dense)              (None, 10)                110       \n",
            "_________________________________________________________________\n",
            "dense_3 (Dense)              (None, 70)                770       \n",
            "=================================================================\n",
            "Total params: 1,590\n",
            "Trainable params: 1,590\n",
            "Non-trainable params: 0\n",
            "_________________________________________________________________\n"
          ],
          "name": "stdout"
        }
      ]
    },
    {
      "cell_type": "code",
      "metadata": {
        "id": "yKDdpJDA9M9q",
        "colab_type": "code",
        "outputId": "8c6baf30-3beb-4b9a-9db7-91f29bd085ef",
        "colab": {
          "base_uri": "https://localhost:8080/",
          "height": 50
        }
      },
      "source": [
        "sample_index = 0\n",
        "thre = 10 # A manually-defined threshold\n",
        "\n",
        "# Step 1: Select the test sample (such as the 0-th sample)\n",
        "test_data_orig = x_test[sample_index:sample_index+1,:]\n",
        "print(test_data_orig.shape)\n",
        "\n",
        "# Step 2: Perform prediction using the trained autoencoder model\n",
        "test_data_predict = normal_AE.predict(test_data_orig)\n",
        "\n",
        "# Step 3: Calculate the reconstruction error and make decision on anomaly detection\n",
        "dist = np.linalg.norm(test_data_orig - test_data_predict, axis=-1)\n",
        "\n",
        "if (dist>thre):\n",
        "    print('Anomaly detected: the distance is %.2f' % dist)\n",
        "else:\n",
        "    print('Normal: the distance is %.2f' % dist)\n",
        "    "
      ],
      "execution_count": 11,
      "outputs": [
        {
          "output_type": "stream",
          "text": [
            "(1, 70)\n",
            "Normal: the distance is 6.72\n"
          ],
          "name": "stdout"
        }
      ]
    },
    {
      "cell_type": "markdown",
      "metadata": {
        "id": "kQX1zW1o9PTY",
        "colab_type": "text"
      },
      "source": [
        "$\\color{red}{\\text{Q2. Complete the code to build autoencoder model for abnormal machine sensory signal detection.}}$\n",
        "\n",
        "Tasks\n",
        "\n",
        "- Build an autoencoder model using build_AE_machine()\n",
        "- Peform the test on x_test and determine the test data (row index) with LARGEST reconstruction error based on your trained model"
      ]
    },
    {
      "cell_type": "code",
      "metadata": {
        "id": "JeZ5ZFxbbHH6",
        "colab_type": "code",
        "colab": {
          "base_uri": "https://localhost:8080/",
          "height": 588
        },
        "outputId": "fd602666-bc96-4170-c509-3789a3b72941"
      },
      "source": [
        "x_train_pd = pd.read_csv(\"data/machine_sensor_train.csv\",header=None)\n",
        "x_train = x_train_pd.values\n",
        "x_test_pd = pd.read_csv(\"data/machine_sensor_test.csv\",header=None)\n",
        "x_test = x_test_pd.values\n",
        "\n",
        "# Train the model\n",
        "normal_AE = build_AE_machine(x_train)\n",
        "normal_AE.summary()"
      ],
      "execution_count": 12,
      "outputs": [
        {
          "output_type": "stream",
          "text": [
            "Epoch 1/10\n",
            "600/600 [==============================] - 0s 543us/step - loss: 0.4566\n",
            "Epoch 2/10\n",
            "600/600 [==============================] - 0s 177us/step - loss: 0.4510\n",
            "Epoch 3/10\n",
            "600/600 [==============================] - 0s 166us/step - loss: 0.4508\n",
            "Epoch 4/10\n",
            "600/600 [==============================] - 0s 167us/step - loss: 0.4506\n",
            "Epoch 5/10\n",
            "600/600 [==============================] - 0s 162us/step - loss: 0.4505\n",
            "Epoch 6/10\n",
            "600/600 [==============================] - 0s 162us/step - loss: 0.4504\n",
            "Epoch 7/10\n",
            "600/600 [==============================] - 0s 162us/step - loss: 0.4503\n",
            "Epoch 8/10\n",
            "600/600 [==============================] - 0s 169us/step - loss: 0.4502\n",
            "Epoch 9/10\n",
            "600/600 [==============================] - 0s 223us/step - loss: 0.4502\n",
            "Epoch 10/10\n",
            "600/600 [==============================] - 0s 167us/step - loss: 0.4502\n",
            "Model: \"sequential_2\"\n",
            "_________________________________________________________________\n",
            "Layer (type)                 Output Shape              Param #   \n",
            "=================================================================\n",
            "dense_4 (Dense)              (None, 10)                710       \n",
            "_________________________________________________________________\n",
            "dense_5 (Dense)              (None, 10)                110       \n",
            "_________________________________________________________________\n",
            "dense_6 (Dense)              (None, 70)                770       \n",
            "=================================================================\n",
            "Total params: 1,590\n",
            "Trainable params: 1,590\n",
            "Non-trainable params: 0\n",
            "_________________________________________________________________\n"
          ],
          "name": "stdout"
        }
      ]
    },
    {
      "cell_type": "code",
      "metadata": {
        "id": "E4EtS-Tw9clt",
        "colab_type": "code",
        "colab": {
          "base_uri": "https://localhost:8080/",
          "height": 890
        },
        "outputId": "333d213b-9ea1-4d45-f40b-aaccd740ab8f"
      },
      "source": [
        "# Provide your solution to Q2 here\n",
        "sample_index = 0\n",
        "thre = 10 # A manually-defined threshold\n",
        "\n",
        "# Step 1: Select the test sample (such as the 0-th sample)\n",
        "test_data_orig = x_test\n",
        "print(test_data_orig.shape)\n",
        "\n",
        "# Step 2: Perform prediction using the trained autoencoder model\n",
        "test_data_predict = normal_AE.predict(test_data_orig)\n",
        "\n",
        "# Step 3: Calculate the reconstruction error and make decision on anomaly detection\n",
        "dist = np.linalg.norm(test_data_orig - test_data_predict, axis=-1)\n",
        "\n",
        "print('Test data with largest reconstruction error is: ' + str(np.argmax(dist)))\n"
      ],
      "execution_count": 19,
      "outputs": [
        {
          "output_type": "stream",
          "text": [
            "(300, 70)\n",
            "[6.72569018 6.84104888 6.74544884 6.62684326 6.62716737 6.58174255\n",
            " 6.58563406 6.57910208 6.52404345 6.51377731 6.45585249 6.49609659\n",
            " 6.47004207 6.46011681 6.42382466 6.35268238 6.36606717 6.30200173\n",
            " 6.33745958 6.36826764 6.30716255 6.35124413 6.33052991 6.34379147\n",
            " 6.32415503 6.33120683 6.29668724 6.31625451 6.30474893 6.40325975\n",
            " 6.39412216 6.37581798 6.44509966 6.39002157 6.38331649 6.36969998\n",
            " 6.33347157 6.34714555 6.3289915  6.35145014 6.35421331 6.37242361\n",
            " 6.3417783  6.36145418 6.34235012 6.30565284 6.29678867 6.33090876\n",
            " 6.32944674 6.34283651 6.29452882 6.31822156 6.2858421  6.28653088\n",
            " 6.29530474 6.35933802 6.30161798 6.26539171 6.25062755 6.23716366\n",
            " 6.25634235 6.33064735 6.37167739 6.33968785 6.33939168 6.31121905\n",
            " 6.29942508 6.26644572 6.27248438 6.34872565 6.32561042 6.28999655\n",
            " 6.2593221  6.31430603 6.26698763 6.29948656 6.2583542  6.23830544\n",
            " 6.27439154 6.25263301 6.23487605 6.23248647 6.24056267 6.25607203\n",
            " 6.25166398 6.22544283 6.29884478 6.2339916  6.21782659 6.19073028\n",
            " 6.20078195 6.22289838 6.22115835 6.25912982 6.22803858 6.2398091\n",
            " 6.21168788 6.18360981 6.18432394 6.18691968 6.23926173 6.19748164\n",
            " 6.16455059 6.15350416 6.15365261 6.12025208 6.14837054 6.13906604\n",
            " 6.14928738 6.41648773 6.06953639 6.0711133  6.0869883  6.10668278\n",
            " 6.06504321 6.0226286  5.99495162 6.01493836 5.99306838 6.01022746\n",
            " 6.00337265 5.97767675 6.05364823 5.94995968 5.97362873 6.02355256\n",
            " 6.06976649 6.03966308 5.96176175 5.97053032 5.96326487 6.01074716\n",
            " 5.99811537 6.00940134 5.95421556 5.96270447 5.9855     5.9838704\n",
            " 5.94074555 5.97058422 5.95536932 5.95456401 5.89894554 5.88577152\n",
            " 5.93488237 5.94360122 5.93269231 5.93767026 5.93393675 5.90315298\n",
            " 5.88059182 5.87123728 5.85897517 5.85759966 5.77919248 5.83665648\n",
            " 5.83223252 6.05118153 6.05285035 5.97569597 5.88356809 5.95418449\n",
            " 5.88094146 5.92645989 5.93021988 5.8492866  5.8495886  5.82666509\n",
            " 5.86097708 5.7808768  5.78497246 5.84894076 5.74214449 5.737924\n",
            " 5.72778269 5.78720102 5.73773239 5.70634847 5.68817169 5.71698736\n",
            " 5.69269549 5.67816438 5.68338666 5.66510846 5.68548465 5.62984634\n",
            " 5.64053661 5.64657654 5.62721862 5.61995301 5.64959003 5.60837116\n",
            " 5.58331399 5.55583368 5.49885902 5.55108905 5.53598111 5.54528832\n",
            " 5.44808294 5.5195134  5.49155189 5.49019742 5.45899668 5.49847137\n",
            " 5.48119981 5.47494038 5.47320531 5.47072222 5.43637575 5.32236988\n",
            " 5.31565934 5.40383694 5.39999773 5.40966927 5.41547398 5.34212407\n",
            " 5.29219945 5.35355541 5.30848085 5.25963946 5.27530266 5.26906951\n",
            " 5.34018007 5.20596608 5.29472521 5.24685086 5.25453483 5.27160913\n",
            " 5.23153697 5.24391943 5.27248923 5.25178697 5.27403986 5.25535123\n",
            " 5.208429   5.20973165 5.18796406 5.21014083 5.14895111 5.17387732\n",
            " 5.14696249 5.23297938 5.19049069 5.18612096 5.16520133 5.11995707\n",
            " 5.16088808 5.16359366 5.10176696 5.1362156  5.14177906 5.14005039\n",
            " 5.13305624 5.14875891 5.0972408  5.17103244 5.15423631 5.0715227\n",
            " 5.07154893 5.08800278 5.1490598  5.07850022 5.14051331 5.04464115\n",
            " 5.09209216 5.11288512 5.10726476 5.0850721  5.10755188 5.0339775\n",
            " 5.12458863 5.09052481 5.13642195 5.10358048 5.15419686 5.12360577\n",
            " 5.15397701 5.13047905 5.09963527 5.06546645 5.08197738 5.05676351\n",
            " 4.94780543 5.06371451 4.99744818 5.01667111 5.0242016  4.97695881\n",
            " 4.92496905 4.80845258 4.91720165 4.92547209 4.90601165 4.97068382\n",
            " 5.07750093 4.95589838 4.98013375 5.03834059 4.89341199 4.98835136]\n",
            "Test data with largest reconstruction error is: {} 1\n"
          ],
          "name": "stdout"
        }
      ]
    },
    {
      "cell_type": "markdown",
      "metadata": {
        "id": "NGM54frFug21",
        "colab_type": "text"
      },
      "source": [
        "**Once you finish the workshop, rename your .ipynb file to your name, and submit your .ipynb file into LumiNUS.**\n",
        "\n",
        "Have a nice day!"
      ]
    }
  ]
}