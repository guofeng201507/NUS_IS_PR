{
 "cells": [
  {
   "cell_type": "code",
   "execution_count": 1,
   "metadata": {
    "pycharm": {
     "is_executing": false
    }
   },
   "outputs": [],
   "source": [
    "import pandas as pd \n",
    "import numpy as np\n",
    "import matplotlib.pyplot as plt\n",
    "from sklearn.decomposition import PCA\n",
    "from sklearn.preprocessing import StandardScaler\n"
   ]
  },
  {
   "cell_type": "code",
   "execution_count": 4,
   "metadata": {
    "pycharm": {
     "is_executing": false,
     "name": "#%%\n"
    }
   },
   "outputs": [],
   "source": [
    "data = pd.read_csv('restaurant.csv')\n",
    "\n",
    "\n",
    "\n",
    "#convert \n",
    "\n",
    "# features = list(data)\n",
    "# colnames = np.transpose(features)"
   ]
  },
  {
   "cell_type": "code",
   "execution_count": 11,
   "metadata": {
    "pycharm": {
     "is_executing": false
    }
   },
   "outputs": [
    {
     "name": "stdout",
     "text": [
      "                           restaurantName  Atmosphere  Food  Service  Value  \\\n0                             Blu Kouzina         4.5   4.5      4.5    4.0   \n1                                 Binomio         4.5   4.5      4.5    4.0   \n2  Wing Seong Fatty's (Albert) Restaurant         4.0   4.5      4.0    4.5   \n3                          FOC Restaurant         4.5   4.5      4.5    4.0   \n4   Wine Connection Bistro Capital Square         NaN   4.0      4.5    4.5   \n\n  numbeOfReviews  numberAverage  numberExcellent  numberPoor  numberTerrible  \\\n0            802            350             1444         419              59   \n1            341            327             1176          49              54   \n2            459            334             1231         413              55   \n3            450            335             1230         413             510   \n4             83             32              169          40              50   \n\n   ...  region_Sushi region_Swedish  region_Swiss region_Taiwanese  \\\n0  ...             0              0             0                0   \n1  ...             0              0             0                0   \n2  ...             0              0             0                0   \n3  ...             0              0             0                0   \n4  ...             0              0             0                0   \n\n  region_Thai region_Turkish region_VeganOptions  region_VegetarianFriendly  \\\n0           0              0                   0                          0   \n1           0              0                   0                          0   \n2           0              0                   0                          0   \n3           0              0                   0                          0   \n4           0              0                   0                          0   \n\n  region_Vietnamese  region_WineBar  \n0                 0               0  \n1                 0               0  \n2                 0               0  \n3                 0               0  \n4                 0               1  \n\n[5 rows x 165 columns]\n-----------------------\n"
     ],
     "output_type": "stream"
    }
   ],
   "source": [
    "#drop those irrelevant columns\n",
    "new_data = data.drop(['_id', 'address', 'label', 'phone', 'restauranLink'], axis = 1)\n",
    "\n",
    "#Move the name to first column as label\n",
    "restaurant_name = new_data['restaurantName']\n",
    "new_data.drop(labels=['restaurantName'], axis=1,inplace = True)\n",
    "new_data.insert(0, 'restaurantName', restaurant_name)\n",
    "\n",
    "#convert ranking to numbers\n",
    "new_data['ranking'] = new_data['ranking'].str.split(' ', n=1, expand=True)[0].str.replace('#', '').str.replace(',' ,'')\n",
    "\n",
    "new_data = new_data.join(new_data['cuisine'].str.replace(' ', '').str.get_dummies(sep=','))\n",
    "new_data = new_data.join(new_data['openMeal'].str.replace(' ', '').str.get_dummies(sep=','))\n",
    "new_data = new_data.join(new_data['region'].str.replace(' ', '').str.get_dummies(sep=',').add_prefix('region_'))\n",
    "\n",
    "new_data.drop(labels=['cuisine', 'openMeal', 'region'], axis=1,inplace = True)\n",
    "\n",
    "#conver the $ to numeric value\n",
    "\n",
    "def convert(col):\n",
    "    col = str(col)\n",
    "    if col == '$$$$':\n",
    "        return  4\n",
    "    elif col == '$$ - $$$':\n",
    "        return 2.5\n",
    "    elif col == '$$$':\n",
    "        return 3\n",
    "    elif col == '$$':\n",
    "        return 2\n",
    "    elif col == '$':\n",
    "        return 1\n",
    "    else:\n",
    "        return 2.5\n",
    "\n",
    "\n",
    "new_data['ratingAndPopularity'] = new_data['ratingAndPopularity'].apply(convert)\n",
    "\n",
    "print(new_data.head())\n",
    "\n",
    "# (1) Generate Summary Statistics\n",
    "\n",
    "print(\"-----------------------\")\n",
    "# print(\"Data Dimensions:  \", data.shape)"
   ]
  },
  {
   "cell_type": "code",
   "execution_count": null,
   "metadata": {},
   "outputs": [],
   "source": []
  }
 ],
 "metadata": {
  "kernelspec": {
   "display_name": "Python 3",
   "language": "python",
   "name": "python3"
  },
  "language_info": {
   "codemirror_mode": {
    "name": "ipython",
    "version": 3
   },
   "file_extension": ".py",
   "mimetype": "text/x-python",
   "name": "python",
   "nbconvert_exporter": "python",
   "pygments_lexer": "ipython3",
   "version": "3.7.0"
  },
  "pycharm": {
   "stem_cell": {
    "cell_type": "raw",
    "source": [],
    "metadata": {
     "collapsed": false
    }
   }
  }
 },
 "nbformat": 4,
 "nbformat_minor": 1
}