{
 "cells": [
  {
   "cell_type": "code",
   "execution_count": 2,
   "metadata": {
    "colab": {},
    "colab_type": "code",
    "id": "VnqVd3nZc7JK"
   },
   "outputs": [],
   "source": [
    "from glob import glob\n",
    "\n",
    "import numpy as np\n",
    "import pandas as pd\n",
    "import os\n",
    "\n",
    "from sklearn.model_selection import train_test_split\n",
    "import sklearn.metrics as metrics\n",
    "import matplotlib.pyplot as plt\n",
    "\n",
    "from tensorflow.keras.preprocessing.image import img_to_array\n",
    "from tensorflow.keras.preprocessing.image import load_img\n",
    "from tensorflow.keras.preprocessing.image import ImageDataGenerator\n",
    "\n",
    "from tensorflow.keras.callbacks import ModelCheckpoint,CSVLogger,LearningRateScheduler\n",
    "from tensorflow.keras.models import Model\n",
    "from tensorflow.keras.layers import Input\n",
    "from tensorflow.keras.layers import Dense\n",
    "from tensorflow.keras.layers import Flatten\n",
    "from tensorflow.keras.layers import Conv2D\n",
    "from tensorflow.keras.layers import BatchNormalization\n",
    "from tensorflow.keras.layers import Activation\n",
    "from tensorflow.keras.layers import AveragePooling2D\n",
    "from tensorflow.keras.layers import add\n",
    "from tensorflow.keras.regularizers import l2\n",
    "from tensorflow.keras.utils import to_categorical\n",
    "from tensorflow.keras.datasets import cifar10\n",
    "from tensorflow.keras import optimizers\n",
    "from tensorflow.keras.preprocessing.image import ImageDataGenerator"
   ]
  },
  {
   "cell_type": "code",
   "execution_count": 3,
   "metadata": {
    "colab": {
     "base_uri": "https://localhost:8080/",
     "height": 51
    },
    "colab_type": "code",
    "id": "vZSnbxjk04m8",
    "outputId": "092cc967-3676-4bb4-f90d-a55fd36b3571"
   },
   "outputs": [
    {
     "name": "stdout",
     "output_type": "stream",
     "text": [
      "['food', 'landmark', 'people']\n",
      "['food', 'landmark', 'people']\n"
     ]
    }
   ],
   "source": [
    "train_dir = r\"D:\\NUS_TERM2_CA2\\Train\"\n",
    "print(os.listdir(train_dir))\n",
    "\n",
    "validation_dir = r\"D:\\NUS_TERM2_CA2\\Validation\"\n",
    "print(os.listdir(validation_dir))\n"
   ]
  },
  {
   "cell_type": "markdown",
   "metadata": {
    "colab_type": "text",
    "id": "lo0G8cHAsQIq"
   },
   "source": [
    "# Model Configuration"
   ]
  },
  {
   "cell_type": "code",
   "execution_count": 16,
   "metadata": {
    "colab": {},
    "colab_type": "code",
    "id": "wrFb8TjYwg_G"
   },
   "outputs": [],
   "source": [
    "def resLyr(inputs,\n",
    "           numFilters=16,\n",
    "           kernelSz=3,\n",
    "           strides=1,\n",
    "           activation='relu',\n",
    "           batchNorm=True,\n",
    "           convFirst=True,\n",
    "           lyrName=None):\n",
    "  \n",
    "  convLyr = Conv2D(numFilters,\n",
    "                  kernel_size=kernelSz,\n",
    "                  strides=strides,\n",
    "                  padding='same',\n",
    "                  kernel_initializer='he_normal',\n",
    "                  kernel_regularizer=l2(1e-4),\n",
    "                  name=lyrName+'_conv' if lyrName else None)\n",
    "  x = inputs\n",
    "  if convFirst:\n",
    "    x = convLyr(x)\n",
    "    if batchNorm:\n",
    "      x = BatchNormalization(name=lyrName+'_bn' if lyrName else None)(x)\n",
    "    if activation is not None:\n",
    "      x = Activation(activation, name=lyrName+'_'+activation if lyrName else None)(x)\n",
    "  else:\n",
    "    if batchNorm:\n",
    "      x = BatchNormalization(name=lyrName+'_bn' if lyrName else None)(x)\n",
    "    if activation is not None:\n",
    "      x = Activation(activation, name=lyrName+'_'+activation if lyrName else None)(x) \n",
    "    x = convLyr(x)\n",
    "\n",
    "  return x"
   ]
  },
  {
   "cell_type": "code",
   "execution_count": 17,
   "metadata": {
    "colab": {},
    "colab_type": "code",
    "id": "a2qOsKFasZya"
   },
   "outputs": [],
   "source": [
    "def resBlkV1(inputs,\n",
    "             numFilters=16,\n",
    "             numBlocks=3,\n",
    "             downsampleOnFirst=True,\n",
    "             names=None):\n",
    "  x = inputs\n",
    "  for run in range(0, numBlocks):\n",
    "    strides = 1\n",
    "    blkStr = str(run + 1)\n",
    "    if downsampleOnFirst and run == 0:\n",
    "      strides = 2\n",
    "    y = resLyr(inputs=x,\n",
    "              numFilters=numFilters,\n",
    "              strides=strides,\n",
    "              lyrName=names+'_blk'+blkStr+'_Res1' if names else None)\n",
    "    y = resLyr(inputs=y,\n",
    "              numFilters=numFilters,\n",
    "              activation=None,\n",
    "              lyrName=names+'_blk'+blkStr+'_Res2' if names else None)\n",
    "    if downsampleOnFirst and run == 0:\n",
    "      x = resLyr(inputs=x,\n",
    "                numFilters=numFilters,\n",
    "                kernelSz=1,\n",
    "                strides=strides,\n",
    "                activation=None,\n",
    "                batchNorm=False,\n",
    "                lyrName=names+'_blk'+blkStr+'_lin' if names else None)\n",
    "    x = add([x,y],\n",
    "            name=names+'_Blk'+blkStr+'_add' if names else None)\n",
    "    x = Activation('relu', name=names+'_Blk'+blkStr+'_relu' if names else None)(x)\n",
    "        \n",
    "  return x"
   ]
  },
  {
   "cell_type": "code",
   "execution_count": 18,
   "metadata": {
    "colab": {},
    "colab_type": "code",
    "id": "2yDKI-JOsZ8j"
   },
   "outputs": [],
   "source": [
    "def createResNetV1(inputShape=(32,32,3),\n",
    "                   numClasses=3):\n",
    "  inputs = Input(shape=inputShape)\n",
    "  v = resLyr(inputs, lyrName='inpt')\n",
    "  v = resBlkV1(inputs=v,\n",
    "              numFilters=16,\n",
    "              numBlocks=3,\n",
    "              downsampleOnFirst=False,\n",
    "              names='Stg1')\n",
    "  v = resBlkV1(inputs=v,\n",
    "              numFilters=32,\n",
    "              numBlocks=3,\n",
    "              downsampleOnFirst=True,\n",
    "              names='Stg2')\n",
    "  v = resBlkV1(inputs=v,\n",
    "              numFilters=64,\n",
    "              numBlocks=3,\n",
    "              downsampleOnFirst=True,\n",
    "              names='Stg3')\n",
    "  \n",
    "  '''v = resLyr(inputs=v,\n",
    "            numFilters=64,\n",
    "            kernelSz=3,\n",
    "            strides=1,\n",
    "            activation='relu',\n",
    "            batchNorm=True,\n",
    "            convFirst=True,\n",
    "            lyrName='NEW'\n",
    "            )'''\n",
    "  \n",
    "  v = AveragePooling2D(pool_size=8, name='AvgPool')(v)\n",
    "  \n",
    "  v = Flatten()(v)\n",
    "  outputs = Dense(numClasses,\n",
    "                 activation='softmax',\n",
    "                 kernel_initializer='he_normal')(v)\n",
    "  \n",
    "  model = Model(inputs=inputs, outputs=outputs)\n",
    "  model.compile(loss='categorical_crossentropy',\n",
    "               optimizer='rmsprop',\n",
    "               metrics=['accuracy'])\n",
    "  \n",
    "  return model"
   ]
  },
  {
   "cell_type": "code",
   "execution_count": 19,
   "metadata": {
    "colab": {
     "base_uri": "https://localhost:8080/",
     "height": 1000
    },
    "colab_type": "code",
    "id": "Nz4cyET2o50R",
    "outputId": "b0f004e3-4ba9-45e2-8b48-12e9cecdc0b0"
   },
   "outputs": [
    {
     "name": "stdout",
     "output_type": "stream",
     "text": [
      "Model: \"model_1\"\n",
      "__________________________________________________________________________________________________\n",
      "Layer (type)                    Output Shape         Param #     Connected to                     \n",
      "==================================================================================================\n",
      "input_2 (InputLayer)            [(None, 32, 32, 3)]  0                                            \n",
      "__________________________________________________________________________________________________\n",
      "inpt_conv (Conv2D)              (None, 32, 32, 16)   448         input_2[0][0]                    \n",
      "__________________________________________________________________________________________________\n",
      "inpt_bn (BatchNormalization)    (None, 32, 32, 16)   64          inpt_conv[0][0]                  \n",
      "__________________________________________________________________________________________________\n",
      "inpt_relu (Activation)          (None, 32, 32, 16)   0           inpt_bn[0][0]                    \n",
      "__________________________________________________________________________________________________\n",
      "Stg1_blk1_Res1_conv (Conv2D)    (None, 32, 32, 16)   2320        inpt_relu[0][0]                  \n",
      "__________________________________________________________________________________________________\n",
      "Stg1_blk1_Res1_bn (BatchNormali (None, 32, 32, 16)   64          Stg1_blk1_Res1_conv[0][0]        \n",
      "__________________________________________________________________________________________________\n",
      "Stg1_blk1_Res1_relu (Activation (None, 32, 32, 16)   0           Stg1_blk1_Res1_bn[0][0]          \n",
      "__________________________________________________________________________________________________\n",
      "Stg1_blk1_Res2_conv (Conv2D)    (None, 32, 32, 16)   2320        Stg1_blk1_Res1_relu[0][0]        \n",
      "__________________________________________________________________________________________________\n",
      "Stg1_blk1_Res2_bn (BatchNormali (None, 32, 32, 16)   64          Stg1_blk1_Res2_conv[0][0]        \n",
      "__________________________________________________________________________________________________\n",
      "Stg1_Blk1_add (Add)             (None, 32, 32, 16)   0           inpt_relu[0][0]                  \n",
      "                                                                 Stg1_blk1_Res2_bn[0][0]          \n",
      "__________________________________________________________________________________________________\n",
      "Stg1_Blk1_relu (Activation)     (None, 32, 32, 16)   0           Stg1_Blk1_add[0][0]              \n",
      "__________________________________________________________________________________________________\n",
      "Stg1_blk2_Res1_conv (Conv2D)    (None, 32, 32, 16)   2320        Stg1_Blk1_relu[0][0]             \n",
      "__________________________________________________________________________________________________\n",
      "Stg1_blk2_Res1_bn (BatchNormali (None, 32, 32, 16)   64          Stg1_blk2_Res1_conv[0][0]        \n",
      "__________________________________________________________________________________________________\n",
      "Stg1_blk2_Res1_relu (Activation (None, 32, 32, 16)   0           Stg1_blk2_Res1_bn[0][0]          \n",
      "__________________________________________________________________________________________________\n",
      "Stg1_blk2_Res2_conv (Conv2D)    (None, 32, 32, 16)   2320        Stg1_blk2_Res1_relu[0][0]        \n",
      "__________________________________________________________________________________________________\n",
      "Stg1_blk2_Res2_bn (BatchNormali (None, 32, 32, 16)   64          Stg1_blk2_Res2_conv[0][0]        \n",
      "__________________________________________________________________________________________________\n",
      "Stg1_Blk2_add (Add)             (None, 32, 32, 16)   0           Stg1_Blk1_relu[0][0]             \n",
      "                                                                 Stg1_blk2_Res2_bn[0][0]          \n",
      "__________________________________________________________________________________________________\n",
      "Stg1_Blk2_relu (Activation)     (None, 32, 32, 16)   0           Stg1_Blk2_add[0][0]              \n",
      "__________________________________________________________________________________________________\n",
      "Stg1_blk3_Res1_conv (Conv2D)    (None, 32, 32, 16)   2320        Stg1_Blk2_relu[0][0]             \n",
      "__________________________________________________________________________________________________\n",
      "Stg1_blk3_Res1_bn (BatchNormali (None, 32, 32, 16)   64          Stg1_blk3_Res1_conv[0][0]        \n",
      "__________________________________________________________________________________________________\n",
      "Stg1_blk3_Res1_relu (Activation (None, 32, 32, 16)   0           Stg1_blk3_Res1_bn[0][0]          \n",
      "__________________________________________________________________________________________________\n",
      "Stg1_blk3_Res2_conv (Conv2D)    (None, 32, 32, 16)   2320        Stg1_blk3_Res1_relu[0][0]        \n",
      "__________________________________________________________________________________________________\n",
      "Stg1_blk3_Res2_bn (BatchNormali (None, 32, 32, 16)   64          Stg1_blk3_Res2_conv[0][0]        \n",
      "__________________________________________________________________________________________________\n",
      "Stg1_Blk3_add (Add)             (None, 32, 32, 16)   0           Stg1_Blk2_relu[0][0]             \n",
      "                                                                 Stg1_blk3_Res2_bn[0][0]          \n",
      "__________________________________________________________________________________________________\n",
      "Stg1_Blk3_relu (Activation)     (None, 32, 32, 16)   0           Stg1_Blk3_add[0][0]              \n",
      "__________________________________________________________________________________________________\n",
      "Stg2_blk1_Res1_conv (Conv2D)    (None, 16, 16, 32)   4640        Stg1_Blk3_relu[0][0]             \n",
      "__________________________________________________________________________________________________\n",
      "Stg2_blk1_Res1_bn (BatchNormali (None, 16, 16, 32)   128         Stg2_blk1_Res1_conv[0][0]        \n",
      "__________________________________________________________________________________________________\n",
      "Stg2_blk1_Res1_relu (Activation (None, 16, 16, 32)   0           Stg2_blk1_Res1_bn[0][0]          \n",
      "__________________________________________________________________________________________________\n",
      "Stg2_blk1_Res2_conv (Conv2D)    (None, 16, 16, 32)   9248        Stg2_blk1_Res1_relu[0][0]        \n",
      "__________________________________________________________________________________________________\n",
      "Stg2_blk1_lin_conv (Conv2D)     (None, 16, 16, 32)   544         Stg1_Blk3_relu[0][0]             \n",
      "__________________________________________________________________________________________________\n",
      "Stg2_blk1_Res2_bn (BatchNormali (None, 16, 16, 32)   128         Stg2_blk1_Res2_conv[0][0]        \n",
      "__________________________________________________________________________________________________\n",
      "Stg2_Blk1_add (Add)             (None, 16, 16, 32)   0           Stg2_blk1_lin_conv[0][0]         \n",
      "                                                                 Stg2_blk1_Res2_bn[0][0]          \n",
      "__________________________________________________________________________________________________\n",
      "Stg2_Blk1_relu (Activation)     (None, 16, 16, 32)   0           Stg2_Blk1_add[0][0]              \n",
      "__________________________________________________________________________________________________\n",
      "Stg2_blk2_Res1_conv (Conv2D)    (None, 16, 16, 32)   9248        Stg2_Blk1_relu[0][0]             \n",
      "__________________________________________________________________________________________________\n",
      "Stg2_blk2_Res1_bn (BatchNormali (None, 16, 16, 32)   128         Stg2_blk2_Res1_conv[0][0]        \n",
      "__________________________________________________________________________________________________\n",
      "Stg2_blk2_Res1_relu (Activation (None, 16, 16, 32)   0           Stg2_blk2_Res1_bn[0][0]          \n",
      "__________________________________________________________________________________________________\n",
      "Stg2_blk2_Res2_conv (Conv2D)    (None, 16, 16, 32)   9248        Stg2_blk2_Res1_relu[0][0]        \n",
      "__________________________________________________________________________________________________\n",
      "Stg2_blk2_Res2_bn (BatchNormali (None, 16, 16, 32)   128         Stg2_blk2_Res2_conv[0][0]        \n"
     ]
    },
    {
     "name": "stdout",
     "output_type": "stream",
     "text": [
      "__________________________________________________________________________________________________\n",
      "Stg2_Blk2_add (Add)             (None, 16, 16, 32)   0           Stg2_Blk1_relu[0][0]             \n",
      "                                                                 Stg2_blk2_Res2_bn[0][0]          \n",
      "__________________________________________________________________________________________________\n",
      "Stg2_Blk2_relu (Activation)     (None, 16, 16, 32)   0           Stg2_Blk2_add[0][0]              \n",
      "__________________________________________________________________________________________________\n",
      "Stg2_blk3_Res1_conv (Conv2D)    (None, 16, 16, 32)   9248        Stg2_Blk2_relu[0][0]             \n",
      "__________________________________________________________________________________________________\n",
      "Stg2_blk3_Res1_bn (BatchNormali (None, 16, 16, 32)   128         Stg2_blk3_Res1_conv[0][0]        \n",
      "__________________________________________________________________________________________________\n",
      "Stg2_blk3_Res1_relu (Activation (None, 16, 16, 32)   0           Stg2_blk3_Res1_bn[0][0]          \n",
      "__________________________________________________________________________________________________\n",
      "Stg2_blk3_Res2_conv (Conv2D)    (None, 16, 16, 32)   9248        Stg2_blk3_Res1_relu[0][0]        \n",
      "__________________________________________________________________________________________________\n",
      "Stg2_blk3_Res2_bn (BatchNormali (None, 16, 16, 32)   128         Stg2_blk3_Res2_conv[0][0]        \n",
      "__________________________________________________________________________________________________\n",
      "Stg2_Blk3_add (Add)             (None, 16, 16, 32)   0           Stg2_Blk2_relu[0][0]             \n",
      "                                                                 Stg2_blk3_Res2_bn[0][0]          \n",
      "__________________________________________________________________________________________________\n",
      "Stg2_Blk3_relu (Activation)     (None, 16, 16, 32)   0           Stg2_Blk3_add[0][0]              \n",
      "__________________________________________________________________________________________________\n",
      "Stg3_blk1_Res1_conv (Conv2D)    (None, 8, 8, 64)     18496       Stg2_Blk3_relu[0][0]             \n",
      "__________________________________________________________________________________________________\n",
      "Stg3_blk1_Res1_bn (BatchNormali (None, 8, 8, 64)     256         Stg3_blk1_Res1_conv[0][0]        \n",
      "__________________________________________________________________________________________________\n",
      "Stg3_blk1_Res1_relu (Activation (None, 8, 8, 64)     0           Stg3_blk1_Res1_bn[0][0]          \n",
      "__________________________________________________________________________________________________\n",
      "Stg3_blk1_Res2_conv (Conv2D)    (None, 8, 8, 64)     36928       Stg3_blk1_Res1_relu[0][0]        \n",
      "__________________________________________________________________________________________________\n",
      "Stg3_blk1_lin_conv (Conv2D)     (None, 8, 8, 64)     2112        Stg2_Blk3_relu[0][0]             \n",
      "__________________________________________________________________________________________________\n",
      "Stg3_blk1_Res2_bn (BatchNormali (None, 8, 8, 64)     256         Stg3_blk1_Res2_conv[0][0]        \n",
      "__________________________________________________________________________________________________\n",
      "Stg3_Blk1_add (Add)             (None, 8, 8, 64)     0           Stg3_blk1_lin_conv[0][0]         \n",
      "                                                                 Stg3_blk1_Res2_bn[0][0]          \n",
      "__________________________________________________________________________________________________\n",
      "Stg3_Blk1_relu (Activation)     (None, 8, 8, 64)     0           Stg3_Blk1_add[0][0]              \n",
      "__________________________________________________________________________________________________\n",
      "Stg3_blk2_Res1_conv (Conv2D)    (None, 8, 8, 64)     36928       Stg3_Blk1_relu[0][0]             \n",
      "__________________________________________________________________________________________________\n",
      "Stg3_blk2_Res1_bn (BatchNormali (None, 8, 8, 64)     256         Stg3_blk2_Res1_conv[0][0]        \n",
      "__________________________________________________________________________________________________\n",
      "Stg3_blk2_Res1_relu (Activation (None, 8, 8, 64)     0           Stg3_blk2_Res1_bn[0][0]          \n",
      "__________________________________________________________________________________________________\n",
      "Stg3_blk2_Res2_conv (Conv2D)    (None, 8, 8, 64)     36928       Stg3_blk2_Res1_relu[0][0]        \n",
      "__________________________________________________________________________________________________\n",
      "Stg3_blk2_Res2_bn (BatchNormali (None, 8, 8, 64)     256         Stg3_blk2_Res2_conv[0][0]        \n",
      "__________________________________________________________________________________________________\n",
      "Stg3_Blk2_add (Add)             (None, 8, 8, 64)     0           Stg3_Blk1_relu[0][0]             \n",
      "                                                                 Stg3_blk2_Res2_bn[0][0]          \n",
      "__________________________________________________________________________________________________\n",
      "Stg3_Blk2_relu (Activation)     (None, 8, 8, 64)     0           Stg3_Blk2_add[0][0]              \n",
      "__________________________________________________________________________________________________\n",
      "Stg3_blk3_Res1_conv (Conv2D)    (None, 8, 8, 64)     36928       Stg3_Blk2_relu[0][0]             \n",
      "__________________________________________________________________________________________________\n",
      "Stg3_blk3_Res1_bn (BatchNormali (None, 8, 8, 64)     256         Stg3_blk3_Res1_conv[0][0]        \n",
      "__________________________________________________________________________________________________\n",
      "Stg3_blk3_Res1_relu (Activation (None, 8, 8, 64)     0           Stg3_blk3_Res1_bn[0][0]          \n",
      "__________________________________________________________________________________________________\n",
      "Stg3_blk3_Res2_conv (Conv2D)    (None, 8, 8, 64)     36928       Stg3_blk3_Res1_relu[0][0]        \n",
      "__________________________________________________________________________________________________\n",
      "Stg3_blk3_Res2_bn (BatchNormali (None, 8, 8, 64)     256         Stg3_blk3_Res2_conv[0][0]        \n",
      "__________________________________________________________________________________________________\n",
      "Stg3_Blk3_add (Add)             (None, 8, 8, 64)     0           Stg3_Blk2_relu[0][0]             \n",
      "                                                                 Stg3_blk3_Res2_bn[0][0]          \n",
      "__________________________________________________________________________________________________\n",
      "Stg3_Blk3_relu (Activation)     (None, 8, 8, 64)     0           Stg3_Blk3_add[0][0]              \n",
      "__________________________________________________________________________________________________\n",
      "AvgPool (AveragePooling2D)      (None, 1, 1, 64)     0           Stg3_Blk3_relu[0][0]             \n",
      "__________________________________________________________________________________________________\n",
      "flatten_1 (Flatten)             (None, 64)           0           AvgPool[0][0]                    \n",
      "__________________________________________________________________________________________________\n",
      "dense_1 (Dense)                 (None, 3)            195         flatten_1[0][0]                  \n",
      "==================================================================================================\n",
      "Total params: 273,987\n",
      "Trainable params: 272,611\n",
      "Non-trainable params: 1,376\n",
      "__________________________________________________________________________________________________\n"
     ]
    }
   ],
   "source": [
    "model = createResNetV1()\n",
    "model.summary()"
   ]
  },
  {
   "cell_type": "markdown",
   "metadata": {
    "colab_type": "text",
    "id": "E73eJXM5t5oS"
   },
   "source": [
    "# Data Flow into Model For Accuracy Evaluation"
   ]
  },
  {
   "cell_type": "code",
   "execution_count": 20,
   "metadata": {},
   "outputs": [],
   "source": [
    "def lrSchedule(epoch):\n",
    "    lr  = 1e-3\n",
    "    \n",
    "    if epoch > 160:\n",
    "        lr  *= 0.5e-3\n",
    "        \n",
    "    elif epoch > 140:\n",
    "        lr  *= 1e-3\n",
    "        \n",
    "    elif epoch > 120:\n",
    "        lr  *= 1e-2\n",
    "        \n",
    "    elif epoch > 80:\n",
    "        lr  *= 1e-1\n",
    "        \n",
    "    print('Learning rate: ', lr)\n",
    "    \n",
    "    return lr\n",
    "\n",
    "LRScheduler = LearningRateScheduler(lrSchedule)"
   ]
  },
  {
   "cell_type": "code",
   "execution_count": 21,
   "metadata": {
    "colab": {},
    "colab_type": "code",
    "id": "tJJYqVWppHxi"
   },
   "outputs": [],
   "source": [
    "modelname = 'createResNetV1'\n",
    "filepath = modelname + '.hdf5'\n",
    "\n",
    "checkpoint = ModelCheckpoint(filepath,\n",
    "                            monitor='val_acc',\n",
    "                            verbose=0,\n",
    "                            save_best_only=True,\n",
    "                            mode='max')\n",
    "\n",
    "csv_logger = CSVLogger(modelname + '.csv')\n",
    "callbacks_list = [checkpoint, csv_logger, LRScheduler]"
   ]
  },
  {
   "cell_type": "code",
   "execution_count": 26,
   "metadata": {
    "colab": {},
    "colab_type": "code",
    "id": "DRP7d9Ti_7Zk"
   },
   "outputs": [],
   "source": [
    "datagen = ImageDataGenerator(\n",
    "      width_shift_range=0.1,\n",
    "  height_shift_range=0.1,\n",
    "                             rotation_range=90,\n",
    "                             horizontal_flip=True,\n",
    "                             vertical_flip=False,\n",
    "    rescale=1./255)\n",
    "\n",
    "batch_size = 128\n",
    "img_width, img_height = 32, 32"
   ]
  },
  {
   "cell_type": "code",
   "execution_count": 27,
   "metadata": {
    "colab": {
     "base_uri": "https://localhost:8080/",
     "height": 34
    },
    "colab_type": "code",
    "id": "mLKvbr48_7dM",
    "outputId": "9336b1cd-2db7-4c11-b71f-3ee0d1aea824"
   },
   "outputs": [
    {
     "name": "stdout",
     "output_type": "stream",
     "text": [
      "Found 2423 images belonging to 3 classes.\n"
     ]
    }
   ],
   "source": [
    "train_generator = datagen.flow_from_directory(\n",
    "  directory=train_dir ,\n",
    "  target_size=(img_width, img_height),\n",
    "  color_mode='rgb',\n",
    "  batch_size=batch_size,\n",
    "  class_mode='categorical',\n",
    "  shuffle=False\n",
    ")"
   ]
  },
  {
   "cell_type": "code",
   "execution_count": 28,
   "metadata": {},
   "outputs": [],
   "source": [
    "datagen2 = ImageDataGenerator(\n",
    "    rescale=1./255)\n",
    "\n",
    "batch_size = 128\n",
    "img_width, img_height = 32, 32"
   ]
  },
  {
   "cell_type": "code",
   "execution_count": 29,
   "metadata": {
    "colab": {
     "base_uri": "https://localhost:8080/",
     "height": 34
    },
    "colab_type": "code",
    "id": "3a4ApY-_vF9s",
    "outputId": "ca48e356-95eb-4205-b7a2-61907ada2375"
   },
   "outputs": [
    {
     "name": "stdout",
     "output_type": "stream",
     "text": [
      "Found 724 images belonging to 3 classes.\n"
     ]
    }
   ],
   "source": [
    "validation_generator = datagen2.flow_from_directory(\n",
    "  directory=validation_dir ,\n",
    "  target_size=(img_width, img_height),\n",
    "  color_mode='rgb',\n",
    "  batch_size=batch_size,\n",
    "  class_mode='categorical',\n",
    "  shuffle=False)"
   ]
  },
  {
   "cell_type": "code",
   "execution_count": 31,
   "metadata": {
    "colab": {
     "base_uri": "https://localhost:8080/",
     "height": 646
    },
    "colab_type": "code",
    "id": "uHtEZKOz_7nO",
    "outputId": "3a9826f4-c3ad-4770-97bd-e6a0d0aea8bf"
   },
   "outputs": [
    {
     "name": "stdout",
     "output_type": "stream",
     "text": [
      "Learning rate:  0.001\n",
      "Epoch 1/40\n",
      "18/18 [==============================] - ETA: 4:55 - loss: 0.7893 - acc: 0.765 - ETA: 2:19 - loss: 1.5575 - acc: 0.382 - ETA: 1:38 - loss: 1.3787 - acc: 0.481 - ETA: 51s - loss: 1.3785 - acc: 0.412 - ETA: 39s - loss: 1.2797 - acc: 0.49 - ETA: 24s - loss: 1.4714 - acc: 0.38 - ETA: 17s - loss: 1.4267 - acc: 0.40 - ETA: 18s - loss: 1.3902 - acc: 0.40 - ETA: 11s - loss: 1.3357 - acc: 0.41 - ETA: 9s - loss: 1.4195 - acc: 0.3875 - ETA: 6s - loss: 1.4262 - acc: 0.361 - ETA: 2s - loss: 1.3728 - acc: 0.385 - 56s 3s/step - loss: 1.3163 - acc: 0.4200 - val_loss: 1.2382 - val_acc: 0.4641\n",
      "Learning rate:  0.001\n",
      "Epoch 2/40\n",
      "18/18 [==============================] - ETA: 0s - loss: 0.2893 - acc: 1.000 - ETA: 1:17 - loss: 0.2651 - acc: 1.000 - ETA: 48s - loss: 1.3195 - acc: 0.666 - ETA: 53s - loss: 1.2624 - acc: 0.56 - ETA: 30s - loss: 1.2553 - acc: 0.54 - ETA: 25s - loss: 1.3486 - acc: 0.50 - ETA: 23s - loss: 1.3433 - acc: 0.50 - ETA: 19s - loss: 1.2629 - acc: 0.55 - ETA: 18s - loss: 1.1758 - acc: 0.60 - ETA: 13s - loss: 1.1903 - acc: 0.58 - ETA: 11s - loss: 1.1911 - acc: 0.54 - ETA: 5s - loss: 1.2713 - acc: 0.5193 - ETA: 1s - loss: 1.3006 - acc: 0.459 - 57s 3s/step - loss: 1.2835 - acc: 0.4683 - val_loss: 1.2136 - val_acc: 0.4641\n",
      "Learning rate:  0.001\n",
      "Epoch 3/40\n",
      "18/18 [==============================] - ETA: 0s - loss: 1.3425 - acc: 0.386 - ETA: 1:29 - loss: 1.4271 - acc: 0.205 - ETA: 46s - loss: 1.1374 - acc: 0.502 - ETA: 36s - loss: 1.3320 - acc: 0.42 - ETA: 28s - loss: 1.2952 - acc: 0.41 - ETA: 18s - loss: 1.1890 - acc: 0.47 - ETA: 15s - loss: 1.2468 - acc: 0.42 - ETA: 12s - loss: 1.2782 - acc: 0.40 - ETA: 10s - loss: 1.2507 - acc: 0.41 - ETA: 6s - loss: 1.2450 - acc: 0.4259 - ETA: 2s - loss: 1.2737 - acc: 0.402 - 56s 3s/step - loss: 1.2533 - acc: 0.4331 - val_loss: 1.3717 - val_acc: 0.4500\n",
      "Learning rate:  0.001\n",
      "Epoch 4/40\n",
      "18/18 [==============================] - ETA: 0s - loss: 1.3802 - acc: 0.0000e+0 - ETA: 0s - loss: 1.2165 - acc: 0.3281    - ETA: 53s - loss: 1.2792 - acc: 0.24 - ETA: 49s - loss: 1.0979 - acc: 0.39 - ETA: 29s - loss: 1.1525 - acc: 0.39 - ETA: 19s - loss: 1.1256 - acc: 0.41 - ETA: 12s - loss: 1.1150 - acc: 0.43 - ETA: 10s - loss: 1.1405 - acc: 0.40 - ETA: 5s - loss: 1.1750 - acc: 0.3578 - ETA: 5s - loss: 1.1649 - acc: 0.340 - ETA: 3s - loss: 1.1708 - acc: 0.320 - ETA: 1s - loss: 1.1350 - acc: 0.360 - 56s 3s/step - loss: 1.1895 - acc: 0.3407 - val_loss: 1.1616 - val_acc: 0.4328\n",
      "Learning rate:  0.001\n",
      "Epoch 5/40\n",
      "18/18 [==============================] - ETA: 0s - loss: 0.8885 - acc: 0.851 - ETA: 0s - loss: 0.9753 - acc: 0.700 - ETA: 40s - loss: 0.7484 - acc: 0.81 - ETA: 31s - loss: 0.7893 - acc: 0.78 - ETA: 19s - loss: 0.9046 - acc: 0.71 - ETA: 14s - loss: 0.8586 - acc: 0.77 - ETA: 13s - loss: 0.8647 - acc: 0.75 - ETA: 9s - loss: 0.8309 - acc: 0.7903 - ETA: 5s - loss: 0.9101 - acc: 0.746 - ETA: 1s - loss: 0.9020 - acc: 0.721 - 55s 3s/step - loss: 0.9908 - acc: 0.6989 - val_loss: 1.5269 - val_acc: 0.4641\n",
      "Learning rate:  0.001\n",
      "Epoch 6/40\n",
      "18/18 [==============================] - ETA: 0s - loss: 0.8538 - acc: 0.859 - ETA: 0s - loss: 0.8580 - acc: 0.802 - ETA: 0s - loss: 0.9395 - acc: 0.682 - ETA: 37s - loss: 0.8285 - acc: 0.73 - ETA: 29s - loss: 0.7458 - acc: 0.77 - ETA: 23s - loss: 0.8589 - acc: 0.67 - ETA: 15s - loss: 0.8447 - acc: 0.73 - ETA: 10s - loss: 0.8576 - acc: 0.72 - ETA: 6s - loss: 0.8266 - acc: 0.7347 - ETA: 5s - loss: 0.7888 - acc: 0.752 - ETA: 3s - loss: 0.7535 - acc: 0.768 - ETA: 1s - loss: 0.7592 - acc: 0.779 - 53s 3s/step - loss: 0.7276 - acc: 0.7913 - val_loss: 1.5773 - val_acc: 0.4641\n",
      "Learning rate:  0.001\n",
      "Epoch 7/40\n",
      "18/18 [==============================] - ETA: 0s - loss: 1.0616 - acc: 0.382 - ETA: 0s - loss: 1.1936 - acc: 0.460 - ETA: 0s - loss: 1.1070 - acc: 0.468 - ETA: 28s - loss: 1.0245 - acc: 0.48 - ETA: 18s - loss: 0.8968 - acc: 0.59 - ETA: 11s - loss: 0.9233 - acc: 0.57 - ETA: 9s - loss: 0.9139 - acc: 0.5807 - ETA: 7s - loss: 0.9826 - acc: 0.540 - ETA: 5s - loss: 0.9555 - acc: 0.566 - ETA: 5s - loss: 0.9518 - acc: 0.570 - ETA: 1s - loss: 0.8685 - acc: 0.620 - 53s 3s/step - loss: 0.8966 - acc: 0.6074 - val_loss: 1.5798 - val_acc: 0.4641\n",
      "Learning rate:  0.001\n",
      "Epoch 8/40\n",
      "18/18 [==============================] - ETA: 0s - loss: 0.6785 - acc: 0.851 - ETA: 0s - loss: 0.6717 - acc: 0.825 - ETA: 0s - loss: 0.6890 - acc: 0.726 - ETA: 0s - loss: 0.9657 - acc: 0.625 - ETA: 9s - loss: 0.9439 - acc: 0.642 - ETA: 7s - loss: 0.8757 - acc: 0.682 - ETA: 7s - loss: 0.8732 - acc: 0.670 - ETA: 11s - loss: 0.8865 - acc: 0.62 - ETA: 7s - loss: 0.8612 - acc: 0.6581 - ETA: 3s - loss: 0.8735 - acc: 0.638 - ETA: 2s - loss: 0.8504 - acc: 0.661 - 51s 3s/step - loss: 0.8317 - acc: 0.6680 - val_loss: 1.4646 - val_acc: 0.2391\n",
      "Learning rate:  0.001\n",
      "Epoch 9/40\n",
      "18/18 [==============================] - ETA: 0s - loss: 0.2318 - acc: 1.000 - ETA: 0s - loss: 0.3670 - acc: 1.000 - ETA: 0s - loss: 0.4256 - acc: 0.929 - ETA: 0s - loss: 0.4906 - acc: 0.869 - ETA: 10s - loss: 0.6659 - acc: 0.76 - ETA: 14s - loss: 0.7204 - acc: 0.69 - ETA: 9s - loss: 0.6787 - acc: 0.7448 - ETA: 5s - loss: 0.7036 - acc: 0.728 - ETA: 2s - loss: 0.6804 - acc: 0.751 - 53s 3s/step - loss: 0.7174 - acc: 0.7049 - val_loss: 1.1585 - val_acc: 0.6016\n",
      "Learning rate:  0.001\n",
      "Epoch 10/40\n",
      "18/18 [==============================] - ETA: 0s - loss: 0.6265 - acc: 0.976 - ETA: 0s - loss: 0.6014 - acc: 0.890 - ETA: 0s - loss: 0.9698 - acc: 0.668 - ETA: 0s - loss: 0.7955 - acc: 0.764 - ETA: 0s - loss: 0.7060 - acc: 0.812 - ETA: 11s - loss: 0.6545 - acc: 0.83 - ETA: 7s - loss: 0.6430 - acc: 0.8546 - ETA: 6s - loss: 0.6161 - acc: 0.865 - ETA: 3s - loss: 0.6031 - acc: 0.883 - ETA: 2s - loss: 0.5925 - acc: 0.890 - 48s 3s/step - loss: 0.5592 - acc: 0.9029 - val_loss: 1.4521 - val_acc: 0.2594\n",
      "Learning rate:  0.001\n",
      "Epoch 11/40\n",
      "18/18 [==============================] - ETA: 0s - loss: 0.7719 - acc: 0.757 - ETA: 0s - loss: 0.9860 - acc: 0.815 - ETA: 0s - loss: 0.7380 - acc: 0.882 - ETA: 0s - loss: 0.7921 - acc: 0.773 - ETA: 0s - loss: 1.0682 - acc: 0.651 - ETA: 6s - loss: 0.9679 - acc: 0.711 - ETA: 9s - loss: 1.0492 - acc: 0.654 - ETA: 6s - loss: 1.0501 - acc: 0.644 - ETA: 3s - loss: 0.9713 - acc: 0.682 - ETA: 2s - loss: 0.9237 - acc: 0.702 - ETA: 1s - loss: 0.8838 - acc: 0.719 - 50s 3s/step - loss: 0.8876 - acc: 0.6957 - val_loss: 1.3494 - val_acc: 0.2438\n",
      "Learning rate:  0.001\n",
      "Epoch 12/40\n",
      "18/18 [==============================] - ETA: 0s - loss: 0.3786 - acc: 1.000 - ETA: 0s - loss: 0.3507 - acc: 1.000 - ETA: 0s - loss: 0.4148 - acc: 0.911 - ETA: 0s - loss: 0.4859 - acc: 0.863 - ETA: 0s - loss: 0.5125 - acc: 0.872 - ETA: 0s - loss: 0.4564 - acc: 0.895 - ETA: 8s - loss: 0.4326 - acc: 0.904 - ETA: 7s - loss: 0.4338 - acc: 0.911 - ETA: 5s - loss: 0.4687 - acc: 0.879 - ETA: 3s - loss: 0.5260 - acc: 0.821 - ETA: 1s - loss: 0.5313 - acc: 0.808 - 49s 3s/step - loss: 0.5116 - acc: 0.8189 - val_loss: 1.4194 - val_acc: 0.3656\n",
      "Learning rate:  0.001\n",
      "Epoch 13/40\n",
      "18/18 [==============================] - ETA: 0s - loss: 0.8307 - acc: 0.781 - ETA: 0s - loss: 0.9664 - acc: 0.596 - ETA: 0s - loss: 0.8192 - acc: 0.606 - ETA: 0s - loss: 0.7054 - acc: 0.718 - ETA: 0s - loss: 0.7033 - acc: 0.713 - ETA: 0s - loss: 0.7992 - acc: 0.674 - ETA: 4s - loss: 0.7518 - acc: 0.701 - ETA: 7s - loss: 0.7102 - acc: 0.724 - ETA: 7s - loss: 0.6794 - acc: 0.743 - ETA: 3s - loss: 0.6182 - acc: 0.775 - 54s 3s/step - loss: 0.5684 - acc: 0.8008 - val_loss: 1.3138 - val_acc: 0.2188\n",
      "Learning rate:  0.001\n",
      "Epoch 14/40\n",
      "18/18 [==============================] - ETA: 0s - loss: 0.1950 - acc: 1.000 - ETA: 0s - loss: 0.4596 - acc: 0.974 - ETA: 0s - loss: 0.4902 - acc: 0.971 - ETA: 0s - loss: 0.4587 - acc: 0.978 - ETA: 0s - loss: 0.5398 - acc: 0.872 - ETA: 0s - loss: 0.6110 - acc: 0.804 - ETA: 6s - loss: 0.6351 - acc: 0.774 - ETA: 8s - loss: 0.6617 - acc: 0.779 - ETA: 3s - loss: 0.6026 - acc: 0.806 - 58s 3s/step - loss: 0.6896 - acc: 0.7353 - val_loss: 1.9437 - val_acc: 0.3547\n",
      "Learning rate:  0.001\n",
      "Epoch 15/40\n"
     ]
    },
    {
     "name": "stdout",
     "output_type": "stream",
     "text": [
      "18/18 [==============================] - ETA: 0s - loss: 0.1745 - acc: 1.000 - ETA: 0s - loss: 0.4857 - acc: 0.927 - ETA: 0s - loss: 0.3928 - acc: 0.956 - ETA: 0s - loss: 0.3511 - acc: 0.968 - ETA: 0s - loss: 0.3922 - acc: 0.906 - ETA: 0s - loss: 0.4481 - acc: 0.882 - ETA: 4s - loss: 0.4596 - acc: 0.886 - ETA: 3s - loss: 0.4177 - acc: 0.902 - ETA: 5s - loss: 0.4008 - acc: 0.909 - ETA: 3s - loss: 0.3919 - acc: 0.915 - 57s 3s/step - loss: 0.3669 - acc: 0.9245 - val_loss: 1.4141 - val_acc: 0.2188\n",
      "Learning rate:  0.001\n",
      "Epoch 16/40\n",
      "18/18 [==============================] - ETA: 0s - loss: 0.1599 - acc: 1.000 - ETA: 0s - loss: 0.2941 - acc: 1.000 - ETA: 0s - loss: 0.4996 - acc: 0.856 - ETA: 0s - loss: 0.4709 - acc: 0.897 - ETA: 0s - loss: 0.5062 - acc: 0.870 - ETA: 0s - loss: 0.4819 - acc: 0.884 - ETA: 5s - loss: 0.4628 - acc: 0.893 - ETA: 4s - loss: 0.6056 - acc: 0.824 - ETA: 2s - loss: 0.5951 - acc: 0.833 - ETA: 2s - loss: 0.5681 - acc: 0.844 - ETA: 1s - loss: 0.5444 - acc: 0.853 - 58s 3s/step - loss: 0.5329 - acc: 0.8614 - val_loss: 1.3161 - val_acc: 0.2156\n",
      "Learning rate:  0.001\n",
      "Epoch 17/40\n",
      "17/18 [===========================>..] - ETA: 16s - loss: 0.2350 - acc: 1.00 - ETA: 15s - loss: 0.2083 - acc: 1.00 - ETA: 15s - loss: 0.1995 - acc: 1.00 - ETA: 14s - loss: 0.1890 - acc: 1.00 - ETA: 13s - loss: 0.2228 - acc: 1.00 - ETA: 11s - loss: 0.2391 - acc: 1.00 - ETA: 10s - loss: 0.3163 - acc: 0.94 - ETA: 9s - loss: 0.3376 - acc: 0.9330 - ETA: 8s - loss: 0.3731 - acc: 0.919 - ETA: 7s - loss: 0.3521 - acc: 0.927 - ETA: 6s - loss: 0.3424 - acc: 0.934 - ETA: 7s - loss: 0.3636 - acc: 0.935 - ETA: 6s - loss: 0.4787 - acc: 0.916 - ETA: 4s - loss: 0.5087 - acc: 0.878 - ETA: 3s - loss: 0.5008 - acc: 0.884 - ETA: 2s - loss: 0.5029 - acc: 0.891 - ETA: 1s - loss: 0.4828 - acc: 0.8976"
     ]
    },
    {
     "ename": "KeyboardInterrupt",
     "evalue": "",
     "output_type": "error",
     "traceback": [
      "\u001b[1;31m---------------------------------------------------------------------------\u001b[0m",
      "\u001b[1;31mKeyboardInterrupt\u001b[0m                         Traceback (most recent call last)",
      "\u001b[1;32m<ipython-input-31-2e0710218d56>\u001b[0m in \u001b[0;36m<module>\u001b[1;34m\u001b[0m\n\u001b[0;32m      9\u001b[0m                     \u001b[0msteps_per_epoch\u001b[0m\u001b[1;33m=\u001b[0m\u001b[0mSTEP_SIZE_TRAIN\u001b[0m\u001b[1;33m,\u001b[0m\u001b[1;33m\u001b[0m\u001b[1;33m\u001b[0m\u001b[0m\n\u001b[0;32m     10\u001b[0m                     \u001b[0mvalidation_steps\u001b[0m\u001b[1;33m=\u001b[0m\u001b[0mSTEP_SIZE_VALID\u001b[0m\u001b[1;33m,\u001b[0m\u001b[1;33m\u001b[0m\u001b[1;33m\u001b[0m\u001b[0m\n\u001b[1;32m---> 11\u001b[1;33m                     callbacks=callbacks_list)\n\u001b[0m",
      "\u001b[1;32mc:\\users\\guofe\\workspace\\nus_is_pr\\venv\\lib\\site-packages\\tensorflow\\python\\keras\\engine\\training.py\u001b[0m in \u001b[0;36mfit_generator\u001b[1;34m(self, generator, steps_per_epoch, epochs, verbose, callbacks, validation_data, validation_steps, validation_freq, class_weight, max_queue_size, workers, use_multiprocessing, shuffle, initial_epoch)\u001b[0m\n\u001b[0;32m   1431\u001b[0m         \u001b[0mshuffle\u001b[0m\u001b[1;33m=\u001b[0m\u001b[0mshuffle\u001b[0m\u001b[1;33m,\u001b[0m\u001b[1;33m\u001b[0m\u001b[1;33m\u001b[0m\u001b[0m\n\u001b[0;32m   1432\u001b[0m         \u001b[0minitial_epoch\u001b[0m\u001b[1;33m=\u001b[0m\u001b[0minitial_epoch\u001b[0m\u001b[1;33m,\u001b[0m\u001b[1;33m\u001b[0m\u001b[1;33m\u001b[0m\u001b[0m\n\u001b[1;32m-> 1433\u001b[1;33m         steps_name='steps_per_epoch')\n\u001b[0m\u001b[0;32m   1434\u001b[0m \u001b[1;33m\u001b[0m\u001b[0m\n\u001b[0;32m   1435\u001b[0m   def evaluate_generator(self,\n",
      "\u001b[1;32mc:\\users\\guofe\\workspace\\nus_is_pr\\venv\\lib\\site-packages\\tensorflow\\python\\keras\\engine\\training_generator.py\u001b[0m in \u001b[0;36mmodel_iteration\u001b[1;34m(model, data, steps_per_epoch, epochs, verbose, callbacks, validation_data, validation_steps, validation_freq, class_weight, max_queue_size, workers, use_multiprocessing, shuffle, initial_epoch, mode, batch_size, steps_name, **kwargs)\u001b[0m\n\u001b[0;32m    320\u001b[0m           \u001b[0mverbose\u001b[0m\u001b[1;33m=\u001b[0m\u001b[1;36m0\u001b[0m\u001b[1;33m,\u001b[0m\u001b[1;33m\u001b[0m\u001b[1;33m\u001b[0m\u001b[0m\n\u001b[0;32m    321\u001b[0m           \u001b[0mmode\u001b[0m\u001b[1;33m=\u001b[0m\u001b[0mModeKeys\u001b[0m\u001b[1;33m.\u001b[0m\u001b[0mTEST\u001b[0m\u001b[1;33m,\u001b[0m\u001b[1;33m\u001b[0m\u001b[1;33m\u001b[0m\u001b[0m\n\u001b[1;32m--> 322\u001b[1;33m           steps_name='validation_steps')\n\u001b[0m\u001b[0;32m    323\u001b[0m \u001b[1;33m\u001b[0m\u001b[0m\n\u001b[0;32m    324\u001b[0m       \u001b[1;32mif\u001b[0m \u001b[1;32mnot\u001b[0m \u001b[0misinstance\u001b[0m\u001b[1;33m(\u001b[0m\u001b[0mval_results\u001b[0m\u001b[1;33m,\u001b[0m \u001b[0mlist\u001b[0m\u001b[1;33m)\u001b[0m\u001b[1;33m:\u001b[0m\u001b[1;33m\u001b[0m\u001b[1;33m\u001b[0m\u001b[0m\n",
      "\u001b[1;32mc:\\users\\guofe\\workspace\\nus_is_pr\\venv\\lib\\site-packages\\tensorflow\\python\\keras\\engine\\training_generator.py\u001b[0m in \u001b[0;36mmodel_iteration\u001b[1;34m(model, data, steps_per_epoch, epochs, verbose, callbacks, validation_data, validation_steps, validation_freq, class_weight, max_queue_size, workers, use_multiprocessing, shuffle, initial_epoch, mode, batch_size, steps_name, **kwargs)\u001b[0m\n\u001b[0;32m    218\u001b[0m     \u001b[0mstep\u001b[0m \u001b[1;33m=\u001b[0m \u001b[1;36m0\u001b[0m\u001b[1;33m\u001b[0m\u001b[1;33m\u001b[0m\u001b[0m\n\u001b[0;32m    219\u001b[0m     \u001b[1;32mwhile\u001b[0m \u001b[0mstep\u001b[0m \u001b[1;33m<\u001b[0m \u001b[0mtarget_steps\u001b[0m\u001b[1;33m:\u001b[0m\u001b[1;33m\u001b[0m\u001b[1;33m\u001b[0m\u001b[0m\n\u001b[1;32m--> 220\u001b[1;33m       \u001b[0mbatch_data\u001b[0m \u001b[1;33m=\u001b[0m \u001b[0m_get_next_batch\u001b[0m\u001b[1;33m(\u001b[0m\u001b[0mgenerator\u001b[0m\u001b[1;33m,\u001b[0m \u001b[0mmode\u001b[0m\u001b[1;33m)\u001b[0m\u001b[1;33m\u001b[0m\u001b[1;33m\u001b[0m\u001b[0m\n\u001b[0m\u001b[0;32m    221\u001b[0m       \u001b[1;32mif\u001b[0m \u001b[0mbatch_data\u001b[0m \u001b[1;32mis\u001b[0m \u001b[1;32mNone\u001b[0m\u001b[1;33m:\u001b[0m\u001b[1;33m\u001b[0m\u001b[1;33m\u001b[0m\u001b[0m\n\u001b[0;32m    222\u001b[0m         \u001b[1;32mif\u001b[0m \u001b[0mis_dataset\u001b[0m\u001b[1;33m:\u001b[0m\u001b[1;33m\u001b[0m\u001b[1;33m\u001b[0m\u001b[0m\n",
      "\u001b[1;32mc:\\users\\guofe\\workspace\\nus_is_pr\\venv\\lib\\site-packages\\tensorflow\\python\\keras\\engine\\training_generator.py\u001b[0m in \u001b[0;36m_get_next_batch\u001b[1;34m(generator, mode)\u001b[0m\n\u001b[0;32m    360\u001b[0m   \u001b[1;34m\"\"\"Retrieves the next batch of input data.\"\"\"\u001b[0m\u001b[1;33m\u001b[0m\u001b[1;33m\u001b[0m\u001b[0m\n\u001b[0;32m    361\u001b[0m   \u001b[1;32mtry\u001b[0m\u001b[1;33m:\u001b[0m\u001b[1;33m\u001b[0m\u001b[1;33m\u001b[0m\u001b[0m\n\u001b[1;32m--> 362\u001b[1;33m     \u001b[0mgenerator_output\u001b[0m \u001b[1;33m=\u001b[0m \u001b[0mnext\u001b[0m\u001b[1;33m(\u001b[0m\u001b[0mgenerator\u001b[0m\u001b[1;33m)\u001b[0m\u001b[1;33m\u001b[0m\u001b[1;33m\u001b[0m\u001b[0m\n\u001b[0m\u001b[0;32m    363\u001b[0m   \u001b[1;32mexcept\u001b[0m \u001b[1;33m(\u001b[0m\u001b[0mStopIteration\u001b[0m\u001b[1;33m,\u001b[0m \u001b[0merrors\u001b[0m\u001b[1;33m.\u001b[0m\u001b[0mOutOfRangeError\u001b[0m\u001b[1;33m)\u001b[0m\u001b[1;33m:\u001b[0m\u001b[1;33m\u001b[0m\u001b[1;33m\u001b[0m\u001b[0m\n\u001b[0;32m    364\u001b[0m     \u001b[1;32mreturn\u001b[0m \u001b[1;32mNone\u001b[0m\u001b[1;33m\u001b[0m\u001b[1;33m\u001b[0m\u001b[0m\n",
      "\u001b[1;32mc:\\users\\guofe\\workspace\\nus_is_pr\\venv\\lib\\site-packages\\tensorflow\\python\\keras\\utils\\data_utils.py\u001b[0m in \u001b[0;36mget\u001b[1;34m(self)\u001b[0m\n\u001b[0;32m    777\u001b[0m     \u001b[1;32mtry\u001b[0m\u001b[1;33m:\u001b[0m\u001b[1;33m\u001b[0m\u001b[1;33m\u001b[0m\u001b[0m\n\u001b[0;32m    778\u001b[0m       \u001b[1;32mwhile\u001b[0m \u001b[0mself\u001b[0m\u001b[1;33m.\u001b[0m\u001b[0mis_running\u001b[0m\u001b[1;33m(\u001b[0m\u001b[1;33m)\u001b[0m\u001b[1;33m:\u001b[0m\u001b[1;33m\u001b[0m\u001b[1;33m\u001b[0m\u001b[0m\n\u001b[1;32m--> 779\u001b[1;33m         \u001b[0minputs\u001b[0m \u001b[1;33m=\u001b[0m \u001b[0mself\u001b[0m\u001b[1;33m.\u001b[0m\u001b[0mqueue\u001b[0m\u001b[1;33m.\u001b[0m\u001b[0mget\u001b[0m\u001b[1;33m(\u001b[0m\u001b[0mblock\u001b[0m\u001b[1;33m=\u001b[0m\u001b[1;32mTrue\u001b[0m\u001b[1;33m)\u001b[0m\u001b[1;33m.\u001b[0m\u001b[0mget\u001b[0m\u001b[1;33m(\u001b[0m\u001b[1;33m)\u001b[0m\u001b[1;33m\u001b[0m\u001b[1;33m\u001b[0m\u001b[0m\n\u001b[0m\u001b[0;32m    780\u001b[0m         \u001b[0mself\u001b[0m\u001b[1;33m.\u001b[0m\u001b[0mqueue\u001b[0m\u001b[1;33m.\u001b[0m\u001b[0mtask_done\u001b[0m\u001b[1;33m(\u001b[0m\u001b[1;33m)\u001b[0m\u001b[1;33m\u001b[0m\u001b[1;33m\u001b[0m\u001b[0m\n\u001b[0;32m    781\u001b[0m         \u001b[1;32mif\u001b[0m \u001b[0minputs\u001b[0m \u001b[1;32mis\u001b[0m \u001b[1;32mnot\u001b[0m \u001b[1;32mNone\u001b[0m\u001b[1;33m:\u001b[0m\u001b[1;33m\u001b[0m\u001b[1;33m\u001b[0m\u001b[0m\n",
      "\u001b[1;32m~\\AppData\\Local\\Programs\\Python\\Python37\\lib\\multiprocessing\\pool.py\u001b[0m in \u001b[0;36mget\u001b[1;34m(self, timeout)\u001b[0m\n\u001b[0;32m    649\u001b[0m \u001b[1;33m\u001b[0m\u001b[0m\n\u001b[0;32m    650\u001b[0m     \u001b[1;32mdef\u001b[0m \u001b[0mget\u001b[0m\u001b[1;33m(\u001b[0m\u001b[0mself\u001b[0m\u001b[1;33m,\u001b[0m \u001b[0mtimeout\u001b[0m\u001b[1;33m=\u001b[0m\u001b[1;32mNone\u001b[0m\u001b[1;33m)\u001b[0m\u001b[1;33m:\u001b[0m\u001b[1;33m\u001b[0m\u001b[1;33m\u001b[0m\u001b[0m\n\u001b[1;32m--> 651\u001b[1;33m         \u001b[0mself\u001b[0m\u001b[1;33m.\u001b[0m\u001b[0mwait\u001b[0m\u001b[1;33m(\u001b[0m\u001b[0mtimeout\u001b[0m\u001b[1;33m)\u001b[0m\u001b[1;33m\u001b[0m\u001b[1;33m\u001b[0m\u001b[0m\n\u001b[0m\u001b[0;32m    652\u001b[0m         \u001b[1;32mif\u001b[0m \u001b[1;32mnot\u001b[0m \u001b[0mself\u001b[0m\u001b[1;33m.\u001b[0m\u001b[0mready\u001b[0m\u001b[1;33m(\u001b[0m\u001b[1;33m)\u001b[0m\u001b[1;33m:\u001b[0m\u001b[1;33m\u001b[0m\u001b[1;33m\u001b[0m\u001b[0m\n\u001b[0;32m    653\u001b[0m             \u001b[1;32mraise\u001b[0m \u001b[0mTimeoutError\u001b[0m\u001b[1;33m\u001b[0m\u001b[1;33m\u001b[0m\u001b[0m\n",
      "\u001b[1;32m~\\AppData\\Local\\Programs\\Python\\Python37\\lib\\multiprocessing\\pool.py\u001b[0m in \u001b[0;36mwait\u001b[1;34m(self, timeout)\u001b[0m\n\u001b[0;32m    646\u001b[0m \u001b[1;33m\u001b[0m\u001b[0m\n\u001b[0;32m    647\u001b[0m     \u001b[1;32mdef\u001b[0m \u001b[0mwait\u001b[0m\u001b[1;33m(\u001b[0m\u001b[0mself\u001b[0m\u001b[1;33m,\u001b[0m \u001b[0mtimeout\u001b[0m\u001b[1;33m=\u001b[0m\u001b[1;32mNone\u001b[0m\u001b[1;33m)\u001b[0m\u001b[1;33m:\u001b[0m\u001b[1;33m\u001b[0m\u001b[1;33m\u001b[0m\u001b[0m\n\u001b[1;32m--> 648\u001b[1;33m         \u001b[0mself\u001b[0m\u001b[1;33m.\u001b[0m\u001b[0m_event\u001b[0m\u001b[1;33m.\u001b[0m\u001b[0mwait\u001b[0m\u001b[1;33m(\u001b[0m\u001b[0mtimeout\u001b[0m\u001b[1;33m)\u001b[0m\u001b[1;33m\u001b[0m\u001b[1;33m\u001b[0m\u001b[0m\n\u001b[0m\u001b[0;32m    649\u001b[0m \u001b[1;33m\u001b[0m\u001b[0m\n\u001b[0;32m    650\u001b[0m     \u001b[1;32mdef\u001b[0m \u001b[0mget\u001b[0m\u001b[1;33m(\u001b[0m\u001b[0mself\u001b[0m\u001b[1;33m,\u001b[0m \u001b[0mtimeout\u001b[0m\u001b[1;33m=\u001b[0m\u001b[1;32mNone\u001b[0m\u001b[1;33m)\u001b[0m\u001b[1;33m:\u001b[0m\u001b[1;33m\u001b[0m\u001b[1;33m\u001b[0m\u001b[0m\n",
      "\u001b[1;32m~\\AppData\\Local\\Programs\\Python\\Python37\\lib\\threading.py\u001b[0m in \u001b[0;36mwait\u001b[1;34m(self, timeout)\u001b[0m\n\u001b[0;32m    550\u001b[0m             \u001b[0msignaled\u001b[0m \u001b[1;33m=\u001b[0m \u001b[0mself\u001b[0m\u001b[1;33m.\u001b[0m\u001b[0m_flag\u001b[0m\u001b[1;33m\u001b[0m\u001b[1;33m\u001b[0m\u001b[0m\n\u001b[0;32m    551\u001b[0m             \u001b[1;32mif\u001b[0m \u001b[1;32mnot\u001b[0m \u001b[0msignaled\u001b[0m\u001b[1;33m:\u001b[0m\u001b[1;33m\u001b[0m\u001b[1;33m\u001b[0m\u001b[0m\n\u001b[1;32m--> 552\u001b[1;33m                 \u001b[0msignaled\u001b[0m \u001b[1;33m=\u001b[0m \u001b[0mself\u001b[0m\u001b[1;33m.\u001b[0m\u001b[0m_cond\u001b[0m\u001b[1;33m.\u001b[0m\u001b[0mwait\u001b[0m\u001b[1;33m(\u001b[0m\u001b[0mtimeout\u001b[0m\u001b[1;33m)\u001b[0m\u001b[1;33m\u001b[0m\u001b[1;33m\u001b[0m\u001b[0m\n\u001b[0m\u001b[0;32m    553\u001b[0m             \u001b[1;32mreturn\u001b[0m \u001b[0msignaled\u001b[0m\u001b[1;33m\u001b[0m\u001b[1;33m\u001b[0m\u001b[0m\n\u001b[0;32m    554\u001b[0m \u001b[1;33m\u001b[0m\u001b[0m\n",
      "\u001b[1;32m~\\AppData\\Local\\Programs\\Python\\Python37\\lib\\threading.py\u001b[0m in \u001b[0;36mwait\u001b[1;34m(self, timeout)\u001b[0m\n\u001b[0;32m    294\u001b[0m         \u001b[1;32mtry\u001b[0m\u001b[1;33m:\u001b[0m    \u001b[1;31m# restore state no matter what (e.g., KeyboardInterrupt)\u001b[0m\u001b[1;33m\u001b[0m\u001b[1;33m\u001b[0m\u001b[0m\n\u001b[0;32m    295\u001b[0m             \u001b[1;32mif\u001b[0m \u001b[0mtimeout\u001b[0m \u001b[1;32mis\u001b[0m \u001b[1;32mNone\u001b[0m\u001b[1;33m:\u001b[0m\u001b[1;33m\u001b[0m\u001b[1;33m\u001b[0m\u001b[0m\n\u001b[1;32m--> 296\u001b[1;33m                 \u001b[0mwaiter\u001b[0m\u001b[1;33m.\u001b[0m\u001b[0macquire\u001b[0m\u001b[1;33m(\u001b[0m\u001b[1;33m)\u001b[0m\u001b[1;33m\u001b[0m\u001b[1;33m\u001b[0m\u001b[0m\n\u001b[0m\u001b[0;32m    297\u001b[0m                 \u001b[0mgotit\u001b[0m \u001b[1;33m=\u001b[0m \u001b[1;32mTrue\u001b[0m\u001b[1;33m\u001b[0m\u001b[1;33m\u001b[0m\u001b[0m\n\u001b[0;32m    298\u001b[0m             \u001b[1;32melse\u001b[0m\u001b[1;33m:\u001b[0m\u001b[1;33m\u001b[0m\u001b[1;33m\u001b[0m\u001b[0m\n",
      "\u001b[1;31mKeyboardInterrupt\u001b[0m: "
     ]
    }
   ],
   "source": [
    "STEP_SIZE_TRAIN=train_generator.n//train_generator.batch_size\n",
    "STEP_SIZE_VALID=validation_generator.n//validation_generator.batch_size\n",
    "\n",
    "model.fit_generator(generator=train_generator,\n",
    "                    validation_data=validation_generator,\n",
    "                    epochs=40,\n",
    "                    workers=8, \n",
    "                    shuffle=True,\n",
    "                    steps_per_epoch=STEP_SIZE_TRAIN,\n",
    "                    validation_steps=STEP_SIZE_VALID,\n",
    "                    callbacks=callbacks_list)"
   ]
  },
  {
   "cell_type": "code",
   "execution_count": null,
   "metadata": {},
   "outputs": [],
   "source": [
    "model2 = createResNetV1()\n",
    "\n",
    "model2.load_weights(filepath)\n",
    "model2.compile(loss='categorical_crossentropy',\n",
    "              optimize='adam',\n",
    "              metrics=['accuracy'])"
   ]
  },
  {
   "cell_type": "code",
   "execution_count": null,
   "metadata": {},
   "outputs": [],
   "source": [
    "predicts = model2.predict(validation_x)\n",
    "\n",
    "predout = np.argmax(predicts, axis=1)\n",
    "testout = np.argmax(validation_y, axis=1)\n",
    "\n",
    "labelname = ['food', 'landmark', 'people']\n",
    "\n",
    "testScore = metrics.accruacy_score(testout, predout)\n",
    "confusion = metrics.confusion_matrix(testout, predout)\n"
   ]
  },
  {
   "cell_type": "code",
   "execution_count": 0,
   "metadata": {
    "colab": {
     "base_uri": "https://localhost:8080/",
     "height": 281
    },
    "colab_type": "code",
    "id": "LMI6xLaieB-j",
    "outputId": "67a00101-b09d-4f35-de30-dbeab8ce1a9a"
   },
   "outputs": [
    {
     "data": {
      "image/png": "[encoded data removed]",
      "text/plain": [
       "<Figure size 432x288 with 2 Axes>"
      ]
     },
     "metadata": {
      "tags": []
     },
     "output_type": "display_data"
    }
   ],
   "source": [
    "records     = pd.read_csv(modelname +'.csv')\n",
    "plt.figure()\n",
    "plt.subplot(211)\n",
    "plt.plot(records['val_loss'])\n",
    "plt.plot(records['loss'])\n",
    "plt.yticks([0.00,0.40,0.60,0.80])\n",
    "plt.title('Loss value',fontsize=12)\n",
    "\n",
    "ax          = plt.gca()\n",
    "ax.set_xticklabels([])\n",
    "\n",
    "\n",
    "\n",
    "plt.subplot(212)\n",
    "plt.plot(records['val_acc'])\n",
    "plt.plot(records['acc'])\n",
    "plt.yticks([0.6,0.7,0.8,0.9])\n",
    "plt.title('Accuracy',fontsize=12)\n",
    "plt.show()"
   ]
  }
 ],
 "metadata": {
  "accelerator": "GPU",
  "colab": {
   "collapsed_sections": [],
   "name": "v2.1 Image Classifier",
   "provenance": [],
   "toc_visible": true
  },
  "kernelspec": {
   "display_name": "Python 3",
   "language": "python",
   "name": "python3"
  },
  "language_info": {
   "codemirror_mode": {
    "name": "ipython",
    "version": 3
   },
   "file_extension": ".py",
   "mimetype": "text/x-python",
   "name": "python",
   "nbconvert_exporter": "python",
   "pygments_lexer": "ipython3",
   "version": "3.7.3"
  }
 },
 "nbformat": 4,
 "nbformat_minor": 1
}
