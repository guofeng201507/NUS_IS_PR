{
 "cells": [
  {
   "cell_type": "markdown",
   "metadata": {
    "toc": true
   },
   "source": [
    "<h1>Table of Contents<span class=\"tocSkip\"></span></h1>\n",
    "<div class=\"toc\"><ul class=\"toc-item\"><li><span><a href=\"#Setup-Model\" data-toc-modified-id=\"Setup-Model-1\"><span class=\"toc-item-num\">1&nbsp;&nbsp;</span>Setup Model</a></span><ul class=\"toc-item\"><li><span><a href=\"#Fina-Tune-Model\" data-toc-modified-id=\"Fina-Tune-Model-1.1\"><span class=\"toc-item-num\">1.1&nbsp;&nbsp;</span>Fina Tune Model</a></span></li><li><span><a href=\"#Create-Image-Data-Generator\" data-toc-modified-id=\"Create-Image-Data-Generator-1.2\"><span class=\"toc-item-num\">1.2&nbsp;&nbsp;</span>Create Image Data Generator</a></span></li></ul></li><li><span><a href=\"#Train-Model\" data-toc-modified-id=\"Train-Model-2\"><span class=\"toc-item-num\">2&nbsp;&nbsp;</span>Train Model</a></span></li><li><span><a href=\"#Model-Evaluation\" data-toc-modified-id=\"Model-Evaluation-3\"><span class=\"toc-item-num\">3&nbsp;&nbsp;</span>Model Evaluation</a></span><ul class=\"toc-item\"><li><span><a href=\"#Comparison-between-Training-and-Validation-Dataset-for-Accuracy-and-Loss\" data-toc-modified-id=\"Comparison-between-Training-and-Validation-Dataset-for-Accuracy-and-Loss-3.1\"><span class=\"toc-item-num\">3.1&nbsp;&nbsp;</span>Comparison between Training and Validation Dataset for Accuracy and Loss</a></span><ul class=\"toc-item\"><li><span><a href=\"#Confusion-Matrix\" data-toc-modified-id=\"Confusion-Matrix-3.1.1\"><span class=\"toc-item-num\">3.1.1&nbsp;&nbsp;</span>Confusion Matrix</a></span></li></ul></li><li><span><a href=\"#Classification-Report\" data-toc-modified-id=\"Classification-Report-3.2\"><span class=\"toc-item-num\">3.2&nbsp;&nbsp;</span>Classification Report</a></span></li></ul></li><li><span><a href=\"#Plot-Model\" data-toc-modified-id=\"Plot-Model-4\"><span class=\"toc-item-num\">4&nbsp;&nbsp;</span>Plot Model</a></span></li></ul></div>"
   ]
  },
  {
   "cell_type": "code",
   "execution_count": 2,
   "metadata": {
    "ExecuteTime": {
     "end_time": "2019-09-29T15:44:13.710616Z",
     "start_time": "2019-09-29T15:44:13.702782Z"
    },
    "colab": {
     "base_uri": "https://localhost:8080/",
     "height": 51
    },
    "colab_type": "code",
    "id": "eEEoD0_N6kad",
    "outputId": "d1782d5c-ce0f-4ea0-81bd-23f28daaf39a",
    "pycharm": {
     "is_executing": false
    }
   },
   "outputs": [],
   "source": [
    "import numpy as np\n",
    "import sklearn.metrics as metrics\n",
    "import matplotlib.pyplot as plt\n",
    "import os\n",
    "from datetime import datetime\n",
    "\n",
    "\n",
    "from sklearn.metrics import classification_report, confusion_matrix\n",
    "\n",
    "from tensorflow.keras.callbacks import ModelCheckpoint,CSVLogger,LearningRateScheduler\n",
    "from tensorflow.keras.models import Sequential\n",
    "from tensorflow.keras.models import Model\n",
    "from tensorflow.keras.layers import Input\n",
    "from tensorflow.keras.layers import Dense\n",
    "from tensorflow.keras.layers import Flatten\n",
    "from tensorflow.keras.layers import Conv2D\n",
    "from tensorflow.keras.layers import BatchNormalization\n",
    "from tensorflow.keras.layers import Activation\n",
    "from tensorflow.keras.layers import AveragePooling2D\n",
    "from tensorflow.keras.layers import add\n",
    "from tensorflow.keras.regularizers import l2\n",
    "from tensorflow.keras.utils import to_categorical\n",
    "from tensorflow.keras.datasets import cifar10\n",
    "from tensorflow.keras import optimizers\n",
    "from tensorflow.keras.preprocessing.image import ImageDataGenerator\n",
    "from tensorflow.keras.models import Sequential\n",
    "from tensorflow.keras.layers import Dropout\n",
    "from tensorflow.keras.layers import MaxPooling2D\n",
    "\n",
    "#data location path\n",
    "PROJECT_DIR = r\"D:\\CA2_Data\"\n",
    "\n",
    "TRAIN_DIR = os.path.join(PROJECT_DIR, \"Train\")\n",
    "VALIDATION_DIR = os.path.join(PROJECT_DIR, \"Validation\")\n",
    "LOG_DIR = os.path.join(PROJECT_DIR, \"Log\")\n",
    "TIMESTAMP = \"{0:%Y-%m-%dT%H-%M-%S/}\".format(datetime.now())\n",
    "\n",
    "seed        = 29\n",
    "np.random.seed(seed)"
   ]
  },
  {
   "cell_type": "code",
   "execution_count": 3,
   "metadata": {
    "ExecuteTime": {
     "end_time": "2019-09-29T15:44:13.722404Z",
     "start_time": "2019-09-29T15:44:13.712698Z"
    },
    "colab": {
     "base_uri": "https://localhost:8080/",
     "height": 51
    },
    "colab_type": "code",
    "id": "Q8FIJ1jWn_YP",
    "outputId": "e9c08324-a5ff-4cbb-c31f-cf8738023509"
   },
   "outputs": [
    {
     "name": "stdout",
     "output_type": "stream",
     "text": [
      "Training images:  2423\n",
      "Validation images:  724\n"
     ]
    }
   ],
   "source": [
    "train_file_count = sum([len(files) for r, d, files in os.walk(TRAIN_DIR)])\n",
    "test_file_count = sum([len(files) for r, d, files in os.walk(VALIDATION_DIR)])\n",
    "print(\"Training images: \", train_file_count)\n",
    "print(\"Validation images: \", test_file_count)"
   ]
  },
  {
   "cell_type": "markdown",
   "metadata": {
    "colab_type": "text",
    "id": "xhI75LTt6g-o"
   },
   "source": [
    "# Setup Model"
   ]
  },
  {
   "cell_type": "code",
   "execution_count": 4,
   "metadata": {
    "ExecuteTime": {
     "end_time": "2019-09-29T15:44:13.841092Z",
     "start_time": "2019-09-29T15:44:13.836998Z"
    },
    "colab": {},
    "colab_type": "code",
    "id": "9L_u9TLSnjSB"
   },
   "outputs": [],
   "source": [
    "img_rows = 64\n",
    "img_cols = 64\n",
    "epochs = 80\n",
    "batch_size = 32\n",
    "\n",
    "optmz       = optimizers.Adam(lr=0.001)\n",
    "modelname   = 'Model_CNN' \n",
    "\n",
    "LOG_DIR = os.path.join(PROJECT_DIR, modelname)"
   ]
  },
  {
   "cell_type": "code",
   "execution_count": 5,
   "metadata": {
    "ExecuteTime": {
     "end_time": "2019-09-29T15:44:14.217289Z",
     "start_time": "2019-09-29T15:44:13.843046Z"
    },
    "colab": {},
    "colab_type": "code",
    "id": "dqZ3U_N6ojzf"
   },
   "outputs": [
    {
     "name": "stderr",
     "output_type": "stream",
     "text": [
      "WARNING: Logging before flag parsing goes to stderr.\n",
      "W0930 20:28:42.460091 13656 deprecation.py:506] From c:\\users\\guofe\\workspace\\nus_is_pr\\venv\\lib\\site-packages\\tensorflow\\python\\ops\\init_ops.py:1251: calling VarianceScaling.__init__ (from tensorflow.python.ops.init_ops) with dtype is deprecated and will be removed in a future version.\n",
      "Instructions for updating:\n",
      "Call initializer instance with the dtype argument instead of passing it to the constructor\n"
     ]
    },
    {
     "name": "stdout",
     "output_type": "stream",
     "text": [
      "Model: \"sequential\"\n",
      "_________________________________________________________________\n",
      "Layer (type)                 Output Shape              Param #   \n",
      "=================================================================\n",
      "conv2d (Conv2D)              (None, 64, 64, 32)        896       \n",
      "_________________________________________________________________\n",
      "max_pooling2d (MaxPooling2D) (None, 32, 32, 32)        0         \n",
      "_________________________________________________________________\n",
      "conv2d_1 (Conv2D)            (None, 32, 32, 48)        13872     \n",
      "_________________________________________________________________\n",
      "max_pooling2d_1 (MaxPooling2 (None, 16, 16, 48)        0         \n",
      "_________________________________________________________________\n",
      "conv2d_2 (Conv2D)            (None, 16, 16, 64)        27712     \n",
      "_________________________________________________________________\n",
      "max_pooling2d_2 (MaxPooling2 (None, 8, 8, 64)          0         \n",
      "_________________________________________________________________\n",
      "conv2d_3 (Conv2D)            (None, 8, 8, 96)          55392     \n",
      "_________________________________________________________________\n",
      "max_pooling2d_3 (MaxPooling2 (None, 4, 4, 96)          0         \n",
      "_________________________________________________________________\n",
      "conv2d_4 (Conv2D)            (None, 4, 4, 128)         110720    \n",
      "_________________________________________________________________\n",
      "max_pooling2d_4 (MaxPooling2 (None, 2, 2, 128)         0         \n",
      "_________________________________________________________________\n",
      "flatten (Flatten)            (None, 512)               0         \n",
      "_________________________________________________________________\n",
      "dense (Dense)                (None, 128)               65664     \n",
      "_________________________________________________________________\n",
      "dense_1 (Dense)              (None, 3)                 387       \n",
      "=================================================================\n",
      "Total params: 274,643\n",
      "Trainable params: 274,643\n",
      "Non-trainable params: 0\n",
      "_________________________________________________________________\n"
     ]
    }
   ],
   "source": [
    "# set up model\n",
    "def createModel():\n",
    "    model = Sequential()\n",
    "    model.add(Conv2D(32,(3,3),\n",
    "                     input_shape=(img_rows,img_cols,3),\n",
    "                     padding='same',\n",
    "                     activation='relu'))\n",
    "    model.add(MaxPooling2D(pool_size=(2,2)))\n",
    "    model.add(Conv2D(48,(3,3),padding='same',activation='relu'))\n",
    "    model.add(MaxPooling2D(pool_size=(2,2)))\n",
    "    model.add(Conv2D(64,(3,3),padding='same',activation='relu'))\n",
    "    model.add(MaxPooling2D(pool_size=(2,2)))\n",
    "    model.add(Conv2D(96,(3,3),padding='same',activation='relu'))\n",
    "    model.add(MaxPooling2D(pool_size=(2,2)))\n",
    "    model.add(Conv2D(128,(3,3),padding='same',activation='relu'))\n",
    "    model.add(MaxPooling2D(pool_size=(2,2)))\n",
    "    model.add(Flatten())\n",
    "    model.add(Dense(128,activation='relu'))\n",
    "    model.add(Dense(3,activation='softmax'))\n",
    "\n",
    "    model.compile(loss='categorical_crossentropy',\n",
    "                  optimizer=optmz,\n",
    "                  metrics=['accuracy'])\n",
    "\n",
    "    return model\n",
    "\n",
    "model       = createModel()  # This is meant for training\n",
    "modelGo     = createModel()  # This is used for final testing\n",
    "\n",
    "model.summary()"
   ]
  },
  {
   "cell_type": "markdown",
   "metadata": {
    "colab_type": "text",
    "id": "sJEez0wdp3ce"
   },
   "source": [
    "## Fina Tune Model"
   ]
  },
  {
   "cell_type": "code",
   "execution_count": 6,
   "metadata": {
    "ExecuteTime": {
     "end_time": "2019-09-29T15:44:14.222824Z",
     "start_time": "2019-09-29T15:44:14.219147Z"
    },
    "colab": {},
    "colab_type": "code",
    "id": "HM9lFk3bLfY5"
   },
   "outputs": [],
   "source": [
    "# Create checkpoint for the training\n",
    "filepath        = os.path.join(PROJECT_DIR, modelname + \".hdf5\")\n",
    "checkpoint      = ModelCheckpoint(filepath, \n",
    "                                  monitor='val_acc', \n",
    "                                  verbose=0, \n",
    "                                  save_best_only=True, \n",
    "                                  mode='max')\n",
    "\n",
    "# Log the epoch detail into csv\n",
    "csv_logger      = CSVLogger(os.path.join(PROJECT_DIR,  modelname +'.csv'))\n",
    "callbacks_list  = [checkpoint,csv_logger]"
   ]
  },
  {
   "cell_type": "markdown",
   "metadata": {
    "colab_type": "text",
    "id": "XVjF4lq3pF32"
   },
   "source": [
    "## Create Image Data Generator"
   ]
  },
  {
   "cell_type": "code",
   "execution_count": 7,
   "metadata": {
    "ExecuteTime": {
     "end_time": "2019-09-29T15:44:14.442059Z",
     "start_time": "2019-09-29T15:44:14.224370Z"
    },
    "colab": {
     "base_uri": "https://localhost:8080/",
     "height": 51
    },
    "colab_type": "code",
    "id": "LZQsYb2RpK5D",
    "outputId": "fc4f4d0a-ab79-4254-d072-f05e6d9c62a5"
   },
   "outputs": [
    {
     "name": "stdout",
     "output_type": "stream",
     "text": [
      "Found 2423 images belonging to 3 classes.\n",
      "Found 724 images belonging to 3 classes.\n"
     ]
    }
   ],
   "source": [
    "train_datagen = ImageDataGenerator()\n",
    "validation_datagen = ImageDataGenerator()\n",
    "\n",
    "train_generator = train_datagen.flow_from_directory(TRAIN_DIR,\n",
    "                                                    target_size=(img_rows, img_cols),\n",
    "                                                    batch_size=batch_size)\n",
    "\n",
    "validation_generator = validation_datagen.flow_from_directory(VALIDATION_DIR,\n",
    "                                                        target_size=(img_rows, img_cols), \n",
    "                                                        batch_size=batch_size, shuffle=False)"
   ]
  },
  {
   "cell_type": "markdown",
   "metadata": {
    "colab_type": "text",
    "id": "mrD7LSXppBu8"
   },
   "source": [
    "# Train Model"
   ]
  },
  {
   "cell_type": "code",
   "execution_count": 8,
   "metadata": {
    "ExecuteTime": {
     "end_time": "2019-09-29T15:45:46.620030Z",
     "start_time": "2019-09-29T15:44:14.443902Z"
    },
    "colab": {
     "base_uri": "https://localhost:8080/",
     "height": 1000
    },
    "colab_type": "code",
    "id": "a7o3O_ceYRrM",
    "outputId": "277169f2-c842-4944-a0e8-e4c8339b5be5"
   },
   "outputs": [
    {
     "name": "stdout",
     "output_type": "stream",
     "text": [
      "Epoch 1/80\n",
      "75/75 [==============================] - 17s 227ms/step - loss: 2.4750 - acc: 0.6144 - val_loss: 0.6845 - val_acc: 0.6974\n",
      "Epoch 2/80\n",
      "75/75 [==============================] - 2s 24ms/step - loss: 0.5947 - acc: 0.7541 - val_loss: 0.6522 - val_acc: 0.7273\n",
      "Epoch 3/80\n",
      "75/75 [==============================] - 2s 26ms/step - loss: 0.5449 - acc: 0.7788 - val_loss: 0.5623 - val_acc: 0.7756\n",
      "Epoch 4/80\n",
      "75/75 [==============================] - 2s 26ms/step - loss: 0.4197 - acc: 0.8411 - val_loss: 0.4800 - val_acc: 0.8196\n",
      "Epoch 5/80\n",
      "75/75 [==============================] - 2s 23ms/step - loss: 0.3477 - acc: 0.8649 - val_loss: 0.4474 - val_acc: 0.8438\n",
      "Epoch 6/80\n",
      "75/75 [==============================] - 2s 24ms/step - loss: 0.2955 - acc: 0.8846 - val_loss: 0.5085 - val_acc: 0.8125\n",
      "Epoch 7/80\n",
      "75/75 [==============================] - 2s 26ms/step - loss: 0.2330 - acc: 0.9096 - val_loss: 0.4887 - val_acc: 0.8466\n",
      "Epoch 8/80\n",
      "75/75 [==============================] - 2s 23ms/step - loss: 0.1509 - acc: 0.9454 - val_loss: 0.6979 - val_acc: 0.7770\n",
      "Epoch 9/80\n",
      "75/75 [==============================] - 2s 21ms/step - loss: 0.2150 - acc: 0.9168 - val_loss: 0.5118 - val_acc: 0.8438\n",
      "Epoch 10/80\n",
      "75/75 [==============================] - 2s 22ms/step - loss: 0.1369 - acc: 0.9469 - val_loss: 0.7365 - val_acc: 0.7855\n",
      "Epoch 11/80\n",
      "75/75 [==============================] - 2s 21ms/step - loss: 0.0529 - acc: 0.9837 - val_loss: 0.6751 - val_acc: 0.8281\n",
      "Epoch 12/80\n",
      "75/75 [==============================] - 2s 21ms/step - loss: 0.0501 - acc: 0.9833 - val_loss: 0.6576 - val_acc: 0.8409\n",
      "Epoch 13/80\n",
      "75/75 [==============================] - 2s 22ms/step - loss: 0.0599 - acc: 0.9770 - val_loss: 0.7568 - val_acc: 0.8281\n",
      "Epoch 14/80\n",
      "75/75 [==============================] - 2s 23ms/step - loss: 0.1104 - acc: 0.9582 - val_loss: 0.7947 - val_acc: 0.8239\n",
      "Epoch 15/80\n",
      "75/75 [==============================] - 2s 23ms/step - loss: 0.1733 - acc: 0.9385 - val_loss: 0.7700 - val_acc: 0.8267\n",
      "Epoch 16/80\n",
      "75/75 [==============================] - 2s 24ms/step - loss: 0.1429 - acc: 0.9502 - val_loss: 0.6352 - val_acc: 0.8281\n",
      "Epoch 17/80\n",
      "75/75 [==============================] - 2s 27ms/step - loss: 0.0931 - acc: 0.9682 - val_loss: 0.8274 - val_acc: 0.8480\n",
      "Epoch 18/80\n",
      "75/75 [==============================] - 2s 23ms/step - loss: 0.0420 - acc: 0.9854 - val_loss: 0.7974 - val_acc: 0.8324\n",
      "Epoch 19/80\n",
      "75/75 [==============================] - 2s 25ms/step - loss: 0.0292 - acc: 0.9916 - val_loss: 0.9636 - val_acc: 0.8210\n",
      "Epoch 20/80\n",
      "75/75 [==============================] - 2s 23ms/step - loss: 0.0789 - acc: 0.9732 - val_loss: 0.9931 - val_acc: 0.7841\n",
      "Epoch 21/80\n",
      "75/75 [==============================] - 2s 22ms/step - loss: 0.1119 - acc: 0.9590 - val_loss: 0.8473 - val_acc: 0.8125\n",
      "Epoch 22/80\n",
      "75/75 [==============================] - 2s 23ms/step - loss: 0.0385 - acc: 0.9879 - val_loss: 0.9890 - val_acc: 0.8168\n",
      "Epoch 23/80\n",
      "75/75 [==============================] - 2s 24ms/step - loss: 0.0192 - acc: 0.9958 - val_loss: 0.9724 - val_acc: 0.8281\n",
      "Epoch 24/80\n",
      "75/75 [==============================] - 2s 21ms/step - loss: 0.0171 - acc: 0.9929 - val_loss: 1.0893 - val_acc: 0.8210\n",
      "Epoch 25/80\n",
      "75/75 [==============================] - 2s 24ms/step - loss: 0.0674 - acc: 0.9774 - val_loss: 1.1689 - val_acc: 0.7585\n",
      "Epoch 26/80\n",
      "75/75 [==============================] - 2s 22ms/step - loss: 0.1882 - acc: 0.9348 - val_loss: 0.6865 - val_acc: 0.8366\n",
      "Epoch 27/80\n",
      "75/75 [==============================] - 2s 24ms/step - loss: 0.0597 - acc: 0.9774 - val_loss: 0.7258 - val_acc: 0.8423\n",
      "Epoch 28/80\n",
      "75/75 [==============================] - 2s 27ms/step - loss: 0.0150 - acc: 0.9958 - val_loss: 0.8249 - val_acc: 0.8636\n",
      "Epoch 29/80\n",
      "75/75 [==============================] - 2s 24ms/step - loss: 0.0128 - acc: 0.9954 - val_loss: 0.9529 - val_acc: 0.8523\n",
      "Epoch 30/80\n",
      "75/75 [==============================] - 2s 24ms/step - loss: 0.0551 - acc: 0.9803 - val_loss: 1.3162 - val_acc: 0.8082\n",
      "Epoch 31/80\n",
      "75/75 [==============================] - 2s 22ms/step - loss: 0.1308 - acc: 0.9575 - val_loss: 0.7763 - val_acc: 0.8253\n",
      "Epoch 32/80\n",
      "75/75 [==============================] - 2s 22ms/step - loss: 0.0807 - acc: 0.9699 - val_loss: 1.0245 - val_acc: 0.7898\n",
      "Epoch 33/80\n",
      "75/75 [==============================] - 2s 23ms/step - loss: 0.0179 - acc: 0.9950 - val_loss: 1.1553 - val_acc: 0.8423\n",
      "Epoch 34/80\n",
      "75/75 [==============================] - 2s 24ms/step - loss: 0.0078 - acc: 0.9979 - val_loss: 1.0708 - val_acc: 0.8480\n",
      "Epoch 35/80\n",
      "75/75 [==============================] - 2s 23ms/step - loss: 0.0038 - acc: 0.9987 - val_loss: 1.0840 - val_acc: 0.8366\n",
      "Epoch 36/80\n",
      "75/75 [==============================] - 2s 23ms/step - loss: 4.9551e-04 - acc: 1.0000 - val_loss: 1.0904 - val_acc: 0.8509\n",
      "Epoch 37/80\n",
      "75/75 [==============================] - 2s 23ms/step - loss: 0.0014 - acc: 1.0000 - val_loss: 1.1848 - val_acc: 0.8423\n",
      "Epoch 38/80\n",
      "75/75 [==============================] - 2s 23ms/step - loss: 3.3356e-04 - acc: 1.0000 - val_loss: 1.1952 - val_acc: 0.8438\n",
      "Epoch 39/80\n",
      "75/75 [==============================] - 2s 24ms/step - loss: 1.0522e-04 - acc: 1.0000 - val_loss: 1.2073 - val_acc: 0.8438\n",
      "Epoch 40/80\n",
      "75/75 [==============================] - 2s 23ms/step - loss: 6.8408e-05 - acc: 1.0000 - val_loss: 1.2166 - val_acc: 0.8438\n",
      "Epoch 41/80\n",
      "75/75 [==============================] - 2s 24ms/step - loss: 6.1162e-05 - acc: 1.0000 - val_loss: 1.2273 - val_acc: 0.8423\n",
      "Epoch 42/80\n",
      "75/75 [==============================] - 2s 24ms/step - loss: 4.7004e-05 - acc: 1.0000 - val_loss: 1.2344 - val_acc: 0.8423\n",
      "Epoch 43/80\n",
      "75/75 [==============================] - 2s 23ms/step - loss: 4.1308e-05 - acc: 1.0000 - val_loss: 1.2404 - val_acc: 0.8423\n",
      "Epoch 44/80\n",
      "75/75 [==============================] - 2s 24ms/step - loss: 3.8283e-05 - acc: 1.0000 - val_loss: 1.2472 - val_acc: 0.8452\n",
      "Epoch 45/80\n",
      "75/75 [==============================] - 2s 24ms/step - loss: 3.3764e-05 - acc: 1.0000 - val_loss: 1.2534 - val_acc: 0.8438\n",
      "Epoch 46/80\n",
      "75/75 [==============================] - 2s 23ms/step - loss: 3.0413e-05 - acc: 1.0000 - val_loss: 1.2585 - val_acc: 0.8438\n",
      "Epoch 47/80\n",
      "75/75 [==============================] - 2s 24ms/step - loss: 2.9440e-05 - acc: 1.0000 - val_loss: 1.2648 - val_acc: 0.8438\n",
      "Epoch 48/80\n",
      "75/75 [==============================] - 2s 24ms/step - loss: 2.4904e-05 - acc: 1.0000 - val_loss: 1.2709 - val_acc: 0.8438\n",
      "Epoch 49/80\n",
      "75/75 [==============================] - 2s 24ms/step - loss: 2.7066e-05 - acc: 1.0000 - val_loss: 1.2756 - val_acc: 0.8438\n",
      "Epoch 50/80\n",
      "75/75 [==============================] - 2s 23ms/step - loss: 1.9616e-05 - acc: 1.0000 - val_loss: 1.2799 - val_acc: 0.8438\n",
      "Epoch 51/80\n",
      "75/75 [==============================] - 2s 24ms/step - loss: 2.1652e-05 - acc: 1.0000 - val_loss: 1.2857 - val_acc: 0.8438\n",
      "Epoch 52/80\n",
      "75/75 [==============================] - 2s 24ms/step - loss: 2.0326e-05 - acc: 1.0000 - val_loss: 1.2899 - val_acc: 0.8466\n",
      "Epoch 53/80\n",
      "75/75 [==============================] - 2s 25ms/step - loss: 1.8430e-05 - acc: 1.0000 - val_loss: 1.2947 - val_acc: 0.8466\n",
      "Epoch 54/80\n",
      "75/75 [==============================] - 2s 24ms/step - loss: 1.7514e-05 - acc: 1.0000 - val_loss: 1.3004 - val_acc: 0.8466\n",
      "Epoch 55/80\n",
      "75/75 [==============================] - 2s 24ms/step - loss: 1.5870e-05 - acc: 1.0000 - val_loss: 1.3033 - val_acc: 0.8466\n",
      "Epoch 56/80\n",
      "75/75 [==============================] - 2s 24ms/step - loss: 1.5298e-05 - acc: 1.0000 - val_loss: 1.3073 - val_acc: 0.8466\n",
      "Epoch 57/80\n",
      "75/75 [==============================] - 2s 25ms/step - loss: 1.4308e-05 - acc: 1.0000 - val_loss: 1.3123 - val_acc: 0.8466\n",
      "Epoch 58/80\n",
      "75/75 [==============================] - 2s 24ms/step - loss: 1.2738e-05 - acc: 1.0000 - val_loss: 1.3167 - val_acc: 0.8466\n",
      "Epoch 59/80\n",
      "75/75 [==============================] - 2s 24ms/step - loss: 1.3810e-05 - acc: 1.0000 - val_loss: 1.3210 - val_acc: 0.8466\n",
      "Epoch 60/80\n",
      "75/75 [==============================] - 2s 24ms/step - loss: 1.1218e-05 - acc: 1.0000 - val_loss: 1.3253 - val_acc: 0.8480\n",
      "Epoch 61/80\n",
      "75/75 [==============================] - 2s 23ms/step - loss: 1.2439e-05 - acc: 1.0000 - val_loss: 1.3296 - val_acc: 0.8480\n",
      "Epoch 62/80\n"
     ]
    },
    {
     "name": "stdout",
     "output_type": "stream",
     "text": [
      "75/75 [==============================] - 2s 24ms/step - loss: 1.0749e-05 - acc: 1.0000 - val_loss: 1.3330 - val_acc: 0.8480\n",
      "Epoch 63/80\n",
      "75/75 [==============================] - 2s 24ms/step - loss: 1.0311e-05 - acc: 1.0000 - val_loss: 1.3376 - val_acc: 0.84940s - loss: 1.1130e-05 - acc: 1\n",
      "Epoch 64/80\n",
      "75/75 [==============================] - 2s 23ms/step - loss: 9.6582e-06 - acc: 1.0000 - val_loss: 1.3419 - val_acc: 0.8494\n",
      "Epoch 65/80\n",
      "75/75 [==============================] - 2s 24ms/step - loss: 9.8854e-06 - acc: 1.0000 - val_loss: 1.3465 - val_acc: 0.8494\n",
      "Epoch 66/80\n",
      "75/75 [==============================] - 2s 24ms/step - loss: 8.7214e-06 - acc: 1.0000 - val_loss: 1.3500 - val_acc: 0.8494\n",
      "Epoch 67/80\n",
      "75/75 [==============================] - 2s 24ms/step - loss: 8.2968e-06 - acc: 1.0000 - val_loss: 1.3540 - val_acc: 0.8494\n",
      "Epoch 68/80\n",
      "75/75 [==============================] - 2s 24ms/step - loss: 7.8462e-06 - acc: 1.0000 - val_loss: 1.3580 - val_acc: 0.8494\n",
      "Epoch 69/80\n",
      "75/75 [==============================] - 2s 24ms/step - loss: 8.3158e-06 - acc: 1.0000 - val_loss: 1.3616 - val_acc: 0.8494\n",
      "Epoch 70/80\n",
      "75/75 [==============================] - 2s 24ms/step - loss: 6.5950e-06 - acc: 1.0000 - val_loss: 1.3653 - val_acc: 0.8494\n",
      "Epoch 71/80\n",
      "75/75 [==============================] - 2s 23ms/step - loss: 7.1674e-06 - acc: 1.0000 - val_loss: 1.3696 - val_acc: 0.8494\n",
      "Epoch 72/80\n",
      "75/75 [==============================] - 2s 23ms/step - loss: 6.6174e-06 - acc: 1.0000 - val_loss: 1.3733 - val_acc: 0.8494\n",
      "Epoch 73/80\n",
      "75/75 [==============================] - 2s 24ms/step - loss: 6.3762e-06 - acc: 1.0000 - val_loss: 1.3772 - val_acc: 0.8494\n",
      "Epoch 74/80\n",
      "75/75 [==============================] - 2s 24ms/step - loss: 5.9094e-06 - acc: 1.0000 - val_loss: 1.3809 - val_acc: 0.8494\n",
      "Epoch 75/80\n",
      "75/75 [==============================] - 2s 24ms/step - loss: 5.8265e-06 - acc: 1.0000 - val_loss: 1.3843 - val_acc: 0.8494\n",
      "Epoch 76/80\n",
      "75/75 [==============================] - 2s 23ms/step - loss: 5.4695e-06 - acc: 1.0000 - val_loss: 1.3888 - val_acc: 0.8494\n",
      "Epoch 77/80\n",
      "75/75 [==============================] - 2s 21ms/step - loss: 5.2323e-06 - acc: 1.0000 - val_loss: 1.3922 - val_acc: 0.8494\n",
      "Epoch 78/80\n",
      "75/75 [==============================] - 2s 23ms/step - loss: 5.0151e-06 - acc: 1.0000 - val_loss: 1.3955 - val_acc: 0.8494\n",
      "Epoch 79/80\n",
      "75/75 [==============================] - 2s 23ms/step - loss: 4.7009e-06 - acc: 1.0000 - val_loss: 1.3992 - val_acc: 0.8494\n",
      "Epoch 80/80\n",
      "75/75 [==============================] - 2s 23ms/step - loss: 4.6552e-06 - acc: 1.0000 - val_loss: 1.4022 - val_acc: 0.8509\n"
     ]
    }
   ],
   "source": [
    "history = model.fit_generator(train_generator,\n",
    "                    validation_data=validation_generator,\n",
    "                    epochs=epochs, \n",
    "                    verbose=1,\n",
    "                    workers=8,\n",
    "                    steps_per_epoch=train_generator.n//batch_size,\n",
    "                    validation_steps=validation_generator.n//batch_size,\n",
    "                    callbacks=callbacks_list)"
   ]
  },
  {
   "cell_type": "markdown",
   "metadata": {
    "colab_type": "text",
    "id": "z8MwmIzf2L0f"
   },
   "source": [
    "# Model Evaluation"
   ]
  },
  {
   "cell_type": "markdown",
   "metadata": {},
   "source": [
    "## Comparison between Training and Validation Dataset for Accuracy and Loss"
   ]
  },
  {
   "cell_type": "code",
   "execution_count": 9,
   "metadata": {
    "ExecuteTime": {
     "end_time": "2019-09-29T15:45:46.623587Z",
     "start_time": "2019-09-29T15:44:14.461Z"
    }
   },
   "outputs": [
    {
     "name": "stdout",
     "output_type": "stream",
     "text": [
      "23/23 [==============================] - 0s 18ms/step\n",
      "Best accuracy (on testing dataset): 85.22%\n"
     ]
    }
   ],
   "source": [
    "Y_pred = model.predict_generator(validation_generator, workers=12, verbose=1)\n",
    "y_pred = np.argmax(Y_pred, axis=1)\n",
    "\n",
    "y_label = validation_generator.classes\n",
    "finalScore = metrics.accuracy_score(y_label, y_pred)\n",
    "print(\"Best accuracy (on testing dataset): %.2f%%\" % (finalScore*100))"
   ]
  },
  {
   "cell_type": "code",
   "execution_count": 10,
   "metadata": {
    "ExecuteTime": {
     "end_time": "2019-09-29T15:45:46.625579Z",
     "start_time": "2019-09-29T15:44:14.463Z"
    },
    "colab": {
     "base_uri": "https://localhost:8080/",
     "height": 637
    },
    "colab_type": "code",
    "id": "fjwTYwmt0THo",
    "outputId": "b43c20eb-715c-4485-8ed5-1dac9de3ade8"
   },
   "outputs": [
    {
     "data": {
      "image/png": "[encoded data removed]",
      "text/plain": [
       "<Figure size 432x288 with 1 Axes>"
      ]
     },
     "metadata": {
      "needs_background": "light"
     },
     "output_type": "display_data"
    },
    {
     "data": {
      "image/png": "[encoded data removed]",
      "text/plain": [
       "<Figure size 432x288 with 1 Axes>"
      ]
     },
     "metadata": {
      "needs_background": "light"
     },
     "output_type": "display_data"
    }
   ],
   "source": [
    "plt.plot(history.history['acc'])\n",
    "plt.plot(history.history['val_acc'])\n",
    "plt.title('model accuracy')\n",
    "plt.ylabel('accuracy')\n",
    "plt.xlabel('epoch')\n",
    "plt.legend(['train', 'val'], loc='upper left')\n",
    "plt.show()\n",
    "\n",
    "plt.plot(history.history['loss'])\n",
    "plt.plot(history.history['val_loss'])\n",
    "plt.title('model loss')\n",
    "plt.ylabel('loss')\n",
    "plt.xlabel('epoch')\n",
    "plt.legend(['train', 'val'], loc='upper right')\n",
    "plt.show()"
   ]
  },
  {
   "cell_type": "markdown",
   "metadata": {
    "colab_type": "text",
    "id": "AHmPmWopo0Bs"
   },
   "source": [
    "### Confusion Matrix"
   ]
  },
  {
   "cell_type": "code",
   "execution_count": 11,
   "metadata": {
    "ExecuteTime": {
     "end_time": "2019-09-29T15:45:46.628017Z",
     "start_time": "2019-09-29T15:44:14.634Z"
    },
    "colab": {},
    "colab_type": "code",
    "id": "zRKbzE5kgQSP"
   },
   "outputs": [
    {
     "name": "stdout",
     "output_type": "stream",
     "text": [
      "23/23 [==============================] - 1s 52ms/step\n",
      "Confusion Matrix\n",
      "[[266  15  16]\n",
      " [ 19 180  19]\n",
      " [ 23  15 171]]\n"
     ]
    }
   ],
   "source": [
    "#Confution Matrix and Classification Report\n",
    "Y_pred = model.predict_generator(validation_generator, steps=np.math.ceil(validation_generator.samples/validation_generator.batch_size), verbose=1, workers=0)\n",
    "y_pred = np.argmax(Y_pred, axis=1)\n",
    "\n",
    "print('Confusion Matrix')\n",
    "print(confusion_matrix(validation_generator.classes, y_pred))"
   ]
  },
  {
   "cell_type": "markdown",
   "metadata": {},
   "source": [
    "## Classification Report"
   ]
  },
  {
   "cell_type": "code",
   "execution_count": 12,
   "metadata": {
    "ExecuteTime": {
     "end_time": "2019-09-29T15:45:46.630965Z",
     "start_time": "2019-09-29T15:44:14.795Z"
    }
   },
   "outputs": [
    {
     "name": "stdout",
     "output_type": "stream",
     "text": [
      "                 precision    recall  f1-score   support\n",
      "\n",
      "    food_resize       0.86      0.90      0.88       297\n",
      "landmark_resize       0.86      0.83      0.84       218\n",
      "  people_resize       0.83      0.82      0.82       209\n",
      "\n",
      "       accuracy                           0.85       724\n",
      "      macro avg       0.85      0.85      0.85       724\n",
      "   weighted avg       0.85      0.85      0.85       724\n",
      "\n"
     ]
    }
   ],
   "source": [
    "target_names = list(validation_generator.class_indices.keys())\n",
    "print(classification_report(validation_generator.classes, y_pred, target_names=target_names))"
   ]
  },
  {
   "cell_type": "markdown",
   "metadata": {
    "colab_type": "text",
    "id": "Q_-CRARV2Blh"
   },
   "source": [
    "# Plot Model"
   ]
  },
  {
   "cell_type": "code",
   "execution_count": null,
   "metadata": {
    "ExecuteTime": {
     "end_time": "2019-09-29T15:45:46.632269Z",
     "start_time": "2019-09-29T15:44:14.938Z"
    },
    "colab": {
     "base_uri": "https://localhost:8080/",
     "height": 1000
    },
    "colab_type": "code",
    "id": "fFLmAk4LL2kD",
    "outputId": "a63950da-7ec8-4162-8ac1-753d91eb9fa7"
   },
   "outputs": [],
   "source": [
    "from tensorflow.keras.utils import plot_model\n",
    "\n",
    "plot_model(model, \n",
    "           to_file=os.path.join(PROJECT_DIR, modelname+'_model.png'), \n",
    "           show_shapes=True, \n",
    "           show_layer_names=False,\n",
    "           rankdir='TB')"
   ]
  }
 ],
 "metadata": {
  "accelerator": "GPU",
  "colab": {
   "collapsed_sections": [
    "ANQKYaUxxcxj",
    "o0hHFxGvStKG",
    "Q_-CRARV2Blh"
   ],
   "name": "CA2 Test 2.ipynb",
   "provenance": []
  },
  "kernelspec": {
   "display_name": "Python 3",
   "language": "python",
   "name": "python3"
  },
  "language_info": {
   "codemirror_mode": {
    "name": "ipython",
    "version": 3
   },
   "file_extension": ".py",
   "mimetype": "text/x-python",
   "name": "python",
   "nbconvert_exporter": "python",
   "pygments_lexer": "ipython3",
   "version": "3.7.3"
  },
  "latex_envs": {
   "LaTeX_envs_menu_present": true,
   "autoclose": false,
   "autocomplete": true,
   "bibliofile": "biblio.bib",
   "cite_by": "apalike",
   "current_citInitial": 1,
   "eqLabelWithNumbers": true,
   "eqNumInitial": 1,
   "hotkeys": {
    "equation": "Ctrl-E",
    "itemize": "Ctrl-I"
   },
   "labels_anchors": false,
   "latex_user_defs": false,
   "report_style_numbering": false,
   "user_envs_cfg": false
  },
  "toc": {
   "base_numbering": 1,
   "nav_menu": {},
   "number_sections": true,
   "sideBar": true,
   "skip_h1_title": false,
   "title_cell": "Table of Contents",
   "title_sidebar": "Contents",
   "toc_cell": true,
   "toc_position": {},
   "toc_section_display": true,
   "toc_window_display": true
  },
  "varInspector": {
   "cols": {
    "lenName": 16,
    "lenType": 16,
    "lenVar": 40
   },
   "kernels_config": {
    "python": {
     "delete_cmd_postfix": "",
     "delete_cmd_prefix": "del ",
     "library": "var_list.py",
     "varRefreshCmd": "print(var_dic_list())"
    },
    "r": {
     "delete_cmd_postfix": ") ",
     "delete_cmd_prefix": "rm(",
     "library": "var_list.r",
     "varRefreshCmd": "cat(var_dic_list()) "
    }
   },
   "types_to_exclude": [
    "module",
    "function",
    "builtin_function_or_method",
    "instance",
    "_Feature"
   ],
   "window_display": false
  }
 },
 "nbformat": 4,
 "nbformat_minor": 4
}
