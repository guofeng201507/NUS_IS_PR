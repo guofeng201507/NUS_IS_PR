{
 "cells": [
  {
   "cell_type": "code",
   "execution_count": 20,
   "metadata": {
    "colab": {
     "base_uri": "https://localhost:8080/",
     "height": 51
    },
    "colab_type": "code",
    "id": "eEEoD0_N6kad",
    "outputId": "d1782d5c-ce0f-4ea0-81bd-23f28daaf39a"
   },
   "outputs": [],
   "source": [
    "import numpy as np\n",
    "import sklearn.metrics as metrics\n",
    "import matplotlib.pyplot as plt\n",
    "import os\n",
    "from datetime import datetime\n",
    "\n",
    "\n",
    "from sklearn.metrics import classification_report, confusion_matrix\n",
    "\n",
    "from tensorflow.keras.callbacks import ModelCheckpoint,CSVLogger,LearningRateScheduler\n",
    "from tensorflow.keras.models import Model\n",
    "from tensorflow.keras.layers import Input\n",
    "from tensorflow.keras.layers import Dense\n",
    "from tensorflow.keras.layers import Flatten\n",
    "from tensorflow.keras.layers import Conv2D\n",
    "from tensorflow.keras.layers import BatchNormalization\n",
    "from tensorflow.keras.layers import Activation\n",
    "from tensorflow.keras.layers import AveragePooling2D\n",
    "from tensorflow.keras.layers import add\n",
    "from tensorflow.keras.regularizers import l2\n",
    "from tensorflow.keras.utils import to_categorical\n",
    "from tensorflow.keras.datasets import cifar10\n",
    "from tensorflow.keras import optimizers\n",
    "from tensorflow.keras.preprocessing.image import ImageDataGenerator\n",
    "\n",
    "#data location path\n",
    "PROJECT_DIR = r\"D:\\CA2_Data\"\n",
    "\n",
    "TRAIN_DIR = os.path.join(PROJECT_DIR, \"Train\")\n",
    "VALIDATION_DIR = os.path.join(PROJECT_DIR, \"Validation\")\n",
    "LOG_DIR = os.path.join(PROJECT_DIR, \"Log\")\n",
    "TIMESTAMP = \"{0:%Y-%m-%dT%H-%M-%S/}\".format(datetime.now())\n",
    "\n",
    "seed        = 29\n",
    "np.random.seed(seed)"
   ]
  },
  {
   "cell_type": "code",
   "execution_count": 21,
   "metadata": {
    "colab": {
     "base_uri": "https://localhost:8080/",
     "height": 51
    },
    "colab_type": "code",
    "id": "Q8FIJ1jWn_YP",
    "outputId": "e9c08324-a5ff-4cbb-c31f-cf8738023509"
   },
   "outputs": [
    {
     "name": "stdout",
     "output_type": "stream",
     "text": [
      "Training images:  2423\n",
      "Validation images:  724\n"
     ]
    }
   ],
   "source": [
    "train_file_count = sum([len(files) for r, d, files in os.walk(TRAIN_DIR)])\n",
    "test_file_count = sum([len(files) for r, d, files in os.walk(VALIDATION_DIR)])\n",
    "print(\"Training images: \", train_file_count)\n",
    "print(\"Validation images: \", test_file_count)"
   ]
  },
  {
   "cell_type": "markdown",
   "metadata": {
    "colab_type": "text",
    "id": "xhI75LTt6g-o"
   },
   "source": [
    "# Setup Model"
   ]
  },
  {
   "cell_type": "code",
   "execution_count": 22,
   "metadata": {
    "colab": {},
    "colab_type": "code",
    "id": "PYsleaR_Kiuh"
   },
   "outputs": [],
   "source": [
    "# resLyr\n",
    "def resLyr(inputs,\n",
    "           numFilters=16,\n",
    "           kernelSz=3,\n",
    "           strides=1,\n",
    "           activation='relu',\n",
    "           batchNorm=True,\n",
    "           convFirst=True,\n",
    "           lyrName=None):\n",
    "    convLyr = Conv2D(numFilters,\n",
    "                       kernel_size=kernelSz,\n",
    "                       strides=strides,\n",
    "                       padding='same',\n",
    "                       kernel_initializer='he_normal',\n",
    "                       kernel_regularizer=l2(1e-4),\n",
    "                       name=lyrName+'_conv' if lyrName else None)\n",
    "    x = inputs\n",
    "    if convFirst:\n",
    "        x = convLyr(x)\n",
    "        if batchNorm:\n",
    "            x = BatchNormalization(name=lyrName+'_bn' if lyrName else None)(x)\n",
    "        if activation is not None:\n",
    "            x = Activation(activation,name=lyrName+'_'+activation if lyrName else None)(x)\n",
    "    else:\n",
    "        if batchNorm:\n",
    "            x = BatchNormalization(name=lyrName+'_bn' if lyrName else None)(x)\n",
    "        if activation is not None:\n",
    "            x = Activation(activation,name=lyrName+'_'+activation if lyrName else None)(x)\n",
    "        x = convLyr(x)\n",
    "\n",
    "    return x\n",
    "\n",
    "# resBlkV1\n",
    "def resBlkV1(inputs,\n",
    "             numFilters=16,\n",
    "             numBlocks=3,\n",
    "             downsampleOnFirst=True,\n",
    "             names=None):\n",
    "    x = inputs\n",
    "    \n",
    "    for run in range(0,numBlocks):\n",
    "        strides = 1\n",
    "        blkStr = str(run+1)\n",
    "\n",
    "        if downsampleOnFirst and run == 0:\n",
    "            strides = 2\n",
    "\n",
    "        y = resLyr(inputs=x,\n",
    "                   numFilters=numFilters,\n",
    "                   strides=strides,\n",
    "                   lyrName=names+'_Blk'+blkStr+'_Res1' if names else None)\n",
    "        y = resLyr(inputs=y,\n",
    "                   numFilters=numFilters,\n",
    "                   activation=None,\n",
    "                   lyrName=names+'_Blk'+blkStr+'_Res2' if names else None)\n",
    "        \n",
    "        if downsampleOnFirst and run == 0:\n",
    "            x = resLyr(inputs=x,\n",
    "                        numFilters=numFilters,\n",
    "                        kernelSz=1,\n",
    "                        strides=strides,\n",
    "                        activation=None,\n",
    "                        batchNorm=False,\n",
    "                        lyrName=names+'_Blk'+blkStr+'_lin' if names else None)\n",
    "            \n",
    "        x = add([x,y],name=names+'_Blk'+blkStr+'_add' if names else None)\n",
    "        x = Activation('relu',name=names+'_Blk'+blkStr+'_relu' if names else None)(x)\n",
    "\n",
    "    return x"
   ]
  },
  {
   "cell_type": "code",
   "execution_count": 23,
   "metadata": {
    "colab": {},
    "colab_type": "code",
    "id": "9L_u9TLSnjSB"
   },
   "outputs": [],
   "source": [
    "img_rows = 32\n",
    "img_cols = 32\n",
    "epochs = 80\n",
    "batch_size = 32\n",
    "\n",
    "optmz       = optimizers.Adam(lr=0.001)\n",
    "modelname   = 'Model_v1.3' \n",
    "\n",
    "LOG_DIR = os.path.join(PROJECT_DIR, modelname)"
   ]
  },
  {
   "cell_type": "code",
   "execution_count": 24,
   "metadata": {
    "colab": {},
    "colab_type": "code",
    "id": "dqZ3U_N6ojzf"
   },
   "outputs": [
    {
     "name": "stdout",
     "output_type": "stream",
     "text": [
      "Model: \"model_6\"\n",
      "__________________________________________________________________________________________________\n",
      "Layer (type)                    Output Shape         Param #     Connected to                     \n",
      "==================================================================================================\n",
      "input_7 (InputLayer)            [(None, 32, 32, 3)]  0                                            \n",
      "__________________________________________________________________________________________________\n",
      "Inpt_conv (Conv2D)              (None, 32, 32, 16)   448         input_7[0][0]                    \n",
      "__________________________________________________________________________________________________\n",
      "Inpt_bn (BatchNormalization)    (None, 32, 32, 16)   64          Inpt_conv[0][0]                  \n",
      "__________________________________________________________________________________________________\n",
      "Inpt_relu (Activation)          (None, 32, 32, 16)   0           Inpt_bn[0][0]                    \n",
      "__________________________________________________________________________________________________\n",
      "Stg1_Blk1_Res1_conv (Conv2D)    (None, 32, 32, 16)   2320        Inpt_relu[0][0]                  \n",
      "__________________________________________________________________________________________________\n",
      "Stg1_Blk1_Res1_bn (BatchNormali (None, 32, 32, 16)   64          Stg1_Blk1_Res1_conv[0][0]        \n",
      "__________________________________________________________________________________________________\n",
      "Stg1_Blk1_Res1_relu (Activation (None, 32, 32, 16)   0           Stg1_Blk1_Res1_bn[0][0]          \n",
      "__________________________________________________________________________________________________\n",
      "Stg1_Blk1_Res2_conv (Conv2D)    (None, 32, 32, 16)   2320        Stg1_Blk1_Res1_relu[0][0]        \n",
      "__________________________________________________________________________________________________\n",
      "Stg1_Blk1_Res2_bn (BatchNormali (None, 32, 32, 16)   64          Stg1_Blk1_Res2_conv[0][0]        \n",
      "__________________________________________________________________________________________________\n",
      "Stg1_Blk1_add (Add)             (None, 32, 32, 16)   0           Inpt_relu[0][0]                  \n",
      "                                                                 Stg1_Blk1_Res2_bn[0][0]          \n",
      "__________________________________________________________________________________________________\n",
      "Stg1_Blk1_relu (Activation)     (None, 32, 32, 16)   0           Stg1_Blk1_add[0][0]              \n",
      "__________________________________________________________________________________________________\n",
      "Stg1_Blk2_Res1_conv (Conv2D)    (None, 32, 32, 16)   2320        Stg1_Blk1_relu[0][0]             \n",
      "__________________________________________________________________________________________________\n",
      "Stg1_Blk2_Res1_bn (BatchNormali (None, 32, 32, 16)   64          Stg1_Blk2_Res1_conv[0][0]        \n",
      "__________________________________________________________________________________________________\n",
      "Stg1_Blk2_Res1_relu (Activation (None, 32, 32, 16)   0           Stg1_Blk2_Res1_bn[0][0]          \n",
      "__________________________________________________________________________________________________\n",
      "Stg1_Blk2_Res2_conv (Conv2D)    (None, 32, 32, 16)   2320        Stg1_Blk2_Res1_relu[0][0]        \n",
      "__________________________________________________________________________________________________\n",
      "Stg1_Blk2_Res2_bn (BatchNormali (None, 32, 32, 16)   64          Stg1_Blk2_Res2_conv[0][0]        \n",
      "__________________________________________________________________________________________________\n",
      "Stg1_Blk2_add (Add)             (None, 32, 32, 16)   0           Stg1_Blk1_relu[0][0]             \n",
      "                                                                 Stg1_Blk2_Res2_bn[0][0]          \n",
      "__________________________________________________________________________________________________\n",
      "Stg1_Blk2_relu (Activation)     (None, 32, 32, 16)   0           Stg1_Blk2_add[0][0]              \n",
      "__________________________________________________________________________________________________\n",
      "Stg1_Blk3_Res1_conv (Conv2D)    (None, 32, 32, 16)   2320        Stg1_Blk2_relu[0][0]             \n",
      "__________________________________________________________________________________________________\n",
      "Stg1_Blk3_Res1_bn (BatchNormali (None, 32, 32, 16)   64          Stg1_Blk3_Res1_conv[0][0]        \n",
      "__________________________________________________________________________________________________\n",
      "Stg1_Blk3_Res1_relu (Activation (None, 32, 32, 16)   0           Stg1_Blk3_Res1_bn[0][0]          \n",
      "__________________________________________________________________________________________________\n",
      "Stg1_Blk3_Res2_conv (Conv2D)    (None, 32, 32, 16)   2320        Stg1_Blk3_Res1_relu[0][0]        \n",
      "__________________________________________________________________________________________________\n",
      "Stg1_Blk3_Res2_bn (BatchNormali (None, 32, 32, 16)   64          Stg1_Blk3_Res2_conv[0][0]        \n",
      "__________________________________________________________________________________________________\n",
      "Stg1_Blk3_add (Add)             (None, 32, 32, 16)   0           Stg1_Blk2_relu[0][0]             \n",
      "                                                                 Stg1_Blk3_Res2_bn[0][0]          \n",
      "__________________________________________________________________________________________________\n",
      "Stg1_Blk3_relu (Activation)     (None, 32, 32, 16)   0           Stg1_Blk3_add[0][0]              \n",
      "__________________________________________________________________________________________________\n",
      "Stg2_Blk1_Res1_conv (Conv2D)    (None, 16, 16, 32)   4640        Stg1_Blk3_relu[0][0]             \n",
      "__________________________________________________________________________________________________\n",
      "Stg2_Blk1_Res1_bn (BatchNormali (None, 16, 16, 32)   128         Stg2_Blk1_Res1_conv[0][0]        \n",
      "__________________________________________________________________________________________________\n",
      "Stg2_Blk1_Res1_relu (Activation (None, 16, 16, 32)   0           Stg2_Blk1_Res1_bn[0][0]          \n",
      "__________________________________________________________________________________________________\n",
      "Stg2_Blk1_Res2_conv (Conv2D)    (None, 16, 16, 32)   9248        Stg2_Blk1_Res1_relu[0][0]        \n",
      "__________________________________________________________________________________________________\n",
      "Stg2_Blk1_lin_conv (Conv2D)     (None, 16, 16, 32)   544         Stg1_Blk3_relu[0][0]             \n",
      "__________________________________________________________________________________________________\n",
      "Stg2_Blk1_Res2_bn (BatchNormali (None, 16, 16, 32)   128         Stg2_Blk1_Res2_conv[0][0]        \n",
      "__________________________________________________________________________________________________\n",
      "Stg2_Blk1_add (Add)             (None, 16, 16, 32)   0           Stg2_Blk1_lin_conv[0][0]         \n",
      "                                                                 Stg2_Blk1_Res2_bn[0][0]          \n",
      "__________________________________________________________________________________________________\n",
      "Stg2_Blk1_relu (Activation)     (None, 16, 16, 32)   0           Stg2_Blk1_add[0][0]              \n",
      "__________________________________________________________________________________________________\n",
      "Stg2_Blk2_Res1_conv (Conv2D)    (None, 16, 16, 32)   9248        Stg2_Blk1_relu[0][0]             \n",
      "__________________________________________________________________________________________________\n",
      "Stg2_Blk2_Res1_bn (BatchNormali (None, 16, 16, 32)   128         Stg2_Blk2_Res1_conv[0][0]        \n",
      "__________________________________________________________________________________________________\n",
      "Stg2_Blk2_Res1_relu (Activation (None, 16, 16, 32)   0           Stg2_Blk2_Res1_bn[0][0]          \n",
      "__________________________________________________________________________________________________\n",
      "Stg2_Blk2_Res2_conv (Conv2D)    (None, 16, 16, 32)   9248        Stg2_Blk2_Res1_relu[0][0]        \n",
      "__________________________________________________________________________________________________\n",
      "Stg2_Blk2_Res2_bn (BatchNormali (None, 16, 16, 32)   128         Stg2_Blk2_Res2_conv[0][0]        \n",
      "__________________________________________________________________________________________________\n",
      "Stg2_Blk2_add (Add)             (None, 16, 16, 32)   0           Stg2_Blk1_relu[0][0]             \n",
      "                                                                 Stg2_Blk2_Res2_bn[0][0]          \n",
      "__________________________________________________________________________________________________\n",
      "Stg2_Blk2_relu (Activation)     (None, 16, 16, 32)   0           Stg2_Blk2_add[0][0]              \n",
      "__________________________________________________________________________________________________\n",
      "Stg2_Blk3_Res1_conv (Conv2D)    (None, 16, 16, 32)   9248        Stg2_Blk2_relu[0][0]             \n",
      "__________________________________________________________________________________________________\n",
      "Stg2_Blk3_Res1_bn (BatchNormali (None, 16, 16, 32)   128         Stg2_Blk3_Res1_conv[0][0]        \n",
      "__________________________________________________________________________________________________\n",
      "Stg2_Blk3_Res1_relu (Activation (None, 16, 16, 32)   0           Stg2_Blk3_Res1_bn[0][0]          \n",
      "__________________________________________________________________________________________________\n",
      "Stg2_Blk3_Res2_conv (Conv2D)    (None, 16, 16, 32)   9248        Stg2_Blk3_Res1_relu[0][0]        \n",
      "__________________________________________________________________________________________________\n",
      "Stg2_Blk3_Res2_bn (BatchNormali (None, 16, 16, 32)   128         Stg2_Blk3_Res2_conv[0][0]        \n",
      "__________________________________________________________________________________________________\n",
      "Stg2_Blk3_add (Add)             (None, 16, 16, 32)   0           Stg2_Blk2_relu[0][0]             \n",
      "                                                                 Stg2_Blk3_Res2_bn[0][0]          \n",
      "__________________________________________________________________________________________________\n",
      "Stg2_Blk3_relu (Activation)     (None, 16, 16, 32)   0           Stg2_Blk3_add[0][0]              \n",
      "__________________________________________________________________________________________________\n",
      "Stg3_Blk1_Res1_conv (Conv2D)    (None, 8, 8, 64)     18496       Stg2_Blk3_relu[0][0]             \n",
      "__________________________________________________________________________________________________\n",
      "Stg3_Blk1_Res1_bn (BatchNormali (None, 8, 8, 64)     256         Stg3_Blk1_Res1_conv[0][0]        \n",
      "__________________________________________________________________________________________________\n",
      "Stg3_Blk1_Res1_relu (Activation (None, 8, 8, 64)     0           Stg3_Blk1_Res1_bn[0][0]          \n",
      "__________________________________________________________________________________________________\n",
      "Stg3_Blk1_Res2_conv (Conv2D)    (None, 8, 8, 64)     36928       Stg3_Blk1_Res1_relu[0][0]        \n",
      "__________________________________________________________________________________________________\n",
      "Stg3_Blk1_lin_conv (Conv2D)     (None, 8, 8, 64)     2112        Stg2_Blk3_relu[0][0]             \n",
      "__________________________________________________________________________________________________\n",
      "Stg3_Blk1_Res2_bn (BatchNormali (None, 8, 8, 64)     256         Stg3_Blk1_Res2_conv[0][0]        \n",
      "__________________________________________________________________________________________________\n",
      "Stg3_Blk1_add (Add)             (None, 8, 8, 64)     0           Stg3_Blk1_lin_conv[0][0]         \n",
      "                                                                 Stg3_Blk1_Res2_bn[0][0]          \n",
      "__________________________________________________________________________________________________\n",
      "Stg3_Blk1_relu (Activation)     (None, 8, 8, 64)     0           Stg3_Blk1_add[0][0]              \n",
      "__________________________________________________________________________________________________\n",
      "Stg3_Blk2_Res1_conv (Conv2D)    (None, 8, 8, 64)     36928       Stg3_Blk1_relu[0][0]             \n",
      "__________________________________________________________________________________________________\n",
      "Stg3_Blk2_Res1_bn (BatchNormali (None, 8, 8, 64)     256         Stg3_Blk2_Res1_conv[0][0]        \n",
      "__________________________________________________________________________________________________\n",
      "Stg3_Blk2_Res1_relu (Activation (None, 8, 8, 64)     0           Stg3_Blk2_Res1_bn[0][0]          \n",
      "__________________________________________________________________________________________________\n",
      "Stg3_Blk2_Res2_conv (Conv2D)    (None, 8, 8, 64)     36928       Stg3_Blk2_Res1_relu[0][0]        \n",
      "__________________________________________________________________________________________________\n",
      "Stg3_Blk2_Res2_bn (BatchNormali (None, 8, 8, 64)     256         Stg3_Blk2_Res2_conv[0][0]        \n",
      "__________________________________________________________________________________________________\n",
      "Stg3_Blk2_add (Add)             (None, 8, 8, 64)     0           Stg3_Blk1_relu[0][0]             \n",
      "                                                                 Stg3_Blk2_Res2_bn[0][0]          \n",
      "__________________________________________________________________________________________________\n",
      "Stg3_Blk2_relu (Activation)     (None, 8, 8, 64)     0           Stg3_Blk2_add[0][0]              \n",
      "__________________________________________________________________________________________________\n",
      "Stg3_Blk3_Res1_conv (Conv2D)    (None, 8, 8, 64)     36928       Stg3_Blk2_relu[0][0]             \n",
      "__________________________________________________________________________________________________\n",
      "Stg3_Blk3_Res1_bn (BatchNormali (None, 8, 8, 64)     256         Stg3_Blk3_Res1_conv[0][0]        \n",
      "__________________________________________________________________________________________________\n",
      "Stg3_Blk3_Res1_relu (Activation (None, 8, 8, 64)     0           Stg3_Blk3_Res1_bn[0][0]          \n",
      "__________________________________________________________________________________________________\n",
      "Stg3_Blk3_Res2_conv (Conv2D)    (None, 8, 8, 64)     36928       Stg3_Blk3_Res1_relu[0][0]        \n",
      "__________________________________________________________________________________________________\n",
      "Stg3_Blk3_Res2_bn (BatchNormali (None, 8, 8, 64)     256         Stg3_Blk3_Res2_conv[0][0]        \n",
      "__________________________________________________________________________________________________\n",
      "Stg3_Blk3_add (Add)             (None, 8, 8, 64)     0           Stg3_Blk2_relu[0][0]             \n",
      "                                                                 Stg3_Blk3_Res2_bn[0][0]          \n",
      "__________________________________________________________________________________________________\n",
      "Stg3_Blk3_relu (Activation)     (None, 8, 8, 64)     0           Stg3_Blk3_add[0][0]              \n",
      "__________________________________________________________________________________________________\n",
      "AvgPool (AveragePooling2D)      (None, 2, 2, 64)     0           Stg3_Blk3_relu[0][0]             \n",
      "__________________________________________________________________________________________________\n",
      "flatten_6 (Flatten)             (None, 256)          0           AvgPool[0][0]                    \n",
      "__________________________________________________________________________________________________\n",
      "dense_6 (Dense)                 (None, 3)            771         flatten_6[0][0]                  \n",
      "==================================================================================================\n",
      "Total params: 274,563\n",
      "Trainable params: 273,187\n",
      "Non-trainable params: 1,376\n",
      "__________________________________________________________________________________________________\n"
     ]
    }
   ],
   "source": [
    "# createResNetV1\n",
    "def createResNetV1(inputShape=(img_rows,img_cols,3),\n",
    "                   numClasses=3):\n",
    "    inputs = Input(shape=inputShape)\n",
    "    v = resLyr(inputs, lyrName='Inpt')\n",
    "    v = resBlkV1(v,16,3,False,'Stg1')\n",
    "    v = resBlkV1(v,32,3,True,'Stg2')\n",
    "    v = resBlkV1(v,64,3,True,'Stg3')\n",
    "\n",
    "    v = AveragePooling2D(pool_size=4,name='AvgPool')(v)\n",
    "    v = Flatten()(v)\n",
    "    outputs = Dense(numClasses,activation='softmax',kernel_initializer='he_normal')(v)\n",
    "    model = Model(inputs=inputs,outputs=outputs)\n",
    "    model.compile(loss='categorical_crossentropy',\n",
    "                    optimizer=optmz,\n",
    "                    metrics=['accuracy'])\n",
    "\n",
    "    return model\n",
    "\n",
    "# set up model\n",
    "model       = createResNetV1()  # This is meant for training\n",
    "modelGo     = createResNetV1()  # This is used for final testing\n",
    "\n",
    "model.summary()"
   ]
  },
  {
   "cell_type": "markdown",
   "metadata": {
    "colab_type": "text",
    "id": "sJEez0wdp3ce"
   },
   "source": [
    "## Fina Tune Model"
   ]
  },
  {
   "cell_type": "code",
   "execution_count": 25,
   "metadata": {
    "colab": {},
    "colab_type": "code",
    "id": "HM9lFk3bLfY5"
   },
   "outputs": [],
   "source": [
    "# Create checkpoint for the training\n",
    "filepath        = os.path.join(PROJECT_DIR, modelname + \".hdf5\")\n",
    "checkpoint      = ModelCheckpoint(filepath, \n",
    "                                  monitor='val_acc', \n",
    "                                  verbose=0, \n",
    "                                  save_best_only=True, \n",
    "                                  mode='max')\n",
    "\n",
    "# Log the epoch detail into csv\n",
    "csv_logger      = CSVLogger(os.path.join(PROJECT_DIR,  modelname +'.csv'))\n",
    "callbacks_list  = [checkpoint,csv_logger]"
   ]
  },
  {
   "cell_type": "markdown",
   "metadata": {
    "colab_type": "text",
    "id": "XVjF4lq3pF32"
   },
   "source": [
    "## Create Image Data Generator"
   ]
  },
  {
   "cell_type": "code",
   "execution_count": 26,
   "metadata": {
    "colab": {
     "base_uri": "https://localhost:8080/",
     "height": 51
    },
    "colab_type": "code",
    "id": "LZQsYb2RpK5D",
    "outputId": "fc4f4d0a-ab79-4254-d072-f05e6d9c62a5"
   },
   "outputs": [
    {
     "name": "stdout",
     "output_type": "stream",
     "text": [
      "Found 2423 images belonging to 3 classes.\n",
      "Found 724 images belonging to 3 classes.\n"
     ]
    }
   ],
   "source": [
    "train_datagen = ImageDataGenerator()\n",
    "validation_datagen = ImageDataGenerator()\n",
    "\n",
    "train_generator = train_datagen.flow_from_directory(TRAIN_DIR,\n",
    "                                                    target_size=(img_rows, img_cols),\n",
    "                                                    batch_size=batch_size)\n",
    "\n",
    "validation_generator = validation_datagen.flow_from_directory(VALIDATION_DIR,\n",
    "                                                        target_size=(img_rows, img_cols), \n",
    "                                                        batch_size=batch_size, shuffle=False)"
   ]
  },
  {
   "cell_type": "markdown",
   "metadata": {
    "colab_type": "text",
    "id": "mrD7LSXppBu8"
   },
   "source": [
    "# Train Model"
   ]
  },
  {
   "cell_type": "code",
   "execution_count": 27,
   "metadata": {
    "colab": {
     "base_uri": "https://localhost:8080/",
     "height": 1000
    },
    "colab_type": "code",
    "id": "a7o3O_ceYRrM",
    "outputId": "277169f2-c842-4944-a0e8-e4c8339b5be5"
   },
   "outputs": [
    {
     "name": "stdout",
     "output_type": "stream",
     "text": [
      "Epoch 1/80\n",
      "75/75 [==============================] - 18s 242ms/step - loss: 0.9870 - acc: 0.6512 - val_loss: 10.5526 - val_acc: 0.2699\n",
      "Epoch 2/80\n",
      "75/75 [==============================] - 3s 35ms/step - loss: 0.6906 - acc: 0.7767 - val_loss: 2.6891 - val_acc: 0.4815\n",
      "Epoch 3/80\n",
      "75/75 [==============================] - 3s 38ms/step - loss: 0.5606 - acc: 0.8331 - val_loss: 1.1223 - val_acc: 0.6222\n",
      "Epoch 4/80\n",
      "75/75 [==============================] - 2s 29ms/step - loss: 0.4268 - acc: 0.8967 - val_loss: 1.4330 - val_acc: 0.5824\n",
      "Epoch 5/80\n",
      "75/75 [==============================] - 3s 38ms/step - loss: 0.3227 - acc: 0.9448 - val_loss: 0.7503 - val_acc: 0.7798\n",
      "Epoch 6/80\n",
      "75/75 [==============================] - 2s 29ms/step - loss: 0.2736 - acc: 0.9631 - val_loss: 1.4200 - val_acc: 0.6719\n",
      "Epoch 7/80\n",
      "75/75 [==============================] - 2s 29ms/step - loss: 0.2248 - acc: 0.9795 - val_loss: 0.9131 - val_acc: 0.7798\n",
      "Epoch 8/80\n",
      "75/75 [==============================] - 2s 29ms/step - loss: 0.2249 - acc: 0.9787 - val_loss: 2.1524 - val_acc: 0.6662\n",
      "Epoch 9/80\n",
      "75/75 [==============================] - 2s 30ms/step - loss: 0.2475 - acc: 0.9649 - val_loss: 1.0466 - val_acc: 0.7259\n",
      "Epoch 10/80\n",
      "75/75 [==============================] - 2s 29ms/step - loss: 0.2262 - acc: 0.9795 - val_loss: 0.9812 - val_acc: 0.7713\n",
      "Epoch 11/80\n",
      "75/75 [==============================] - 3s 35ms/step - loss: 0.2184 - acc: 0.9820 - val_loss: 0.9068 - val_acc: 0.8182\n",
      "Epoch 12/80\n",
      "75/75 [==============================] - 2s 30ms/step - loss: 0.2325 - acc: 0.9737 - val_loss: 1.2105 - val_acc: 0.7713\n",
      "Epoch 13/80\n",
      "75/75 [==============================] - 2s 29ms/step - loss: 0.2375 - acc: 0.9695 - val_loss: 1.1017 - val_acc: 0.7898\n",
      "Epoch 14/80\n",
      "75/75 [==============================] - 2s 30ms/step - loss: 0.2415 - acc: 0.9653 - val_loss: 1.4785 - val_acc: 0.6818\n",
      "Epoch 15/80\n",
      "75/75 [==============================] - 2s 29ms/step - loss: 0.2035 - acc: 0.9833 - val_loss: 0.9404 - val_acc: 0.7997\n",
      "Epoch 16/80\n",
      "75/75 [==============================] - 3s 36ms/step - loss: 0.1832 - acc: 0.9904 - val_loss: 0.8078 - val_acc: 0.8395\n",
      "Epoch 17/80\n",
      "75/75 [==============================] - 3s 36ms/step - loss: 0.1751 - acc: 0.9929 - val_loss: 0.8576 - val_acc: 0.8494\n",
      "Epoch 18/80\n",
      "75/75 [==============================] - 2s 29ms/step - loss: 0.1658 - acc: 0.9967 - val_loss: 0.9388 - val_acc: 0.8281\n",
      "Epoch 19/80\n",
      "75/75 [==============================] - 2s 29ms/step - loss: 0.1587 - acc: 0.9992 - val_loss: 0.8239 - val_acc: 0.8409\n",
      "Epoch 20/80\n",
      "75/75 [==============================] - 2s 29ms/step - loss: 0.1625 - acc: 0.9962 - val_loss: 1.3975 - val_acc: 0.7699\n",
      "Epoch 21/80\n",
      "75/75 [==============================] - 2s 29ms/step - loss: 0.1604 - acc: 0.9975 - val_loss: 0.8933 - val_acc: 0.8182A: 0s - loss: 0.1602 - acc: 0. - ETA: 0s - loss: 0.1600 - acc: 0.\n",
      "Epoch 22/80\n",
      "75/75 [==============================] - 2s 29ms/step - loss: 0.1647 - acc: 0.9958 - val_loss: 1.2745 - val_acc: 0.7401\n",
      "Epoch 23/80\n",
      "75/75 [==============================] - 2s 30ms/step - loss: 0.1727 - acc: 0.9916 - val_loss: 1.8521 - val_acc: 0.6719 0.1677 - acc: 0\n",
      "Epoch 24/80\n",
      "75/75 [==============================] - 2s 30ms/step - loss: 0.2816 - acc: 0.9513 - val_loss: 1.8401 - val_acc: 0.7273\n",
      "Epoch 25/80\n",
      "75/75 [==============================] - 2s 30ms/step - loss: 0.3464 - acc: 0.9366 - val_loss: 2.2271 - val_acc: 0.6619\n",
      "Epoch 26/80\n",
      "75/75 [==============================] - 2s 30ms/step - loss: 0.2223 - acc: 0.9749 - val_loss: 1.0906 - val_acc: 0.7841\n",
      "Epoch 27/80\n",
      "75/75 [==============================] - 2s 30ms/step - loss: 0.1791 - acc: 0.9904 - val_loss: 1.0702 - val_acc: 0.8054\n",
      "Epoch 28/80\n",
      "75/75 [==============================] - 2s 29ms/step - loss: 0.1630 - acc: 0.9979 - val_loss: 0.9536 - val_acc: 0.8381\n",
      "Epoch 29/80\n",
      "75/75 [==============================] - 2s 29ms/step - loss: 0.1544 - acc: 0.9992 - val_loss: 0.8003 - val_acc: 0.8281\n",
      "Epoch 30/80\n",
      "75/75 [==============================] - 2s 29ms/step - loss: 0.1508 - acc: 0.9992 - val_loss: 0.7828 - val_acc: 0.8395\n",
      "Epoch 31/80\n",
      "75/75 [==============================] - 3s 36ms/step - loss: 0.1472 - acc: 1.0000 - val_loss: 0.8116 - val_acc: 0.8523\n",
      "Epoch 32/80\n",
      "75/75 [==============================] - 2s 29ms/step - loss: 0.1462 - acc: 0.9996 - val_loss: 0.8809 - val_acc: 0.8267\n",
      "Epoch 33/80\n",
      "75/75 [==============================] - 2s 29ms/step - loss: 0.1480 - acc: 0.9987 - val_loss: 0.8888 - val_acc: 0.8253\n",
      "Epoch 34/80\n",
      "75/75 [==============================] - 2s 30ms/step - loss: 0.1539 - acc: 0.9954 - val_loss: 1.8615 - val_acc: 0.7670\n",
      "Epoch 35/80\n",
      "75/75 [==============================] - 2s 30ms/step - loss: 0.1728 - acc: 0.9887 - val_loss: 4.4663 - val_acc: 0.5966\n",
      "Epoch 36/80\n",
      "75/75 [==============================] - 2s 29ms/step - loss: 0.2083 - acc: 0.9798 - val_loss: 1.2079 - val_acc: 0.7557\n",
      "Epoch 37/80\n",
      "75/75 [==============================] - 2s 29ms/step - loss: 0.2609 - acc: 0.9529 - val_loss: 4.8048 - val_acc: 0.5909\n",
      "Epoch 38/80\n",
      "75/75 [==============================] - 2s 30ms/step - loss: 0.2939 - acc: 0.9431 - val_loss: 1.7183 - val_acc: 0.7230\n",
      "Epoch 39/80\n",
      "75/75 [==============================] - 2s 30ms/step - loss: 0.1928 - acc: 0.9840 - val_loss: 1.0247 - val_acc: 0.7869\n",
      "Epoch 40/80\n",
      "75/75 [==============================] - 2s 29ms/step - loss: 0.1563 - acc: 0.9979 - val_loss: 0.8231 - val_acc: 0.8423\n",
      "Epoch 41/80\n",
      "75/75 [==============================] - 2s 29ms/step - loss: 0.1477 - acc: 1.0000 - val_loss: 0.8587 - val_acc: 0.8281\n",
      "Epoch 42/80\n",
      "75/75 [==============================] - 2s 29ms/step - loss: 0.1441 - acc: 1.0000 - val_loss: 0.7869 - val_acc: 0.8494\n",
      "Epoch 43/80\n",
      "75/75 [==============================] - 2s 29ms/step - loss: 0.1417 - acc: 1.0000 - val_loss: 0.7888 - val_acc: 0.8523\n",
      "Epoch 44/80\n",
      "75/75 [==============================] - 2s 29ms/step - loss: 0.1397 - acc: 1.0000 - val_loss: 0.7849 - val_acc: 0.8466\n",
      "Epoch 45/80\n",
      "75/75 [==============================] - 2s 29ms/step - loss: 0.1377 - acc: 1.0000 - val_loss: 0.7762 - val_acc: 0.8423\n",
      "Epoch 46/80\n",
      "75/75 [==============================] - 2s 29ms/step - loss: 0.1363 - acc: 0.9996 - val_loss: 0.7761 - val_acc: 0.8310\n",
      "Epoch 47/80\n",
      "75/75 [==============================] - 2s 29ms/step - loss: 0.1337 - acc: 1.0000 - val_loss: 0.7661 - val_acc: 0.8480\n",
      "Epoch 48/80\n",
      "75/75 [==============================] - 2s 29ms/step - loss: 0.1316 - acc: 1.0000 - val_loss: 0.7531 - val_acc: 0.8480\n",
      "Epoch 49/80\n",
      "75/75 [==============================] - 2s 29ms/step - loss: 0.1297 - acc: 1.0000 - val_loss: 0.8225 - val_acc: 0.8509\n",
      "Epoch 50/80\n",
      "75/75 [==============================] - 2s 29ms/step - loss: 0.1274 - acc: 1.0000 - val_loss: 0.7822 - val_acc: 0.8480\n",
      "Epoch 51/80\n",
      "75/75 [==============================] - 2s 29ms/step - loss: 0.1254 - acc: 1.0000 - val_loss: 0.7747 - val_acc: 0.8395\n",
      "Epoch 52/80\n",
      "75/75 [==============================] - 2s 29ms/step - loss: 0.1232 - acc: 1.0000 - val_loss: 0.7760 - val_acc: 0.8409\n",
      "Epoch 53/80\n",
      "75/75 [==============================] - 2s 29ms/step - loss: 0.1212 - acc: 1.0000 - val_loss: 0.7785 - val_acc: 0.8452\n",
      "Epoch 54/80\n",
      "75/75 [==============================] - 2s 30ms/step - loss: 0.1192 - acc: 1.0000 - val_loss: 0.7925 - val_acc: 0.8480\n",
      "Epoch 55/80\n",
      "75/75 [==============================] - 2s 29ms/step - loss: 0.1170 - acc: 1.0000 - val_loss: 0.7878 - val_acc: 0.8423\n",
      "Epoch 56/80\n",
      "75/75 [==============================] - 3s 35ms/step - loss: 0.1152 - acc: 1.0000 - val_loss: 0.8027 - val_acc: 0.8537\n",
      "Epoch 57/80\n",
      "75/75 [==============================] - 2s 29ms/step - loss: 0.1129 - acc: 1.0000 - val_loss: 0.7778 - val_acc: 0.8494\n",
      "Epoch 58/80\n",
      "75/75 [==============================] - 2s 29ms/step - loss: 0.1108 - acc: 1.0000 - val_loss: 0.7656 - val_acc: 0.8438\n",
      "Epoch 59/80\n",
      "75/75 [==============================] - 2s 30ms/step - loss: 0.1091 - acc: 1.0000 - val_loss: 0.7825 - val_acc: 0.8480\n",
      "Epoch 60/80\n",
      "75/75 [==============================] - 2s 30ms/step - loss: 0.1067 - acc: 1.0000 - val_loss: 0.7629 - val_acc: 0.8509\n",
      "Epoch 61/80\n",
      "75/75 [==============================] - 2s 31ms/step - loss: 0.1045 - acc: 1.0000 - val_loss: 0.7642 - val_acc: 0.8523\n",
      "Epoch 62/80\n"
     ]
    },
    {
     "name": "stdout",
     "output_type": "stream",
     "text": [
      "75/75 [==============================] - 2s 31ms/step - loss: 0.1024 - acc: 1.0000 - val_loss: 0.7625 - val_acc: 0.8480\n",
      "Epoch 63/80\n",
      "75/75 [==============================] - 3s 36ms/step - loss: 0.1003 - acc: 1.0000 - val_loss: 0.7566 - val_acc: 0.8452\n",
      "Epoch 64/80\n",
      "75/75 [==============================] - 3s 37ms/step - loss: 0.0985 - acc: 1.0000 - val_loss: 0.9249 - val_acc: 0.8224\n",
      "Epoch 65/80\n",
      "75/75 [==============================] - 3s 33ms/step - loss: 0.1038 - acc: 0.9967 - val_loss: 1.3851 - val_acc: 0.7940\n",
      "Epoch 66/80\n",
      "75/75 [==============================] - 3s 34ms/step - loss: 0.6089 - acc: 0.8350 - val_loss: 15.4712 - val_acc: 0.2756\n",
      "Epoch 67/80\n",
      "75/75 [==============================] - 3s 35ms/step - loss: 0.3325 - acc: 0.9262 - val_loss: 1.2890 - val_acc: 0.6520\n",
      "Epoch 68/80\n",
      "75/75 [==============================] - 3s 35ms/step - loss: 0.1818 - acc: 0.9778 - val_loss: 0.6045 - val_acc: 0.8679\n",
      "Epoch 69/80\n",
      "75/75 [==============================] - 2s 28ms/step - loss: 0.1440 - acc: 0.9904 - val_loss: 0.8274 - val_acc: 0.7869\n",
      "Epoch 70/80\n",
      "75/75 [==============================] - 2s 29ms/step - loss: 0.1288 - acc: 0.9971 - val_loss: 0.7263 - val_acc: 0.8295\n",
      "Epoch 71/80\n",
      "75/75 [==============================] - 2s 29ms/step - loss: 0.1174 - acc: 0.9996 - val_loss: 0.7556 - val_acc: 0.8324\n",
      "Epoch 72/80\n",
      "75/75 [==============================] - 2s 29ms/step - loss: 0.1140 - acc: 0.9996 - val_loss: 0.6687 - val_acc: 0.85230s - loss: 0.11\n",
      "Epoch 73/80\n",
      "75/75 [==============================] - 2s 29ms/step - loss: 0.1106 - acc: 1.0000 - val_loss: 0.8159 - val_acc: 0.8196\n",
      "Epoch 74/80\n",
      "75/75 [==============================] - 2s 29ms/step - loss: 0.1130 - acc: 0.9979 - val_loss: 1.2162 - val_acc: 0.7642\n",
      "Epoch 75/80\n",
      "75/75 [==============================] - 2s 29ms/step - loss: 0.1457 - acc: 0.9870 - val_loss: 1.9670 - val_acc: 0.7202\n",
      "Epoch 76/80\n",
      "75/75 [==============================] - 2s 29ms/step - loss: 0.1937 - acc: 0.9691 - val_loss: 2.5173 - val_acc: 0.7287\n",
      "Epoch 77/80\n",
      "75/75 [==============================] - 2s 28ms/step - loss: 0.2159 - acc: 0.9603 - val_loss: 1.8188 - val_acc: 0.6591\n",
      "Epoch 78/80\n",
      "75/75 [==============================] - 3s 36ms/step - loss: 0.1562 - acc: 0.9858 - val_loss: 0.8693 - val_acc: 0.8224\n",
      "Epoch 79/80\n",
      "75/75 [==============================] - 3s 34ms/step - loss: 0.1214 - acc: 0.9992 - val_loss: 0.6997 - val_acc: 0.8480\n",
      "Epoch 80/80\n",
      "75/75 [==============================] - 2s 30ms/step - loss: 0.1151 - acc: 0.9992 - val_loss: 0.7337 - val_acc: 0.8366\n"
     ]
    }
   ],
   "source": [
    "history = model.fit_generator(train_generator,\n",
    "                    validation_data=validation_generator,\n",
    "                    epochs=epochs, \n",
    "                    verbose=1,\n",
    "                    workers=8,\n",
    "                    steps_per_epoch=train_generator.n//batch_size,\n",
    "                    validation_steps=validation_generator.n//batch_size,\n",
    "                    callbacks=callbacks_list)"
   ]
  },
  {
   "cell_type": "markdown",
   "metadata": {
    "colab_type": "text",
    "id": "z8MwmIzf2L0f"
   },
   "source": [
    "# Model Evaluation"
   ]
  },
  {
   "cell_type": "markdown",
   "metadata": {},
   "source": [
    "## Comparison between Training and Validation Dataset for Accuracy and Loss"
   ]
  },
  {
   "cell_type": "code",
   "execution_count": 28,
   "metadata": {
    "colab": {
     "base_uri": "https://localhost:8080/",
     "height": 637
    },
    "colab_type": "code",
    "id": "fjwTYwmt0THo",
    "outputId": "b43c20eb-715c-4485-8ed5-1dac9de3ade8"
   },
   "outputs": [
    {
     "data": {
      "image/png": "[encoded data removed]",
      "text/plain": [
       "<Figure size 432x288 with 1 Axes>"
      ]
     },
     "metadata": {
      "needs_background": "light"
     },
     "output_type": "display_data"
    },
    {
     "data": {
      "image/png": "[encoded data removed]",
      "text/plain": [
       "<Figure size 432x288 with 1 Axes>"
      ]
     },
     "metadata": {
      "needs_background": "light"
     },
     "output_type": "display_data"
    }
   ],
   "source": [
    "plt.plot(history.history['acc'])\n",
    "plt.plot(history.history['val_acc'])\n",
    "plt.title('model accuracy')\n",
    "plt.ylabel('accuracy')\n",
    "plt.xlabel('epoch')\n",
    "plt.legend(['train', 'val'], loc='upper left')\n",
    "plt.show()\n",
    "\n",
    "plt.plot(history.history['loss'])\n",
    "plt.plot(history.history['val_loss'])\n",
    "plt.title('model loss')\n",
    "plt.ylabel('loss')\n",
    "plt.xlabel('epoch')\n",
    "plt.legend(['train', 'val'], loc='upper right')\n",
    "plt.show()"
   ]
  },
  {
   "cell_type": "markdown",
   "metadata": {
    "colab_type": "text",
    "id": "AHmPmWopo0Bs"
   },
   "source": [
    "### Confusion Matrix"
   ]
  },
  {
   "cell_type": "code",
   "execution_count": 29,
   "metadata": {
    "colab": {},
    "colab_type": "code",
    "id": "zRKbzE5kgQSP"
   },
   "outputs": [
    {
     "name": "stdout",
     "output_type": "stream",
     "text": [
      "23/23 [==============================] - 2s 88ms/step\n",
      "Confusion Matrix\n",
      "[[252  24  21]\n",
      " [ 14 184  20]\n",
      " [ 16  24 169]]\n"
     ]
    }
   ],
   "source": [
    "#Confution Matrix and Classification Report\n",
    "Y_pred = model.predict_generator(validation_generator, steps=np.math.ceil(validation_generator.samples/validation_generator.batch_size), verbose=1, workers=0)\n",
    "y_pred = np.argmax(Y_pred, axis=1)\n",
    "\n",
    "print('Confusion Matrix')\n",
    "print(confusion_matrix(validation_generator.classes, y_pred))"
   ]
  },
  {
   "cell_type": "markdown",
   "metadata": {},
   "source": [
    "## Classification Report"
   ]
  },
  {
   "cell_type": "code",
   "execution_count": 30,
   "metadata": {},
   "outputs": [
    {
     "name": "stdout",
     "output_type": "stream",
     "text": [
      "                 precision    recall  f1-score   support\n",
      "\n",
      "    food_resize       0.89      0.85      0.87       297\n",
      "landmark_resize       0.79      0.84      0.82       218\n",
      "  people_resize       0.80      0.81      0.81       209\n",
      "\n",
      "       accuracy                           0.84       724\n",
      "      macro avg       0.83      0.83      0.83       724\n",
      "   weighted avg       0.84      0.84      0.84       724\n",
      "\n"
     ]
    }
   ],
   "source": [
    "target_names = list(validation_generator.class_indices.keys())\n",
    "print(classification_report(validation_generator.classes, y_pred, target_names=target_names))"
   ]
  },
  {
   "cell_type": "markdown",
   "metadata": {
    "colab_type": "text",
    "id": "Q_-CRARV2Blh"
   },
   "source": [
    "# Plot Model"
   ]
  },
  {
   "cell_type": "code",
   "execution_count": 31,
   "metadata": {
    "colab": {
     "base_uri": "https://localhost:8080/",
     "height": 1000
    },
    "colab_type": "code",
    "id": "fFLmAk4LL2kD",
    "outputId": "a63950da-7ec8-4162-8ac1-753d91eb9fa7"
   },
   "outputs": [
    {
     "name": "stdout",
     "output_type": "stream",
     "text": [
      "Failed to import pydot. You must install pydot and graphviz for `pydotprint` to work.\n"
     ]
    }
   ],
   "source": [
    "from tensorflow.keras.utils import plot_model\n",
    "\n",
    "plot_model(model, \n",
    "           to_file=os.path.join(PROJECT_DIR, modelname+'_model.png'), \n",
    "           show_shapes=True, \n",
    "           show_layer_names=False,\n",
    "           rankdir='TB')"
   ]
  },
  {
   "cell_type": "code",
   "execution_count": null,
   "metadata": {},
   "outputs": [],
   "source": []
  }
 ],
 "metadata": {
  "accelerator": "GPU",
  "colab": {
   "collapsed_sections": [
    "ANQKYaUxxcxj",
    "o0hHFxGvStKG",
    "Q_-CRARV2Blh"
   ],
   "name": "CA2 Test 2.ipynb",
   "provenance": []
  },
  "kernelspec": {
   "display_name": "Python 3",
   "language": "python",
   "name": "python3"
  },
  "language_info": {
   "codemirror_mode": {
    "name": "ipython",
    "version": 3
   },
   "file_extension": ".py",
   "mimetype": "text/x-python",
   "name": "python",
   "nbconvert_exporter": "python",
   "pygments_lexer": "ipython3",
   "version": "3.7.3"
  }
 },
 "nbformat": 4,
 "nbformat_minor": 4
}
