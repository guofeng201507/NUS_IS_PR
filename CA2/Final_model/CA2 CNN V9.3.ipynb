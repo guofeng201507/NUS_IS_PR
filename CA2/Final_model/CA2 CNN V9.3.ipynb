{
 "cells": [
  {
   "cell_type": "markdown",
   "metadata": {
    "toc": true
   },
   "source": [
    "<h1>Table of Contents<span class=\"tocSkip\"></span></h1>\n",
    "<div class=\"toc\"><ul class=\"toc-item\"><li><span><a href=\"#Setup-Model\" data-toc-modified-id=\"Setup-Model-1\"><span class=\"toc-item-num\">1&nbsp;&nbsp;</span>Setup Model</a></span><ul class=\"toc-item\"><li><span><a href=\"#Fina-Tune-Model\" data-toc-modified-id=\"Fina-Tune-Model-1.1\"><span class=\"toc-item-num\">1.1&nbsp;&nbsp;</span>Fina Tune Model</a></span></li><li><span><a href=\"#Create-Image-Data-Generator\" data-toc-modified-id=\"Create-Image-Data-Generator-1.2\"><span class=\"toc-item-num\">1.2&nbsp;&nbsp;</span>Create Image Data Generator</a></span></li></ul></li><li><span><a href=\"#Train-Model\" data-toc-modified-id=\"Train-Model-2\"><span class=\"toc-item-num\">2&nbsp;&nbsp;</span>Train Model</a></span></li><li><span><a href=\"#Model-Evaluation\" data-toc-modified-id=\"Model-Evaluation-3\"><span class=\"toc-item-num\">3&nbsp;&nbsp;</span>Model Evaluation</a></span><ul class=\"toc-item\"><li><span><a href=\"#Comparison-between-Training-and-Validation-Dataset-for-Accuracy-and-Loss\" data-toc-modified-id=\"Comparison-between-Training-and-Validation-Dataset-for-Accuracy-and-Loss-3.1\"><span class=\"toc-item-num\">3.1&nbsp;&nbsp;</span>Comparison between Training and Validation Dataset for Accuracy and Loss</a></span><ul class=\"toc-item\"><li><span><a href=\"#Confusion-Matrix\" data-toc-modified-id=\"Confusion-Matrix-3.1.1\"><span class=\"toc-item-num\">3.1.1&nbsp;&nbsp;</span>Confusion Matrix</a></span></li></ul></li><li><span><a href=\"#Classification-Report\" data-toc-modified-id=\"Classification-Report-3.2\"><span class=\"toc-item-num\">3.2&nbsp;&nbsp;</span>Classification Report</a></span></li></ul></li><li><span><a href=\"#Plot-Model\" data-toc-modified-id=\"Plot-Model-4\"><span class=\"toc-item-num\">4&nbsp;&nbsp;</span>Plot Model</a></span></li></ul></div>"
   ]
  },
  {
   "cell_type": "code",
   "execution_count": 1,
   "metadata": {
    "ExecuteTime": {
     "end_time": "2019-09-29T16:02:36.080646Z",
     "start_time": "2019-09-29T16:02:36.072099Z"
    },
    "colab": {
     "base_uri": "https://localhost:8080/",
     "height": 51
    },
    "colab_type": "code",
    "id": "eEEoD0_N6kad",
    "outputId": "d1782d5c-ce0f-4ea0-81bd-23f28daaf39a"
   },
   "outputs": [],
   "source": [
    "import numpy as np\n",
    "import sklearn.metrics as metrics\n",
    "import matplotlib.pyplot as plt\n",
    "import os\n",
    "from datetime import datetime\n",
    "\n",
    "\n",
    "from sklearn.metrics import classification_report, confusion_matrix\n",
    "\n",
    "from tensorflow.keras.callbacks import ModelCheckpoint,CSVLogger,LearningRateScheduler\n",
    "from tensorflow.keras.models import Sequential\n",
    "from tensorflow.keras.models import Model\n",
    "from tensorflow.keras.layers import Input\n",
    "from tensorflow.keras.layers import Dense\n",
    "from tensorflow.keras.layers import Flatten\n",
    "from tensorflow.keras.layers import Conv2D\n",
    "from tensorflow.keras.layers import BatchNormalization\n",
    "from tensorflow.keras.layers import Activation\n",
    "from tensorflow.keras.layers import AveragePooling2D\n",
    "from tensorflow.keras.layers import add\n",
    "from tensorflow.keras.regularizers import l2\n",
    "from tensorflow.keras.utils import to_categorical\n",
    "from tensorflow.keras.datasets import cifar10\n",
    "from tensorflow.keras import optimizers\n",
    "from tensorflow.keras.preprocessing.image import ImageDataGenerator\n",
    "from tensorflow.keras.models import Sequential\n",
    "from tensorflow.keras.layers import Dropout\n",
    "from tensorflow.keras.layers import MaxPooling2D\n",
    "\n",
    "#data location path\n",
    "PROJECT_DIR = r\"D:\\CA2_Data\"\n",
    "\n",
    "TRAIN_DIR = os.path.join(PROJECT_DIR, \"Train\")\n",
    "VALIDATION_DIR = os.path.join(PROJECT_DIR, \"Validation\")\n",
    "LOG_DIR = os.path.join(PROJECT_DIR, \"Log\")\n",
    "TIMESTAMP = \"{0:%Y-%m-%dT%H-%M-%S/}\".format(datetime.now())\n",
    "\n",
    "seed        = 29\n",
    "np.random.seed(seed)"
   ]
  },
  {
   "cell_type": "code",
   "execution_count": 2,
   "metadata": {
    "ExecuteTime": {
     "end_time": "2019-09-29T16:02:36.100636Z",
     "start_time": "2019-09-29T16:02:36.082867Z"
    },
    "colab": {
     "base_uri": "https://localhost:8080/",
     "height": 51
    },
    "colab_type": "code",
    "id": "Q8FIJ1jWn_YP",
    "outputId": "e9c08324-a5ff-4cbb-c31f-cf8738023509"
   },
   "outputs": [
    {
     "name": "stdout",
     "output_type": "stream",
     "text": [
      "Training images:  2423\n",
      "Validation images:  724\n"
     ]
    }
   ],
   "source": [
    "train_file_count = sum([len(files) for r, d, files in os.walk(TRAIN_DIR)])\n",
    "test_file_count = sum([len(files) for r, d, files in os.walk(VALIDATION_DIR)])\n",
    "print(\"Training images: \", train_file_count)\n",
    "print(\"Validation images: \", test_file_count)"
   ]
  },
  {
   "cell_type": "markdown",
   "metadata": {
    "colab_type": "text",
    "id": "xhI75LTt6g-o"
   },
   "source": [
    "# Setup Model"
   ]
  },
  {
   "cell_type": "code",
   "execution_count": 3,
   "metadata": {
    "ExecuteTime": {
     "end_time": "2019-09-29T16:02:36.211937Z",
     "start_time": "2019-09-29T16:02:36.208393Z"
    },
    "colab": {},
    "colab_type": "code",
    "id": "9L_u9TLSnjSB"
   },
   "outputs": [],
   "source": [
    "img_rows = 64\n",
    "img_cols = 64\n",
    "epochs = 200\n",
    "batch_size = 32\n",
    "\n",
    "optmz       = optimizers.Adam(lr=0.001)\n",
    "modelname   = 'Model_CNN_v9.3' \n",
    "\n",
    "LOG_DIR = os.path.join(PROJECT_DIR, modelname)"
   ]
  },
  {
   "cell_type": "code",
   "execution_count": 4,
   "metadata": {
    "ExecuteTime": {
     "end_time": "2019-09-29T16:04:22.427260Z",
     "start_time": "2019-09-29T16:04:22.042511Z"
    },
    "colab": {},
    "colab_type": "code",
    "id": "dqZ3U_N6ojzf"
   },
   "outputs": [
    {
     "name": "stderr",
     "output_type": "stream",
     "text": [
      "WARNING: Logging before flag parsing goes to stderr.\n",
      "W0930 00:07:09.097618  4464 deprecation.py:506] From c:\\users\\guofe\\workspace\\nus_is_pr\\venv\\lib\\site-packages\\tensorflow\\python\\ops\\init_ops.py:1251: calling VarianceScaling.__init__ (from tensorflow.python.ops.init_ops) with dtype is deprecated and will be removed in a future version.\n",
      "Instructions for updating:\n",
      "Call initializer instance with the dtype argument instead of passing it to the constructor\n"
     ]
    },
    {
     "name": "stdout",
     "output_type": "stream",
     "text": [
      "Model: \"sequential\"\n",
      "_________________________________________________________________\n",
      "Layer (type)                 Output Shape              Param #   \n",
      "=================================================================\n",
      "conv2d (Conv2D)              (None, 64, 64, 32)        896       \n",
      "_________________________________________________________________\n",
      "max_pooling2d (MaxPooling2D) (None, 32, 32, 32)        0         \n",
      "_________________________________________________________________\n",
      "conv2d_1 (Conv2D)            (None, 32, 32, 48)        13872     \n",
      "_________________________________________________________________\n",
      "max_pooling2d_1 (MaxPooling2 (None, 16, 16, 48)        0         \n",
      "_________________________________________________________________\n",
      "conv2d_2 (Conv2D)            (None, 16, 16, 64)        27712     \n",
      "_________________________________________________________________\n",
      "max_pooling2d_2 (MaxPooling2 (None, 8, 8, 64)          0         \n",
      "_________________________________________________________________\n",
      "conv2d_3 (Conv2D)            (None, 8, 8, 96)          55392     \n",
      "_________________________________________________________________\n",
      "max_pooling2d_3 (MaxPooling2 (None, 4, 4, 96)          0         \n",
      "_________________________________________________________________\n",
      "flatten (Flatten)            (None, 1536)              0         \n",
      "_________________________________________________________________\n",
      "dense (Dense)                (None, 224)               344288    \n",
      "_________________________________________________________________\n",
      "dense_1 (Dense)              (None, 3)                 675       \n",
      "=================================================================\n",
      "Total params: 442,835\n",
      "Trainable params: 442,835\n",
      "Non-trainable params: 0\n",
      "_________________________________________________________________\n"
     ]
    }
   ],
   "source": [
    "# set up model\n",
    "def createModel():\n",
    "    model = Sequential()\n",
    "    model.add(Conv2D(32,(3,3),\n",
    "                     input_shape=(img_rows,img_cols,3),\n",
    "                     padding='same',\n",
    "                     activation='relu'))\n",
    "    model.add(MaxPooling2D(pool_size=(2,2)))\n",
    "    model.add(Conv2D(48,(3,3),padding='same',activation='relu'))\n",
    "    model.add(MaxPooling2D(pool_size=(2,2)))\n",
    "    model.add(Conv2D(64,(3,3),padding='same',activation='relu'))\n",
    "    model.add(MaxPooling2D(pool_size=(2,2)))\n",
    "    model.add(Conv2D(96,(3,3),padding='same',activation='relu'))\n",
    "    model.add(MaxPooling2D(pool_size=(2,2)))\n",
    "#     model.add(Conv2D(128,(3,3),padding='same',activation='relu'))\n",
    "#     model.add(MaxPooling2D(pool_size=(2,2)))\n",
    "    model.add(Flatten())\n",
    "    model.add(Dense(224,activation='relu'))\n",
    "    model.add(Dense(3,activation='softmax'))\n",
    "\n",
    "    model.compile(loss='categorical_crossentropy',\n",
    "                  optimizer=optmz,\n",
    "                  metrics=['accuracy'])\n",
    "\n",
    "    return model\n",
    "\n",
    "model       = createModel()  # This is meant for training\n",
    "modelGo     = createModel()  # This is used for final testing\n",
    "\n",
    "model.summary()"
   ]
  },
  {
   "cell_type": "markdown",
   "metadata": {
    "colab_type": "text",
    "id": "sJEez0wdp3ce"
   },
   "source": [
    "## Fina Tune Model"
   ]
  },
  {
   "cell_type": "code",
   "execution_count": 5,
   "metadata": {
    "ExecuteTime": {
     "end_time": "2019-09-29T16:02:36.614910Z",
     "start_time": "2019-09-29T16:02:36.608530Z"
    },
    "colab": {},
    "colab_type": "code",
    "id": "HM9lFk3bLfY5"
   },
   "outputs": [],
   "source": [
    "# Create checkpoint for the training\n",
    "def lrSchedule(epoch):\n",
    "    lr  = 1e-3\n",
    "    \n",
    "    if epoch > 160:\n",
    "        lr  *= 0.5e-3\n",
    "        \n",
    "    elif epoch > 140:\n",
    "        lr  *= 1e-3\n",
    "        \n",
    "    elif epoch > 120:\n",
    "        lr  *= 1e-2\n",
    "        \n",
    "    elif epoch > 80:\n",
    "        lr  *= 1e-1\n",
    "        \n",
    "    print('Learning rate: ', lr)\n",
    "    \n",
    "    return lr\n",
    "\n",
    "LRScheduler     = LearningRateScheduler(lrSchedule)\n",
    "\n",
    "filepath        = os.path.join(PROJECT_DIR, modelname + \".hdf5\")\n",
    "checkpoint      = ModelCheckpoint(filepath, \n",
    "                                  monitor='val_acc', \n",
    "                                  verbose=0, \n",
    "                                  save_best_only=True, \n",
    "                                  mode='max')\n",
    "\n",
    "# Log the epoch detail into csv\n",
    "csv_logger      = CSVLogger(os.path.join(PROJECT_DIR,  modelname +'.csv'))\n",
    "callbacks_list  = [checkpoint,csv_logger,LRScheduler]"
   ]
  },
  {
   "cell_type": "markdown",
   "metadata": {
    "colab_type": "text",
    "id": "XVjF4lq3pF32"
   },
   "source": [
    "## Create Image Data Generator"
   ]
  },
  {
   "cell_type": "code",
   "execution_count": 6,
   "metadata": {
    "ExecuteTime": {
     "end_time": "2019-09-29T16:02:36.831875Z",
     "start_time": "2019-09-29T16:02:36.616594Z"
    },
    "colab": {
     "base_uri": "https://localhost:8080/",
     "height": 51
    },
    "colab_type": "code",
    "id": "LZQsYb2RpK5D",
    "outputId": "fc4f4d0a-ab79-4254-d072-f05e6d9c62a5"
   },
   "outputs": [
    {
     "name": "stdout",
     "output_type": "stream",
     "text": [
      "Found 2423 images belonging to 3 classes.\n",
      "Found 724 images belonging to 3 classes.\n"
     ]
    }
   ],
   "source": [
    "train_datagen = ImageDataGenerator(\n",
    "                                    rotation_range=40,\n",
    "                                    width_shift_range=0.2,\n",
    "                                    height_shift_range=0.2,\n",
    "                                    shear_range=0.2,\n",
    "                                    zoom_range=0.2)\n",
    "validation_datagen = ImageDataGenerator()\n",
    "\n",
    "train_generator = train_datagen.flow_from_directory(TRAIN_DIR,\n",
    "                                                    target_size=(img_rows, img_cols),\n",
    "                                                    batch_size=batch_size)\n",
    "\n",
    "validation_generator = validation_datagen.flow_from_directory(VALIDATION_DIR,\n",
    "                                                        target_size=(img_rows, img_cols), \n",
    "                                                        batch_size=batch_size, shuffle=False)"
   ]
  },
  {
   "cell_type": "markdown",
   "metadata": {
    "colab_type": "text",
    "id": "mrD7LSXppBu8"
   },
   "source": [
    "# Train Model"
   ]
  },
  {
   "cell_type": "code",
   "execution_count": 7,
   "metadata": {
    "ExecuteTime": {
     "end_time": "2019-09-29T16:03:13.383758Z",
     "start_time": "2019-09-29T16:02:36.833910Z"
    },
    "colab": {
     "base_uri": "https://localhost:8080/",
     "height": 1000
    },
    "colab_type": "code",
    "id": "a7o3O_ceYRrM",
    "outputId": "277169f2-c842-4944-a0e8-e4c8339b5be5"
   },
   "outputs": [
    {
     "name": "stdout",
     "output_type": "stream",
     "text": [
      "Learning rate:  0.001\n",
      "Epoch 1/200\n",
      "75/75 [==============================] - 5s 64ms/step - loss: 5.5896 - acc: 0.5261 - val_loss: 0.6639 - val_acc: 0.7244\n",
      "Learning rate:  0.001\n",
      "Epoch 2/200\n",
      "75/75 [==============================] - 3s 36ms/step - loss: 0.7636 - acc: 0.6608 - val_loss: 0.7535 - val_acc: 0.7116\n",
      "Learning rate:  0.001\n",
      "Epoch 3/200\n",
      "75/75 [==============================] - 3s 34ms/step - loss: 0.7420 - acc: 0.6700 - val_loss: 1.1696 - val_acc: 0.6023\n",
      "Learning rate:  0.001\n",
      "Epoch 4/200\n",
      "75/75 [==============================] - 3s 37ms/step - loss: 0.7091 - acc: 0.6880 - val_loss: 0.6132 - val_acc: 0.7614\n",
      "Learning rate:  0.001\n",
      "Epoch 5/200\n",
      "75/75 [==============================] - 3s 39ms/step - loss: 0.6883 - acc: 0.7026 - val_loss: 0.5755 - val_acc: 0.7642\n",
      "Learning rate:  0.001\n",
      "Epoch 6/200\n",
      "75/75 [==============================] - 3s 36ms/step - loss: 0.6774 - acc: 0.7156 - val_loss: 0.9574 - val_acc: 0.6875\n",
      "Learning rate:  0.001\n",
      "Epoch 7/200\n",
      "75/75 [==============================] - 3s 36ms/step - loss: 0.6582 - acc: 0.7277 - val_loss: 1.3619 - val_acc: 0.6321\n",
      "Learning rate:  0.001\n",
      "Epoch 8/200\n",
      "75/75 [==============================] - 3s 36ms/step - loss: 0.5943 - acc: 0.7599 - val_loss: 0.6619 - val_acc: 0.7571\n",
      "Learning rate:  0.001\n",
      "Epoch 9/200\n",
      "75/75 [==============================] - 3s 38ms/step - loss: 0.5879 - acc: 0.7541 - val_loss: 0.6771 - val_acc: 0.7713\n",
      "Learning rate:  0.001\n",
      "Epoch 10/200\n",
      "75/75 [==============================] - 3s 37ms/step - loss: 0.5954 - acc: 0.7583 - val_loss: 0.4478 - val_acc: 0.8352\n",
      "Learning rate:  0.001\n",
      "Epoch 11/200\n",
      "75/75 [==============================] - 3s 37ms/step - loss: 0.5359 - acc: 0.7846 - val_loss: 0.4057 - val_acc: 0.8452\n",
      "Learning rate:  0.001\n",
      "Epoch 12/200\n",
      "75/75 [==============================] - 3s 35ms/step - loss: 0.5462 - acc: 0.7842 - val_loss: 0.4110 - val_acc: 0.8381\n",
      "Learning rate:  0.001\n",
      "Epoch 13/200\n",
      "75/75 [==============================] - 3s 37ms/step - loss: 0.4834 - acc: 0.8139 - val_loss: 0.3814 - val_acc: 0.8537\n",
      "Learning rate:  0.001\n",
      "Epoch 14/200\n",
      "75/75 [==============================] - 3s 35ms/step - loss: 0.5172 - acc: 0.8009 - val_loss: 0.6478 - val_acc: 0.7812\n",
      "Learning rate:  0.001\n",
      "Epoch 15/200\n",
      "75/75 [==============================] - 3s 36ms/step - loss: 0.4886 - acc: 0.8126 - val_loss: 0.4696 - val_acc: 0.8409\n",
      "Learning rate:  0.001\n",
      "Epoch 16/200\n",
      "75/75 [==============================] - 3s 35ms/step - loss: 0.4730 - acc: 0.8118 - val_loss: 0.4181 - val_acc: 0.8423\n",
      "Learning rate:  0.001\n",
      "Epoch 17/200\n",
      "75/75 [==============================] - 3s 35ms/step - loss: 0.4510 - acc: 0.8260 - val_loss: 0.4839 - val_acc: 0.8324\n",
      "Learning rate:  0.001\n",
      "Epoch 18/200\n",
      "75/75 [==============================] - 3s 39ms/step - loss: 0.4566 - acc: 0.8176 - val_loss: 0.3826 - val_acc: 0.8565\n",
      "Learning rate:  0.001\n",
      "Epoch 19/200\n",
      "75/75 [==============================] - 3s 35ms/step - loss: 0.4783 - acc: 0.8121 - val_loss: 0.4735 - val_acc: 0.8338\n",
      "Learning rate:  0.001\n",
      "Epoch 20/200\n",
      "75/75 [==============================] - 3s 35ms/step - loss: 0.4140 - acc: 0.8465 - val_loss: 0.9214 - val_acc: 0.7585\n",
      "Learning rate:  0.001\n",
      "Epoch 21/200\n",
      "75/75 [==============================] - 3s 36ms/step - loss: 0.4271 - acc: 0.8430 - val_loss: 0.4931 - val_acc: 0.8409\n",
      "Learning rate:  0.001\n",
      "Epoch 22/200\n",
      "75/75 [==============================] - 3s 34ms/step - loss: 0.4110 - acc: 0.8457 - val_loss: 0.4292 - val_acc: 0.8366\n",
      "Learning rate:  0.001\n",
      "Epoch 23/200\n",
      "75/75 [==============================] - 3s 34ms/step - loss: 0.4413 - acc: 0.8321 - val_loss: 0.4719 - val_acc: 0.8210\n",
      "Learning rate:  0.001\n",
      "Epoch 24/200\n",
      "75/75 [==============================] - 3s 35ms/step - loss: 0.4061 - acc: 0.8510 - val_loss: 0.5637 - val_acc: 0.8210\n",
      "Learning rate:  0.001\n",
      "Epoch 25/200\n",
      "75/75 [==============================] - 3s 42ms/step - loss: 0.3684 - acc: 0.8565 - val_loss: 0.3914 - val_acc: 0.8736\n",
      "Learning rate:  0.001\n",
      "Epoch 26/200\n",
      "75/75 [==============================] - 3s 35ms/step - loss: 0.3997 - acc: 0.8586 - val_loss: 0.6090 - val_acc: 0.8054\n",
      "Learning rate:  0.001\n",
      "Epoch 27/200\n",
      "75/75 [==============================] - 3s 37ms/step - loss: 0.4205 - acc: 0.8427 - val_loss: 0.6182 - val_acc: 0.8040\n",
      "Learning rate:  0.001\n",
      "Epoch 28/200\n",
      "75/75 [==============================] - 3s 38ms/step - loss: 0.3885 - acc: 0.8553 - val_loss: 0.3716 - val_acc: 0.8665\n",
      "Learning rate:  0.001\n",
      "Epoch 29/200\n",
      "75/75 [==============================] - 3s 35ms/step - loss: 0.3655 - acc: 0.8591 - val_loss: 0.3797 - val_acc: 0.8651\n",
      "Learning rate:  0.001\n",
      "Epoch 30/200\n",
      "75/75 [==============================] - 3s 36ms/step - loss: 0.3451 - acc: 0.8717 - val_loss: 0.4365 - val_acc: 0.8608\n",
      "Learning rate:  0.001\n",
      "Epoch 31/200\n",
      "75/75 [==============================] - 3s 34ms/step - loss: 0.3179 - acc: 0.8741 - val_loss: 0.3976 - val_acc: 0.8565\n",
      "Learning rate:  0.001\n",
      "Epoch 32/200\n",
      "75/75 [==============================] - 3s 34ms/step - loss: 0.3496 - acc: 0.8669 - val_loss: 0.5371 - val_acc: 0.8466\n",
      "Learning rate:  0.001\n",
      "Epoch 33/200\n",
      "75/75 [==============================] - 3s 35ms/step - loss: 0.3294 - acc: 0.8703 - val_loss: 0.7051 - val_acc: 0.7855\n",
      "Learning rate:  0.001\n",
      "Epoch 34/200\n",
      "75/75 [==============================] - 3s 36ms/step - loss: 0.3452 - acc: 0.8671 - val_loss: 0.4083 - val_acc: 0.8395\n",
      "Learning rate:  0.001\n",
      "Epoch 35/200\n",
      "75/75 [==============================] - 3s 33ms/step - loss: 0.3417 - acc: 0.8678 - val_loss: 0.3824 - val_acc: 0.8722\n",
      "Learning rate:  0.001\n",
      "Epoch 36/200\n",
      "75/75 [==============================] - 3s 34ms/step - loss: 0.3185 - acc: 0.8792 - val_loss: 0.6084 - val_acc: 0.8153\n",
      "Learning rate:  0.001\n",
      "Epoch 37/200\n",
      "75/75 [==============================] - 3s 39ms/step - loss: 0.3223 - acc: 0.8804 - val_loss: 0.3764 - val_acc: 0.8778\n",
      "Learning rate:  0.001\n",
      "Epoch 38/200\n",
      "75/75 [==============================] - 3s 36ms/step - loss: 0.3529 - acc: 0.8690 - val_loss: 0.5383 - val_acc: 0.7955\n",
      "Learning rate:  0.001\n",
      "Epoch 39/200\n",
      "75/75 [==============================] - 3s 35ms/step - loss: 0.3415 - acc: 0.8653 - val_loss: 0.5386 - val_acc: 0.8196\n",
      "Learning rate:  0.001\n",
      "Epoch 40/200\n",
      "75/75 [==============================] - 3s 36ms/step - loss: 0.3162 - acc: 0.8766 - val_loss: 0.5003 - val_acc: 0.8168\n",
      "Learning rate:  0.001\n",
      "Epoch 41/200\n",
      "75/75 [==============================] - 3s 37ms/step - loss: 0.3034 - acc: 0.8813 - val_loss: 0.4163 - val_acc: 0.8594\n",
      "Learning rate:  0.001\n",
      "Epoch 42/200\n",
      "75/75 [==============================] - 3s 35ms/step - loss: 0.3149 - acc: 0.8804 - val_loss: 0.9567 - val_acc: 0.7628\n",
      "Learning rate:  0.001\n",
      "Epoch 43/200\n",
      "75/75 [==============================] - 3s 36ms/step - loss: 0.3316 - acc: 0.8670 - val_loss: 0.3928 - val_acc: 0.8636\n",
      "Learning rate:  0.001\n",
      "Epoch 44/200\n",
      "75/75 [==============================] - 3s 34ms/step - loss: 0.3193 - acc: 0.8733 - val_loss: 0.4808 - val_acc: 0.8466\n",
      "Learning rate:  0.001\n",
      "Epoch 45/200\n",
      "75/75 [==============================] - 3s 34ms/step - loss: 0.2943 - acc: 0.8883 - val_loss: 0.6304 - val_acc: 0.8267\n",
      "Learning rate:  0.001\n",
      "Epoch 46/200\n",
      "75/75 [==============================] - 3s 34ms/step - loss: 0.3151 - acc: 0.8854 - val_loss: 0.8332 - val_acc: 0.8026\n",
      "Learning rate:  0.001\n",
      "Epoch 47/200\n",
      "75/75 [==============================] - 3s 34ms/step - loss: 0.2766 - acc: 0.8929 - val_loss: 0.8079 - val_acc: 0.7983\n",
      "Learning rate:  0.001\n",
      "Epoch 48/200\n",
      "75/75 [==============================] - 3s 34ms/step - loss: 0.3050 - acc: 0.8887 - val_loss: 0.5926 - val_acc: 0.8281\n",
      "Learning rate:  0.001\n",
      "Epoch 49/200\n",
      "75/75 [==============================] - 3s 34ms/step - loss: 0.3201 - acc: 0.8850 - val_loss: 0.3865 - val_acc: 0.8651\n",
      "Learning rate:  0.001\n",
      "Epoch 50/200\n",
      "75/75 [==============================] - 3s 34ms/step - loss: 0.2932 - acc: 0.8917 - val_loss: 0.8194 - val_acc: 0.7798\n",
      "Learning rate:  0.001\n",
      "Epoch 51/200\n",
      "75/75 [==============================] - 3s 34ms/step - loss: 0.3083 - acc: 0.8762 - val_loss: 0.3986 - val_acc: 0.8736\n",
      "Learning rate:  0.001\n",
      "Epoch 52/200\n",
      "75/75 [==============================] - 3s 35ms/step - loss: 0.2990 - acc: 0.8795 - val_loss: 0.3807 - val_acc: 0.8693\n",
      "Learning rate:  0.001\n",
      "Epoch 53/200\n",
      "75/75 [==============================] - 3s 35ms/step - loss: 0.2886 - acc: 0.8879 - val_loss: 0.7123 - val_acc: 0.7656\n"
     ]
    },
    {
     "name": "stdout",
     "output_type": "stream",
     "text": [
      "Learning rate:  0.001\n",
      "Epoch 54/200\n",
      "75/75 [==============================] - 3s 34ms/step - loss: 0.2953 - acc: 0.8913 - val_loss: 0.3964 - val_acc: 0.8622\n",
      "Learning rate:  0.001\n",
      "Epoch 55/200\n",
      "75/75 [==============================] - 3s 37ms/step - loss: 0.2637 - acc: 0.8913 - val_loss: 0.3832 - val_acc: 0.8835\n",
      "Learning rate:  0.001\n",
      "Epoch 56/200\n",
      "75/75 [==============================] - 3s 36ms/step - loss: 0.2397 - acc: 0.9126 - val_loss: 0.3572 - val_acc: 0.8793\n",
      "Learning rate:  0.001\n",
      "Epoch 57/200\n",
      "75/75 [==============================] - 3s 37ms/step - loss: 0.2787 - acc: 0.8959 - val_loss: 0.3652 - val_acc: 0.8949\n",
      "Learning rate:  0.001\n",
      "Epoch 58/200\n",
      "75/75 [==============================] - 3s 36ms/step - loss: 0.2560 - acc: 0.9030 - val_loss: 0.3322 - val_acc: 0.8920\n",
      "Learning rate:  0.001\n",
      "Epoch 59/200\n",
      "75/75 [==============================] - 3s 34ms/step - loss: 0.2588 - acc: 0.9059 - val_loss: 0.4491 - val_acc: 0.8523\n",
      "Learning rate:  0.001\n",
      "Epoch 60/200\n",
      "75/75 [==============================] - 3s 34ms/step - loss: 0.2888 - acc: 0.8946 - val_loss: 0.4083 - val_acc: 0.8580\n",
      "Learning rate:  0.001\n",
      "Epoch 61/200\n",
      "75/75 [==============================] - 3s 34ms/step - loss: 0.2468 - acc: 0.9051 - val_loss: 0.3978 - val_acc: 0.8665\n",
      "Learning rate:  0.001\n",
      "Epoch 62/200\n",
      "75/75 [==============================] - 3s 34ms/step - loss: 0.2804 - acc: 0.8883 - val_loss: 0.5125 - val_acc: 0.8395\n",
      "Learning rate:  0.001\n",
      "Epoch 63/200\n",
      "75/75 [==============================] - 3s 35ms/step - loss: 0.2667 - acc: 0.9042 - val_loss: 0.4446 - val_acc: 0.8707\n",
      "Learning rate:  0.001\n",
      "Epoch 64/200\n",
      "75/75 [==============================] - 3s 35ms/step - loss: 0.2451 - acc: 0.9064 - val_loss: 0.5013 - val_acc: 0.8395\n",
      "Learning rate:  0.001\n",
      "Epoch 65/200\n",
      "75/75 [==============================] - 3s 36ms/step - loss: 0.2600 - acc: 0.9050 - val_loss: 0.4457 - val_acc: 0.8366\n",
      "Learning rate:  0.001\n",
      "Epoch 66/200\n",
      "75/75 [==============================] - 3s 35ms/step - loss: 0.2530 - acc: 0.9092 - val_loss: 0.4983 - val_acc: 0.8636\n",
      "Learning rate:  0.001\n",
      "Epoch 67/200\n",
      "75/75 [==============================] - 3s 36ms/step - loss: 0.2396 - acc: 0.9110 - val_loss: 0.4427 - val_acc: 0.8764\n",
      "Learning rate:  0.001\n",
      "Epoch 68/200\n",
      "75/75 [==============================] - 3s 38ms/step - loss: 0.2259 - acc: 0.9159 - val_loss: 0.3794 - val_acc: 0.8793\n",
      "Learning rate:  0.001\n",
      "Epoch 69/200\n",
      "75/75 [==============================] - 3s 35ms/step - loss: 0.2306 - acc: 0.9100 - val_loss: 0.4665 - val_acc: 0.8764\n",
      "Learning rate:  0.001\n",
      "Epoch 70/200\n",
      "75/75 [==============================] - 3s 35ms/step - loss: 0.2282 - acc: 0.9080 - val_loss: 0.5919 - val_acc: 0.8295\n",
      "Learning rate:  0.001\n",
      "Epoch 71/200\n",
      "75/75 [==============================] - 3s 34ms/step - loss: 0.2215 - acc: 0.9176 - val_loss: 0.6435 - val_acc: 0.8438\n",
      "Learning rate:  0.001\n",
      "Epoch 72/200\n",
      "75/75 [==============================] - 3s 35ms/step - loss: 0.2134 - acc: 0.9197 - val_loss: 0.4912 - val_acc: 0.8764\n",
      "Learning rate:  0.001\n",
      "Epoch 73/200\n",
      "75/75 [==============================] - 3s 36ms/step - loss: 0.2250 - acc: 0.9197 - val_loss: 0.4051 - val_acc: 0.8722\n",
      "Learning rate:  0.001\n",
      "Epoch 74/200\n",
      "75/75 [==============================] - 3s 37ms/step - loss: 0.2498 - acc: 0.9026 - val_loss: 0.4954 - val_acc: 0.8750\n",
      "Learning rate:  0.001\n",
      "Epoch 75/200\n",
      "75/75 [==============================] - 3s 37ms/step - loss: 0.2388 - acc: 0.9101 - val_loss: 0.4567 - val_acc: 0.8750\n",
      "Learning rate:  0.001\n",
      "Epoch 76/200\n",
      "75/75 [==============================] - 2s 32ms/step - loss: 0.2237 - acc: 0.9143 - val_loss: 0.6611 - val_acc: 0.7997\n",
      "Learning rate:  0.001\n",
      "Epoch 77/200\n",
      "75/75 [==============================] - 2s 32ms/step - loss: 0.2419 - acc: 0.9084 - val_loss: 0.4996 - val_acc: 0.8778\n",
      "Learning rate:  0.001\n",
      "Epoch 78/200\n",
      "75/75 [==============================] - 3s 36ms/step - loss: 0.2185 - acc: 0.9189 - val_loss: 0.4680 - val_acc: 0.8693\n",
      "Learning rate:  0.001\n",
      "Epoch 79/200\n",
      "75/75 [==============================] - 3s 36ms/step - loss: 0.2139 - acc: 0.9235 - val_loss: 0.6269 - val_acc: 0.8324\n",
      "Learning rate:  0.001\n",
      "Epoch 80/200\n",
      "75/75 [==============================] - 3s 36ms/step - loss: 0.2128 - acc: 0.9201 - val_loss: 0.6509 - val_acc: 0.8452\n",
      "Learning rate:  0.001\n",
      "Epoch 81/200\n",
      "75/75 [==============================] - 3s 36ms/step - loss: 0.2339 - acc: 0.9205 - val_loss: 0.9005 - val_acc: 0.7770\n",
      "Learning rate:  0.0001\n",
      "Epoch 82/200\n",
      "75/75 [==============================] - 3s 34ms/step - loss: 0.1720 - acc: 0.9435 - val_loss: 0.4757 - val_acc: 0.8722\n",
      "Learning rate:  0.0001\n",
      "Epoch 83/200\n",
      "75/75 [==============================] - 3s 35ms/step - loss: 0.1337 - acc: 0.9490 - val_loss: 0.4783 - val_acc: 0.8764\n",
      "Learning rate:  0.0001\n",
      "Epoch 84/200\n",
      "75/75 [==============================] - 3s 37ms/step - loss: 0.1419 - acc: 0.9511 - val_loss: 0.4637 - val_acc: 0.8807\n",
      "Learning rate:  0.0001\n",
      "Epoch 85/200\n",
      "75/75 [==============================] - 3s 35ms/step - loss: 0.1300 - acc: 0.9540 - val_loss: 0.4386 - val_acc: 0.8821\n",
      "Learning rate:  0.0001\n",
      "Epoch 86/200\n",
      "75/75 [==============================] - 3s 36ms/step - loss: 0.1304 - acc: 0.9548 - val_loss: 0.4457 - val_acc: 0.8835\n",
      "Learning rate:  0.0001\n",
      "Epoch 87/200\n",
      "75/75 [==============================] - 3s 35ms/step - loss: 0.1128 - acc: 0.9552 - val_loss: 0.4532 - val_acc: 0.8679\n",
      "Learning rate:  0.0001\n",
      "Epoch 88/200\n",
      "75/75 [==============================] - 3s 34ms/step - loss: 0.1171 - acc: 0.9590 - val_loss: 0.5803 - val_acc: 0.8580\n",
      "Learning rate:  0.0001\n",
      "Epoch 89/200\n",
      "75/75 [==============================] - 3s 34ms/step - loss: 0.1215 - acc: 0.9582 - val_loss: 0.4878 - val_acc: 0.8679\n",
      "Learning rate:  0.0001\n",
      "Epoch 90/200\n",
      "75/75 [==============================] - 3s 34ms/step - loss: 0.0979 - acc: 0.9649 - val_loss: 0.5175 - val_acc: 0.8722\n",
      "Learning rate:  0.0001\n",
      "Epoch 91/200\n",
      "75/75 [==============================] - 3s 40ms/step - loss: 0.1164 - acc: 0.9567 - val_loss: 0.4031 - val_acc: 0.8977\n",
      "Learning rate:  0.0001\n",
      "Epoch 92/200\n",
      "75/75 [==============================] - 3s 35ms/step - loss: 0.1271 - acc: 0.9551 - val_loss: 0.4490 - val_acc: 0.8793\n",
      "Learning rate:  0.0001\n",
      "Epoch 93/200\n",
      "75/75 [==============================] - 3s 35ms/step - loss: 0.1061 - acc: 0.9611 - val_loss: 0.5017 - val_acc: 0.8693\n",
      "Learning rate:  0.0001\n",
      "Epoch 94/200\n",
      "75/75 [==============================] - 3s 35ms/step - loss: 0.1103 - acc: 0.9603 - val_loss: 0.4873 - val_acc: 0.8864\n",
      "Learning rate:  0.0001\n",
      "Epoch 95/200\n",
      "75/75 [==============================] - 3s 34ms/step - loss: 0.0855 - acc: 0.9686 - val_loss: 0.5154 - val_acc: 0.8750\n",
      "Learning rate:  0.0001\n",
      "Epoch 96/200\n",
      "75/75 [==============================] - 3s 34ms/step - loss: 0.1055 - acc: 0.9624 - val_loss: 0.4810 - val_acc: 0.8793\n",
      "Learning rate:  0.0001\n",
      "Epoch 97/200\n",
      "75/75 [==============================] - 3s 35ms/step - loss: 0.0885 - acc: 0.9703 - val_loss: 0.4881 - val_acc: 0.8821\n",
      "Learning rate:  0.0001\n",
      "Epoch 98/200\n",
      "75/75 [==============================] - 3s 35ms/step - loss: 0.1094 - acc: 0.9628 - val_loss: 0.5979 - val_acc: 0.8594\n",
      "Learning rate:  0.0001\n",
      "Epoch 99/200\n",
      "75/75 [==============================] - 3s 34ms/step - loss: 0.1074 - acc: 0.9678 - val_loss: 0.4522 - val_acc: 0.8835\n",
      "Learning rate:  0.0001\n",
      "Epoch 100/200\n",
      "75/75 [==============================] - 3s 34ms/step - loss: 0.0939 - acc: 0.9653 - val_loss: 0.4153 - val_acc: 0.8935\n",
      "Learning rate:  0.0001\n",
      "Epoch 101/200\n",
      "75/75 [==============================] - 3s 35ms/step - loss: 0.0822 - acc: 0.9700 - val_loss: 0.4977 - val_acc: 0.8750\n",
      "Learning rate:  0.0001\n",
      "Epoch 102/200\n",
      "75/75 [==============================] - 3s 35ms/step - loss: 0.0804 - acc: 0.9715 - val_loss: 0.4721 - val_acc: 0.8849\n",
      "Learning rate:  0.0001\n",
      "Epoch 103/200\n",
      "75/75 [==============================] - 3s 36ms/step - loss: 0.0988 - acc: 0.9625 - val_loss: 0.4920 - val_acc: 0.8807\n",
      "Learning rate:  0.0001\n",
      "Epoch 104/200\n",
      "75/75 [==============================] - 3s 35ms/step - loss: 0.0801 - acc: 0.9698 - val_loss: 0.4949 - val_acc: 0.8821\n",
      "Learning rate:  0.0001\n",
      "Epoch 105/200\n",
      "75/75 [==============================] - 3s 35ms/step - loss: 0.0891 - acc: 0.9699 - val_loss: 0.5696 - val_acc: 0.8750\n",
      "Learning rate:  0.0001\n",
      "Epoch 106/200\n"
     ]
    },
    {
     "name": "stdout",
     "output_type": "stream",
     "text": [
      "75/75 [==============================] - 3s 34ms/step - loss: 0.0944 - acc: 0.9678 - val_loss: 0.4885 - val_acc: 0.8864\n",
      "Learning rate:  0.0001\n",
      "Epoch 107/200\n",
      "75/75 [==============================] - 3s 34ms/step - loss: 0.1010 - acc: 0.9645 - val_loss: 0.5004 - val_acc: 0.8736\n",
      "Learning rate:  0.0001\n",
      "Epoch 108/200\n",
      "75/75 [==============================] - 3s 34ms/step - loss: 0.0971 - acc: 0.9636 - val_loss: 0.5355 - val_acc: 0.8722\n",
      "Learning rate:  0.0001\n",
      "Epoch 109/200\n",
      "75/75 [==============================] - 3s 34ms/step - loss: 0.1024 - acc: 0.9678 - val_loss: 0.4830 - val_acc: 0.8892\n",
      "Learning rate:  0.0001\n",
      "Epoch 110/200\n",
      "75/75 [==============================] - 3s 34ms/step - loss: 0.0885 - acc: 0.9675 - val_loss: 0.4848 - val_acc: 0.8835\n",
      "Learning rate:  0.0001\n",
      "Epoch 111/200\n",
      "75/75 [==============================] - 3s 34ms/step - loss: 0.0919 - acc: 0.9661 - val_loss: 0.5224 - val_acc: 0.8807\n",
      "Learning rate:  0.0001\n",
      "Epoch 112/200\n",
      "75/75 [==============================] - 3s 34ms/step - loss: 0.0686 - acc: 0.9757 - val_loss: 0.5395 - val_acc: 0.8679\n",
      "Learning rate:  0.0001\n",
      "Epoch 113/200\n",
      "75/75 [==============================] - 3s 34ms/step - loss: 0.0915 - acc: 0.9694 - val_loss: 0.5899 - val_acc: 0.8693\n",
      "Learning rate:  0.0001\n",
      "Epoch 114/200\n",
      "75/75 [==============================] - 3s 35ms/step - loss: 0.0808 - acc: 0.9724 - val_loss: 0.6384 - val_acc: 0.8622\n",
      "Learning rate:  0.0001\n",
      "Epoch 115/200\n",
      "75/75 [==============================] - 3s 35ms/step - loss: 0.0894 - acc: 0.9707 - val_loss: 0.5525 - val_acc: 0.8778\n",
      "Learning rate:  0.0001\n",
      "Epoch 116/200\n",
      "75/75 [==============================] - 3s 35ms/step - loss: 0.0737 - acc: 0.9745 - val_loss: 0.6103 - val_acc: 0.8693\n",
      "Learning rate:  0.0001\n",
      "Epoch 117/200\n",
      "75/75 [==============================] - 3s 35ms/step - loss: 0.0845 - acc: 0.9691 - val_loss: 0.6620 - val_acc: 0.8509\n",
      "Learning rate:  0.0001\n",
      "Epoch 118/200\n",
      "75/75 [==============================] - 3s 34ms/step - loss: 0.0821 - acc: 0.9683 - val_loss: 0.6041 - val_acc: 0.8594\n",
      "Learning rate:  0.0001\n",
      "Epoch 119/200\n",
      "75/75 [==============================] - 3s 34ms/step - loss: 0.0892 - acc: 0.9731 - val_loss: 0.6121 - val_acc: 0.8565\n",
      "Learning rate:  0.0001\n",
      "Epoch 120/200\n",
      "75/75 [==============================] - 3s 34ms/step - loss: 0.0698 - acc: 0.9749 - val_loss: 0.5100 - val_acc: 0.8793\n",
      "Learning rate:  0.0001\n",
      "Epoch 121/200\n",
      "75/75 [==============================] - 3s 34ms/step - loss: 0.0877 - acc: 0.9696 - val_loss: 0.6130 - val_acc: 0.8608\n",
      "Learning rate:  1e-05\n",
      "Epoch 122/200\n",
      "75/75 [==============================] - 3s 34ms/step - loss: 0.0735 - acc: 0.9723 - val_loss: 0.5928 - val_acc: 0.8679\n",
      "Learning rate:  1e-05\n",
      "Epoch 123/200\n",
      "75/75 [==============================] - 3s 34ms/step - loss: 0.0690 - acc: 0.9729 - val_loss: 0.5925 - val_acc: 0.8651\n",
      "Learning rate:  1e-05\n",
      "Epoch 124/200\n",
      "75/75 [==============================] - 3s 34ms/step - loss: 0.0786 - acc: 0.9703 - val_loss: 0.5448 - val_acc: 0.8764\n",
      "Learning rate:  1e-05\n",
      "Epoch 125/200\n",
      "75/75 [==============================] - 3s 34ms/step - loss: 0.0627 - acc: 0.9783 - val_loss: 0.5795 - val_acc: 0.8722\n",
      "Learning rate:  1e-05\n",
      "Epoch 126/200\n",
      "75/75 [==============================] - 3s 34ms/step - loss: 0.0557 - acc: 0.9828 - val_loss: 0.5952 - val_acc: 0.8707\n",
      "Learning rate:  1e-05\n",
      "Epoch 127/200\n",
      "75/75 [==============================] - 3s 34ms/step - loss: 0.0709 - acc: 0.9729 - val_loss: 0.5762 - val_acc: 0.8707\n",
      "Learning rate:  1e-05\n",
      "Epoch 128/200\n",
      "75/75 [==============================] - 3s 35ms/step - loss: 0.0666 - acc: 0.9778 - val_loss: 0.5870 - val_acc: 0.8736\n",
      "Learning rate:  1e-05\n",
      "Epoch 129/200\n",
      "75/75 [==============================] - 3s 34ms/step - loss: 0.0612 - acc: 0.9783 - val_loss: 0.5747 - val_acc: 0.8707\n",
      "Learning rate:  1e-05\n",
      "Epoch 130/200\n",
      "75/75 [==============================] - 3s 34ms/step - loss: 0.0528 - acc: 0.9841 - val_loss: 0.5849 - val_acc: 0.8707\n",
      "Learning rate:  1e-05\n",
      "Epoch 131/200\n",
      "75/75 [==============================] - 3s 34ms/step - loss: 0.0648 - acc: 0.9778 - val_loss: 0.5881 - val_acc: 0.8707\n",
      "Learning rate:  1e-05\n",
      "Epoch 132/200\n",
      "75/75 [==============================] - 3s 34ms/step - loss: 0.0617 - acc: 0.9795 - val_loss: 0.5579 - val_acc: 0.8707\n",
      "Learning rate:  1e-05\n",
      "Epoch 133/200\n",
      "75/75 [==============================] - 3s 34ms/step - loss: 0.0651 - acc: 0.9794 - val_loss: 0.5787 - val_acc: 0.8707\n",
      "Learning rate:  1e-05\n",
      "Epoch 134/200\n",
      "75/75 [==============================] - 3s 34ms/step - loss: 0.0686 - acc: 0.9750 - val_loss: 0.5718 - val_acc: 0.8693\n",
      "Learning rate:  1e-05\n",
      "Epoch 135/200\n",
      "75/75 [==============================] - 3s 35ms/step - loss: 0.0558 - acc: 0.9799 - val_loss: 0.5640 - val_acc: 0.8693\n",
      "Learning rate:  1e-05\n",
      "Epoch 136/200\n",
      "75/75 [==============================] - 3s 34ms/step - loss: 0.0726 - acc: 0.9749 - val_loss: 0.5772 - val_acc: 0.8665\n",
      "Learning rate:  1e-05\n",
      "Epoch 137/200\n",
      "75/75 [==============================] - 3s 35ms/step - loss: 0.0674 - acc: 0.9791 - val_loss: 0.5894 - val_acc: 0.8707\n",
      "Learning rate:  1e-05\n",
      "Epoch 138/200\n",
      "75/75 [==============================] - 3s 35ms/step - loss: 0.0713 - acc: 0.9749 - val_loss: 0.5915 - val_acc: 0.8707\n",
      "Learning rate:  1e-05\n",
      "Epoch 139/200\n",
      "75/75 [==============================] - 3s 35ms/step - loss: 0.0646 - acc: 0.9766 - val_loss: 0.5853 - val_acc: 0.8722\n",
      "Learning rate:  1e-05\n",
      "Epoch 140/200\n",
      "75/75 [==============================] - 3s 35ms/step - loss: 0.0707 - acc: 0.9748 - val_loss: 0.6395 - val_acc: 0.8665\n",
      "Learning rate:  1e-05\n",
      "Epoch 141/200\n",
      "75/75 [==============================] - 3s 35ms/step - loss: 0.0622 - acc: 0.9737 - val_loss: 0.5970 - val_acc: 0.8693\n",
      "Learning rate:  1e-06\n",
      "Epoch 142/200\n",
      "75/75 [==============================] - 3s 35ms/step - loss: 0.0603 - acc: 0.9796 - val_loss: 0.5996 - val_acc: 0.8693\n",
      "Learning rate:  1e-06\n",
      "Epoch 143/200\n",
      "75/75 [==============================] - 3s 35ms/step - loss: 0.0677 - acc: 0.9795 - val_loss: 0.5939 - val_acc: 0.8693\n",
      "Learning rate:  1e-06\n",
      "Epoch 144/200\n",
      "75/75 [==============================] - 3s 34ms/step - loss: 0.0673 - acc: 0.9720 - val_loss: 0.5921 - val_acc: 0.8707\n",
      "Learning rate:  1e-06\n",
      "Epoch 145/200\n",
      "75/75 [==============================] - 3s 34ms/step - loss: 0.0611 - acc: 0.9791 - val_loss: 0.5941 - val_acc: 0.8707\n",
      "Learning rate:  1e-06\n",
      "Epoch 146/200\n",
      "75/75 [==============================] - 3s 34ms/step - loss: 0.0640 - acc: 0.9757 - val_loss: 0.5958 - val_acc: 0.8693\n",
      "Learning rate:  1e-06\n",
      "Epoch 147/200\n",
      "75/75 [==============================] - 3s 35ms/step - loss: 0.0662 - acc: 0.9746 - val_loss: 0.5968 - val_acc: 0.8707\n",
      "Learning rate:  1e-06\n",
      "Epoch 148/200\n",
      "75/75 [==============================] - 3s 34ms/step - loss: 0.0630 - acc: 0.9778 - val_loss: 0.5947 - val_acc: 0.8707\n",
      "Learning rate:  1e-06\n",
      "Epoch 149/200\n",
      "75/75 [==============================] - 3s 35ms/step - loss: 0.0659 - acc: 0.9762 - val_loss: 0.5973 - val_acc: 0.8707\n",
      "Learning rate:  1e-06\n",
      "Epoch 150/200\n",
      "75/75 [==============================] - 3s 35ms/step - loss: 0.0615 - acc: 0.9778 - val_loss: 0.5983 - val_acc: 0.8707\n",
      "Learning rate:  1e-06\n",
      "Epoch 151/200\n",
      "75/75 [==============================] - 2s 33ms/step - loss: 0.0684 - acc: 0.9749 - val_loss: 0.5974 - val_acc: 0.8707\n",
      "Learning rate:  1e-06\n",
      "Epoch 152/200\n",
      "75/75 [==============================] - 2s 32ms/step - loss: 0.0718 - acc: 0.9745 - val_loss: 0.5986 - val_acc: 0.8736\n",
      "Learning rate:  1e-06\n",
      "Epoch 153/200\n",
      "75/75 [==============================] - 2s 33ms/step - loss: 0.0627 - acc: 0.9791 - val_loss: 0.6000 - val_acc: 0.8736\n",
      "Learning rate:  1e-06\n",
      "Epoch 154/200\n",
      "75/75 [==============================] - 3s 37ms/step - loss: 0.0564 - acc: 0.9803 - val_loss: 0.6052 - val_acc: 0.8722\n",
      "Learning rate:  1e-06\n",
      "Epoch 155/200\n",
      "75/75 [==============================] - 3s 34ms/step - loss: 0.0635 - acc: 0.9799 - val_loss: 0.6024 - val_acc: 0.8736\n",
      "Learning rate:  1e-06\n",
      "Epoch 156/200\n",
      "75/75 [==============================] - 3s 34ms/step - loss: 0.0624 - acc: 0.9783 - val_loss: 0.6003 - val_acc: 0.8722\n",
      "Learning rate:  1e-06\n",
      "Epoch 157/200\n",
      "75/75 [==============================] - 3s 34ms/step - loss: 0.0586 - acc: 0.9812 - val_loss: 0.6015 - val_acc: 0.8722\n",
      "Learning rate:  1e-06\n",
      "Epoch 158/200\n"
     ]
    },
    {
     "name": "stdout",
     "output_type": "stream",
     "text": [
      "75/75 [==============================] - 3s 35ms/step - loss: 0.0629 - acc: 0.9770 - val_loss: 0.5990 - val_acc: 0.8736\n",
      "Learning rate:  1e-06\n",
      "Epoch 159/200\n",
      "75/75 [==============================] - 3s 35ms/step - loss: 0.0581 - acc: 0.9816 - val_loss: 0.5958 - val_acc: 0.8736\n",
      "Learning rate:  1e-06\n",
      "Epoch 160/200\n",
      "75/75 [==============================] - 3s 36ms/step - loss: 0.0675 - acc: 0.9783 - val_loss: 0.5932 - val_acc: 0.8736\n",
      "Learning rate:  1e-06\n",
      "Epoch 161/200\n",
      "75/75 [==============================] - 3s 35ms/step - loss: 0.0562 - acc: 0.9808 - val_loss: 0.5958 - val_acc: 0.8736\n",
      "Learning rate:  5e-07\n",
      "Epoch 162/200\n",
      "75/75 [==============================] - 3s 35ms/step - loss: 0.0705 - acc: 0.9720 - val_loss: 0.5935 - val_acc: 0.8736\n",
      "Learning rate:  5e-07\n",
      "Epoch 163/200\n",
      "75/75 [==============================] - 3s 35ms/step - loss: 0.0684 - acc: 0.9741 - val_loss: 0.5947 - val_acc: 0.8736\n",
      "Learning rate:  5e-07\n",
      "Epoch 164/200\n",
      "75/75 [==============================] - 3s 35ms/step - loss: 0.0704 - acc: 0.9699 - val_loss: 0.5936 - val_acc: 0.8736\n",
      "Learning rate:  5e-07\n",
      "Epoch 165/200\n",
      "75/75 [==============================] - 3s 34ms/step - loss: 0.0587 - acc: 0.9796 - val_loss: 0.5943 - val_acc: 0.8736\n",
      "Learning rate:  5e-07\n",
      "Epoch 166/200\n",
      "75/75 [==============================] - 3s 35ms/step - loss: 0.0688 - acc: 0.9773 - val_loss: 0.5940 - val_acc: 0.8722\n",
      "Learning rate:  5e-07\n",
      "Epoch 167/200\n",
      "75/75 [==============================] - 3s 35ms/step - loss: 0.0732 - acc: 0.9741 - val_loss: 0.5938 - val_acc: 0.8722\n",
      "Learning rate:  5e-07\n",
      "Epoch 168/200\n",
      "75/75 [==============================] - 3s 37ms/step - loss: 0.0667 - acc: 0.9757 - val_loss: 0.5954 - val_acc: 0.8722\n",
      "Learning rate:  5e-07\n",
      "Epoch 169/200\n",
      "75/75 [==============================] - 3s 35ms/step - loss: 0.0558 - acc: 0.9783 - val_loss: 0.5945 - val_acc: 0.8722\n",
      "Learning rate:  5e-07\n",
      "Epoch 170/200\n",
      "75/75 [==============================] - 3s 34ms/step - loss: 0.0699 - acc: 0.9766 - val_loss: 0.5928 - val_acc: 0.8722\n",
      "Learning rate:  5e-07\n",
      "Epoch 171/200\n",
      "75/75 [==============================] - 3s 34ms/step - loss: 0.0673 - acc: 0.9767 - val_loss: 0.5922 - val_acc: 0.8707\n",
      "Learning rate:  5e-07\n",
      "Epoch 172/200\n",
      "75/75 [==============================] - 2s 33ms/step - loss: 0.0604 - acc: 0.9803 - val_loss: 0.5936 - val_acc: 0.8722\n",
      "Learning rate:  5e-07\n",
      "Epoch 173/200\n",
      "75/75 [==============================] - 3s 35ms/step - loss: 0.0718 - acc: 0.9731 - val_loss: 0.5930 - val_acc: 0.8707\n",
      "Learning rate:  5e-07\n",
      "Epoch 174/200\n",
      "75/75 [==============================] - 3s 34ms/step - loss: 0.0566 - acc: 0.9804 - val_loss: 0.5924 - val_acc: 0.8736\n",
      "Learning rate:  5e-07\n",
      "Epoch 175/200\n",
      "75/75 [==============================] - 3s 35ms/step - loss: 0.0712 - acc: 0.9757 - val_loss: 0.5952 - val_acc: 0.8707\n",
      "Learning rate:  5e-07\n",
      "Epoch 176/200\n",
      "75/75 [==============================] - 3s 34ms/step - loss: 0.0639 - acc: 0.9766 - val_loss: 0.5942 - val_acc: 0.8707\n",
      "Learning rate:  5e-07\n",
      "Epoch 177/200\n",
      "75/75 [==============================] - 3s 35ms/step - loss: 0.0658 - acc: 0.9775 - val_loss: 0.5950 - val_acc: 0.8722\n",
      "Learning rate:  5e-07\n",
      "Epoch 178/200\n",
      "75/75 [==============================] - 3s 34ms/step - loss: 0.0759 - acc: 0.9716 - val_loss: 0.5939 - val_acc: 0.8722\n",
      "Learning rate:  5e-07\n",
      "Epoch 179/200\n",
      "75/75 [==============================] - 3s 35ms/step - loss: 0.0655 - acc: 0.9757 - val_loss: 0.5956 - val_acc: 0.8722\n",
      "Learning rate:  5e-07\n",
      "Epoch 180/200\n",
      "75/75 [==============================] - 3s 34ms/step - loss: 0.0643 - acc: 0.9773 - val_loss: 0.5952 - val_acc: 0.8722\n",
      "Learning rate:  5e-07\n",
      "Epoch 181/200\n",
      "75/75 [==============================] - 3s 34ms/step - loss: 0.0682 - acc: 0.9746 - val_loss: 0.5950 - val_acc: 0.8722\n",
      "Learning rate:  5e-07\n",
      "Epoch 182/200\n",
      "75/75 [==============================] - 3s 34ms/step - loss: 0.0651 - acc: 0.9777 - val_loss: 0.5950 - val_acc: 0.8722\n",
      "Learning rate:  5e-07\n",
      "Epoch 183/200\n",
      "75/75 [==============================] - 3s 34ms/step - loss: 0.0678 - acc: 0.9733 - val_loss: 0.5937 - val_acc: 0.8722\n",
      "Learning rate:  5e-07\n",
      "Epoch 184/200\n",
      "75/75 [==============================] - 3s 34ms/step - loss: 0.0690 - acc: 0.9799 - val_loss: 0.5928 - val_acc: 0.8722\n",
      "Learning rate:  5e-07\n",
      "Epoch 185/200\n",
      "75/75 [==============================] - 3s 34ms/step - loss: 0.0655 - acc: 0.9803 - val_loss: 0.5918 - val_acc: 0.8707\n",
      "Learning rate:  5e-07\n",
      "Epoch 186/200\n",
      "75/75 [==============================] - 3s 34ms/step - loss: 0.0745 - acc: 0.9686 - val_loss: 0.5885 - val_acc: 0.8707\n",
      "Learning rate:  5e-07\n",
      "Epoch 187/200\n",
      "75/75 [==============================] - 3s 36ms/step - loss: 0.0656 - acc: 0.9745 - val_loss: 0.5920 - val_acc: 0.8707\n",
      "Learning rate:  5e-07\n",
      "Epoch 188/200\n",
      "75/75 [==============================] - 3s 34ms/step - loss: 0.0795 - acc: 0.9732 - val_loss: 0.5905 - val_acc: 0.8707\n",
      "Learning rate:  5e-07\n",
      "Epoch 189/200\n",
      "75/75 [==============================] - 3s 34ms/step - loss: 0.0545 - acc: 0.9770 - val_loss: 0.5919 - val_acc: 0.8707\n",
      "Learning rate:  5e-07\n",
      "Epoch 190/200\n",
      "75/75 [==============================] - 3s 34ms/step - loss: 0.0674 - acc: 0.9750 - val_loss: 0.5908 - val_acc: 0.8707\n",
      "Learning rate:  5e-07\n",
      "Epoch 191/200\n",
      "75/75 [==============================] - 3s 34ms/step - loss: 0.0593 - acc: 0.9791 - val_loss: 0.5923 - val_acc: 0.8707\n",
      "Learning rate:  5e-07\n",
      "Epoch 192/200\n",
      "75/75 [==============================] - 3s 35ms/step - loss: 0.0622 - acc: 0.9808 - val_loss: 0.5925 - val_acc: 0.8707\n",
      "Learning rate:  5e-07\n",
      "Epoch 193/200\n",
      "75/75 [==============================] - 3s 34ms/step - loss: 0.0693 - acc: 0.9716 - val_loss: 0.5939 - val_acc: 0.8707\n",
      "Learning rate:  5e-07\n",
      "Epoch 194/200\n",
      "75/75 [==============================] - 3s 34ms/step - loss: 0.0633 - acc: 0.9766 - val_loss: 0.5947 - val_acc: 0.8707\n",
      "Learning rate:  5e-07\n",
      "Epoch 195/200\n",
      "75/75 [==============================] - 3s 36ms/step - loss: 0.0609 - acc: 0.9798 - val_loss: 0.5957 - val_acc: 0.8707\n",
      "Learning rate:  5e-07\n",
      "Epoch 196/200\n",
      "75/75 [==============================] - 3s 34ms/step - loss: 0.0688 - acc: 0.9767 - val_loss: 0.5952 - val_acc: 0.8707\n",
      "Learning rate:  5e-07\n",
      "Epoch 197/200\n",
      "75/75 [==============================] - 3s 34ms/step - loss: 0.0571 - acc: 0.9773 - val_loss: 0.5955 - val_acc: 0.8707\n",
      "Learning rate:  5e-07\n",
      "Epoch 198/200\n",
      "75/75 [==============================] - 3s 34ms/step - loss: 0.0764 - acc: 0.9737 - val_loss: 0.5928 - val_acc: 0.8707\n",
      "Learning rate:  5e-07\n",
      "Epoch 199/200\n",
      "75/75 [==============================] - 3s 34ms/step - loss: 0.0572 - acc: 0.9794 - val_loss: 0.5913 - val_acc: 0.8736\n",
      "Learning rate:  5e-07\n",
      "Epoch 200/200\n",
      "75/75 [==============================] - 3s 34ms/step - loss: 0.0688 - acc: 0.9783 - val_loss: 0.5912 - val_acc: 0.8736\n"
     ]
    }
   ],
   "source": [
    "history = model.fit_generator(train_generator,\n",
    "                    validation_data=validation_generator,\n",
    "                    epochs=epochs, \n",
    "                    verbose=1,\n",
    "                    workers=8,\n",
    "                    steps_per_epoch=train_generator.n//batch_size,\n",
    "                    validation_steps=validation_generator.n//batch_size,\n",
    "                    callbacks=callbacks_list)"
   ]
  },
  {
   "cell_type": "markdown",
   "metadata": {
    "colab_type": "text",
    "id": "z8MwmIzf2L0f"
   },
   "source": [
    "# Model Evaluation"
   ]
  },
  {
   "cell_type": "markdown",
   "metadata": {},
   "source": [
    "## Comparison between Training and Validation Dataset for Accuracy and Loss"
   ]
  },
  {
   "cell_type": "code",
   "execution_count": 8,
   "metadata": {
    "ExecuteTime": {
     "end_time": "2019-09-29T16:03:13.387940Z",
     "start_time": "2019-09-29T16:02:37.089Z"
    }
   },
   "outputs": [
    {
     "name": "stdout",
     "output_type": "stream",
     "text": [
      "23/23 [==============================] - 0s 20ms/step\n",
      "Best accuracy (on testing dataset): 87.15%\n"
     ]
    }
   ],
   "source": [
    "Y_pred = model.predict_generator(validation_generator, workers=12, verbose=1)\n",
    "y_pred = np.argmax(Y_pred, axis=1)\n",
    "\n",
    "y_label = validation_generator.classes\n",
    "finalScore = metrics.accuracy_score(y_label, y_pred)\n",
    "print(\"Best accuracy (on testing dataset): %.2f%%\" % (finalScore*100))"
   ]
  },
  {
   "cell_type": "code",
   "execution_count": 9,
   "metadata": {
    "ExecuteTime": {
     "end_time": "2019-09-29T16:03:13.390406Z",
     "start_time": "2019-09-29T16:02:37.092Z"
    },
    "colab": {
     "base_uri": "https://localhost:8080/",
     "height": 637
    },
    "colab_type": "code",
    "id": "fjwTYwmt0THo",
    "outputId": "b43c20eb-715c-4485-8ed5-1dac9de3ade8"
   },
   "outputs": [
    {
     "data": {
      "image/png": "[encoded data removed]",
      "text/plain": [
       "<Figure size 432x288 with 1 Axes>"
      ]
     },
     "metadata": {
      "needs_background": "light"
     },
     "output_type": "display_data"
    },
    {
     "data": {
      "image/png": "[encoded data removed]",
      "text/plain": [
       "<Figure size 432x288 with 1 Axes>"
      ]
     },
     "metadata": {
      "needs_background": "light"
     },
     "output_type": "display_data"
    }
   ],
   "source": [
    "plt.plot(history.history['acc'])\n",
    "plt.plot(history.history['val_acc'])\n",
    "plt.title('model accuracy')\n",
    "plt.ylabel('accuracy')\n",
    "plt.xlabel('epoch')\n",
    "plt.legend(['train', 'val'], loc='upper left')\n",
    "plt.show()\n",
    "\n",
    "plt.plot(history.history['loss'])\n",
    "plt.plot(history.history['val_loss'])\n",
    "plt.title('model loss')\n",
    "plt.ylabel('loss')\n",
    "plt.xlabel('epoch')\n",
    "plt.legend(['train', 'val'], loc='upper right')\n",
    "plt.show()"
   ]
  },
  {
   "cell_type": "markdown",
   "metadata": {
    "colab_type": "text",
    "id": "AHmPmWopo0Bs"
   },
   "source": [
    "### Confusion Matrix"
   ]
  },
  {
   "cell_type": "code",
   "execution_count": 10,
   "metadata": {
    "ExecuteTime": {
     "end_time": "2019-09-29T16:03:13.391913Z",
     "start_time": "2019-09-29T16:02:37.274Z"
    },
    "colab": {},
    "colab_type": "code",
    "id": "zRKbzE5kgQSP"
   },
   "outputs": [
    {
     "name": "stdout",
     "output_type": "stream",
     "text": [
      "23/23 [==============================] - 1s 55ms/step\n",
      "Confusion Matrix\n",
      "[[253  36   8]\n",
      " [ 10 198  10]\n",
      " [  8  21 180]]\n"
     ]
    }
   ],
   "source": [
    "#Confution Matrix and Classification Report\n",
    "Y_pred = model.predict_generator(validation_generator, steps=np.math.ceil(validation_generator.samples/validation_generator.batch_size), verbose=1, workers=0)\n",
    "y_pred = np.argmax(Y_pred, axis=1)\n",
    "\n",
    "print('Confusion Matrix')\n",
    "print(confusion_matrix(validation_generator.classes, y_pred))"
   ]
  },
  {
   "cell_type": "markdown",
   "metadata": {},
   "source": [
    "## Classification Report"
   ]
  },
  {
   "cell_type": "code",
   "execution_count": 11,
   "metadata": {
    "ExecuteTime": {
     "end_time": "2019-09-29T16:03:13.393627Z",
     "start_time": "2019-09-29T16:02:37.451Z"
    }
   },
   "outputs": [
    {
     "name": "stdout",
     "output_type": "stream",
     "text": [
      "                 precision    recall  f1-score   support\n",
      "\n",
      "    food_resize       0.93      0.85      0.89       297\n",
      "landmark_resize       0.78      0.91      0.84       218\n",
      "  people_resize       0.91      0.86      0.88       209\n",
      "\n",
      "       accuracy                           0.87       724\n",
      "      macro avg       0.87      0.87      0.87       724\n",
      "   weighted avg       0.88      0.87      0.87       724\n",
      "\n"
     ]
    }
   ],
   "source": [
    "target_names = list(validation_generator.class_indices.keys())\n",
    "print(classification_report(validation_generator.classes, y_pred, target_names=target_names))"
   ]
  },
  {
   "cell_type": "markdown",
   "metadata": {
    "colab_type": "text",
    "id": "Q_-CRARV2Blh"
   },
   "source": [
    "# Plot Model"
   ]
  },
  {
   "cell_type": "code",
   "execution_count": null,
   "metadata": {
    "ExecuteTime": {
     "end_time": "2019-09-29T16:03:13.395409Z",
     "start_time": "2019-09-29T16:02:37.605Z"
    },
    "colab": {
     "base_uri": "https://localhost:8080/",
     "height": 1000
    },
    "colab_type": "code",
    "id": "fFLmAk4LL2kD",
    "outputId": "a63950da-7ec8-4162-8ac1-753d91eb9fa7"
   },
   "outputs": [],
   "source": [
    "from tensorflow.keras.utils import plot_model\n",
    "\n",
    "plot_model(model, \n",
    "           to_file=os.path.join(PROJECT_DIR, modelname+'_model.png'), \n",
    "           show_shapes=True, \n",
    "           show_layer_names=False,\n",
    "           rankdir='TB')"
   ]
  }
 ],
 "metadata": {
  "accelerator": "GPU",
  "colab": {
   "collapsed_sections": [
    "ANQKYaUxxcxj",
    "o0hHFxGvStKG",
    "Q_-CRARV2Blh"
   ],
   "name": "CA2 Test 2.ipynb",
   "provenance": []
  },
  "kernelspec": {
   "display_name": "Python 3",
   "language": "python",
   "name": "python3"
  },
  "language_info": {
   "codemirror_mode": {
    "name": "ipython",
    "version": 3
   },
   "file_extension": ".py",
   "mimetype": "text/x-python",
   "name": "python",
   "nbconvert_exporter": "python",
   "pygments_lexer": "ipython3",
   "version": "3.7.3"
  },
  "latex_envs": {
   "LaTeX_envs_menu_present": true,
   "autoclose": false,
   "autocomplete": true,
   "bibliofile": "biblio.bib",
   "cite_by": "apalike",
   "current_citInitial": 1,
   "eqLabelWithNumbers": true,
   "eqNumInitial": 1,
   "hotkeys": {
    "equation": "Ctrl-E",
    "itemize": "Ctrl-I"
   },
   "labels_anchors": false,
   "latex_user_defs": false,
   "report_style_numbering": false,
   "user_envs_cfg": false
  },
  "toc": {
   "base_numbering": 1,
   "nav_menu": {},
   "number_sections": true,
   "sideBar": true,
   "skip_h1_title": false,
   "title_cell": "Table of Contents",
   "title_sidebar": "Contents",
   "toc_cell": true,
   "toc_position": {},
   "toc_section_display": true,
   "toc_window_display": true
  },
  "varInspector": {
   "cols": {
    "lenName": 16,
    "lenType": 16,
    "lenVar": 40
   },
   "kernels_config": {
    "python": {
     "delete_cmd_postfix": "",
     "delete_cmd_prefix": "del ",
     "library": "var_list.py",
     "varRefreshCmd": "print(var_dic_list())"
    },
    "r": {
     "delete_cmd_postfix": ") ",
     "delete_cmd_prefix": "rm(",
     "library": "var_list.r",
     "varRefreshCmd": "cat(var_dic_list()) "
    }
   },
   "types_to_exclude": [
    "module",
    "function",
    "builtin_function_or_method",
    "instance",
    "_Feature"
   ],
   "window_display": false
  }
 },
 "nbformat": 4,
 "nbformat_minor": 4
}
