{
 "cells": [
  {
   "cell_type": "markdown",
   "metadata": {
    "colab_type": "text",
    "id": "kINadiXmrg3p"
   },
   "source": [
    "# Data Import"
   ]
  },
  {
   "cell_type": "markdown",
   "metadata": {
    "colab_type": "text",
    "id": "ANQKYaUxxcxj"
   },
   "source": [
    "### Google Cloud Storage"
   ]
  },
  {
   "cell_type": "code",
   "execution_count": 1,
   "metadata": {},
   "outputs": [],
   "source": [
    "# !gsutil cp \"gs://ca2_data/landmark.zip\" \"Data/landmark.zip\""
   ]
  },
  {
   "cell_type": "code",
   "execution_count": 2,
   "metadata": {},
   "outputs": [],
   "source": [
    "# import zipfile\n",
    "# with zipfile.ZipFile(\"Data/landmark.zip\", 'r') as zip_ref:\n",
    "#     zip_ref.extractall(\"Data/Train\")"
   ]
  },
  {
   "cell_type": "markdown",
   "metadata": {
    "colab_type": "text",
    "id": "BZwFuw7EnZHa"
   },
   "source": [
    "# Pre-Setup"
   ]
  },
  {
   "cell_type": "markdown",
   "metadata": {
    "colab_type": "text",
    "id": "5jSudrjCntG1"
   },
   "source": [
    "## Fixed Part"
   ]
  },
  {
   "cell_type": "code",
   "execution_count": 3,
   "metadata": {
    "colab": {
     "base_uri": "https://localhost:8080/",
     "height": 51
    },
    "colab_type": "code",
    "id": "eEEoD0_N6kad",
    "outputId": "d1782d5c-ce0f-4ea0-81bd-23f28daaf39a"
   },
   "outputs": [],
   "source": [
    "import numpy as np\n",
    "import sklearn.metrics as metrics\n",
    "import matplotlib.pyplot as plt\n",
    "import os\n",
    "from datetime import datetime\n",
    "\n",
    "\n",
    "from sklearn.metrics import classification_report, confusion_matrix\n",
    "\n",
    "# from keras_tqdm import TQDMNotebookCallback\n",
    "\n",
    "from tensorflow.keras.callbacks import ModelCheckpoint,CSVLogger,LearningRateScheduler,TensorBoard\n",
    "from tensorflow.keras.models import Model\n",
    "from tensorflow.keras.layers import Input\n",
    "from tensorflow.keras.layers import Dense\n",
    "from tensorflow.keras.layers import Flatten\n",
    "from tensorflow.keras.layers import Conv2D\n",
    "from tensorflow.keras.layers import BatchNormalization\n",
    "from tensorflow.keras.layers import Activation\n",
    "from tensorflow.keras.layers import AveragePooling2D\n",
    "from tensorflow.keras.layers import add\n",
    "from tensorflow.keras.regularizers import l2\n",
    "from tensorflow.keras.utils import to_categorical\n",
    "from tensorflow.keras.datasets import cifar10\n",
    "from tensorflow.keras import optimizers\n",
    "from tensorflow.keras.preprocessing.image import ImageDataGenerator\n",
    "\n",
    "# Load the TensorBoard notebook extension\n",
    "%load_ext tensorboard\n",
    "\n",
    "def implt(img):\n",
    "    plt.figure()\n",
    "    plt.imshow(img)\n",
    "    plt.axis('off')\n",
    "\n",
    "                            # Set up 'ggplot' style\n",
    "plt.style.use('ggplot')     # if want to use the default style, set 'classic'\n",
    "plt.rcParams['ytick.right']     = True\n",
    "plt.rcParams['ytick.labelright']= True\n",
    "plt.rcParams['ytick.left']      = False\n",
    "plt.rcParams['ytick.labelleft'] = False\n",
    "plt.rcParams['font.family']     = 'Arial'\n",
    "\n",
    "# Base Folder (need to change according to the user)\n",
    "# PROJECT_DIR = \"/content/drive/My Drive/ISS/ISY5002 Pattern Recognition Systems/Project 2/Data\"\n",
    "# PROJECT_DIR = \"/Users/jiahao/Google Drive/ISS/ISY5002 Pattern Recognition Systems/Project 2/Data\"\n",
    "# PROJECT_DIR = \"Data\"\n",
    "PROJECT_DIR = r\"C:\\Users\\joyce.li\\Desktop\\DL\"\n",
    "\n",
    "\n",
    "TRAIN_DIR = os.path.join(PROJECT_DIR, \"Train\")\n",
    "VALIDATION_DIR = os.path.join(PROJECT_DIR, \"Validation\")\n",
    "LOG_DIR = os.path.join(PROJECT_DIR, \"Log\")\n",
    "TIMESTAMP = \"{0:%Y-%m-%dT%H-%M-%S/}\".format(datetime.now())\n",
    "\n",
    "seed        = 29\n",
    "np.random.seed(seed)"
   ]
  },
  {
   "cell_type": "code",
   "execution_count": 4,
   "metadata": {
    "colab": {
     "base_uri": "https://localhost:8080/",
     "height": 51
    },
    "colab_type": "code",
    "id": "Q8FIJ1jWn_YP",
    "outputId": "e9c08324-a5ff-4cbb-c31f-cf8738023509"
   },
   "outputs": [
    {
     "name": "stdout",
     "output_type": "stream",
     "text": [
      "Training images:  2423\n",
      "Validation images:  724\n"
     ]
    }
   ],
   "source": [
    "train_file_count = sum([len(files) for r, d, files in os.walk(TRAIN_DIR)])\n",
    "test_file_count = sum([len(files) for r, d, files in os.walk(VALIDATION_DIR)])\n",
    "print(\"Training images: \", train_file_count)\n",
    "print(\"Validation images: \", test_file_count)"
   ]
  },
  {
   "cell_type": "markdown",
   "metadata": {
    "colab_type": "text",
    "id": "xhI75LTt6g-o"
   },
   "source": [
    "# Model Setup"
   ]
  },
  {
   "cell_type": "markdown",
   "metadata": {
    "colab_type": "text",
    "id": "5OzZc6wSKouQ"
   },
   "source": [
    "## Basic Layer Define (Jen Hong Version)"
   ]
  },
  {
   "cell_type": "code",
   "execution_count": 5,
   "metadata": {
    "colab": {},
    "colab_type": "code",
    "id": "PYsleaR_Kiuh"
   },
   "outputs": [],
   "source": [
    "# resLyr\n",
    "def resLyr(inputs,\n",
    "           numFilters=16,\n",
    "           kernelSz=3,\n",
    "           strides=1,\n",
    "           activation='relu',\n",
    "           batchNorm=True,\n",
    "           convFirst=True,\n",
    "           lyrName=None):\n",
    "    convLyr = Conv2D(numFilters,\n",
    "                       kernel_size=kernelSz,\n",
    "                       strides=strides,\n",
    "                       padding='same',\n",
    "                       kernel_initializer='he_normal',\n",
    "                       kernel_regularizer=l2(1e-4),\n",
    "                       name=lyrName+'_conv' if lyrName else None)\n",
    "    x = inputs\n",
    "    if convFirst:\n",
    "        x = convLyr(x)\n",
    "        if batchNorm:\n",
    "            x = BatchNormalization(name=lyrName+'_bn' if lyrName else None)(x)\n",
    "        if activation is not None:\n",
    "            x = Activation(activation,name=lyrName+'_'+activation if lyrName else None)(x)\n",
    "    else:\n",
    "        if batchNorm:\n",
    "            x = BatchNormalization(name=lyrName+'_bn' if lyrName else None)(x)\n",
    "        if activation is not None:\n",
    "            x = Activation(activation,name=lyrName+'_'+activation if lyrName else None)(x)\n",
    "        x = convLyr(x)\n",
    "\n",
    "    return x\n",
    "\n",
    "# resBlkV1\n",
    "def resBlkV1(inputs,\n",
    "             numFilters=16,\n",
    "             numBlocks=3,\n",
    "             downsampleOnFirst=True,\n",
    "             names=None):\n",
    "    x = inputs\n",
    "    \n",
    "    for run in range(0,numBlocks):\n",
    "        strides = 1\n",
    "        blkStr = str(run+1)\n",
    "\n",
    "        if downsampleOnFirst and run == 0:\n",
    "            strides = 2\n",
    "\n",
    "        y = resLyr(inputs=x,\n",
    "                   numFilters=numFilters,\n",
    "                   strides=strides,\n",
    "                   lyrName=names+'_Blk'+blkStr+'_Res1' if names else None)\n",
    "        y = resLyr(inputs=y,\n",
    "                   numFilters=numFilters,\n",
    "                   activation=None,\n",
    "                   lyrName=names+'_Blk'+blkStr+'_Res2' if names else None)\n",
    "        \n",
    "        if downsampleOnFirst and run == 0:\n",
    "            x = resLyr(inputs=x,\n",
    "                        numFilters=numFilters,\n",
    "                        kernelSz=1,\n",
    "                        strides=strides,\n",
    "                        activation=None,\n",
    "                        batchNorm=False,\n",
    "                        lyrName=names+'_Blk'+blkStr+'_lin' if names else None)\n",
    "            \n",
    "        x = add([x,y],name=names+'_Blk'+blkStr+'_add' if names else None)\n",
    "        x = Activation('relu',name=names+'_Blk'+blkStr+'_relu' if names else None)(x)\n",
    "\n",
    "    return x"
   ]
  },
  {
   "cell_type": "markdown",
   "metadata": {
    "colab_type": "text",
    "id": "5XjA5dAILHLg"
   },
   "source": [
    "## Learning Rate Define"
   ]
  },
  {
   "cell_type": "code",
   "execution_count": 6,
   "metadata": {
    "colab": {},
    "colab_type": "code",
    "id": "N7lC_MPZLA32"
   },
   "outputs": [],
   "source": [
    "def lrSchedule(epoch):\n",
    "    lr  = 1e-3\n",
    "    \n",
    "    if epoch > 90:\n",
    "        lr  *= 0.5e-3        \n",
    "    elif epoch > 70:\n",
    "        lr  *= 1e-3       \n",
    "    elif epoch > 50:\n",
    "        lr  *= 1e-2\n",
    "    elif epoch > 30:\n",
    "        lr  *= 1e-1\n",
    "        \n",
    "    print('Learning rate: ', lr)\n",
    "    \n",
    "    return lr\n",
    "\n",
    "LRScheduler     = LearningRateScheduler(lrSchedule)"
   ]
  },
  {
   "cell_type": "markdown",
   "metadata": {
    "colab_type": "text",
    "id": "3LTDnstUnkp5"
   },
   "source": [
    "## Model Parameters"
   ]
  },
  {
   "cell_type": "code",
   "execution_count": 7,
   "metadata": {
    "colab": {},
    "colab_type": "code",
    "id": "9L_u9TLSnjSB"
   },
   "outputs": [],
   "source": [
    "img_rows = 16\n",
    "img_cols = 16\n",
    "epochs = 120\n",
    "batch_size = 64\n",
    "\n",
    "num_train_images=2423\n",
    "num_test_samples = 724\n",
    "\n",
    "optmz       = optimizers.Adam(lr=0.001)\n",
    "modelname   = 'Model_2' \n",
    "\n",
    "LOG_DIR = os.path.join(PROJECT_DIR, modelname)"
   ]
  },
  {
   "cell_type": "markdown",
   "metadata": {
    "colab_type": "text",
    "id": "sJEez0wdp3ce"
   },
   "source": [
    "## Model Building"
   ]
  },
  {
   "cell_type": "code",
   "execution_count": 8,
   "metadata": {
    "colab": {},
    "colab_type": "code",
    "id": "dqZ3U_N6ojzf"
   },
   "outputs": [],
   "source": [
    "# createResNetV1\n",
    "def createResNetV1(inputShape=(img_rows,img_cols,3),\n",
    "                   numClasses=3):\n",
    "    inputs = Input(shape=inputShape)\n",
    "    v = resLyr(inputs, lyrName='Inpt')\n",
    "    v = resBlkV1(v,16,3,False,'Stg1')\n",
    "    v = resBlkV1(v,32,3,True,'Stg2')\n",
    "    v = resBlkV1(v,64,3,True,'Stg3')\n",
    "    # v = resBlkV1(v,128,3,True,'Stg4')\n",
    "    v = AveragePooling2D(pool_size=4,name='AvgPool')(v)\n",
    "    v = Flatten()(v)\n",
    "    outputs = Dense(numClasses,activation='softmax',kernel_initializer='he_normal')(v)\n",
    "    model = Model(inputs=inputs,outputs=outputs)\n",
    "    model.compile(loss='categorical_crossentropy',\n",
    "                    optimizer=optmz,\n",
    "                    metrics=['accuracy'])\n",
    "\n",
    "    return model\n",
    "\n",
    "# set up model\n",
    "model       = createResNetV1()  # This is meant for training\n",
    "modelGo     = createResNetV1()  # This is used for final testing\n",
    "\n",
    "# model.summary()"
   ]
  },
  {
   "cell_type": "markdown",
   "metadata": {
    "colab_type": "text",
    "id": "iZFO0UVGLWCR"
   },
   "source": [
    "## Checkpoint Define"
   ]
  },
  {
   "cell_type": "code",
   "execution_count": 9,
   "metadata": {
    "colab": {},
    "colab_type": "code",
    "id": "HM9lFk3bLfY5"
   },
   "outputs": [],
   "source": [
    "# Create checkpoint for the training\n",
    "# This checkpoint performs model saving when\n",
    "# an epoch gives highest testing accuracy\n",
    "filepath        = os.path.join(PROJECT_DIR, modelname + \".hdf5\")\n",
    "checkpoint      = ModelCheckpoint(filepath, \n",
    "                                  monitor='val_acc', \n",
    "                                  verbose=0, \n",
    "                                  save_best_only=True, \n",
    "                                  mode='max')\n",
    "\n",
    "# Log the epoch detail into csv\n",
    "csv_logger      = CSVLogger(os.path.join(PROJECT_DIR,  modelname +'.csv'))\n",
    "\n",
    "# Tensorboard\n",
    "tensorboard     = TensorBoard(log_dir=LOG_DIR,histogram_freq=1)\n",
    "callbacks_list  = [checkpoint,csv_logger,LRScheduler,tensorboard]\n",
    "# TQDMNotebookCallback(leave_inner=True),"
   ]
  },
  {
   "cell_type": "markdown",
   "metadata": {
    "colab_type": "text",
    "id": "XVjF4lq3pF32"
   },
   "source": [
    "## Image Data Generator Define"
   ]
  },
  {
   "cell_type": "code",
   "execution_count": 10,
   "metadata": {
    "colab": {
     "base_uri": "https://localhost:8080/",
     "height": 51
    },
    "colab_type": "code",
    "id": "LZQsYb2RpK5D",
    "outputId": "fc4f4d0a-ab79-4254-d072-f05e6d9c62a5"
   },
   "outputs": [
    {
     "name": "stdout",
     "output_type": "stream",
     "text": [
      "Found 2423 images belonging to 3 classes.\n",
      "Found 724 images belonging to 3 classes.\n"
     ]
    }
   ],
   "source": [
    "# version 0\n",
    "# train_datagen = ImageDataGenerator(width_shift_range=0.1,\n",
    "#                              height_shift_range=0.1,\n",
    "#                              rotation_range=20,\n",
    "#                              horizontal_flip=True,\n",
    "#                              vertical_flip=False)\n",
    "# test_datagen = ImageDataGenerator()\n",
    "\n",
    "# version 1\n",
    "# train_datagen = ImageDataGenerator(rotation_range=40,\n",
    "#                                     width_shift_range=0.2,\n",
    "#                                     height_shift_range=0.2,\n",
    "#                                     rescale=1./255,\n",
    "#                                     shear_range=0.2,\n",
    "#                                     zoom_range=0.2)\n",
    "# test_datagen = ImageDataGenerator(rescale=1./255)\n",
    "\n",
    "# version 2\n",
    "train_datagen = ImageDataGenerator(rotation_range=40,\n",
    "                                    width_shift_range=0.2,\n",
    "                                    height_shift_range=0.2,\n",
    "                                    shear_range=0.2,\n",
    "                                    zoom_range=0.2)\n",
    "test_datagen = ImageDataGenerator()\n",
    "\n",
    "\n",
    "train_generator = train_datagen.flow_from_directory(TRAIN_DIR,\n",
    "                                                    target_size=(img_rows, img_cols),\n",
    "                                                    batch_size=batch_size)\n",
    "\n",
    "validation_generator = test_datagen.flow_from_directory(VALIDATION_DIR,\n",
    "                                                        target_size=(img_rows, img_cols), \n",
    "                                                        batch_size=batch_size, shuffle=False)"
   ]
  },
  {
   "cell_type": "code",
   "execution_count": 11,
   "metadata": {
    "colab": {
     "base_uri": "https://localhost:8080/",
     "height": 34
    },
    "colab_type": "code",
    "id": "lrVB4M1KVqnz",
    "outputId": "7b298281-795d-49d3-db25-ffc19227f243"
   },
   "outputs": [],
   "source": [
    "# print(LOG_DIR)"
   ]
  },
  {
   "cell_type": "code",
   "execution_count": 12,
   "metadata": {
    "colab": {
     "base_uri": "https://localhost:8080/",
     "height": 1000
    },
    "colab_type": "code",
    "id": "aKE_eVL62zT1",
    "outputId": "9fbb5e46-14d8-4c87-880a-a2dd29514881"
   },
   "outputs": [],
   "source": [
    "# %tensorboard --logdir \"/content/drive/My Drive/ISS/ISY5002 Pattern Recognition Systems/Project 2/Data/Log\"\n",
    "# %tensorboard --logdir \"/Users/jiahao/Google Drive/ISS/ISY5002 Pattern Recognition Systems/Project 2/Data/Log\""
   ]
  },
  {
   "cell_type": "markdown",
   "metadata": {
    "colab_type": "text",
    "id": "mrD7LSXppBu8"
   },
   "source": [
    "# Model Training"
   ]
  },
  {
   "cell_type": "markdown",
   "metadata": {
    "colab_type": "text",
    "id": "CJ2uuJRaYO3S"
   },
   "source": [
    "## Fit Model 2"
   ]
  },
  {
   "cell_type": "code",
   "execution_count": 13,
   "metadata": {
    "colab": {
     "base_uri": "https://localhost:8080/",
     "height": 1000
    },
    "colab_type": "code",
    "id": "a7o3O_ceYRrM",
    "outputId": "277169f2-c842-4944-a0e8-e4c8339b5be5"
   },
   "outputs": [
    {
     "name": "stdout",
     "output_type": "stream",
     "text": [
      "Learning rate:  0.001\n",
      "Epoch 1/120\n",
      "WARNING:tensorflow:From C:\\Users\\joyce.li\\AppData\\Local\\Continuum\\anaconda3\\envs\\ca2\\lib\\site-packages\\tensorflow_core\\python\\ops\\math_grad.py:1394: where (from tensorflow.python.ops.array_ops) is deprecated and will be removed in a future version.\n",
      "Instructions for updating:\n",
      "Use tf.where in 2.0, which has the same broadcast rule as np.where\n",
      "36/37 [============================>.] - ETA: 1s - loss: 1.1191 - accuracy: 0.6087WARNING:tensorflow:Can save best model only with val_acc available, skipping.\n",
      "37/37 [==============================] - 95s 3s/step - loss: 1.1122 - accuracy: 0.6117 - val_loss: 11.0489 - val_accuracy: 0.2887\n",
      "Learning rate:  0.001\n",
      "Epoch 2/120\n",
      "36/37 [============================>.] - ETA: 2s - loss: 0.8764 - accuracy: 0.6893WARNING:tensorflow:Can save best model only with val_acc available, skipping.\n",
      "37/37 [==============================] - 115s 3s/step - loss: 0.8720 - accuracy: 0.6905 - val_loss: 7.1036 - val_accuracy: 0.2928\n",
      "Learning rate:  0.001\n",
      "Epoch 3/120\n",
      "36/37 [============================>.] - ETA: 1s - loss: 0.8118 - accuracy: 0.7220WARNING:tensorflow:Can save best model only with val_acc available, skipping.\n",
      "37/37 [==============================] - 96s 3s/step - loss: 0.8113 - accuracy: 0.7219 - val_loss: 3.9765 - val_accuracy: 0.2901\n",
      "Learning rate:  0.001\n",
      "Epoch 4/120\n",
      "36/37 [============================>.] - ETA: 1s - loss: 0.8009 - accuracy: 0.7264WARNING:tensorflow:Can save best model only with val_acc available, skipping.\n",
      "37/37 [==============================] - 90s 2s/step - loss: 0.7959 - accuracy: 0.7287 - val_loss: 2.4546 - val_accuracy: 0.3743\n",
      "Learning rate:  0.001\n",
      "Epoch 5/120\n",
      "36/37 [============================>.] - ETA: 1s - loss: 0.7537 - accuracy: 0.7447WARNING:tensorflow:Can save best model only with val_acc available, skipping.\n",
      "37/37 [==============================] - 92s 2s/step - loss: 0.7555 - accuracy: 0.7435 - val_loss: 1.5191 - val_accuracy: 0.4931\n",
      "Learning rate:  0.001\n",
      "Epoch 6/120\n",
      "36/37 [============================>.] - ETA: 2s - loss: 0.7431 - accuracy: 0.7556WARNING:tensorflow:Can save best model only with val_acc available, skipping.\n",
      "37/37 [==============================] - 109s 3s/step - loss: 0.7445 - accuracy: 0.7542 - val_loss: 1.1097 - val_accuracy: 0.5981\n",
      "Learning rate:  0.001\n",
      "Epoch 7/120\n",
      "36/37 [============================>.] - ETA: 1s - loss: 0.7375 - accuracy: 0.7538WARNING:tensorflow:Can save best model only with val_acc available, skipping.\n",
      "37/37 [==============================] - 95s 3s/step - loss: 0.7392 - accuracy: 0.7520 - val_loss: 0.9137 - val_accuracy: 0.6740\n",
      "Learning rate:  0.001\n",
      "Epoch 8/120\n",
      "36/37 [============================>.] - ETA: 1s - loss: 0.7142 - accuracy: 0.7625WARNING:tensorflow:Can save best model only with val_acc available, skipping.\n",
      "37/37 [==============================] - 92s 2s/step - loss: 0.7102 - accuracy: 0.7651 - val_loss: 1.2184 - val_accuracy: 0.5511\n",
      "Learning rate:  0.001\n",
      "Epoch 9/120\n",
      "36/37 [============================>.] - ETA: 15s - loss: 0.7026 - accuracy: 0.7717WARNING:tensorflow:Can save best model only with val_acc available, skipping.\n",
      "37/37 [==============================] - 596s 16s/step - loss: 0.7036 - accuracy: 0.7724 - val_loss: 1.0121 - val_accuracy: 0.6727\n",
      "Learning rate:  0.001\n",
      "Epoch 10/120\n",
      "36/37 [============================>.] - ETA: 1s - loss: 0.6606 - accuracy: 0.7978WARNING:tensorflow:Can save best model only with val_acc available, skipping.\n",
      "37/37 [==============================] - 94s 3s/step - loss: 0.6570 - accuracy: 0.7995 - val_loss: 0.7204 - val_accuracy: 0.7804\n",
      "Learning rate:  0.001\n",
      "Epoch 11/120\n",
      "36/37 [============================>.] - ETA: 2s - loss: 0.6792 - accuracy: 0.7834WARNING:tensorflow:Can save best model only with val_acc available, skipping.\n",
      "37/37 [==============================] - 110s 3s/step - loss: 0.6757 - accuracy: 0.7855 - val_loss: 0.7471 - val_accuracy: 0.7583\n",
      "Learning rate:  0.001\n",
      "Epoch 12/120\n",
      "36/37 [============================>.] - ETA: 1s - loss: 0.6905 - accuracy: 0.7782WARNING:tensorflow:Can save best model only with val_acc available, skipping.\n",
      "37/37 [==============================] - 92s 2s/step - loss: 0.6855 - accuracy: 0.7800 - val_loss: 0.7880 - val_accuracy: 0.7390\n",
      "Learning rate:  0.001\n",
      "Epoch 13/120\n",
      "36/37 [============================>.] - ETA: 1s - loss: 0.6389 - accuracy: 0.7964WARNING:tensorflow:Can save best model only with val_acc available, skipping.\n",
      "37/37 [==============================] - 101s 3s/step - loss: 0.6374 - accuracy: 0.7977 - val_loss: 1.0752 - val_accuracy: 0.6036\n",
      "Learning rate:  0.001\n",
      "Epoch 14/120\n",
      "36/37 [============================>.] - ETA: 1s - loss: 0.6584 - accuracy: 0.7974WARNING:tensorflow:Can save best model only with val_acc available, skipping.\n",
      "37/37 [==============================] - 111s 3s/step - loss: 0.6626 - accuracy: 0.7957 - val_loss: 0.7508 - val_accuracy: 0.7555\n",
      "Learning rate:  0.001\n",
      "Epoch 15/120\n",
      "36/37 [============================>.] - ETA: 2s - loss: 0.6145 - accuracy: 0.8171WARNING:tensorflow:Can save best model only with val_acc available, skipping.\n",
      "37/37 [==============================] - 111s 3s/step - loss: 0.6137 - accuracy: 0.8187 - val_loss: 0.9190 - val_accuracy: 0.6782\n",
      "Learning rate:  0.001\n",
      "Epoch 16/120\n",
      "36/37 [============================>.] - ETA: 2s - loss: 0.6265 - accuracy: 0.8082WARNING:tensorflow:Can save best model only with val_acc available, skipping.\n",
      "37/37 [==============================] - 109s 3s/step - loss: 0.6247 - accuracy: 0.8091 - val_loss: 0.8581 - val_accuracy: 0.7196\n",
      "Learning rate:  0.001\n",
      "Epoch 17/120\n",
      "36/37 [============================>.] - ETA: 1s - loss: 0.5906 - accuracy: 0.8231WARNING:tensorflow:Can save best model only with val_acc available, skipping.\n",
      "37/37 [==============================] - 96s 3s/step - loss: 0.5930 - accuracy: 0.8228 - val_loss: 1.2999 - val_accuracy: 0.5981\n",
      "Learning rate:  0.001\n",
      "Epoch 18/120\n",
      "36/37 [============================>.] - ETA: 1s - loss: 0.6069 - accuracy: 0.8132WARNING:tensorflow:Can save best model only with val_acc available, skipping.\n",
      "37/37 [==============================] - 94s 3s/step - loss: 0.6050 - accuracy: 0.8140 - val_loss: 0.6447 - val_accuracy: 0.8080\n",
      "Learning rate:  0.001\n",
      "Epoch 19/120\n",
      "36/37 [============================>.] - ETA: 2s - loss: 0.6004 - accuracy: 0.8147WARNING:tensorflow:Can save best model only with val_acc available, skipping.\n",
      "37/37 [==============================] - 112s 3s/step - loss: 0.6054 - accuracy: 0.8112 - val_loss: 1.0557 - val_accuracy: 0.6865\n",
      "Learning rate:  0.001\n",
      "Epoch 20/120\n",
      "36/37 [============================>.] - ETA: 1s - loss: 0.5684 - accuracy: 0.8410WARNING:tensorflow:Can save best model only with val_acc available, skipping.\n",
      "37/37 [==============================] - 89s 2s/step - loss: 0.5669 - accuracy: 0.8406 - val_loss: 1.1967 - val_accuracy: 0.5994\n",
      "Learning rate:  0.001\n",
      "Epoch 21/120\n",
      "36/37 [============================>.] - ETA: 1s - loss: 0.6135 - accuracy: 0.8145WARNING:tensorflow:Can save best model only with val_acc available, skipping.\n",
      "37/37 [==============================] - 89s 2s/step - loss: 0.6161 - accuracy: 0.8153 - val_loss: 1.2511 - val_accuracy: 0.6450\n",
      "Learning rate:  0.001\n",
      "Epoch 22/120\n",
      "36/37 [============================>.] - ETA: 1s - loss: 0.5432 - accuracy: 0.8431WARNING:tensorflow:Can save best model only with val_acc available, skipping.\n",
      "37/37 [==============================] - 88s 2s/step - loss: 0.5424 - accuracy: 0.8432 - val_loss: 0.8857 - val_accuracy: 0.7017\n",
      "Learning rate:  0.001\n",
      "Epoch 23/120\n",
      "36/37 [============================>.] - ETA: 1s - loss: 0.5768 - accuracy: 0.8225WARNING:tensorflow:Can save best model only with val_acc available, skipping.\n",
      "37/37 [==============================] - 88s 2s/step - loss: 0.5786 - accuracy: 0.8231 - val_loss: 1.0662 - val_accuracy: 0.6699\n",
      "Learning rate:  0.001\n",
      "Epoch 24/120\n",
      "36/37 [============================>.] - ETA: 1s - loss: 0.5788 - accuracy: 0.8290WARNING:tensorflow:Can save best model only with val_acc available, skipping.\n",
      "37/37 [==============================] - 87s 2s/step - loss: 0.5759 - accuracy: 0.8302 - val_loss: 0.7338 - val_accuracy: 0.7735\n",
      "Learning rate:  0.001\n",
      "Epoch 25/120\n",
      "36/37 [============================>.] - ETA: 1s - loss: 0.5724 - accuracy: 0.8368WARNING:tensorflow:Can save best model only with val_acc available, skipping.\n",
      "37/37 [==============================] - 95s 3s/step - loss: 0.5731 - accuracy: 0.8357 - val_loss: 0.7729 - val_accuracy: 0.7348\n",
      "Learning rate:  0.001\n",
      "Epoch 26/120\n",
      "36/37 [============================>.] - ETA: 1s - loss: 0.5370 - accuracy: 0.8397WARNING:tensorflow:Can save best model only with val_acc available, skipping.\n",
      "37/37 [==============================] - 94s 3s/step - loss: 0.5387 - accuracy: 0.8402 - val_loss: 0.6702 - val_accuracy: 0.7956\n",
      "Learning rate:  0.001\n",
      "Epoch 27/120\n",
      "36/37 [============================>.] - ETA: 1s - loss: 0.5526 - accuracy: 0.8388WARNING:tensorflow:Can save best model only with val_acc available, skipping.\n",
      "37/37 [==============================] - 93s 3s/step - loss: 0.5566 - accuracy: 0.8359 - val_loss: 0.5981 - val_accuracy: 0.8066\n",
      "Learning rate:  0.001\n",
      "Epoch 28/120\n",
      "36/37 [============================>.] - ETA: 2s - loss: 0.5317 - accuracy: 0.8436WARNING:tensorflow:Can save best model only with val_acc available, skipping.\n",
      "37/37 [==============================] - 110s 3s/step - loss: 0.5308 - accuracy: 0.8427 - val_loss: 0.8027 - val_accuracy: 0.7555\n",
      "Learning rate:  0.001\n",
      "Epoch 29/120\n",
      "36/37 [============================>.] - ETA: 1s - loss: 0.5262 - accuracy: 0.8501WARNING:tensorflow:Can save best model only with val_acc available, skipping.\n",
      "37/37 [==============================] - 91s 2s/step - loss: 0.5262 - accuracy: 0.8499 - val_loss: 0.6394 - val_accuracy: 0.8039\n",
      "Learning rate:  0.001\n",
      "Epoch 30/120\n",
      "36/37 [============================>.] - ETA: 1s - loss: 0.5120 - accuracy: 0.8543WARNING:tensorflow:Can save best model only with val_acc available, skipping.\n",
      "37/37 [==============================] - 88s 2s/step - loss: 0.5134 - accuracy: 0.8519 - val_loss: 0.6372 - val_accuracy: 0.8011\n",
      "Learning rate:  0.001\n",
      "Epoch 31/120\n",
      "36/37 [============================>.] - ETA: 2s - loss: 0.5063 - accuracy: 0.8566WARNING:tensorflow:Can save best model only with val_acc available, skipping.\n",
      "37/37 [==============================] - 108s 3s/step - loss: 0.5056 - accuracy: 0.8567 - val_loss: 0.9011 - val_accuracy: 0.7044\n",
      "Learning rate:  0.0001\n",
      "Epoch 32/120\n",
      "36/37 [============================>.] - ETA: 1s - loss: 0.4892 - accuracy: 0.8689WARNING:tensorflow:Can save best model only with val_acc available, skipping.\n",
      "37/37 [==============================] - 89s 2s/step - loss: 0.4884 - accuracy: 0.8695 - val_loss: 0.6413 - val_accuracy: 0.7845\n",
      "Learning rate:  0.0001\n",
      "Epoch 33/120\n",
      "36/37 [============================>.] - ETA: 2s - loss: 0.4547 - accuracy: 0.8802WARNING:tensorflow:Can save best model only with val_acc available, skipping.\n",
      "37/37 [==============================] - 109s 3s/step - loss: 0.4524 - accuracy: 0.8813 - val_loss: 0.6004 - val_accuracy: 0.8066\n",
      "Learning rate:  0.0001\n",
      "Epoch 34/120\n",
      "36/37 [============================>.] - ETA: 1s - loss: 0.4696 - accuracy: 0.8710WARNING:tensorflow:Can save best model only with val_acc available, skipping.\n",
      "37/37 [==============================] - 92s 2s/step - loss: 0.4673 - accuracy: 0.8720 - val_loss: 0.6199 - val_accuracy: 0.8066\n",
      "Learning rate:  0.0001\n",
      "Epoch 35/120\n",
      "36/37 [============================>.] - ETA: 1s - loss: 0.4493 - accuracy: 0.8819WARNING:tensorflow:Can save best model only with val_acc available, skipping.\n",
      "37/37 [==============================] - 95s 3s/step - loss: 0.4483 - accuracy: 0.8826 - val_loss: 0.6178 - val_accuracy: 0.8052\n",
      "Learning rate:  0.0001\n",
      "Epoch 36/120\n",
      "36/37 [============================>.] - ETA: 2s - loss: 0.4577 - accuracy: 0.8793WARNING:tensorflow:Can save best model only with val_acc available, skipping.\n",
      "37/37 [==============================] - 115s 3s/step - loss: 0.4571 - accuracy: 0.8788 - val_loss: 0.6250 - val_accuracy: 0.8066\n",
      "Learning rate:  0.0001\n",
      "Epoch 37/120\n",
      "36/37 [============================>.] - ETA: 1s - loss: 0.4474 - accuracy: 0.8828WARNING:tensorflow:Can save best model only with val_acc available, skipping.\n",
      "37/37 [==============================] - 95s 3s/step - loss: 0.4488 - accuracy: 0.8822 - val_loss: 0.6448 - val_accuracy: 0.7901\n",
      "Learning rate:  0.0001\n",
      "Epoch 38/120\n",
      "36/37 [============================>.] - ETA: 1s - loss: 0.4475 - accuracy: 0.8797WARNING:tensorflow:Can save best model only with val_acc available, skipping.\n",
      "37/37 [==============================] - 113s 3s/step - loss: 0.4467 - accuracy: 0.8800 - val_loss: 0.6479 - val_accuracy: 0.7901\n",
      "Learning rate:  0.0001\n",
      "Epoch 39/120\n",
      "36/37 [============================>.] - ETA: 1s - loss: 0.4339 - accuracy: 0.8784WARNING:tensorflow:Can save best model only with val_acc available, skipping.\n",
      "37/37 [==============================] - 77s 2s/step - loss: 0.4336 - accuracy: 0.8779 - val_loss: 0.6034 - val_accuracy: 0.8163\n",
      "Learning rate:  0.0001\n",
      "Epoch 40/120\n",
      "36/37 [============================>.] - ETA: 1s - loss: 0.4367 - accuracy: 0.8850WARNING:tensorflow:Can save best model only with val_acc available, skipping.\n",
      "37/37 [==============================] - 95s 3s/step - loss: 0.4393 - accuracy: 0.8843 - val_loss: 0.6111 - val_accuracy: 0.8177\n",
      "Learning rate:  0.0001\n",
      "Epoch 41/120\n",
      "36/37 [============================>.] - ETA: 2s - loss: 0.4260 - accuracy: 0.8898WARNING:tensorflow:Can save best model only with val_acc available, skipping.\n",
      "37/37 [==============================] - 113s 3s/step - loss: 0.4274 - accuracy: 0.8894 - val_loss: 0.5985 - val_accuracy: 0.8191\n",
      "Learning rate:  0.0001\n",
      "Epoch 42/120\n",
      "36/37 [============================>.] - ETA: 1s - loss: 0.4479 - accuracy: 0.8841WARNING:tensorflow:Can save best model only with val_acc available, skipping.\n",
      "37/37 [==============================] - 92s 2s/step - loss: 0.4476 - accuracy: 0.8838 - val_loss: 0.6033 - val_accuracy: 0.8122\n",
      "Learning rate:  0.0001\n",
      "Epoch 43/120\n",
      "36/37 [============================>.] - ETA: 1s - loss: 0.4411 - accuracy: 0.8745WARNING:tensorflow:Can save best model only with val_acc available, skipping.\n",
      "37/37 [==============================] - 92s 2s/step - loss: 0.4412 - accuracy: 0.8745 - val_loss: 0.6167 - val_accuracy: 0.7997\n",
      "Learning rate:  0.0001\n",
      "Epoch 44/120\n",
      "36/37 [============================>.] - ETA: 2s - loss: 0.4248 - accuracy: 0.8880WARNING:tensorflow:Can save best model only with val_acc available, skipping.\n",
      "37/37 [==============================] - 111s 3s/step - loss: 0.4263 - accuracy: 0.8881 - val_loss: 0.6220 - val_accuracy: 0.7956\n",
      "Learning rate:  0.0001\n",
      "Epoch 45/120\n",
      "36/37 [============================>.] - ETA: 2s - loss: 0.4301 - accuracy: 0.8841WARNING:tensorflow:Can save best model only with val_acc available, skipping.\n",
      "37/37 [==============================] - 111s 3s/step - loss: 0.4281 - accuracy: 0.8855 - val_loss: 0.6427 - val_accuracy: 0.7997\n",
      "Learning rate:  0.0001\n",
      "Epoch 46/120\n",
      "36/37 [============================>.] - ETA: 1s - loss: 0.4460 - accuracy: 0.8771WARNING:tensorflow:Can save best model only with val_acc available, skipping.\n",
      "37/37 [==============================] - 92s 2s/step - loss: 0.4482 - accuracy: 0.8766 - val_loss: 0.6760 - val_accuracy: 0.7901\n",
      "Learning rate:  0.0001\n",
      "Epoch 47/120\n",
      "36/37 [============================>.] - ETA: 1s - loss: 0.4235 - accuracy: 0.8919WARNING:tensorflow:Can save best model only with val_acc available, skipping.\n",
      "37/37 [==============================] - 92s 2s/step - loss: 0.4291 - accuracy: 0.8906 - val_loss: 0.6577 - val_accuracy: 0.7914\n",
      "Learning rate:  0.0001\n",
      "Epoch 48/120\n",
      "36/37 [============================>.] - ETA: 2s - loss: 0.4283 - accuracy: 0.8863WARNING:tensorflow:Can save best model only with val_acc available, skipping.\n",
      "37/37 [==============================] - 110s 3s/step - loss: 0.4273 - accuracy: 0.8877 - val_loss: 0.6807 - val_accuracy: 0.7818\n",
      "Learning rate:  0.0001\n",
      "Epoch 49/120\n",
      "36/37 [============================>.] - ETA: 2s - loss: 0.4241 - accuracy: 0.8867WARNING:tensorflow:Can save best model only with val_acc available, skipping.\n",
      "37/37 [==============================] - 109s 3s/step - loss: 0.4241 - accuracy: 0.8864 - val_loss: 0.6648 - val_accuracy: 0.7859\n",
      "Learning rate:  0.0001\n",
      "Epoch 50/120\n"
     ]
    },
    {
     "name": "stdout",
     "output_type": "stream",
     "text": [
      "36/37 [============================>.] - ETA: 1s - loss: 0.4038 - accuracy: 0.8954WARNING:tensorflow:Can save best model only with val_acc available, skipping.\n",
      "37/37 [==============================] - 90s 2s/step - loss: 0.4029 - accuracy: 0.8961 - val_loss: 0.6381 - val_accuracy: 0.8066\n",
      "Learning rate:  0.0001\n",
      "Epoch 51/120\n",
      "36/37 [============================>.] - ETA: 1s - loss: 0.4292 - accuracy: 0.8832WARNING:tensorflow:Can save best model only with val_acc available, skipping.\n",
      "37/37 [==============================] - 95s 3s/step - loss: 0.4329 - accuracy: 0.8821 - val_loss: 0.6564 - val_accuracy: 0.7901\n",
      "Learning rate:  1e-05\n",
      "Epoch 52/120\n",
      "36/37 [============================>.] - ETA: 1s - loss: 0.4154 - accuracy: 0.8950WARNING:tensorflow:Can save best model only with val_acc available, skipping.\n",
      "37/37 [==============================] - 96s 3s/step - loss: 0.4170 - accuracy: 0.8940 - val_loss: 0.6521 - val_accuracy: 0.7914\n",
      "Learning rate:  1e-05\n",
      "Epoch 53/120\n",
      "36/37 [============================>.] - ETA: 1s - loss: 0.3844 - accuracy: 0.9062WARNING:tensorflow:Can save best model only with val_acc available, skipping.\n",
      "37/37 [==============================] - 93s 3s/step - loss: 0.3831 - accuracy: 0.9075 - val_loss: 0.6475 - val_accuracy: 0.7970\n",
      "Learning rate:  1e-05\n",
      "Epoch 54/120\n",
      "36/37 [============================>.] - ETA: 1s - loss: 0.4144 - accuracy: 0.8911WARNING:tensorflow:Can save best model only with val_acc available, skipping.\n",
      "37/37 [==============================] - 92s 2s/step - loss: 0.4150 - accuracy: 0.8915 - val_loss: 0.6490 - val_accuracy: 0.7956\n",
      "Learning rate:  1e-05\n",
      "Epoch 55/120\n",
      "36/37 [============================>.] - ETA: 1s - loss: 0.4305 - accuracy: 0.8850WARNING:tensorflow:Can save best model only with val_acc available, skipping.\n",
      "37/37 [==============================] - 92s 2s/step - loss: 0.4287 - accuracy: 0.8864 - val_loss: 0.6720 - val_accuracy: 0.7970\n",
      "Learning rate:  1e-05\n",
      "Epoch 56/120\n",
      "36/37 [============================>.] - ETA: 2s - loss: 0.4160 - accuracy: 0.8880WARNING:tensorflow:Can save best model only with val_acc available, skipping.\n",
      "37/37 [==============================] - 108s 3s/step - loss: 0.4151 - accuracy: 0.8872 - val_loss: 0.6484 - val_accuracy: 0.7997\n",
      "Learning rate:  1e-05\n",
      "Epoch 57/120\n",
      "36/37 [============================>.] - ETA: 1s - loss: 0.4145 - accuracy: 0.8902WARNING:tensorflow:Can save best model only with val_acc available, skipping.\n",
      "37/37 [==============================] - 92s 2s/step - loss: 0.4126 - accuracy: 0.8919 - val_loss: 0.6573 - val_accuracy: 0.7942\n",
      "Learning rate:  1e-05\n",
      "Epoch 58/120\n",
      "36/37 [============================>.] - ETA: 1s - loss: 0.3958 - accuracy: 0.9045WARNING:tensorflow:Can save best model only with val_acc available, skipping.\n",
      "37/37 [==============================] - 91s 2s/step - loss: 0.3974 - accuracy: 0.9037 - val_loss: 0.6582 - val_accuracy: 0.7956\n",
      "Learning rate:  1e-05\n",
      "Epoch 59/120\n",
      "36/37 [============================>.] - ETA: 2s - loss: 0.4203 - accuracy: 0.8880WARNING:tensorflow:Can save best model only with val_acc available, skipping.\n",
      "37/37 [==============================] - 112s 3s/step - loss: 0.4217 - accuracy: 0.8877 - val_loss: 0.6726 - val_accuracy: 0.7928\n",
      "Learning rate:  1e-05\n",
      "Epoch 60/120\n",
      "36/37 [============================>.] - ETA: 2s - loss: 0.4041 - accuracy: 0.8963WARNING:tensorflow:Can save best model only with val_acc available, skipping.\n",
      "37/37 [==============================] - 111s 3s/step - loss: 0.4023 - accuracy: 0.8961 - val_loss: 0.6743 - val_accuracy: 0.7928\n",
      "Learning rate:  1e-05\n",
      "Epoch 61/120\n",
      "36/37 [============================>.] - ETA: 1s - loss: 0.4021 - accuracy: 0.8968WARNING:tensorflow:Can save best model only with val_acc available, skipping.\n",
      "37/37 [==============================] - 88s 2s/step - loss: 0.4048 - accuracy: 0.8957 - val_loss: 0.6715 - val_accuracy: 0.7942\n",
      "Learning rate:  1e-05\n",
      "Epoch 62/120\n",
      "36/37 [============================>.] - ETA: 1s - loss: 0.4086 - accuracy: 0.8915WARNING:tensorflow:Can save best model only with val_acc available, skipping.\n",
      "37/37 [==============================] - 89s 2s/step - loss: 0.4082 - accuracy: 0.8919 - val_loss: 0.6748 - val_accuracy: 0.7901\n",
      "Learning rate:  1e-05\n",
      "Epoch 63/120\n",
      "36/37 [============================>.] - ETA: 1s - loss: 0.4041 - accuracy: 0.8963WARNING:tensorflow:Can save best model only with val_acc available, skipping.\n",
      "37/37 [==============================] - 93s 3s/step - loss: 0.4067 - accuracy: 0.8953 - val_loss: 0.6755 - val_accuracy: 0.7928\n",
      "Learning rate:  1e-05\n",
      "Epoch 64/120\n",
      "36/37 [============================>.] - ETA: 1s - loss: 0.4219 - accuracy: 0.8911WARNING:tensorflow:Can save best model only with val_acc available, skipping.\n",
      "37/37 [==============================] - 107s 3s/step - loss: 0.4260 - accuracy: 0.8889 - val_loss: 0.6493 - val_accuracy: 0.7970\n",
      "Learning rate:  1e-05\n",
      "Epoch 65/120\n",
      "36/37 [============================>.] - ETA: 1s - loss: 0.4139 - accuracy: 0.8928WARNING:tensorflow:Can save best model only with val_acc available, skipping.\n",
      "37/37 [==============================] - 91s 2s/step - loss: 0.4153 - accuracy: 0.8932 - val_loss: 0.6568 - val_accuracy: 0.7956\n",
      "Learning rate:  1e-05\n",
      "Epoch 66/120\n",
      "36/37 [============================>.] - ETA: 1s - loss: 0.3858 - accuracy: 0.9062WARNING:tensorflow:Can save best model only with val_acc available, skipping.\n",
      "37/37 [==============================] - 91s 2s/step - loss: 0.3892 - accuracy: 0.9050 - val_loss: 0.6526 - val_accuracy: 0.7956\n",
      "Learning rate:  1e-05\n",
      "Epoch 67/120\n",
      "36/37 [============================>.] - ETA: 2s - loss: 0.4211 - accuracy: 0.8915WARNING:tensorflow:Can save best model only with val_acc available, skipping.\n",
      "37/37 [==============================] - 113s 3s/step - loss: 0.4214 - accuracy: 0.8911 - val_loss: 0.6489 - val_accuracy: 0.7956\n",
      "Learning rate:  1e-05\n",
      "Epoch 68/120\n",
      "36/37 [============================>.] - ETA: 2s - loss: 0.4003 - accuracy: 0.8950WARNING:tensorflow:Can save best model only with val_acc available, skipping.\n",
      "37/37 [==============================] - 111s 3s/step - loss: 0.4004 - accuracy: 0.8940 - val_loss: 0.6385 - val_accuracy: 0.7970\n",
      "Learning rate:  1e-05\n",
      "Epoch 69/120\n",
      "36/37 [============================>.] - ETA: 1s - loss: 0.4034 - accuracy: 0.8976WARNING:tensorflow:Can save best model only with val_acc available, skipping.\n",
      "37/37 [==============================] - 92s 2s/step - loss: 0.4057 - accuracy: 0.8957 - val_loss: 0.6403 - val_accuracy: 0.7956\n",
      "Learning rate:  1e-05\n",
      "Epoch 70/120\n",
      "36/37 [============================>.] - ETA: 2s - loss: 0.4326 - accuracy: 0.8885WARNING:tensorflow:Can save best model only with val_acc available, skipping.\n",
      "37/37 [==============================] - 110s 3s/step - loss: 0.4338 - accuracy: 0.8868 - val_loss: 0.6675 - val_accuracy: 0.7942\n",
      "Learning rate:  1e-05\n",
      "Epoch 71/120\n",
      "36/37 [============================>.] - ETA: 2s - loss: 0.4075 - accuracy: 0.8932WARNING:tensorflow:Can save best model only with val_acc available, skipping.\n",
      "37/37 [==============================] - 112s 3s/step - loss: 0.4101 - accuracy: 0.8940 - val_loss: 0.6649 - val_accuracy: 0.7983\n",
      "Learning rate:  1e-06\n",
      "Epoch 72/120\n",
      "36/37 [============================>.] - ETA: 1s - loss: 0.4100 - accuracy: 0.8963WARNING:tensorflow:Can save best model only with val_acc available, skipping.\n",
      "37/37 [==============================] - 92s 2s/step - loss: 0.4095 - accuracy: 0.8970 - val_loss: 0.6640 - val_accuracy: 0.7970\n",
      "Learning rate:  1e-06\n",
      "Epoch 73/120\n",
      "36/37 [============================>.] - ETA: 1s - loss: 0.4104 - accuracy: 0.8924WARNING:tensorflow:Can save best model only with val_acc available, skipping.\n",
      "37/37 [==============================] - 94s 3s/step - loss: 0.4162 - accuracy: 0.8902 - val_loss: 0.6683 - val_accuracy: 0.7983\n",
      "Learning rate:  1e-06\n",
      "Epoch 74/120\n",
      "36/37 [============================>.] - ETA: 1s - loss: 0.3876 - accuracy: 0.9063WARNING:tensorflow:Can save best model only with val_acc available, skipping.\n",
      "37/37 [==============================] - 88s 2s/step - loss: 0.3910 - accuracy: 0.9046 - val_loss: 0.6689 - val_accuracy: 0.7983\n",
      "Learning rate:  1e-06\n",
      "Epoch 75/120\n",
      "36/37 [============================>.] - ETA: 1s - loss: 0.4110 - accuracy: 0.8976WARNING:tensorflow:Can save best model only with val_acc available, skipping.\n"
     ]
    },
    {
     "name": "stdout",
     "output_type": "stream",
     "text": [
      "37/37 [==============================] - 92s 2s/step - loss: 0.4076 - accuracy: 0.8991 - val_loss: 0.6672 - val_accuracy: 0.7956\n",
      "Learning rate:  1e-06\n",
      "Epoch 76/120\n",
      "36/37 [============================>.] - ETA: 1s - loss: 0.3973 - accuracy: 0.8954WARNING:tensorflow:Can save best model only with val_acc available, skipping.\n",
      "37/37 [==============================] - 108s 3s/step - loss: 0.3974 - accuracy: 0.8953 - val_loss: 0.6969 - val_accuracy: 0.7956\n",
      "Learning rate:  1e-06\n",
      "Epoch 77/120\n",
      "36/37 [============================>.] - ETA: 1s - loss: 0.3941 - accuracy: 0.8989WARNING:tensorflow:Can save best model only with val_acc available, skipping.\n",
      "37/37 [==============================] - 93s 3s/step - loss: 0.3997 - accuracy: 0.8978 - val_loss: 0.6607 - val_accuracy: 0.7970\n",
      "Learning rate:  1e-06\n",
      "Epoch 78/120\n",
      "36/37 [============================>.] - ETA: 2s - loss: 0.4055 - accuracy: 0.8958WARNING:tensorflow:Can save best model only with val_acc available, skipping.\n",
      "37/37 [==============================] - 110s 3s/step - loss: 0.4041 - accuracy: 0.8957 - val_loss: 0.6773 - val_accuracy: 0.7956\n",
      "Learning rate:  1e-06\n",
      "Epoch 79/120\n",
      "36/37 [============================>.] - ETA: 2s - loss: 0.4002 - accuracy: 0.8976WARNING:tensorflow:Can save best model only with val_acc available, skipping.\n",
      "37/37 [==============================] - 108s 3s/step - loss: 0.4024 - accuracy: 0.8979 - val_loss: 0.6680 - val_accuracy: 0.7956\n",
      "Learning rate:  1e-06\n",
      "Epoch 80/120\n",
      "36/37 [============================>.] - ETA: 1s - loss: 0.4153 - accuracy: 0.8950WARNING:tensorflow:Can save best model only with val_acc available, skipping.\n",
      "37/37 [==============================] - 91s 2s/step - loss: 0.4139 - accuracy: 0.8953 - val_loss: 0.6669 - val_accuracy: 0.7956\n",
      "Learning rate:  1e-06\n",
      "Epoch 81/120\n",
      "36/37 [============================>.] - ETA: 1s - loss: 0.4118 - accuracy: 0.8911WARNING:tensorflow:Can save best model only with val_acc available, skipping.\n",
      "37/37 [==============================] - 90s 2s/step - loss: 0.4113 - accuracy: 0.8915 - val_loss: 0.6677 - val_accuracy: 0.7956\n",
      "Learning rate:  1e-06\n",
      "Epoch 82/120\n",
      "36/37 [============================>.] - ETA: 1s - loss: 0.4082 - accuracy: 0.8915WARNING:tensorflow:Can save best model only with val_acc available, skipping.\n",
      "37/37 [==============================] - 90s 2s/step - loss: 0.4081 - accuracy: 0.8915 - val_loss: 0.6676 - val_accuracy: 0.7956\n",
      "Learning rate:  1e-06\n",
      "Epoch 83/120\n",
      "36/37 [============================>.] - ETA: 1s - loss: 0.4083 - accuracy: 0.8980WARNING:tensorflow:Can save best model only with val_acc available, skipping.\n",
      "37/37 [==============================] - 90s 2s/step - loss: 0.4061 - accuracy: 0.8995 - val_loss: 0.6688 - val_accuracy: 0.7956\n",
      "Learning rate:  1e-06\n",
      "Epoch 84/120\n",
      "36/37 [============================>.] - ETA: 1s - loss: 0.4035 - accuracy: 0.8919WARNING:tensorflow:Can save best model only with val_acc available, skipping.\n",
      "37/37 [==============================] - 90s 2s/step - loss: 0.4026 - accuracy: 0.8928 - val_loss: 0.6693 - val_accuracy: 0.7956\n",
      "Learning rate:  1e-06\n",
      "Epoch 85/120\n",
      "36/37 [============================>.] - ETA: 1s - loss: 0.4076 - accuracy: 0.8985WARNING:tensorflow:Can save best model only with val_acc available, skipping.\n",
      "37/37 [==============================] - 90s 2s/step - loss: 0.4068 - accuracy: 0.8991 - val_loss: 0.6704 - val_accuracy: 0.7983\n",
      "Learning rate:  1e-06\n",
      "Epoch 86/120\n",
      "36/37 [============================>.] - ETA: 1s - loss: 0.4221 - accuracy: 0.8876WARNING:tensorflow:Can save best model only with val_acc available, skipping.\n",
      "37/37 [==============================] - 91s 2s/step - loss: 0.4196 - accuracy: 0.8881 - val_loss: 0.6712 - val_accuracy: 0.7942\n",
      "Learning rate:  1e-06\n",
      "Epoch 87/120\n",
      "36/37 [============================>.] - ETA: 2s - loss: 0.3967 - accuracy: 0.8990WARNING:tensorflow:Can save best model only with val_acc available, skipping.\n",
      "37/37 [==============================] - 108s 3s/step - loss: 0.4017 - accuracy: 0.8974 - val_loss: 0.6642 - val_accuracy: 0.7956\n",
      "Learning rate:  1e-06\n",
      "Epoch 88/120\n",
      "36/37 [============================>.] - ETA: 2s - loss: 0.4247 - accuracy: 0.8854WARNING:tensorflow:Can save best model only with val_acc available, skipping.\n",
      "37/37 [==============================] - 107s 3s/step - loss: 0.4246 - accuracy: 0.8855 - val_loss: 0.6642 - val_accuracy: 0.7928\n",
      "Learning rate:  1e-06\n",
      "Epoch 89/120\n",
      "36/37 [============================>.] - ETA: 2s - loss: 0.3970 - accuracy: 0.9076WARNING:tensorflow:Can save best model only with val_acc available, skipping.\n",
      "37/37 [==============================] - 122s 3s/step - loss: 0.3973 - accuracy: 0.9063 - val_loss: 0.6667 - val_accuracy: 0.7942\n",
      "Learning rate:  1e-06\n",
      "Epoch 90/120\n",
      "36/37 [============================>.] - ETA: 1s - loss: 0.3961 - accuracy: 0.9015WARNING:tensorflow:Can save best model only with val_acc available, skipping.\n",
      "37/37 [==============================] - 104s 3s/step - loss: 0.3954 - accuracy: 0.9008 - val_loss: 0.6664 - val_accuracy: 0.7928\n",
      "Learning rate:  1e-06\n",
      "Epoch 91/120\n",
      "36/37 [============================>.] - ETA: 2s - loss: 0.3926 - accuracy: 0.9046WARNING:tensorflow:Can save best model only with val_acc available, skipping.\n",
      "37/37 [==============================] - 117s 3s/step - loss: 0.3928 - accuracy: 0.9046 - val_loss: 0.6746 - val_accuracy: 0.7942\n",
      "Learning rate:  5e-07\n",
      "Epoch 92/120\n",
      "36/37 [============================>.] - ETA: 2s - loss: 0.4009 - accuracy: 0.9002WARNING:tensorflow:Can save best model only with val_acc available, skipping.\n",
      "37/37 [==============================] - 122s 3s/step - loss: 0.4008 - accuracy: 0.9004 - val_loss: 0.6685 - val_accuracy: 0.7928\n",
      "Learning rate:  5e-07\n",
      "Epoch 93/120\n",
      "36/37 [============================>.] - ETA: 2s - loss: 0.4097 - accuracy: 0.8959WARNING:tensorflow:Can save best model only with val_acc available, skipping.\n",
      "37/37 [==============================] - 127s 3s/step - loss: 0.4058 - accuracy: 0.8979 - val_loss: 0.6697 - val_accuracy: 0.7942\n",
      "Learning rate:  5e-07\n",
      "Epoch 94/120\n",
      "36/37 [============================>.] - ETA: 2s - loss: 0.4043 - accuracy: 0.8989WARNING:tensorflow:Can save best model only with val_acc available, skipping.\n",
      "37/37 [==============================] - 129s 3s/step - loss: 0.4027 - accuracy: 0.8991 - val_loss: 0.6767 - val_accuracy: 0.7928\n",
      "Learning rate:  5e-07\n",
      "Epoch 95/120\n",
      "36/37 [============================>.] - ETA: 2s - loss: 0.4154 - accuracy: 0.8954WARNING:tensorflow:Can save best model only with val_acc available, skipping.\n",
      "37/37 [==============================] - 124s 3s/step - loss: 0.4121 - accuracy: 0.8974 - val_loss: 0.6650 - val_accuracy: 0.7942\n",
      "Learning rate:  5e-07\n",
      "Epoch 96/120\n",
      "36/37 [============================>.] - ETA: 1s - loss: 0.4142 - accuracy: 0.8876WARNING:tensorflow:Can save best model only with val_acc available, skipping.\n",
      "37/37 [==============================] - 93s 3s/step - loss: 0.4110 - accuracy: 0.8894 - val_loss: 0.6659 - val_accuracy: 0.7956\n",
      "Learning rate:  5e-07\n",
      "Epoch 97/120\n",
      "36/37 [============================>.] - ETA: 1s - loss: 0.4066 - accuracy: 0.8971WARNING:tensorflow:Can save best model only with val_acc available, skipping.\n",
      "37/37 [==============================] - 90s 2s/step - loss: 0.4060 - accuracy: 0.8965 - val_loss: 0.6653 - val_accuracy: 0.7928\n",
      "Learning rate:  5e-07\n",
      "Epoch 98/120\n",
      "36/37 [============================>.] - ETA: 1s - loss: 0.4057 - accuracy: 0.8911WARNING:tensorflow:Can save best model only with val_acc available, skipping.\n",
      "37/37 [==============================] - 89s 2s/step - loss: 0.4056 - accuracy: 0.8911 - val_loss: 0.6643 - val_accuracy: 0.7956\n",
      "Learning rate:  5e-07\n",
      "Epoch 99/120\n",
      "36/37 [============================>.] - ETA: 2s - loss: 0.4319 - accuracy: 0.8832WARNING:tensorflow:Can save best model only with val_acc available, skipping.\n",
      "37/37 [==============================] - 109s 3s/step - loss: 0.4292 - accuracy: 0.8851 - val_loss: 0.6977 - val_accuracy: 0.7942\n",
      "Learning rate:  5e-07\n",
      "Epoch 100/120\n",
      "36/37 [============================>.] - ETA: 1s - loss: 0.4237 - accuracy: 0.8867WARNING:tensorflow:Can save best model only with val_acc available, skipping.\n",
      "37/37 [==============================] - 90s 2s/step - loss: 0.4226 - accuracy: 0.8881 - val_loss: 0.6995 - val_accuracy: 0.7914\n"
     ]
    },
    {
     "name": "stdout",
     "output_type": "stream",
     "text": [
      "Learning rate:  5e-07\n",
      "Epoch 101/120\n",
      "36/37 [============================>.] - ETA: 1s - loss: 0.4208 - accuracy: 0.8889WARNING:tensorflow:Can save best model only with val_acc available, skipping.\n",
      "37/37 [==============================] - 92s 2s/step - loss: 0.4208 - accuracy: 0.8881 - val_loss: 0.6966 - val_accuracy: 0.7942\n",
      "Learning rate:  5e-07\n",
      "Epoch 102/120\n",
      "36/37 [============================>.] - ETA: 1s - loss: 0.4136 - accuracy: 0.8972WARNING:tensorflow:Can save best model only with val_acc available, skipping.\n",
      "37/37 [==============================] - 110s 3s/step - loss: 0.4154 - accuracy: 0.8966 - val_loss: 0.6675 - val_accuracy: 0.7928\n",
      "Learning rate:  5e-07\n",
      "Epoch 103/120\n",
      "36/37 [============================>.] - ETA: 1s - loss: 0.3838 - accuracy: 0.9050WARNING:tensorflow:Can save best model only with val_acc available, skipping.\n",
      "37/37 [==============================] - 109s 3s/step - loss: 0.3839 - accuracy: 0.9059 - val_loss: 0.6496 - val_accuracy: 0.7914\n",
      "Learning rate:  5e-07\n",
      "Epoch 104/120\n",
      "36/37 [============================>.] - ETA: 1s - loss: 0.4054 - accuracy: 0.8998WARNING:tensorflow:Can save best model only with val_acc available, skipping.\n",
      "37/37 [==============================] - 90s 2s/step - loss: 0.4044 - accuracy: 0.9000 - val_loss: 0.6500 - val_accuracy: 0.7914\n",
      "Learning rate:  5e-07\n",
      "Epoch 105/120\n",
      "36/37 [============================>.] - ETA: 1s - loss: 0.4063 - accuracy: 0.8989WARNING:tensorflow:Can save best model only with val_acc available, skipping.\n",
      "37/37 [==============================] - 91s 2s/step - loss: 0.4056 - accuracy: 0.8983 - val_loss: 0.6488 - val_accuracy: 0.7942\n",
      "Learning rate:  5e-07\n",
      "Epoch 106/120\n",
      "36/37 [============================>.] - ETA: 1s - loss: 0.3729 - accuracy: 0.9106WARNING:tensorflow:Can save best model only with val_acc available, skipping.\n",
      "37/37 [==============================] - 91s 2s/step - loss: 0.3722 - accuracy: 0.9113 - val_loss: 0.6474 - val_accuracy: 0.7942\n",
      "Learning rate:  5e-07\n",
      "Epoch 107/120\n",
      "36/37 [============================>.] - ETA: 1s - loss: 0.4097 - accuracy: 0.8955WARNING:tensorflow:Can save best model only with val_acc available, skipping.\n",
      "37/37 [==============================] - 91s 2s/step - loss: 0.4131 - accuracy: 0.8940 - val_loss: 0.6494 - val_accuracy: 0.7942\n",
      "Learning rate:  5e-07\n",
      "Epoch 108/120\n",
      "36/37 [============================>.] - ETA: 2s - loss: 0.4108 - accuracy: 0.8984WARNING:tensorflow:Can save best model only with val_acc available, skipping.\n",
      "37/37 [==============================] - 111s 3s/step - loss: 0.4141 - accuracy: 0.8965 - val_loss: 0.6678 - val_accuracy: 0.7942\n",
      "Learning rate:  5e-07\n",
      "Epoch 109/120\n",
      "36/37 [============================>.] - ETA: 2s - loss: 0.4025 - accuracy: 0.8955WARNING:tensorflow:Can save best model only with val_acc available, skipping.\n",
      "37/37 [==============================] - 113s 3s/step - loss: 0.4008 - accuracy: 0.8966 - val_loss: 0.6690 - val_accuracy: 0.7928\n",
      "Learning rate:  5e-07\n",
      "Epoch 110/120\n",
      "36/37 [============================>.] - ETA: 2s - loss: 0.4067 - accuracy: 0.8915WARNING:tensorflow:Can save best model only with val_acc available, skipping.\n",
      "37/37 [==============================] - 106s 3s/step - loss: 0.4084 - accuracy: 0.8906 - val_loss: 0.6699 - val_accuracy: 0.7928\n",
      "Learning rate:  5e-07\n",
      "Epoch 111/120\n",
      "36/37 [============================>.] - ETA: 2s - loss: 0.3917 - accuracy: 0.8967WARNING:tensorflow:Can save best model only with val_acc available, skipping.\n",
      "37/37 [==============================] - 112s 3s/step - loss: 0.3879 - accuracy: 0.8983 - val_loss: 0.6735 - val_accuracy: 0.7928\n",
      "Learning rate:  5e-07\n",
      "Epoch 112/120\n",
      "36/37 [============================>.] - ETA: 1s - loss: 0.4176 - accuracy: 0.8937WARNING:tensorflow:Can save best model only with val_acc available, skipping.\n",
      "37/37 [==============================] - 90s 2s/step - loss: 0.4148 - accuracy: 0.8949 - val_loss: 0.6720 - val_accuracy: 0.7928\n",
      "Learning rate:  5e-07\n",
      "Epoch 113/120\n",
      "36/37 [============================>.] - ETA: 1s - loss: 0.4160 - accuracy: 0.8976WARNING:tensorflow:Can save best model only with val_acc available, skipping.\n",
      "37/37 [==============================] - 113s 3s/step - loss: 0.4193 - accuracy: 0.8966 - val_loss: 0.6548 - val_accuracy: 0.7928\n",
      "Learning rate:  5e-07\n",
      "Epoch 114/120\n",
      "36/37 [============================>.] - ETA: 1s - loss: 0.4087 - accuracy: 0.8946WARNING:tensorflow:Can save best model only with val_acc available, skipping.\n",
      "37/37 [==============================] - 110s 3s/step - loss: 0.4084 - accuracy: 0.8949 - val_loss: 0.6653 - val_accuracy: 0.7942\n",
      "Learning rate:  5e-07\n",
      "Epoch 115/120\n",
      "36/37 [============================>.] - ETA: 1s - loss: 0.3928 - accuracy: 0.9015WARNING:tensorflow:Can save best model only with val_acc available, skipping.\n",
      "37/37 [==============================] - 95s 3s/step - loss: 0.3939 - accuracy: 0.9004 - val_loss: 0.6784 - val_accuracy: 0.7928\n",
      "Learning rate:  5e-07\n",
      "Epoch 116/120\n",
      "36/37 [============================>.] - ETA: 1s - loss: 0.4028 - accuracy: 0.8959WARNING:tensorflow:Can save best model only with val_acc available, skipping.\n",
      "37/37 [==============================] - 92s 2s/step - loss: 0.4054 - accuracy: 0.8940 - val_loss: 0.6779 - val_accuracy: 0.7928\n",
      "Learning rate:  5e-07\n",
      "Epoch 117/120\n",
      "36/37 [============================>.] - ETA: 2s - loss: 0.3992 - accuracy: 0.9036WARNING:tensorflow:Can save best model only with val_acc available, skipping.\n",
      "37/37 [==============================] - 112s 3s/step - loss: 0.3980 - accuracy: 0.9041 - val_loss: 0.6767 - val_accuracy: 0.7914\n",
      "Learning rate:  5e-07\n",
      "Epoch 118/120\n",
      "36/37 [============================>.] - ETA: 2s - loss: 0.4079 - accuracy: 0.8972WARNING:tensorflow:Can save best model only with val_acc available, skipping.\n",
      "37/37 [==============================] - 113s 3s/step - loss: 0.4072 - accuracy: 0.8970 - val_loss: 0.6702 - val_accuracy: 0.7942\n",
      "Learning rate:  5e-07\n",
      "Epoch 119/120\n",
      "36/37 [============================>.] - ETA: 2s - loss: 0.4070 - accuracy: 0.8989WARNING:tensorflow:Can save best model only with val_acc available, skipping.\n",
      "37/37 [==============================] - 111s 3s/step - loss: 0.4065 - accuracy: 0.8987 - val_loss: 0.6617 - val_accuracy: 0.7942\n",
      "Learning rate:  5e-07\n",
      "Epoch 120/120\n",
      "36/37 [============================>.] - ETA: 2s - loss: 0.4054 - accuracy: 0.8980WARNING:tensorflow:Can save best model only with val_acc available, skipping.\n",
      "37/37 [==============================] - 111s 3s/step - loss: 0.4093 - accuracy: 0.8966 - val_loss: 0.6573 - val_accuracy: 0.7942\n"
     ]
    }
   ],
   "source": [
    "# train_datagen = ImageDataGenerator(rotation_range=40,\n",
    "#                                     width_shift_range=0.2,\n",
    "#                                     height_shift_range=0.2,\n",
    "#                                     shear_range=0.2,\n",
    "#                                     zoom_range=0.2)\n",
    "# test_datagen = ImageDataGenerator()\n",
    "\n",
    "# img_rows = 32\n",
    "# img_cols = 32\n",
    "# epochs = 40\n",
    "# batch_size = 32\n",
    "\n",
    "# num_train_images=2423\n",
    "# num_test_samples = 724\n",
    "\n",
    "# optmz       = optimizers.Adam(lr=0.001)\n",
    "# modelname   = 'Model_2'\n",
    "\n",
    "history = model.fit_generator(train_generator,\n",
    "                    validation_data=validation_generator,\n",
    "                    epochs=epochs, \n",
    "                    verbose=1,\n",
    "                    workers=12,\n",
    "                    steps_per_epoch=num_train_images//batch_size,\n",
    "                    validation_steps=\n",
    "                    callbacks=callbacks_list)"
   ]
  },
  {
   "cell_type": "markdown",
   "metadata": {
    "colab_type": "text",
    "id": "kLra6wBXLuCC"
   },
   "source": [
    "# Evaluation"
   ]
  },
  {
   "cell_type": "markdown",
   "metadata": {
    "colab_type": "text",
    "id": "o0hHFxGvStKG"
   },
   "source": [
    "## Test 1"
   ]
  },
  {
   "cell_type": "markdown",
   "metadata": {
    "colab_type": "text",
    "id": "z8MwmIzf2L0f"
   },
   "source": [
    "### Plot 1"
   ]
  },
  {
   "cell_type": "code",
   "execution_count": 20,
   "metadata": {},
   "outputs": [
    {
     "data": {
      "text/plain": [
       "['loss', 'accuracy', 'val_loss', 'val_accuracy', 'lr']"
      ]
     },
     "execution_count": 20,
     "metadata": {},
     "output_type": "execute_result"
    }
   ],
   "source": [
    "list(history.history.keys())"
   ]
  },
  {
   "cell_type": "code",
   "execution_count": 21,
   "metadata": {
    "colab": {
     "base_uri": "https://localhost:8080/",
     "height": 637
    },
    "colab_type": "code",
    "id": "fjwTYwmt0THo",
    "outputId": "b43c20eb-715c-4485-8ed5-1dac9de3ade8"
   },
   "outputs": [
    {
     "data": {
      "image/png": "[encoded data removed]",
      "text/plain": [
       "<Figure size 432x288 with 1 Axes>"
      ]
     },
     "metadata": {
      "needs_background": "light"
     },
     "output_type": "display_data"
    },
    {
     "data": {
      "image/png": "[encoded data removed]",
      "text/plain": [
       "<Figure size 432x288 with 1 Axes>"
      ]
     },
     "metadata": {
      "needs_background": "light"
     },
     "output_type": "display_data"
    }
   ],
   "source": [
    "plt.plot(history.history['accuracy'])\n",
    "plt.plot(history.history['val_accuracy'])\n",
    "plt.title('model accuracy')\n",
    "plt.ylabel('accuracy')\n",
    "plt.xlabel('epoch')\n",
    "plt.legend(['train', 'val'], loc='upper left')\n",
    "plt.show()\n",
    "\n",
    "plt.plot(history.history['loss'])\n",
    "plt.plot(history.history['val_loss'])\n",
    "plt.title('model loss')\n",
    "plt.ylabel('loss')\n",
    "plt.xlabel('epoch')\n",
    "plt.legend(['train', 'val'], loc='upper left')\n",
    "plt.show()"
   ]
  },
  {
   "cell_type": "markdown",
   "metadata": {
    "colab_type": "text",
    "id": "ZK7SnhXH2AB4"
   },
   "source": [
    "### Plot 2"
   ]
  },
  {
   "cell_type": "code",
   "execution_count": 22,
   "metadata": {
    "colab": {
     "base_uri": "https://localhost:8080/",
     "height": 564
    },
    "colab_type": "code",
    "id": "GDuGJUC_svwa",
    "outputId": "54c08e78-7599-4ce8-a23a-6002e37cfc07"
   },
   "outputs": [
    {
     "data": {
      "image/png": "[encoded data removed]",
      "text/plain": [
       "<Figure size 432x288 with 1 Axes>"
      ]
     },
     "metadata": {
      "needs_background": "light"
     },
     "output_type": "display_data"
    },
    {
     "data": {
      "image/png": "[encoded data removed]",
      "text/plain": [
       "<Figure size 432x288 with 1 Axes>"
      ]
     },
     "metadata": {
      "needs_background": "light"
     },
     "output_type": "display_data"
    },
    {
     "data": {
      "text/plain": [
       "<Figure size 432x288 with 0 Axes>"
      ]
     },
     "metadata": {},
     "output_type": "display_data"
    }
   ],
   "source": [
    "import matplotlib.pyplot as plt\n",
    "import tensorflow as tf\n",
    "# Plot the training and validation loss + accuracy\n",
    "def plot_training(history):\n",
    "    acc = history.history['accuracy']\n",
    "    val_acc = history.history['val_accuracy']\n",
    "    loss = history.history['loss']\n",
    "    val_loss = history.history['val_loss']\n",
    "    epochs = range(len(acc))\n",
    "\n",
    "    plt.plot(epochs, acc, 'r.')\n",
    "    plt.plot(epochs, val_acc, 'r')\n",
    "    plt.title('Training and validation accuracy')\n",
    "\n",
    "    plt.figure()\n",
    "    plt.plot(epochs, loss, 'r.')\n",
    "    plt.plot(epochs, val_loss, 'r-')\n",
    "    plt.title('Training and validation loss')\n",
    "    plt.show()\n",
    "\n",
    "    plt.savefig('acc_vs_epochs.png')\n",
    "\n",
    "plot_training(history)\n",
    "# print(dir(callbacks_list))"
   ]
  },
  {
   "cell_type": "markdown",
   "metadata": {
    "colab_type": "text",
    "id": "AHmPmWopo0Bs"
   },
   "source": [
    "### Confusion Matrix"
   ]
  },
  {
   "cell_type": "code",
   "execution_count": 23,
   "metadata": {
    "colab": {},
    "colab_type": "code",
    "id": "zRKbzE5kgQSP"
   },
   "outputs": [
    {
     "name": "stdout",
     "output_type": "stream",
     "text": [
      "Found 724 images belonging to 3 classes.\n",
      "12/12 [==============================] - 24s 2s/step\n",
      "Confusion Matrix\n",
      "[[240  24  33]\n",
      " [ 19 161  38]\n",
      " [ 15  20 174]]\n",
      "Classification Report\n",
      "              precision    recall  f1-score   support\n",
      "\n",
      "        food       0.88      0.81      0.84       297\n",
      "    landmark       0.79      0.74      0.76       218\n",
      "      people       0.71      0.83      0.77       209\n",
      "\n",
      "    accuracy                           0.79       724\n",
      "   macro avg       0.79      0.79      0.79       724\n",
      "weighted avg       0.80      0.79      0.80       724\n",
      "\n"
     ]
    }
   ],
   "source": [
    "#Confution Matrix and Classification Report\n",
    "Y_pred = model.predict_generator(validation_generator, steps=np.math.ceil(validation_generator.samples/validation_generator.batch_size), verbose=1, workers=12)\n",
    "y_pred = np.argmax(Y_pred, axis=1)\n",
    "print('Confusion Matrix')\n",
    "print(confusion_matrix(validation_generator.classes, y_pred))\n",
    "print('Classification Report')\n",
    "target_names = list(validation_generator.class_indices.keys())\n",
    "print(classification_report(validation_generator.classes, y_pred, target_names=target_names))"
   ]
  },
  {
   "cell_type": "code",
   "execution_count": 25,
   "metadata": {},
   "outputs": [
    {
     "name": "stdout",
     "output_type": "stream",
     "text": [
      "              precision    recall  f1-score   support\n",
      "\n",
      "        food       0.88      0.81      0.84       297\n",
      "    landmark       0.79      0.74      0.76       218\n",
      "      people       0.71      0.83      0.77       209\n",
      "\n",
      "    accuracy                           0.79       724\n",
      "   macro avg       0.79      0.79      0.79       724\n",
      "weighted avg       0.80      0.79      0.80       724\n",
      "\n"
     ]
    }
   ],
   "source": [
    "target_names = list(validation_generator.class_indices.keys())\n",
    "print(classification_report(validation_generator.classes, y_pred, target_names=target_names))"
   ]
  },
  {
   "cell_type": "code",
   "execution_count": 26,
   "metadata": {
    "colab": {
     "base_uri": "https://localhost:8080/",
     "height": 34
    },
    "colab_type": "code",
    "id": "1z8DWSlAVDvr",
    "outputId": "1d62fe4b-bdeb-4c80-a98c-bcba5a2a3ba1"
   },
   "outputs": [
    {
     "name": "stdout",
     "output_type": "stream",
     "text": [
      "C:\\Users\\joyce.li\\Desktop\\DL\\Model_2_model.png\n"
     ]
    }
   ],
   "source": [
    "print(os.path.join(PROJECT_DIR, modelname+'_model.png'))"
   ]
  },
  {
   "cell_type": "markdown",
   "metadata": {
    "colab_type": "text",
    "id": "Q_-CRARV2Blh"
   },
   "source": [
    "# Plot Model"
   ]
  },
  {
   "cell_type": "code",
   "execution_count": null,
   "metadata": {
    "colab": {
     "base_uri": "https://localhost:8080/",
     "height": 1000
    },
    "colab_type": "code",
    "id": "fFLmAk4LL2kD",
    "outputId": "a63950da-7ec8-4162-8ac1-753d91eb9fa7"
   },
   "outputs": [],
   "source": [
    "from tensorflow.keras.utils import plot_model\n",
    "\n",
    "plot_model(model, \n",
    "           to_file=os.path.join(PROJECT_DIR, modelname+'_model.png'), \n",
    "           show_shapes=True, \n",
    "           show_layer_names=False,\n",
    "           rankdir='TB')"
   ]
  },
  {
   "cell_type": "markdown",
   "metadata": {},
   "source": [
    "# VGG Model"
   ]
  },
  {
   "cell_type": "code",
   "execution_count": null,
   "metadata": {},
   "outputs": [],
   "source": [
    "def VGG_16(weights_path=None):\n",
    "    model = Sequential()\n",
    "    model.add(ZeroPadding2D((1,1),input_shape=(3,224,224)))\n",
    "    model.add(Convolution2D(64, 3, 3, activation='relu'))\n",
    "    model.add(ZeroPadding2D((1,1)))\n",
    "    model.add(Convolution2D(64, 3, 3, activation='relu'))\n",
    "    model.add(MaxPooling2D((2,2), strides=(2,2)))\n",
    "\n",
    "    model.add(ZeroPadding2D((1,1)))\n",
    "    model.add(Convolution2D(128, 3, 3, activation='relu'))\n",
    "    model.add(ZeroPadding2D((1,1)))\n",
    "    model.add(Convolution2D(128, 3, 3, activation='relu'))\n",
    "    model.add(MaxPooling2D((2,2), strides=(2,2)))\n",
    "\n",
    "    model.add(ZeroPadding2D((1,1)))\n",
    "    model.add(Convolution2D(256, 3, 3, activation='relu'))\n",
    "    model.add(ZeroPadding2D((1,1)))\n",
    "    model.add(Convolution2D(256, 3, 3, activation='relu'))\n",
    "    model.add(ZeroPadding2D((1,1)))\n",
    "    model.add(Convolution2D(256, 3, 3, activation='relu'))\n",
    "    model.add(MaxPooling2D((2,2), strides=(2,2)))\n",
    "\n",
    "    model.add(ZeroPadding2D((1,1)))\n",
    "    model.add(Convolution2D(512, 3, 3, activation='relu'))\n",
    "    model.add(ZeroPadding2D((1,1)))\n",
    "    model.add(Convolution2D(512, 3, 3, activation='relu'))\n",
    "    model.add(ZeroPadding2D((1,1)))\n",
    "    model.add(Convolution2D(512, 3, 3, activation='relu'))\n",
    "    model.add(MaxPooling2D((2,2), strides=(2,2)))\n",
    "\n",
    "    model.add(ZeroPadding2D((1,1)))\n",
    "    model.add(Convolution2D(512, 3, 3, activation='relu'))\n",
    "    model.add(ZeroPadding2D((1,1)))\n",
    "    model.add(Convolution2D(512, 3, 3, activation='relu'))\n",
    "    model.add(ZeroPadding2D((1,1)))\n",
    "    model.add(Convolution2D(512, 3, 3, activation='relu'))\n",
    "    model.add(MaxPooling2D((2,2), strides=(2,2)))\n",
    "\n",
    "    model.add(Flatten())\n",
    "    model.add(Dense(4096, activation='relu'))\n",
    "    model.add(Dropout(0.5))\n",
    "    model.add(Dense(4096, activation='relu'))\n",
    "    model.add(Dropout(0.5))\n",
    "    model.add(Dense(1000, activation='softmax'))\n",
    "\n",
    "    if weights_path:\n",
    "        model.load_weights(weights_path)\n",
    "\n",
    "    return model"
   ]
  }
 ],
 "metadata": {
  "accelerator": "GPU",
  "colab": {
   "collapsed_sections": [
    "ANQKYaUxxcxj",
    "o0hHFxGvStKG",
    "Q_-CRARV2Blh"
   ],
   "name": "CA2 Test 2.ipynb",
   "provenance": []
  },
  "kernelspec": {
   "display_name": "Python 3",
   "language": "python",
   "name": "python3"
  },
  "language_info": {
   "codemirror_mode": {
    "name": "ipython",
    "version": 3
   },
   "file_extension": ".py",
   "mimetype": "text/x-python",
   "name": "python",
   "nbconvert_exporter": "python",
   "pygments_lexer": "ipython3",
   "version": "3.7.3"
  }
 },
 "nbformat": 4,
 "nbformat_minor": 4
}
